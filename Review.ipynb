{
 "cells": [
  {
   "cell_type": "markdown",
   "metadata": {},
   "source": [
    "# The Effect of Adding Regressors (Bias vs. Variance)\n",
    "\n",
    "## Independent Predictors, But One Not in True Model"
   ]
  },
  {
   "cell_type": "code",
   "execution_count": 2,
   "metadata": {},
   "outputs": [],
   "source": [
    "set.seed(2)\n",
    "\n",
    "e <- 5*rnorm(200,1)\n",
    "x1 <- rnorm(200,1)\n",
    "x2 <- rnorm(200,1)\n",
    "\n",
    "y= 1*x1 + e"
   ]
  },
  {
   "cell_type": "code",
   "execution_count": 3,
   "metadata": {},
   "outputs": [
    {
     "data": {
      "text/plain": [
       "\n",
       "Call:\n",
       "lm(formula = y ~ x1)\n",
       "\n",
       "Residuals:\n",
       "     Min       1Q   Median       3Q      Max \n",
       "-12.2442  -4.1644  -0.1621   3.9046  10.6096 \n",
       "\n",
       "Coefficients:\n",
       "            Estimate Std. Error t value Pr(>|t|)    \n",
       "(Intercept)   5.0502     0.6091   8.291 1.69e-14 ***\n",
       "x1            0.9561     0.3870   2.470   0.0143 *  \n",
       "---\n",
       "Signif. codes:  0 ‘***’ 0.001 ‘**’ 0.01 ‘*’ 0.05 ‘.’ 0.1 ‘ ’ 1\n",
       "\n",
       "Residual standard error: 5.384 on 198 degrees of freedom\n",
       "Multiple R-squared:  0.0299,\tAdjusted R-squared:  0.025 \n",
       "F-statistic: 6.102 on 1 and 198 DF,  p-value: 0.01435\n"
      ]
     },
     "metadata": {},
     "output_type": "display_data"
    }
   ],
   "source": [
    "lm.fit= lm(y~x1) #estimate the true model\n",
    "summary(lm.fit)"
   ]
  },
  {
   "cell_type": "code",
   "execution_count": 4,
   "metadata": {},
   "outputs": [
    {
     "data": {
      "text/plain": [
       "\n",
       "Call:\n",
       "lm(formula = y ~ x1 + x2)\n",
       "\n",
       "Residuals:\n",
       "     Min       1Q   Median       3Q      Max \n",
       "-12.4881  -4.0121  -0.3348   4.0608  10.3054 \n",
       "\n",
       "Coefficients:\n",
       "            Estimate Std. Error t value Pr(>|t|)    \n",
       "(Intercept)   4.7611     0.7146   6.663 2.62e-10 ***\n",
       "x1            0.9408     0.3879   2.425   0.0162 *  \n",
       "x2            0.2926     0.3770   0.776   0.4386    \n",
       "---\n",
       "Signif. codes:  0 ‘***’ 0.001 ‘**’ 0.01 ‘*’ 0.05 ‘.’ 0.1 ‘ ’ 1\n",
       "\n",
       "Residual standard error: 5.389 on 197 degrees of freedom\n",
       "Multiple R-squared:  0.03285,\tAdjusted R-squared:  0.02304 \n",
       "F-statistic: 3.346 on 2 and 197 DF,  p-value: 0.03723\n"
      ]
     },
     "metadata": {},
     "output_type": "display_data"
    }
   ],
   "source": [
    "lm.fit= lm(y~x1+x2) #estimate the model with the additional (useless) predictor\n",
    "summary(lm.fit)"
   ]
  },
  {
   "cell_type": "markdown",
   "metadata": {},
   "source": [
    "**standard errors on $\\beta_1$ go up (slightly). This is because there are now more parameters but the same amount of data.**\n",
    "\n",
    "**But because the regressor is independent it is not a big deal**"
   ]
  },
  {
   "cell_type": "markdown",
   "metadata": {},
   "source": [
    "## Correlated Predictors, But One Not in True Model (Multicollinearity)"
   ]
  },
  {
   "cell_type": "code",
   "execution_count": 5,
   "metadata": {},
   "outputs": [],
   "source": [
    "set.seed(2)\n",
    "\n",
    "e <- 5*rnorm(200,1)\n",
    "x1 <- rnorm(200,1)\n",
    "x2 <- sqrt(.5)*x1 + sqrt(.5)*rnorm(200,1) #this just creates correlation between x1 and x21\n",
    "\n",
    "y= x1 + e "
   ]
  },
  {
   "cell_type": "code",
   "execution_count": 6,
   "metadata": {},
   "outputs": [
    {
     "data": {
      "text/plain": [
       "\n",
       "Call:\n",
       "lm(formula = y ~ x1)\n",
       "\n",
       "Residuals:\n",
       "     Min       1Q   Median       3Q      Max \n",
       "-12.2442  -4.1644  -0.1621   3.9046  10.6096 \n",
       "\n",
       "Coefficients:\n",
       "            Estimate Std. Error t value Pr(>|t|)    \n",
       "(Intercept)   5.0502     0.6091   8.291 1.69e-14 ***\n",
       "x1            0.9561     0.3870   2.470   0.0143 *  \n",
       "---\n",
       "Signif. codes:  0 ‘***’ 0.001 ‘**’ 0.01 ‘*’ 0.05 ‘.’ 0.1 ‘ ’ 1\n",
       "\n",
       "Residual standard error: 5.384 on 198 degrees of freedom\n",
       "Multiple R-squared:  0.0299,\tAdjusted R-squared:  0.025 \n",
       "F-statistic: 6.102 on 1 and 198 DF,  p-value: 0.01435\n"
      ]
     },
     "metadata": {},
     "output_type": "display_data"
    }
   ],
   "source": [
    "lm.fit= lm(y~x1)#estimate the true model\n",
    "summary(lm.fit)"
   ]
  },
  {
   "cell_type": "markdown",
   "metadata": {},
   "source": [
    "**this is the same model/results as in the previous example**"
   ]
  },
  {
   "cell_type": "code",
   "execution_count": 7,
   "metadata": {},
   "outputs": [
    {
     "data": {
      "text/plain": [
       "\n",
       "Call:\n",
       "lm(formula = y ~ x1 + x2)\n",
       "\n",
       "Residuals:\n",
       "     Min       1Q   Median       3Q      Max \n",
       "-12.4881  -4.0121  -0.3348   4.0608  10.3054 \n",
       "\n",
       "Coefficients:\n",
       "            Estimate Std. Error t value Pr(>|t|)    \n",
       "(Intercept)   4.7611     0.7146   6.663 2.62e-10 ***\n",
       "x1            0.6482     0.5545   1.169    0.244    \n",
       "x2            0.4138     0.5332   0.776    0.439    \n",
       "---\n",
       "Signif. codes:  0 ‘***’ 0.001 ‘**’ 0.01 ‘*’ 0.05 ‘.’ 0.1 ‘ ’ 1\n",
       "\n",
       "Residual standard error: 5.389 on 197 degrees of freedom\n",
       "Multiple R-squared:  0.03285,\tAdjusted R-squared:  0.02304 \n",
       "F-statistic: 3.346 on 2 and 197 DF,  p-value: 0.03723\n"
      ]
     },
     "metadata": {},
     "output_type": "display_data"
    }
   ],
   "source": [
    "lm.fit= lm(y~x1+x2) #estimate the model with the (useless and correlated) additional predictor\n",
    "summary(lm.fit)"
   ]
  },
  {
   "cell_type": "markdown",
   "metadata": {},
   "source": [
    "**adding a correlated regressor that is not in the true model increases the variance of the estimates (and adds no explanatory power). So even though RSS decreases a little bit ($R^2$ goes up), the additional predictor is increasing the variance of the estimates.**\n",
    "\n",
    "This is **multicollinearity**"
   ]
  },
  {
   "cell_type": "markdown",
   "metadata": {},
   "source": [
    "## Independent Predictors, Both in True Model"
   ]
  },
  {
   "cell_type": "code",
   "execution_count": 8,
   "metadata": {},
   "outputs": [],
   "source": [
    "set.seed(2)\n",
    "\n",
    "e <- 5*rnorm(200,1)\n",
    "x1 <- rnorm(200,1)\n",
    "x2 <- rnorm(200,1)\n",
    "\n",
    "y= x1 + 2*x2 + e #both predictors are in the true model"
   ]
  },
  {
   "cell_type": "code",
   "execution_count": 9,
   "metadata": {},
   "outputs": [
    {
     "data": {
      "text/plain": [
       "\n",
       "Call:\n",
       "lm(formula = y ~ x1)\n",
       "\n",
       "Residuals:\n",
       "     Min       1Q   Median       3Q      Max \n",
       "-14.2962  -4.6138   0.0115   3.8305  15.7034 \n",
       "\n",
       "Coefficients:\n",
       "            Estimate Std. Error t value Pr(>|t|)    \n",
       "(Intercept)   7.0270     0.6628  10.602   <2e-16 ***\n",
       "x1            1.0607     0.4212   2.519   0.0126 *  \n",
       "---\n",
       "Signif. codes:  0 ‘***’ 0.001 ‘**’ 0.01 ‘*’ 0.05 ‘.’ 0.1 ‘ ’ 1\n",
       "\n",
       "Residual standard error: 5.858 on 198 degrees of freedom\n",
       "Multiple R-squared:  0.03104,\tAdjusted R-squared:  0.02615 \n",
       "F-statistic: 6.344 on 1 and 198 DF,  p-value: 0.01257\n"
      ]
     },
     "metadata": {},
     "output_type": "display_data"
    }
   ],
   "source": [
    "lm.fit= lm(y~x1) #estimate the model which is missing an independent predictor\n",
    "summary(lm.fit)"
   ]
  },
  {
   "cell_type": "markdown",
   "metadata": {},
   "source": [
    "** this is still an unbiased estimate of $\\beta_1$ because the missing predictor is independent **"
   ]
  },
  {
   "cell_type": "code",
   "execution_count": 10,
   "metadata": {},
   "outputs": [
    {
     "data": {
      "text/plain": [
       "\n",
       "Call:\n",
       "lm(formula = y ~ x1 + x2)\n",
       "\n",
       "Residuals:\n",
       "     Min       1Q   Median       3Q      Max \n",
       "-12.4881  -4.0121  -0.3348   4.0608  10.3054 \n",
       "\n",
       "Coefficients:\n",
       "            Estimate Std. Error t value Pr(>|t|)    \n",
       "(Intercept)   4.7611     0.7146   6.663 2.62e-10 ***\n",
       "x1            0.9408     0.3879   2.425   0.0162 *  \n",
       "x2            2.2926     0.3770   6.081 6.09e-09 ***\n",
       "---\n",
       "Signif. codes:  0 ‘***’ 0.001 ‘**’ 0.01 ‘*’ 0.05 ‘.’ 0.1 ‘ ’ 1\n",
       "\n",
       "Residual standard error: 5.389 on 197 degrees of freedom\n",
       "Multiple R-squared:  0.1842,\tAdjusted R-squared:  0.1759 \n",
       "F-statistic: 22.24 on 2 and 197 DF,  p-value: 1.959e-09\n"
      ]
     },
     "metadata": {},
     "output_type": "display_data"
    }
   ],
   "source": [
    "lm.fit= lm(y~x1+x2) #estimate the true model which both predictor\n",
    "summary(lm.fit)"
   ]
  },
  {
   "cell_type": "markdown",
   "metadata": {},
   "source": [
    "**RSS has decreased substantially (R^2 goes way up), so the parameters are estimated more precisely. Standard errors go down relative to the one predictor case**"
   ]
  },
  {
   "cell_type": "markdown",
   "metadata": {},
   "source": [
    "## Correlated Predictors, Both in True Model"
   ]
  },
  {
   "cell_type": "code",
   "execution_count": 11,
   "metadata": {},
   "outputs": [],
   "source": [
    "set.seed(2)\n",
    "\n",
    "e <- 5*rnorm(200,1)\n",
    "x1 <- rnorm(200,1)\n",
    "x2 <- sqrt(.5)*x1 + sqrt(.5)*rnorm(200,1)\n",
    "\n",
    "y= x1 + 2*x2 + e #both predictors are in the true model"
   ]
  },
  {
   "cell_type": "code",
   "execution_count": 12,
   "metadata": {},
   "outputs": [
    {
     "data": {
      "text/plain": [
       "\n",
       "Call:\n",
       "lm(formula = y ~ x1)\n",
       "\n",
       "Residuals:\n",
       "     Min       1Q   Median       3Q      Max \n",
       "-13.4895  -4.4094   0.1754   3.5581  14.1381 \n",
       "\n",
       "Coefficients:\n",
       "            Estimate Std. Error t value Pr(>|t|)    \n",
       "(Intercept)   6.4480     0.6390   10.09  < 2e-16 ***\n",
       "x1            2.4443     0.4061    6.02 8.34e-09 ***\n",
       "---\n",
       "Signif. codes:  0 ‘***’ 0.001 ‘**’ 0.01 ‘*’ 0.05 ‘.’ 0.1 ‘ ’ 1\n",
       "\n",
       "Residual standard error: 5.648 on 198 degrees of freedom\n",
       "Multiple R-squared:  0.1547,\tAdjusted R-squared:  0.1504 \n",
       "F-statistic: 36.24 on 1 and 198 DF,  p-value: 8.341e-09\n"
      ]
     },
     "metadata": {},
     "output_type": "display_data"
    }
   ],
   "source": [
    "lm.fit= lm(y~x1) #estimate the model which is missing a predictor (which is correlated with the existing predictor AND correlated with response... uhoh..)\n",
    "summary(lm.fit)"
   ]
  },
  {
   "cell_type": "markdown",
   "metadata": {},
   "source": [
    "**this estimate of $\\beta_1$ is biased (it will be too big). This is because we are missing a predictor that is 1) correlated with $X_1$ and 2) correlated with the response**\n",
    "\n",
    "this is an example of **omitted variable bias**"
   ]
  },
  {
   "cell_type": "code",
   "execution_count": 13,
   "metadata": {},
   "outputs": [
    {
     "data": {
      "text/plain": [
       "\n",
       "Call:\n",
       "lm(formula = y ~ x1 + x2)\n",
       "\n",
       "Residuals:\n",
       "     Min       1Q   Median       3Q      Max \n",
       "-12.4881  -4.0121  -0.3348   4.0608  10.3054 \n",
       "\n",
       "Coefficients:\n",
       "            Estimate Std. Error t value Pr(>|t|)    \n",
       "(Intercept)   4.7611     0.7146   6.663 2.62e-10 ***\n",
       "x1            0.6482     0.5545   1.169    0.244    \n",
       "x2            2.4138     0.5332   4.527 1.03e-05 ***\n",
       "---\n",
       "Signif. codes:  0 ‘***’ 0.001 ‘**’ 0.01 ‘*’ 0.05 ‘.’ 0.1 ‘ ’ 1\n",
       "\n",
       "Residual standard error: 5.389 on 197 degrees of freedom\n",
       "Multiple R-squared:  0.2344,\tAdjusted R-squared:  0.2266 \n",
       "F-statistic: 30.15 on 2 and 197 DF,  p-value: 3.772e-12\n"
      ]
     },
     "metadata": {},
     "output_type": "display_data"
    }
   ],
   "source": [
    "lm.fit= lm(y~x1+x2) #estimate the model with both correlated predictors\n",
    "summary(lm.fit)"
   ]
  },
  {
   "cell_type": "markdown",
   "metadata": {},
   "source": [
    "**The estimate of $\\beta_1$ is now unbiased because we have included the omitted variable. However it still has high variance because of the multicollinearity problem**\n",
    "\n",
    "**So we have reduced bias, but increased variance.**"
   ]
  },
  {
   "cell_type": "markdown",
   "metadata": {},
   "source": [
    "## With Logistic Model"
   ]
  },
  {
   "cell_type": "markdown",
   "metadata": {},
   "source": [
    "To make sure you understand the issues above, try repeating the exercise (adding and removing independent or correlated regressors) in the logistic model. Below is an example for independent predictors, with both in the true mdoel."
   ]
  },
  {
   "cell_type": "code",
   "execution_count": 8,
   "metadata": {},
   "outputs": [
    {
     "data": {
      "text/plain": [
       "\n",
       "Call:\n",
       "glm(formula = y ~ x1, family = binomial)\n",
       "\n",
       "Deviance Residuals: \n",
       "    Min       1Q   Median       3Q      Max  \n",
       "-2.4861   0.3476   0.5073   0.6522   1.3473  \n",
       "\n",
       "Coefficients:\n",
       "            Estimate Std. Error z value Pr(>|z|)    \n",
       "(Intercept)  0.98926    0.09949   9.943  < 2e-16 ***\n",
       "x1           0.71152    0.08936   7.963 1.68e-15 ***\n",
       "---\n",
       "Signif. codes:  0 ‘***’ 0.001 ‘**’ 0.01 ‘*’ 0.05 ‘.’ 0.1 ‘ ’ 1\n",
       "\n",
       "(Dispersion parameter for binomial family taken to be 1)\n",
       "\n",
       "    Null deviance: 936.69  on 999  degrees of freedom\n",
       "Residual deviance: 865.64  on 998  degrees of freedom\n",
       "AIC: 869.64\n",
       "\n",
       "Number of Fisher Scoring iterations: 5\n"
      ]
     },
     "metadata": {},
     "output_type": "display_data"
    }
   ],
   "source": [
    "set.seed(1)\n",
    "n=1000;\n",
    "\n",
    "x1 <- rnorm(n,1)\n",
    "x2 <- rnorm(n,1)\n",
    "\n",
    "Xb=0 + 1*x1 + 2*x2;\n",
    "\n",
    "\n",
    "p=1/(1+exp(-Xb))\n",
    "y=rbinom(n,1,p)\n",
    "\n",
    "df = data.frame(y=y,x1=x1,x2=x2)\n",
    "\n",
    "glm.fit= glm(y~x1,family=binomial)\n",
    "summary(glm.fit)"
   ]
  },
  {
   "cell_type": "code",
   "execution_count": 9,
   "metadata": {},
   "outputs": [
    {
     "data": {
      "text/plain": [
       "\n",
       "Call:\n",
       "glm(formula = y ~ x1 + x2, family = binomial)\n",
       "\n",
       "Deviance Residuals: \n",
       "     Min        1Q    Median        3Q       Max  \n",
       "-2.98837   0.07559   0.23114   0.47188   1.98579  \n",
       "\n",
       "Coefficients:\n",
       "            Estimate Std. Error z value Pr(>|z|)    \n",
       "(Intercept)  -0.2884     0.1471  -1.960     0.05 *  \n",
       "x1            1.0735     0.1207   8.893   <2e-16 ***\n",
       "x2            1.8793     0.1488  12.627   <2e-16 ***\n",
       "---\n",
       "Signif. codes:  0 ‘***’ 0.001 ‘**’ 0.01 ‘*’ 0.05 ‘.’ 0.1 ‘ ’ 1\n",
       "\n",
       "(Dispersion parameter for binomial family taken to be 1)\n",
       "\n",
       "    Null deviance: 936.69  on 999  degrees of freedom\n",
       "Residual deviance: 583.59  on 997  degrees of freedom\n",
       "AIC: 589.59\n",
       "\n",
       "Number of Fisher Scoring iterations: 6\n"
      ]
     },
     "metadata": {},
     "output_type": "display_data"
    }
   ],
   "source": [
    "glm.fit= glm(y~x1 + x2,family=binomial)\n",
    "summary(glm.fit)"
   ]
  }
 ],
 "metadata": {
  "kernelspec": {
   "display_name": "R",
   "language": "R",
   "name": "ir"
  },
  "language_info": {
   "codemirror_mode": "r",
   "file_extension": ".r",
   "mimetype": "text/x-r-source",
   "name": "R",
   "pygments_lexer": "r",
   "version": "3.5.0"
  }
 },
 "nbformat": 4,
 "nbformat_minor": 2
}
