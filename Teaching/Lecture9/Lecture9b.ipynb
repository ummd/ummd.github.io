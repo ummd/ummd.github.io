{
  "nbformat": 4,
  "nbformat_minor": 0,
  "metadata": {
    "kernelspec": {
      "display_name": "R",
      "language": "R",
      "name": "ir"
    },
    "language_info": {
      "codemirror_mode": "r",
      "file_extension": ".r",
      "mimetype": "text/x-r-source",
      "name": "R",
      "pygments_lexer": "r",
      "version": "3.5.0"
    },
    "colab": {
      "name": "Lecture9b.ipynb",
      "provenance": []
    }
  },
  "cells": [
    {
      "cell_type": "markdown",
      "metadata": {
        "id": "axcHxbHJetL3"
      },
      "source": [
        "# Model Selection\n",
        "\n",
        "We will examine subset selection by trying to predict the Salary of baseball players using a number of statistics associated with performance from the previous year.\n"
      ]
    },
    {
      "cell_type": "code",
      "metadata": {
        "id": "NfPki8G2etL5",
        "colab": {
          "base_uri": "https://localhost:8080/"
        },
        "outputId": "c88bf3fa-93cc-4cd2-e600-f5de6adfe3d3"
      },
      "source": [
        "if (!require(ISLR)) install.packages(\"ISLR\")\n",
        "library(ISLR) #load ISLR package which contains datasets \"Hitters\"\n",
        "?Hitters"
      ],
      "execution_count": 1,
      "outputs": [
        {
          "output_type": "stream",
          "name": "stderr",
          "text": [
            "Loading required package: ISLR\n",
            "\n",
            "Warning message in library(package, lib.loc = lib.loc, character.only = TRUE, logical.return = TRUE, :\n",
            "“there is no package called ‘ISLR’”\n",
            "Installing package into ‘/usr/local/lib/R/site-library’\n",
            "(as ‘lib’ is unspecified)\n",
            "\n"
          ]
        }
      ]
    },
    {
      "cell_type": "code",
      "metadata": {
        "id": "qu6mZhs3etMA",
        "colab": {
          "base_uri": "https://localhost:8080/",
          "height": 34
        },
        "outputId": "988a1bdd-0f8b-4d0a-fcd9-9560c9ad849f"
      },
      "source": [
        "dim(Hitters) # the dimensions of the data"
      ],
      "execution_count": 2,
      "outputs": [
        {
          "output_type": "display_data",
          "data": {
            "text/html": [
              "<style>\n",
              ".list-inline {list-style: none; margin:0; padding: 0}\n",
              ".list-inline>li {display: inline-block}\n",
              ".list-inline>li:not(:last-child)::after {content: \"\\00b7\"; padding: 0 .5ex}\n",
              "</style>\n",
              "<ol class=list-inline><li>322</li><li>20</li></ol>\n"
            ],
            "text/markdown": "1. 322\n2. 20\n\n\n",
            "text/latex": "\\begin{enumerate*}\n\\item 322\n\\item 20\n\\end{enumerate*}\n",
            "text/plain": [
              "[1] 322  20"
            ]
          },
          "metadata": {}
        }
      ]
    },
    {
      "cell_type": "code",
      "metadata": {
        "id": "wJABXEkNetMG",
        "colab": {
          "base_uri": "https://localhost:8080/",
          "height": 34
        },
        "outputId": "0656830e-92c1-4245-f2a8-73077e780cfb"
      },
      "source": [
        "sum(is.na(Hitters$Salary)) # but if you inspect Salary, you will find 59 missing observations"
      ],
      "execution_count": 3,
      "outputs": [
        {
          "output_type": "display_data",
          "data": {
            "text/html": [
              "59"
            ],
            "text/markdown": "59",
            "text/latex": "59",
            "text/plain": [
              "[1] 59"
            ]
          },
          "metadata": {}
        }
      ]
    },
    {
      "cell_type": "code",
      "metadata": {
        "id": "spm1AhAJetMK",
        "colab": {
          "base_uri": "https://localhost:8080/",
          "height": 34
        },
        "outputId": "15150df2-6846-41da-e0ad-8917f83ade77"
      },
      "source": [
        "Hitters=na.omit(Hitters) #so we have to remove them\n",
        "dim(Hitters)"
      ],
      "execution_count": 4,
      "outputs": [
        {
          "output_type": "display_data",
          "data": {
            "text/html": [
              "<style>\n",
              ".list-inline {list-style: none; margin:0; padding: 0}\n",
              ".list-inline>li {display: inline-block}\n",
              ".list-inline>li:not(:last-child)::after {content: \"\\00b7\"; padding: 0 .5ex}\n",
              "</style>\n",
              "<ol class=list-inline><li>263</li><li>20</li></ol>\n"
            ],
            "text/markdown": "1. 263\n2. 20\n\n\n",
            "text/latex": "\\begin{enumerate*}\n\\item 263\n\\item 20\n\\end{enumerate*}\n",
            "text/plain": [
              "[1] 263  20"
            ]
          },
          "metadata": {}
        }
      ]
    },
    {
      "cell_type": "markdown",
      "metadata": {
        "id": "8AoBRm3cetMN"
      },
      "source": [
        "## Subset Selection\n",
        "\n",
        "### Best Subset\n",
        "The \"leaps\" library contains the regsubset() function which performs best subset selection.\n",
        "\n",
        "Here, \"best\" is determined by RSS (so only training data) for a **given** number of parameters."
      ]
    },
    {
      "cell_type": "code",
      "metadata": {
        "id": "qOSCMc4EetMN",
        "colab": {
          "base_uri": "https://localhost:8080/",
          "height": 905
        },
        "outputId": "49bc7408-dd48-4e06-96e9-6e3a0d233616"
      },
      "source": [
        "if (!require(leaps)) install.packages(\"leaps\")\n",
        "library(leaps)\n",
        "\n",
        "regfit.full= regsubsets(Salary~.,Hitters)\n",
        "summary(regfit.full)"
      ],
      "execution_count": 8,
      "outputs": [
        {
          "output_type": "stream",
          "name": "stderr",
          "text": [
            "Loading required package: leaps\n",
            "\n",
            "Warning message in library(package, lib.loc = lib.loc, character.only = TRUE, logical.return = TRUE, :\n",
            "“there is no package called ‘leaps’”\n",
            "Installing package into ‘/usr/local/lib/R/site-library’\n",
            "(as ‘lib’ is unspecified)\n",
            "\n"
          ]
        },
        {
          "output_type": "display_data",
          "data": {
            "text/plain": [
              "Subset selection object\n",
              "Call: regsubsets.formula(Salary ~ ., Hitters)\n",
              "19 Variables  (and intercept)\n",
              "           Forced in Forced out\n",
              "AtBat          FALSE      FALSE\n",
              "Hits           FALSE      FALSE\n",
              "HmRun          FALSE      FALSE\n",
              "Runs           FALSE      FALSE\n",
              "RBI            FALSE      FALSE\n",
              "Walks          FALSE      FALSE\n",
              "Years          FALSE      FALSE\n",
              "CAtBat         FALSE      FALSE\n",
              "CHits          FALSE      FALSE\n",
              "CHmRun         FALSE      FALSE\n",
              "CRuns          FALSE      FALSE\n",
              "CRBI           FALSE      FALSE\n",
              "CWalks         FALSE      FALSE\n",
              "LeagueN        FALSE      FALSE\n",
              "DivisionW      FALSE      FALSE\n",
              "PutOuts        FALSE      FALSE\n",
              "Assists        FALSE      FALSE\n",
              "Errors         FALSE      FALSE\n",
              "NewLeagueN     FALSE      FALSE\n",
              "1 subsets of each size up to 8\n",
              "Selection Algorithm: exhaustive\n",
              "         AtBat Hits HmRun Runs RBI Walks Years CAtBat CHits CHmRun CRuns CRBI\n",
              "1  ( 1 ) \" \"   \" \"  \" \"   \" \"  \" \" \" \"   \" \"   \" \"    \" \"   \" \"    \" \"   \"*\" \n",
              "2  ( 1 ) \" \"   \"*\"  \" \"   \" \"  \" \" \" \"   \" \"   \" \"    \" \"   \" \"    \" \"   \"*\" \n",
              "3  ( 1 ) \" \"   \"*\"  \" \"   \" \"  \" \" \" \"   \" \"   \" \"    \" \"   \" \"    \" \"   \"*\" \n",
              "4  ( 1 ) \" \"   \"*\"  \" \"   \" \"  \" \" \" \"   \" \"   \" \"    \" \"   \" \"    \" \"   \"*\" \n",
              "5  ( 1 ) \"*\"   \"*\"  \" \"   \" \"  \" \" \" \"   \" \"   \" \"    \" \"   \" \"    \" \"   \"*\" \n",
              "6  ( 1 ) \"*\"   \"*\"  \" \"   \" \"  \" \" \"*\"   \" \"   \" \"    \" \"   \" \"    \" \"   \"*\" \n",
              "7  ( 1 ) \" \"   \"*\"  \" \"   \" \"  \" \" \"*\"   \" \"   \"*\"    \"*\"   \"*\"    \" \"   \" \" \n",
              "8  ( 1 ) \"*\"   \"*\"  \" \"   \" \"  \" \" \"*\"   \" \"   \" \"    \" \"   \"*\"    \"*\"   \" \" \n",
              "         CWalks LeagueN DivisionW PutOuts Assists Errors NewLeagueN\n",
              "1  ( 1 ) \" \"    \" \"     \" \"       \" \"     \" \"     \" \"    \" \"       \n",
              "2  ( 1 ) \" \"    \" \"     \" \"       \" \"     \" \"     \" \"    \" \"       \n",
              "3  ( 1 ) \" \"    \" \"     \" \"       \"*\"     \" \"     \" \"    \" \"       \n",
              "4  ( 1 ) \" \"    \" \"     \"*\"       \"*\"     \" \"     \" \"    \" \"       \n",
              "5  ( 1 ) \" \"    \" \"     \"*\"       \"*\"     \" \"     \" \"    \" \"       \n",
              "6  ( 1 ) \" \"    \" \"     \"*\"       \"*\"     \" \"     \" \"    \" \"       \n",
              "7  ( 1 ) \" \"    \" \"     \"*\"       \"*\"     \" \"     \" \"    \" \"       \n",
              "8  ( 1 ) \"*\"    \" \"     \"*\"       \"*\"     \" \"     \" \"    \" \"       "
            ]
          },
          "metadata": {}
        }
      ]
    },
    {
      "cell_type": "markdown",
      "metadata": {
        "id": "92b_cixbetMR"
      },
      "source": [
        "So for each subset size, regsubset() gives us the best performing model fpor a **given** numbr of parameters. \n",
        "\n",
        "For models of size, 1, the best model uses \"CRBI\". For models of size 2, the best model uses \"Hits\" and \"CRBI\"\n",
        "\n",
        "Note that it defaults to models up to size 8 predictors. To use the full set of predictors:"
      ]
    },
    {
      "cell_type": "code",
      "metadata": {
        "id": "IyX8jlW_etMR"
      },
      "source": [
        "regfit.full= regsubsets(Salary~.,Hitters,nvmax=19)\n",
        "reg.summary=summary(regfit.full)"
      ],
      "execution_count": 9,
      "outputs": []
    },
    {
      "cell_type": "code",
      "metadata": {
        "id": "2QxsSbyretMU",
        "outputId": "8429adca-56a4-43d8-d5a3-d87ca79496de"
      },
      "source": [
        "names(reg.summary) # summary also reports R-squared, RSS, R-squared-adjusted, C_p, BIC etc...."
      ],
      "execution_count": null,
      "outputs": [
        {
          "output_type": "display_data",
          "data": {
            "text/html": [
              "<ol class=list-inline>\n",
              "\t<li>'which'</li>\n",
              "\t<li>'rsq'</li>\n",
              "\t<li>'rss'</li>\n",
              "\t<li>'adjr2'</li>\n",
              "\t<li>'cp'</li>\n",
              "\t<li>'bic'</li>\n",
              "\t<li>'outmat'</li>\n",
              "\t<li>'obj'</li>\n",
              "</ol>\n"
            ],
            "text/latex": "\\begin{enumerate*}\n\\item 'which'\n\\item 'rsq'\n\\item 'rss'\n\\item 'adjr2'\n\\item 'cp'\n\\item 'bic'\n\\item 'outmat'\n\\item 'obj'\n\\end{enumerate*}\n",
            "text/markdown": "1. 'which'\n2. 'rsq'\n3. 'rss'\n4. 'adjr2'\n5. 'cp'\n6. 'bic'\n7. 'outmat'\n8. 'obj'\n\n\n",
            "text/plain": [
              "[1] \"which\"  \"rsq\"    \"rss\"    \"adjr2\"  \"cp\"     \"bic\"    \"outmat\" \"obj\"   "
            ]
          },
          "metadata": {
            "tags": []
          }
        }
      ]
    },
    {
      "cell_type": "code",
      "metadata": {
        "id": "o1aPJs9FetMX",
        "outputId": "3159e26b-2b99-4be9-f408-c9a9b0689343"
      },
      "source": [
        "reg.summary$rsq #R-squared. Notice it is increasing as more variables are added..."
      ],
      "execution_count": null,
      "outputs": [
        {
          "output_type": "display_data",
          "data": {
            "text/html": [
              "<ol class=list-inline>\n",
              "\t<li>0.321450088667894</li>\n",
              "\t<li>0.425223746466778</li>\n",
              "\t<li>0.451429415717957</li>\n",
              "\t<li>0.475406653394787</li>\n",
              "\t<li>0.490803615963518</li>\n",
              "\t<li>0.508714557358996</li>\n",
              "\t<li>0.514122682361273</li>\n",
              "\t<li>0.528556860302574</li>\n",
              "\t<li>0.534612447792431</li>\n",
              "\t<li>0.540494950940798</li>\n",
              "\t<li>0.54261532542542</li>\n",
              "\t<li>0.543630208632163</li>\n",
              "\t<li>0.544457014231977</li>\n",
              "\t<li>0.545216356301489</li>\n",
              "\t<li>0.545469230681164</li>\n",
              "\t<li>0.54576555748528</li>\n",
              "\t<li>0.545951808076699</li>\n",
              "\t<li>0.546094522341906</li>\n",
              "\t<li>0.546115861912532</li>\n",
              "</ol>\n"
            ],
            "text/latex": "\\begin{enumerate*}\n\\item 0.321450088667894\n\\item 0.425223746466778\n\\item 0.451429415717957\n\\item 0.475406653394787\n\\item 0.490803615963518\n\\item 0.508714557358996\n\\item 0.514122682361273\n\\item 0.528556860302574\n\\item 0.534612447792431\n\\item 0.540494950940798\n\\item 0.54261532542542\n\\item 0.543630208632163\n\\item 0.544457014231977\n\\item 0.545216356301489\n\\item 0.545469230681164\n\\item 0.54576555748528\n\\item 0.545951808076699\n\\item 0.546094522341906\n\\item 0.546115861912532\n\\end{enumerate*}\n",
            "text/markdown": "1. 0.321450088667894\n2. 0.425223746466778\n3. 0.451429415717957\n4. 0.475406653394787\n5. 0.490803615963518\n6. 0.508714557358996\n7. 0.514122682361273\n8. 0.528556860302574\n9. 0.534612447792431\n10. 0.540494950940798\n11. 0.54261532542542\n12. 0.543630208632163\n13. 0.544457014231977\n14. 0.545216356301489\n15. 0.545469230681164\n16. 0.54576555748528\n17. 0.545951808076699\n18. 0.546094522341906\n19. 0.546115861912532\n\n\n",
            "text/plain": [
              " [1] 0.3214501 0.4252237 0.4514294 0.4754067 0.4908036 0.5087146 0.5141227\n",
              " [8] 0.5285569 0.5346124 0.5404950 0.5426153 0.5436302 0.5444570 0.5452164\n",
              "[15] 0.5454692 0.5457656 0.5459518 0.5460945 0.5461159"
            ]
          },
          "metadata": {
            "tags": []
          }
        }
      ]
    },
    {
      "cell_type": "markdown",
      "metadata": {
        "id": "27CT2k7detMZ"
      },
      "source": [
        "### Plot RSS and Adjusted $R^2$, $C_p$, and BIC"
      ]
    },
    {
      "cell_type": "code",
      "metadata": {
        "id": "Ktt5JgAhetMa",
        "outputId": "498e3ce2-ee91-452c-b89d-4657992e3913"
      },
      "source": [
        "par(mfrow=c(2,2))\n",
        "plot(reg.summary$rss, xlab=\"number of Varaibles\",ylab=\"RSS\",type=\"l\")\n",
        "plot(reg.summary$adjr2, xlab=\"number of Varaibles\",ylab=\"Rsq Adjusted\",type=\"l\")\n",
        "ind<-which.max(reg.summary$adjr2)\n",
        "points(ind,reg.summary$adjr2[ind],col=\"red\",cex=2,pch=20) #plot a red dot at maximum Adjusted R2\n",
        "\n",
        "plot(reg.summary$cp, xlab=\"number of Varaibles\",ylab=\"Cp\",type=\"l\")\n",
        "ind<-which.min(reg.summary$cp) # find the location of the minimum Cp\n",
        "points(ind,reg.summary$cp[ind],col=\"red\",cex=2,pch=20) #plot a red dot at minimum Cp\n",
        "\n",
        "plot(reg.summary$bic, xlab=\"number of Varaibles\",ylab=\"BIC\",type=\"l\")\n",
        "ind<-which.min(reg.summary$bic) # find the location of the minimum BIC\n",
        "points(ind,reg.summary$bic[ind],col=\"red\",cex=2,pch=20) #plot a red dot at minimum BIC"
      ],
      "execution_count": null,
      "outputs": [
        {
          "output_type": "display_data",
          "data": {
            "image/png": "[encoded data removed]",
            "text/plain": [
              "plot without title"
            ]
          },
          "metadata": {
            "tags": []
          }
        }
      ]
    },
    {
      "cell_type": "markdown",
      "metadata": {
        "id": "HXV8RTcFetMc"
      },
      "source": [
        "### Plot Results directly"
      ]
    },
    {
      "cell_type": "code",
      "metadata": {
        "id": "OENn5DnwetMc",
        "outputId": "102a62c8-743d-45f7-d2c4-cbbfc7eaf4de"
      },
      "source": [
        "plot(regfit.full,scale=\"r2\")\n",
        "plot(regfit.full,scale=\"adjr2\")\n",
        "plot(regfit.full,scale=\"Cp\")\n",
        "plot(regfit.full,scale=\"bic\")"
      ],
      "execution_count": null,
      "outputs": [
        {
          "output_type": "display_data",
          "data": {
            "image/png": "[encoded data removed]",
            "text/plain": [
              "plot without title"
            ]
          },
          "metadata": {
            "tags": []
          }
        },
        {
          "output_type": "display_data",
          "data": {
            "image/png": "[encoded data removed]",
            "text/plain": [
              "plot without title"
            ]
          },
          "metadata": {
            "tags": []
          }
        },
        {
          "output_type": "display_data",
          "data": {
            "image/png": "[encoded data removed]",
            "text/plain": [
              "plot without title"
            ]
          },
          "metadata": {
            "tags": []
          }
        },
        {
          "output_type": "display_data",
          "data": {
            "image/png": "[encoded data removed]",
            "text/plain": [
              "plot without title"
            ]
          },
          "metadata": {
            "tags": []
          }
        }
      ]
    },
    {
      "cell_type": "markdown",
      "metadata": {
        "id": "A38ueYt9etMf"
      },
      "source": [
        "Lowest BIC is model in top row. Contains AtBat, Hits, Walks, CRBI, DivisionW and OutOuts.\n",
        "\n",
        "We can view the coefficients from this model:"
      ]
    },
    {
      "cell_type": "code",
      "metadata": {
        "id": "wtCCG2-UetMf",
        "outputId": "38a1c52e-2662-4697-aea5-ed61c67eb48c"
      },
      "source": [
        "coef(regfit.full,6) # the coefficients associated with the 6 variable model"
      ],
      "execution_count": null,
      "outputs": [
        {
          "output_type": "display_data",
          "data": {
            "text/html": [
              "<dl class=dl-horizontal>\n",
              "\t<dt>(Intercept)</dt>\n",
              "\t\t<dd>91.5117981171519</dd>\n",
              "\t<dt>AtBat</dt>\n",
              "\t\t<dd>-1.86858923135562</dd>\n",
              "\t<dt>Hits</dt>\n",
              "\t\t<dd>7.60439763117206</dd>\n",
              "\t<dt>Walks</dt>\n",
              "\t\t<dd>3.69764677424139</dd>\n",
              "\t<dt>CRBI</dt>\n",
              "\t\t<dd>0.643016935097331</dd>\n",
              "\t<dt>DivisionW</dt>\n",
              "\t\t<dd>-122.95153377292</dd>\n",
              "\t<dt>PutOuts</dt>\n",
              "\t\t<dd>0.264307605461514</dd>\n",
              "</dl>\n"
            ],
            "text/latex": "\\begin{description*}\n\\item[(Intercept)] 91.5117981171519\n\\item[AtBat] -1.86858923135562\n\\item[Hits] 7.60439763117206\n\\item[Walks] 3.69764677424139\n\\item[CRBI] 0.643016935097331\n\\item[DivisionW] -122.95153377292\n\\item[PutOuts] 0.264307605461514\n\\end{description*}\n",
            "text/markdown": "(Intercept)\n:   91.5117981171519AtBat\n:   -1.86858923135562Hits\n:   7.60439763117206Walks\n:   3.69764677424139CRBI\n:   0.643016935097331DivisionW\n:   -122.95153377292PutOuts\n:   0.264307605461514\n\n",
            "text/plain": [
              " (Intercept)        AtBat         Hits        Walks         CRBI    DivisionW \n",
              "  91.5117981   -1.8685892    7.6043976    3.6976468    0.6430169 -122.9515338 \n",
              "     PutOuts \n",
              "   0.2643076 "
            ]
          },
          "metadata": {
            "tags": []
          }
        }
      ]
    },
    {
      "cell_type": "markdown",
      "metadata": {
        "id": "j3GXyi8ketMi"
      },
      "source": [
        "## Forward and Backward Selection"
      ]
    },
    {
      "cell_type": "code",
      "metadata": {
        "id": "ADBZUri0etMi",
        "outputId": "74e86471-a648-4bad-b84f-7809b4118535"
      },
      "source": [
        "regfit.fwd=regsubsets(Salary~.,data=Hitters,nvmax=19,method=\"forward\")\n",
        "summary(regfit.fwd)\n",
        "regfit.bwd=regsubsets(Salary~.,data=Hitters,nvmax=19,method=\"backward\")\n",
        "summary(regfit.bwd)"
      ],
      "execution_count": null,
      "outputs": [
        {
          "output_type": "display_data",
          "data": {
            "text/plain": [
              "Subset selection object\n",
              "Call: regsubsets.formula(Salary ~ ., data = Hitters, nvmax = 19, method = \"forward\")\n",
              "19 Variables  (and intercept)\n",
              "           Forced in Forced out\n",
              "AtBat          FALSE      FALSE\n",
              "Hits           FALSE      FALSE\n",
              "HmRun          FALSE      FALSE\n",
              "Runs           FALSE      FALSE\n",
              "RBI            FALSE      FALSE\n",
              "Walks          FALSE      FALSE\n",
              "Years          FALSE      FALSE\n",
              "CAtBat         FALSE      FALSE\n",
              "CHits          FALSE      FALSE\n",
              "CHmRun         FALSE      FALSE\n",
              "CRuns          FALSE      FALSE\n",
              "CRBI           FALSE      FALSE\n",
              "CWalks         FALSE      FALSE\n",
              "LeagueN        FALSE      FALSE\n",
              "DivisionW      FALSE      FALSE\n",
              "PutOuts        FALSE      FALSE\n",
              "Assists        FALSE      FALSE\n",
              "Errors         FALSE      FALSE\n",
              "NewLeagueN     FALSE      FALSE\n",
              "1 subsets of each size up to 19\n",
              "Selection Algorithm: forward\n",
              "          AtBat Hits HmRun Runs RBI Walks Years CAtBat CHits CHmRun CRuns CRBI\n",
              "1  ( 1 )  \" \"   \" \"  \" \"   \" \"  \" \" \" \"   \" \"   \" \"    \" \"   \" \"    \" \"   \"*\" \n",
              "2  ( 1 )  \" \"   \"*\"  \" \"   \" \"  \" \" \" \"   \" \"   \" \"    \" \"   \" \"    \" \"   \"*\" \n",
              "3  ( 1 )  \" \"   \"*\"  \" \"   \" \"  \" \" \" \"   \" \"   \" \"    \" \"   \" \"    \" \"   \"*\" \n",
              "4  ( 1 )  \" \"   \"*\"  \" \"   \" \"  \" \" \" \"   \" \"   \" \"    \" \"   \" \"    \" \"   \"*\" \n",
              "5  ( 1 )  \"*\"   \"*\"  \" \"   \" \"  \" \" \" \"   \" \"   \" \"    \" \"   \" \"    \" \"   \"*\" \n",
              "6  ( 1 )  \"*\"   \"*\"  \" \"   \" \"  \" \" \"*\"   \" \"   \" \"    \" \"   \" \"    \" \"   \"*\" \n",
              "7  ( 1 )  \"*\"   \"*\"  \" \"   \" \"  \" \" \"*\"   \" \"   \" \"    \" \"   \" \"    \" \"   \"*\" \n",
              "8  ( 1 )  \"*\"   \"*\"  \" \"   \" \"  \" \" \"*\"   \" \"   \" \"    \" \"   \" \"    \"*\"   \"*\" \n",
              "9  ( 1 )  \"*\"   \"*\"  \" \"   \" \"  \" \" \"*\"   \" \"   \"*\"    \" \"   \" \"    \"*\"   \"*\" \n",
              "10  ( 1 ) \"*\"   \"*\"  \" \"   \" \"  \" \" \"*\"   \" \"   \"*\"    \" \"   \" \"    \"*\"   \"*\" \n",
              "11  ( 1 ) \"*\"   \"*\"  \" \"   \" \"  \" \" \"*\"   \" \"   \"*\"    \" \"   \" \"    \"*\"   \"*\" \n",
              "12  ( 1 ) \"*\"   \"*\"  \" \"   \"*\"  \" \" \"*\"   \" \"   \"*\"    \" \"   \" \"    \"*\"   \"*\" \n",
              "13  ( 1 ) \"*\"   \"*\"  \" \"   \"*\"  \" \" \"*\"   \" \"   \"*\"    \" \"   \" \"    \"*\"   \"*\" \n",
              "14  ( 1 ) \"*\"   \"*\"  \"*\"   \"*\"  \" \" \"*\"   \" \"   \"*\"    \" \"   \" \"    \"*\"   \"*\" \n",
              "15  ( 1 ) \"*\"   \"*\"  \"*\"   \"*\"  \" \" \"*\"   \" \"   \"*\"    \"*\"   \" \"    \"*\"   \"*\" \n",
              "16  ( 1 ) \"*\"   \"*\"  \"*\"   \"*\"  \"*\" \"*\"   \" \"   \"*\"    \"*\"   \" \"    \"*\"   \"*\" \n",
              "17  ( 1 ) \"*\"   \"*\"  \"*\"   \"*\"  \"*\" \"*\"   \" \"   \"*\"    \"*\"   \" \"    \"*\"   \"*\" \n",
              "18  ( 1 ) \"*\"   \"*\"  \"*\"   \"*\"  \"*\" \"*\"   \"*\"   \"*\"    \"*\"   \" \"    \"*\"   \"*\" \n",
              "19  ( 1 ) \"*\"   \"*\"  \"*\"   \"*\"  \"*\" \"*\"   \"*\"   \"*\"    \"*\"   \"*\"    \"*\"   \"*\" \n",
              "          CWalks LeagueN DivisionW PutOuts Assists Errors NewLeagueN\n",
              "1  ( 1 )  \" \"    \" \"     \" \"       \" \"     \" \"     \" \"    \" \"       \n",
              "2  ( 1 )  \" \"    \" \"     \" \"       \" \"     \" \"     \" \"    \" \"       \n",
              "3  ( 1 )  \" \"    \" \"     \" \"       \"*\"     \" \"     \" \"    \" \"       \n",
              "4  ( 1 )  \" \"    \" \"     \"*\"       \"*\"     \" \"     \" \"    \" \"       \n",
              "5  ( 1 )  \" \"    \" \"     \"*\"       \"*\"     \" \"     \" \"    \" \"       \n",
              "6  ( 1 )  \" \"    \" \"     \"*\"       \"*\"     \" \"     \" \"    \" \"       \n",
              "7  ( 1 )  \"*\"    \" \"     \"*\"       \"*\"     \" \"     \" \"    \" \"       \n",
              "8  ( 1 )  \"*\"    \" \"     \"*\"       \"*\"     \" \"     \" \"    \" \"       \n",
              "9  ( 1 )  \"*\"    \" \"     \"*\"       \"*\"     \" \"     \" \"    \" \"       \n",
              "10  ( 1 ) \"*\"    \" \"     \"*\"       \"*\"     \"*\"     \" \"    \" \"       \n",
              "11  ( 1 ) \"*\"    \"*\"     \"*\"       \"*\"     \"*\"     \" \"    \" \"       \n",
              "12  ( 1 ) \"*\"    \"*\"     \"*\"       \"*\"     \"*\"     \" \"    \" \"       \n",
              "13  ( 1 ) \"*\"    \"*\"     \"*\"       \"*\"     \"*\"     \"*\"    \" \"       \n",
              "14  ( 1 ) \"*\"    \"*\"     \"*\"       \"*\"     \"*\"     \"*\"    \" \"       \n",
              "15  ( 1 ) \"*\"    \"*\"     \"*\"       \"*\"     \"*\"     \"*\"    \" \"       \n",
              "16  ( 1 ) \"*\"    \"*\"     \"*\"       \"*\"     \"*\"     \"*\"    \" \"       \n",
              "17  ( 1 ) \"*\"    \"*\"     \"*\"       \"*\"     \"*\"     \"*\"    \"*\"       \n",
              "18  ( 1 ) \"*\"    \"*\"     \"*\"       \"*\"     \"*\"     \"*\"    \"*\"       \n",
              "19  ( 1 ) \"*\"    \"*\"     \"*\"       \"*\"     \"*\"     \"*\"    \"*\"       "
            ]
          },
          "metadata": {
            "tags": []
          }
        },
        {
          "output_type": "display_data",
          "data": {
            "text/plain": [
              "Subset selection object\n",
              "Call: regsubsets.formula(Salary ~ ., data = Hitters, nvmax = 19, method = \"backward\")\n",
              "19 Variables  (and intercept)\n",
              "           Forced in Forced out\n",
              "AtBat          FALSE      FALSE\n",
              "Hits           FALSE      FALSE\n",
              "HmRun          FALSE      FALSE\n",
              "Runs           FALSE      FALSE\n",
              "RBI            FALSE      FALSE\n",
              "Walks          FALSE      FALSE\n",
              "Years          FALSE      FALSE\n",
              "CAtBat         FALSE      FALSE\n",
              "CHits          FALSE      FALSE\n",
              "CHmRun         FALSE      FALSE\n",
              "CRuns          FALSE      FALSE\n",
              "CRBI           FALSE      FALSE\n",
              "CWalks         FALSE      FALSE\n",
              "LeagueN        FALSE      FALSE\n",
              "DivisionW      FALSE      FALSE\n",
              "PutOuts        FALSE      FALSE\n",
              "Assists        FALSE      FALSE\n",
              "Errors         FALSE      FALSE\n",
              "NewLeagueN     FALSE      FALSE\n",
              "1 subsets of each size up to 19\n",
              "Selection Algorithm: backward\n",
              "          AtBat Hits HmRun Runs RBI Walks Years CAtBat CHits CHmRun CRuns CRBI\n",
              "1  ( 1 )  \" \"   \" \"  \" \"   \" \"  \" \" \" \"   \" \"   \" \"    \" \"   \" \"    \"*\"   \" \" \n",
              "2  ( 1 )  \" \"   \"*\"  \" \"   \" \"  \" \" \" \"   \" \"   \" \"    \" \"   \" \"    \"*\"   \" \" \n",
              "3  ( 1 )  \" \"   \"*\"  \" \"   \" \"  \" \" \" \"   \" \"   \" \"    \" \"   \" \"    \"*\"   \" \" \n",
              "4  ( 1 )  \"*\"   \"*\"  \" \"   \" \"  \" \" \" \"   \" \"   \" \"    \" \"   \" \"    \"*\"   \" \" \n",
              "5  ( 1 )  \"*\"   \"*\"  \" \"   \" \"  \" \" \"*\"   \" \"   \" \"    \" \"   \" \"    \"*\"   \" \" \n",
              "6  ( 1 )  \"*\"   \"*\"  \" \"   \" \"  \" \" \"*\"   \" \"   \" \"    \" \"   \" \"    \"*\"   \" \" \n",
              "7  ( 1 )  \"*\"   \"*\"  \" \"   \" \"  \" \" \"*\"   \" \"   \" \"    \" \"   \" \"    \"*\"   \" \" \n",
              "8  ( 1 )  \"*\"   \"*\"  \" \"   \" \"  \" \" \"*\"   \" \"   \" \"    \" \"   \" \"    \"*\"   \"*\" \n",
              "9  ( 1 )  \"*\"   \"*\"  \" \"   \" \"  \" \" \"*\"   \" \"   \"*\"    \" \"   \" \"    \"*\"   \"*\" \n",
              "10  ( 1 ) \"*\"   \"*\"  \" \"   \" \"  \" \" \"*\"   \" \"   \"*\"    \" \"   \" \"    \"*\"   \"*\" \n",
              "11  ( 1 ) \"*\"   \"*\"  \" \"   \" \"  \" \" \"*\"   \" \"   \"*\"    \" \"   \" \"    \"*\"   \"*\" \n",
              "12  ( 1 ) \"*\"   \"*\"  \" \"   \"*\"  \" \" \"*\"   \" \"   \"*\"    \" \"   \" \"    \"*\"   \"*\" \n",
              "13  ( 1 ) \"*\"   \"*\"  \" \"   \"*\"  \" \" \"*\"   \" \"   \"*\"    \" \"   \" \"    \"*\"   \"*\" \n",
              "14  ( 1 ) \"*\"   \"*\"  \"*\"   \"*\"  \" \" \"*\"   \" \"   \"*\"    \" \"   \" \"    \"*\"   \"*\" \n",
              "15  ( 1 ) \"*\"   \"*\"  \"*\"   \"*\"  \" \" \"*\"   \" \"   \"*\"    \"*\"   \" \"    \"*\"   \"*\" \n",
              "16  ( 1 ) \"*\"   \"*\"  \"*\"   \"*\"  \"*\" \"*\"   \" \"   \"*\"    \"*\"   \" \"    \"*\"   \"*\" \n",
              "17  ( 1 ) \"*\"   \"*\"  \"*\"   \"*\"  \"*\" \"*\"   \" \"   \"*\"    \"*\"   \" \"    \"*\"   \"*\" \n",
              "18  ( 1 ) \"*\"   \"*\"  \"*\"   \"*\"  \"*\" \"*\"   \"*\"   \"*\"    \"*\"   \" \"    \"*\"   \"*\" \n",
              "19  ( 1 ) \"*\"   \"*\"  \"*\"   \"*\"  \"*\" \"*\"   \"*\"   \"*\"    \"*\"   \"*\"    \"*\"   \"*\" \n",
              "          CWalks LeagueN DivisionW PutOuts Assists Errors NewLeagueN\n",
              "1  ( 1 )  \" \"    \" \"     \" \"       \" \"     \" \"     \" \"    \" \"       \n",
              "2  ( 1 )  \" \"    \" \"     \" \"       \" \"     \" \"     \" \"    \" \"       \n",
              "3  ( 1 )  \" \"    \" \"     \" \"       \"*\"     \" \"     \" \"    \" \"       \n",
              "4  ( 1 )  \" \"    \" \"     \" \"       \"*\"     \" \"     \" \"    \" \"       \n",
              "5  ( 1 )  \" \"    \" \"     \" \"       \"*\"     \" \"     \" \"    \" \"       \n",
              "6  ( 1 )  \" \"    \" \"     \"*\"       \"*\"     \" \"     \" \"    \" \"       \n",
              "7  ( 1 )  \"*\"    \" \"     \"*\"       \"*\"     \" \"     \" \"    \" \"       \n",
              "8  ( 1 )  \"*\"    \" \"     \"*\"       \"*\"     \" \"     \" \"    \" \"       \n",
              "9  ( 1 )  \"*\"    \" \"     \"*\"       \"*\"     \" \"     \" \"    \" \"       \n",
              "10  ( 1 ) \"*\"    \" \"     \"*\"       \"*\"     \"*\"     \" \"    \" \"       \n",
              "11  ( 1 ) \"*\"    \"*\"     \"*\"       \"*\"     \"*\"     \" \"    \" \"       \n",
              "12  ( 1 ) \"*\"    \"*\"     \"*\"       \"*\"     \"*\"     \" \"    \" \"       \n",
              "13  ( 1 ) \"*\"    \"*\"     \"*\"       \"*\"     \"*\"     \"*\"    \" \"       \n",
              "14  ( 1 ) \"*\"    \"*\"     \"*\"       \"*\"     \"*\"     \"*\"    \" \"       \n",
              "15  ( 1 ) \"*\"    \"*\"     \"*\"       \"*\"     \"*\"     \"*\"    \" \"       \n",
              "16  ( 1 ) \"*\"    \"*\"     \"*\"       \"*\"     \"*\"     \"*\"    \" \"       \n",
              "17  ( 1 ) \"*\"    \"*\"     \"*\"       \"*\"     \"*\"     \"*\"    \"*\"       \n",
              "18  ( 1 ) \"*\"    \"*\"     \"*\"       \"*\"     \"*\"     \"*\"    \"*\"       \n",
              "19  ( 1 ) \"*\"    \"*\"     \"*\"       \"*\"     \"*\"     \"*\"    \"*\"       "
            ]
          },
          "metadata": {
            "tags": []
          }
        }
      ]
    },
    {
      "cell_type": "markdown",
      "metadata": {
        "id": "ezxQYoxPetMk"
      },
      "source": [
        "Notice that at the 7th variable, the results from forward, backward and best subset start to differ."
      ]
    },
    {
      "cell_type": "code",
      "metadata": {
        "id": "_Zw8cO2wetMk",
        "outputId": "b460c65f-5e7b-42b8-8c44-25cd876c3578"
      },
      "source": [
        "coef(regfit.full,7)"
      ],
      "execution_count": null,
      "outputs": [
        {
          "output_type": "display_data",
          "data": {
            "text/html": [
              "<dl class=dl-horizontal>\n",
              "\t<dt>(Intercept)</dt>\n",
              "\t\t<dd>79.4509472435305</dd>\n",
              "\t<dt>Hits</dt>\n",
              "\t\t<dd>1.28335125463328</dd>\n",
              "\t<dt>Walks</dt>\n",
              "\t\t<dd>3.22742638972717</dd>\n",
              "\t<dt>CAtBat</dt>\n",
              "\t\t<dd>-0.375235019565456</dd>\n",
              "\t<dt>CHits</dt>\n",
              "\t\t<dd>1.4957073098987</dd>\n",
              "\t<dt>CHmRun</dt>\n",
              "\t\t<dd>1.44205381889662</dd>\n",
              "\t<dt>DivisionW</dt>\n",
              "\t\t<dd>-129.986643165115</dd>\n",
              "\t<dt>PutOuts</dt>\n",
              "\t\t<dd>0.236681317525622</dd>\n",
              "</dl>\n"
            ],
            "text/latex": "\\begin{description*}\n\\item[(Intercept)] 79.4509472435305\n\\item[Hits] 1.28335125463328\n\\item[Walks] 3.22742638972717\n\\item[CAtBat] -0.375235019565456\n\\item[CHits] 1.4957073098987\n\\item[CHmRun] 1.44205381889662\n\\item[DivisionW] -129.986643165115\n\\item[PutOuts] 0.236681317525622\n\\end{description*}\n",
            "text/markdown": "(Intercept)\n:   79.4509472435305Hits\n:   1.28335125463328Walks\n:   3.22742638972717CAtBat\n:   -0.375235019565456CHits\n:   1.4957073098987CHmRun\n:   1.44205381889662DivisionW\n:   -129.986643165115PutOuts\n:   0.236681317525622\n\n",
            "text/plain": [
              " (Intercept)         Hits        Walks       CAtBat        CHits       CHmRun \n",
              "  79.4509472    1.2833513    3.2274264   -0.3752350    1.4957073    1.4420538 \n",
              "   DivisionW      PutOuts \n",
              "-129.9866432    0.2366813 "
            ]
          },
          "metadata": {
            "tags": []
          }
        }
      ]
    },
    {
      "cell_type": "markdown",
      "metadata": {
        "id": "7njM1KKoetMm"
      },
      "source": [
        "**Career RBI is in the best forward model, because it had the most explanatory power by itself. But it is not in the backward or best subset selection**"
      ]
    },
    {
      "cell_type": "code",
      "metadata": {
        "id": "iHSjIKQoetMn",
        "outputId": "837f5b6f-4ecd-49c0-a446-2e2b6289f008"
      },
      "source": [
        "coef(regfit.fwd,7)"
      ],
      "execution_count": null,
      "outputs": [
        {
          "output_type": "display_data",
          "data": {
            "text/html": [
              "<dl class=dl-horizontal>\n",
              "\t<dt>(Intercept)</dt>\n",
              "\t\t<dd>109.787306240078</dd>\n",
              "\t<dt>AtBat</dt>\n",
              "\t\t<dd>-1.95888512315655</dd>\n",
              "\t<dt>Hits</dt>\n",
              "\t\t<dd>7.44987721841218</dd>\n",
              "\t<dt>Walks</dt>\n",
              "\t\t<dd>4.91314009272066</dd>\n",
              "\t<dt>CRBI</dt>\n",
              "\t\t<dd>0.853762209061578</dd>\n",
              "\t<dt>CWalks</dt>\n",
              "\t\t<dd>-0.305307000381738</dd>\n",
              "\t<dt>DivisionW</dt>\n",
              "\t\t<dd>-127.122392777488</dd>\n",
              "\t<dt>PutOuts</dt>\n",
              "\t\t<dd>0.253340431147386</dd>\n",
              "</dl>\n"
            ],
            "text/latex": "\\begin{description*}\n\\item[(Intercept)] 109.787306240078\n\\item[AtBat] -1.95888512315655\n\\item[Hits] 7.44987721841218\n\\item[Walks] 4.91314009272066\n\\item[CRBI] 0.853762209061578\n\\item[CWalks] -0.305307000381738\n\\item[DivisionW] -127.122392777488\n\\item[PutOuts] 0.253340431147386\n\\end{description*}\n",
            "text/markdown": "(Intercept)\n:   109.787306240078AtBat\n:   -1.95888512315655Hits\n:   7.44987721841218Walks\n:   4.91314009272066CRBI\n:   0.853762209061578CWalks\n:   -0.305307000381738DivisionW\n:   -127.122392777488PutOuts\n:   0.253340431147386\n\n",
            "text/plain": [
              " (Intercept)        AtBat         Hits        Walks         CRBI       CWalks \n",
              " 109.7873062   -1.9588851    7.4498772    4.9131401    0.8537622   -0.3053070 \n",
              "   DivisionW      PutOuts \n",
              "-127.1223928    0.2533404 "
            ]
          },
          "metadata": {
            "tags": []
          }
        }
      ]
    },
    {
      "cell_type": "code",
      "metadata": {
        "id": "776OtMNUetMp",
        "outputId": "ccbc0839-e7ce-4edc-aa97-d2162484c3db"
      },
      "source": [
        "coef(regfit.bwd,7)"
      ],
      "execution_count": null,
      "outputs": [
        {
          "output_type": "display_data",
          "data": {
            "text/html": [
              "<dl class=dl-horizontal>\n",
              "\t<dt>(Intercept)</dt>\n",
              "\t\t<dd>105.648748778828</dd>\n",
              "\t<dt>AtBat</dt>\n",
              "\t\t<dd>-1.97628381026618</dd>\n",
              "\t<dt>Hits</dt>\n",
              "\t\t<dd>6.75749144281392</dd>\n",
              "\t<dt>Walks</dt>\n",
              "\t\t<dd>6.05586912154598</dd>\n",
              "\t<dt>CRuns</dt>\n",
              "\t\t<dd>1.12930946903271</dd>\n",
              "\t<dt>CWalks</dt>\n",
              "\t\t<dd>-0.71633458662198</dd>\n",
              "\t<dt>DivisionW</dt>\n",
              "\t\t<dd>-116.16921690431</dd>\n",
              "\t<dt>PutOuts</dt>\n",
              "\t\t<dd>0.302884743257576</dd>\n",
              "</dl>\n"
            ],
            "text/latex": "\\begin{description*}\n\\item[(Intercept)] 105.648748778828\n\\item[AtBat] -1.97628381026618\n\\item[Hits] 6.75749144281392\n\\item[Walks] 6.05586912154598\n\\item[CRuns] 1.12930946903271\n\\item[CWalks] -0.71633458662198\n\\item[DivisionW] -116.16921690431\n\\item[PutOuts] 0.302884743257576\n\\end{description*}\n",
            "text/markdown": "(Intercept)\n:   105.648748778828AtBat\n:   -1.97628381026618Hits\n:   6.75749144281392Walks\n:   6.05586912154598CRuns\n:   1.12930946903271CWalks\n:   -0.71633458662198DivisionW\n:   -116.16921690431PutOuts\n:   0.302884743257576\n\n",
            "text/plain": [
              " (Intercept)        AtBat         Hits        Walks        CRuns       CWalks \n",
              " 105.6487488   -1.9762838    6.7574914    6.0558691    1.1293095   -0.7163346 \n",
              "   DivisionW      PutOuts \n",
              "-116.1692169    0.3028847 "
            ]
          },
          "metadata": {
            "tags": []
          }
        }
      ]
    },
    {
      "cell_type": "markdown",
      "metadata": {
        "id": "ggACgqNuetMq"
      },
      "source": [
        "## Validation Set and Cross Validation\n",
        "\n",
        "The previous methods chose among models by adjusting the RSS. However we can use cross-validation to **estimate** the test error.\n",
        "\n",
        "Here, we will use Validation Set cross-validation in which we **use only the training data** to perform model fitting and use the test dataset for variable selection. This helps us guard against over-fitting."
      ]
    },
    {
      "cell_type": "code",
      "metadata": {
        "id": "JYyK2RiaetMr"
      },
      "source": [
        "set.seed(1)\n",
        "train=sample(c(TRUE,FALSE),nrow(Hitters),rep=TRUE) #randomly assign, for each observation, and object to training sample (TRUE) or not (FALSE)\n",
        "test=(!train)"
      ],
      "execution_count": null,
      "outputs": []
    },
    {
      "cell_type": "markdown",
      "metadata": {
        "id": "KSpy4GUKetMs"
      },
      "source": [
        "### Run best subset on training sample"
      ]
    },
    {
      "cell_type": "code",
      "metadata": {
        "id": "VTnwesRHetMs",
        "outputId": "84b29826-ccb7-490b-ee9a-b52cc736d4ce"
      },
      "source": [
        "regfit.best.train=regsubsets(Salary~.,data=Hitters[train,],nvmax=19) #run on ONLY training sample\n",
        "summary(regfit.best.train)"
      ],
      "execution_count": null,
      "outputs": [
        {
          "output_type": "display_data",
          "data": {
            "text/plain": [
              "Subset selection object\n",
              "Call: regsubsets.formula(Salary ~ ., data = Hitters[train, ], nvmax = 19)\n",
              "19 Variables  (and intercept)\n",
              "           Forced in Forced out\n",
              "AtBat          FALSE      FALSE\n",
              "Hits           FALSE      FALSE\n",
              "HmRun          FALSE      FALSE\n",
              "Runs           FALSE      FALSE\n",
              "RBI            FALSE      FALSE\n",
              "Walks          FALSE      FALSE\n",
              "Years          FALSE      FALSE\n",
              "CAtBat         FALSE      FALSE\n",
              "CHits          FALSE      FALSE\n",
              "CHmRun         FALSE      FALSE\n",
              "CRuns          FALSE      FALSE\n",
              "CRBI           FALSE      FALSE\n",
              "CWalks         FALSE      FALSE\n",
              "LeagueN        FALSE      FALSE\n",
              "DivisionW      FALSE      FALSE\n",
              "PutOuts        FALSE      FALSE\n",
              "Assists        FALSE      FALSE\n",
              "Errors         FALSE      FALSE\n",
              "NewLeagueN     FALSE      FALSE\n",
              "1 subsets of each size up to 19\n",
              "Selection Algorithm: exhaustive\n",
              "          AtBat Hits HmRun Runs RBI Walks Years CAtBat CHits CHmRun CRuns CRBI\n",
              "1  ( 1 )  \" \"   \"*\"  \" \"   \" \"  \" \" \" \"   \" \"   \" \"    \" \"   \" \"    \" \"   \" \" \n",
              "2  ( 1 )  \" \"   \"*\"  \" \"   \" \"  \" \" \" \"   \" \"   \" \"    \"*\"   \" \"    \" \"   \" \" \n",
              "3  ( 1 )  \" \"   \"*\"  \" \"   \" \"  \" \" \" \"   \" \"   \" \"    \"*\"   \" \"    \" \"   \" \" \n",
              "4  ( 1 )  \" \"   \"*\"  \" \"   \" \"  \" \" \" \"   \" \"   \"*\"    \"*\"   \" \"    \" \"   \" \" \n",
              "5  ( 1 )  \" \"   \"*\"  \" \"   \" \"  \" \" \" \"   \" \"   \"*\"    \"*\"   \" \"    \" \"   \" \" \n",
              "6  ( 1 )  \" \"   \"*\"  \" \"   \" \"  \" \" \" \"   \" \"   \"*\"    \"*\"   \" \"    \" \"   \" \" \n",
              "7  ( 1 )  \"*\"   \"*\"  \"*\"   \" \"  \" \" \" \"   \" \"   \"*\"    \"*\"   \" \"    \" \"   \" \" \n",
              "8  ( 1 )  \"*\"   \"*\"  \" \"   \" \"  \" \" \"*\"   \" \"   \" \"    \"*\"   \"*\"    \" \"   \" \" \n",
              "9  ( 1 )  \"*\"   \"*\"  \" \"   \" \"  \" \" \"*\"   \" \"   \"*\"    \"*\"   \"*\"    \" \"   \" \" \n",
              "10  ( 1 ) \"*\"   \"*\"  \" \"   \" \"  \" \" \"*\"   \" \"   \"*\"    \"*\"   \"*\"    \" \"   \" \" \n",
              "11  ( 1 ) \"*\"   \"*\"  \" \"   \" \"  \" \" \"*\"   \" \"   \"*\"    \"*\"   \"*\"    \" \"   \" \" \n",
              "12  ( 1 ) \"*\"   \"*\"  \" \"   \" \"  \" \" \"*\"   \" \"   \"*\"    \"*\"   \"*\"    \" \"   \" \" \n",
              "13  ( 1 ) \"*\"   \"*\"  \" \"   \" \"  \" \" \"*\"   \" \"   \"*\"    \"*\"   \"*\"    \" \"   \"*\" \n",
              "14  ( 1 ) \"*\"   \"*\"  \" \"   \" \"  \" \" \"*\"   \" \"   \"*\"    \"*\"   \"*\"    \"*\"   \"*\" \n",
              "15  ( 1 ) \"*\"   \"*\"  \" \"   \" \"  \"*\" \"*\"   \" \"   \"*\"    \"*\"   \"*\"    \"*\"   \"*\" \n",
              "16  ( 1 ) \"*\"   \"*\"  \" \"   \" \"  \"*\" \"*\"   \"*\"   \"*\"    \"*\"   \"*\"    \"*\"   \"*\" \n",
              "17  ( 1 ) \"*\"   \"*\"  \" \"   \" \"  \"*\" \"*\"   \"*\"   \"*\"    \"*\"   \"*\"    \"*\"   \"*\" \n",
              "18  ( 1 ) \"*\"   \"*\"  \" \"   \"*\"  \"*\" \"*\"   \"*\"   \"*\"    \"*\"   \"*\"    \"*\"   \"*\" \n",
              "19  ( 1 ) \"*\"   \"*\"  \"*\"   \"*\"  \"*\" \"*\"   \"*\"   \"*\"    \"*\"   \"*\"    \"*\"   \"*\" \n",
              "          CWalks LeagueN DivisionW PutOuts Assists Errors NewLeagueN\n",
              "1  ( 1 )  \" \"    \" \"     \" \"       \" \"     \" \"     \" \"    \" \"       \n",
              "2  ( 1 )  \" \"    \" \"     \" \"       \" \"     \" \"     \" \"    \" \"       \n",
              "3  ( 1 )  \" \"    \" \"     \" \"       \" \"     \"*\"     \" \"    \" \"       \n",
              "4  ( 1 )  \" \"    \" \"     \" \"       \"*\"     \" \"     \" \"    \" \"       \n",
              "5  ( 1 )  \" \"    \" \"     \" \"       \"*\"     \"*\"     \" \"    \" \"       \n",
              "6  ( 1 )  \" \"    \"*\"     \" \"       \"*\"     \"*\"     \" \"    \" \"       \n",
              "7  ( 1 )  \" \"    \"*\"     \" \"       \"*\"     \" \"     \" \"    \" \"       \n",
              "8  ( 1 )  \"*\"    \"*\"     \" \"       \"*\"     \" \"     \" \"    \" \"       \n",
              "9  ( 1 )  \"*\"    \"*\"     \" \"       \"*\"     \" \"     \" \"    \" \"       \n",
              "10  ( 1 ) \"*\"    \"*\"     \"*\"       \"*\"     \" \"     \" \"    \" \"       \n",
              "11  ( 1 ) \"*\"    \"*\"     \"*\"       \"*\"     \" \"     \"*\"    \" \"       \n",
              "12  ( 1 ) \"*\"    \"*\"     \"*\"       \"*\"     \" \"     \"*\"    \"*\"       \n",
              "13  ( 1 ) \"*\"    \"*\"     \"*\"       \"*\"     \" \"     \"*\"    \"*\"       \n",
              "14  ( 1 ) \"*\"    \"*\"     \"*\"       \"*\"     \" \"     \"*\"    \"*\"       \n",
              "15  ( 1 ) \"*\"    \"*\"     \"*\"       \"*\"     \" \"     \"*\"    \"*\"       \n",
              "16  ( 1 ) \"*\"    \"*\"     \"*\"       \"*\"     \" \"     \"*\"    \"*\"       \n",
              "17  ( 1 ) \"*\"    \"*\"     \"*\"       \"*\"     \"*\"     \"*\"    \"*\"       \n",
              "18  ( 1 ) \"*\"    \"*\"     \"*\"       \"*\"     \"*\"     \"*\"    \"*\"       \n",
              "19  ( 1 ) \"*\"    \"*\"     \"*\"       \"*\"     \"*\"     \"*\"    \"*\"       "
            ]
          },
          "metadata": {
            "tags": []
          }
        }
      ]
    },
    {
      "cell_type": "markdown",
      "metadata": {
        "id": "a7i4fU6BetMu"
      },
      "source": [
        "### Compute Validation Set Error\n",
        "\n",
        "There is no predict() method for regsubsets, so we have to calculate the predictions (and MSE) ourselves. \n"
      ]
    },
    {
      "cell_type": "code",
      "metadata": {
        "id": "e70dw8WKetMu",
        "outputId": "af3e9b6f-7358-4a00-c26f-a34a97aa7b0a"
      },
      "source": [
        "test.mat=model.matrix(Salary~.,data=Hitters[test,]) #build the \"X\" matrix for the test data\n",
        "\n",
        "val.errors=rep(NA,19)\n",
        "\n",
        "#there is no predict() method for regsubsets, so we have to calculate it ourselves. This code is replaced below with a function predict()\n",
        "for(i in 1:19){ #for each  model size\n",
        "    coefi=coef(regfit.best.train,id=i) #get the best fitting coefficients\n",
        "    pred=test.mat[,names(coefi)]%*%coefi  #multiply them into the columns of the test data to get predictions\n",
        "    val.errors[i]=mean((Hitters$Salary[test]-as.vector(pred))^2) #calculate the MSE\n",
        "    }\n",
        "val.errors"
      ],
      "execution_count": null,
      "outputs": [
        {
          "output_type": "display_data",
          "data": {
            "text/html": [
              "<ol class=list-inline>\n",
              "\t<li>220968.010570781</li>\n",
              "\t<li>169157.080938694</li>\n",
              "\t<li>178518.155945132</li>\n",
              "\t<li>163426.079195481</li>\n",
              "\t<li>168418.096758255</li>\n",
              "\t<li>171270.594721366</li>\n",
              "\t<li>162377.082699745</li>\n",
              "\t<li>157909.280553932</li>\n",
              "\t<li>154055.716825013</li>\n",
              "\t<li>148162.052539399</li>\n",
              "\t<li>151156.401317955</li>\n",
              "\t<li>151742.451908185</li>\n",
              "\t<li>152214.450874715</li>\n",
              "\t<li>157358.654080678</li>\n",
              "\t<li>158541.407297311</li>\n",
              "\t<li>158743.3209425</li>\n",
              "\t<li>159972.673927589</li>\n",
              "\t<li>159859.793366072</li>\n",
              "\t<li>160105.640513861</li>\n",
              "</ol>\n"
            ],
            "text/latex": "\\begin{enumerate*}\n\\item 220968.010570781\n\\item 169157.080938694\n\\item 178518.155945132\n\\item 163426.079195481\n\\item 168418.096758255\n\\item 171270.594721366\n\\item 162377.082699745\n\\item 157909.280553932\n\\item 154055.716825013\n\\item 148162.052539399\n\\item 151156.401317955\n\\item 151742.451908185\n\\item 152214.450874715\n\\item 157358.654080678\n\\item 158541.407297311\n\\item 158743.3209425\n\\item 159972.673927589\n\\item 159859.793366072\n\\item 160105.640513861\n\\end{enumerate*}\n",
            "text/markdown": "1. 220968.010570781\n2. 169157.080938694\n3. 178518.155945132\n4. 163426.079195481\n5. 168418.096758255\n6. 171270.594721366\n7. 162377.082699745\n8. 157909.280553932\n9. 154055.716825013\n10. 148162.052539399\n11. 151156.401317955\n12. 151742.451908185\n13. 152214.450874715\n14. 157358.654080678\n15. 158541.407297311\n16. 158743.3209425\n17. 159972.673927589\n18. 159859.793366072\n19. 160105.640513861\n\n\n",
            "text/plain": [
              " [1] 220968.0 169157.1 178518.2 163426.1 168418.1 171270.6 162377.1 157909.3\n",
              " [9] 154055.7 148162.1 151156.4 151742.5 152214.5 157358.7 158541.4 158743.3\n",
              "[17] 159972.7 159859.8 160105.6"
            ]
          },
          "metadata": {
            "tags": []
          }
        }
      ]
    },
    {
      "cell_type": "code",
      "metadata": {
        "id": "aK0_UT-OetMw",
        "outputId": "dc656afc-51fd-42aa-cc2c-e1d00034f2eb"
      },
      "source": [
        "which.min(val.errors)"
      ],
      "execution_count": null,
      "outputs": [
        {
          "output_type": "display_data",
          "data": {
            "text/html": [
              "10"
            ],
            "text/latex": "10",
            "text/markdown": "10",
            "text/plain": [
              "[1] 10"
            ]
          },
          "metadata": {
            "tags": []
          }
        }
      ]
    },
    {
      "cell_type": "markdown",
      "metadata": {
        "id": "KQ6bGtSletMy"
      },
      "source": [
        "Coefficients form model on training dataset"
      ]
    },
    {
      "cell_type": "code",
      "metadata": {
        "id": "jPITwl8VetMy",
        "outputId": "104b3fe4-6d5b-47d8-b8dc-b3f3445313ea"
      },
      "source": [
        "coef(regfit.best.train,which.min(val.errors))"
      ],
      "execution_count": null,
      "outputs": [
        {
          "output_type": "display_data",
          "data": {
            "text/html": [
              "<dl class=dl-horizontal>\n",
              "\t<dt>(Intercept)</dt>\n",
              "\t\t<dd>-80.2751498545584</dd>\n",
              "\t<dt>AtBat</dt>\n",
              "\t\t<dd>-1.46838155352597</dd>\n",
              "\t<dt>Hits</dt>\n",
              "\t\t<dd>7.16253138932867</dd>\n",
              "\t<dt>Walks</dt>\n",
              "\t\t<dd>3.64303449365111</dd>\n",
              "\t<dt>CAtBat</dt>\n",
              "\t\t<dd>-0.185569803428967</dd>\n",
              "\t<dt>CHits</dt>\n",
              "\t\t<dd>1.10532384927797</dd>\n",
              "\t<dt>CHmRun</dt>\n",
              "\t\t<dd>1.38448634401015</dd>\n",
              "\t<dt>CWalks</dt>\n",
              "\t\t<dd>-0.74831695417675</dd>\n",
              "\t<dt>LeagueN</dt>\n",
              "\t\t<dd>84.5576102976496</dd>\n",
              "\t<dt>DivisionW</dt>\n",
              "\t\t<dd>-53.0289658320235</dd>\n",
              "\t<dt>PutOuts</dt>\n",
              "\t\t<dd>0.238166218963617</dd>\n",
              "</dl>\n"
            ],
            "text/latex": "\\begin{description*}\n\\item[(Intercept)] -80.2751498545584\n\\item[AtBat] -1.46838155352597\n\\item[Hits] 7.16253138932867\n\\item[Walks] 3.64303449365111\n\\item[CAtBat] -0.185569803428967\n\\item[CHits] 1.10532384927797\n\\item[CHmRun] 1.38448634401015\n\\item[CWalks] -0.74831695417675\n\\item[LeagueN] 84.5576102976496\n\\item[DivisionW] -53.0289658320235\n\\item[PutOuts] 0.238166218963617\n\\end{description*}\n",
            "text/markdown": "(Intercept)\n:   -80.2751498545584AtBat\n:   -1.46838155352597Hits\n:   7.16253138932867Walks\n:   3.64303449365111CAtBat\n:   -0.185569803428967CHits\n:   1.10532384927797CHmRun\n:   1.38448634401015CWalks\n:   -0.74831695417675LeagueN\n:   84.5576102976496DivisionW\n:   -53.0289658320235PutOuts\n:   0.238166218963617\n\n",
            "text/plain": [
              "(Intercept)       AtBat        Hits       Walks      CAtBat       CHits \n",
              "-80.2751499  -1.4683816   7.1625314   3.6430345  -0.1855698   1.1053238 \n",
              "     CHmRun      CWalks     LeagueN   DivisionW     PutOuts \n",
              "  1.3844863  -0.7483170  84.5576103 -53.0289658   0.2381662 "
            ]
          },
          "metadata": {
            "tags": []
          }
        }
      ]
    },
    {
      "cell_type": "markdown",
      "metadata": {
        "id": "xrd2RaKbetM0"
      },
      "source": [
        "### Report Coefficients from Validation Set\n",
        "\n",
        "The last step is to report the coefficients of the 10 variable model. However, we don't use the coefficients from the training set only. This is because they are noisier (and only use half the data).\n",
        "\n",
        "Instead, we do best subset selection to get the best 10 variable model from the full dataset. Note that the variables in the best 10 variable model might **change**."
      ]
    },
    {
      "cell_type": "code",
      "metadata": {
        "id": "RL-pEKV7etM0",
        "outputId": "3d2679d3-2b69-46a7-918e-7c8ccd81730b"
      },
      "source": [
        "regfit.full=regsubsets(Salary~.,data=Hitters,nvmax=19) #run on FULL\n",
        "coef(regfit.full,which.min(val.errors))"
      ],
      "execution_count": null,
      "outputs": [
        {
          "output_type": "display_data",
          "data": {
            "text/html": [
              "<dl class=dl-horizontal>\n",
              "\t<dt>(Intercept)</dt>\n",
              "\t\t<dd>162.535442040545</dd>\n",
              "\t<dt>AtBat</dt>\n",
              "\t\t<dd>-2.16865005340437</dd>\n",
              "\t<dt>Hits</dt>\n",
              "\t\t<dd>6.91801749476659</dd>\n",
              "\t<dt>Walks</dt>\n",
              "\t\t<dd>5.7732246470264</dd>\n",
              "\t<dt>CAtBat</dt>\n",
              "\t\t<dd>-0.130079783913646</dd>\n",
              "\t<dt>CRuns</dt>\n",
              "\t\t<dd>1.40824900877044</dd>\n",
              "\t<dt>CRBI</dt>\n",
              "\t\t<dd>0.774312153250204</dd>\n",
              "\t<dt>CWalks</dt>\n",
              "\t\t<dd>-0.830826351501743</dd>\n",
              "\t<dt>DivisionW</dt>\n",
              "\t\t<dd>-112.380057493543</dd>\n",
              "\t<dt>PutOuts</dt>\n",
              "\t\t<dd>0.297372596603942</dd>\n",
              "\t<dt>Assists</dt>\n",
              "\t\t<dd>0.283168028635278</dd>\n",
              "</dl>\n"
            ],
            "text/latex": "\\begin{description*}\n\\item[(Intercept)] 162.535442040545\n\\item[AtBat] -2.16865005340437\n\\item[Hits] 6.91801749476659\n\\item[Walks] 5.7732246470264\n\\item[CAtBat] -0.130079783913646\n\\item[CRuns] 1.40824900877044\n\\item[CRBI] 0.774312153250204\n\\item[CWalks] -0.830826351501743\n\\item[DivisionW] -112.380057493543\n\\item[PutOuts] 0.297372596603942\n\\item[Assists] 0.283168028635278\n\\end{description*}\n",
            "text/markdown": "(Intercept)\n:   162.535442040545AtBat\n:   -2.16865005340437Hits\n:   6.91801749476659Walks\n:   5.7732246470264CAtBat\n:   -0.130079783913646CRuns\n:   1.40824900877044CRBI\n:   0.774312153250204CWalks\n:   -0.830826351501743DivisionW\n:   -112.380057493543PutOuts\n:   0.297372596603942Assists\n:   0.283168028635278\n\n",
            "text/plain": [
              " (Intercept)        AtBat         Hits        Walks       CAtBat        CRuns \n",
              " 162.5354420   -2.1686501    6.9180175    5.7732246   -0.1300798    1.4082490 \n",
              "        CRBI       CWalks    DivisionW      PutOuts      Assists \n",
              "   0.7743122   -0.8308264 -112.3800575    0.2973726    0.2831680 "
            ]
          },
          "metadata": {
            "tags": []
          }
        }
      ]
    },
    {
      "cell_type": "markdown",
      "metadata": {
        "id": "Q5k4xLUketM2"
      },
      "source": [
        "### Compute k-fold Cross Validation Error"
      ]
    },
    {
      "cell_type": "markdown",
      "metadata": {
        "id": "R0wbEGCeetM2"
      },
      "source": [
        "Instead of Validation Set, we can do k-fold cross validation. First, lets write a function to calculate predicted values on the test dataset from the results of regsubsets(). \n",
        "\n",
        "This function just implements the code above from the validation set exercise. "
      ]
    },
    {
      "cell_type": "code",
      "metadata": {
        "id": "7fsid4cRetM2"
      },
      "source": [
        "predict.regsubsets=function(object,newdata,id,...){\n",
        "    form=as.formula(object$call[[2]])\n",
        "    \n",
        "    mat=model.matrix(form,newdata)\n",
        "    coefi=coef(object,id=id)\n",
        "    xvars=names(coefi)\n",
        "    mat[,xvars]%*%coefi\n",
        "}"
      ],
      "execution_count": 10,
      "outputs": []
    },
    {
      "cell_type": "markdown",
      "metadata": {
        "id": "IOQ3XEx_etM3"
      },
      "source": [
        "To perform cross-validation at each model size, we have to do best subset selection within each of the $k$ training sets.\n",
        "\n",
        "First, ceate a vector that allocates observations to one of the $k=10$ folds"
      ]
    },
    {
      "cell_type": "code",
      "metadata": {
        "id": "xqdwLj24etM4"
      },
      "source": [
        "k=10\n",
        "set.seed(1)\n",
        "folds=sample(1:k,nrow(Hitters),replace=TRUE) #sample into folds\n",
        "cv.errors=matrix(NA,k,19,dimnames=list(NULL,paste(1:19))) #create a amtrix to store the results"
      ],
      "execution_count": 11,
      "outputs": []
    },
    {
      "cell_type": "markdown",
      "metadata": {
        "id": "sv6RqbNletM5"
      },
      "source": [
        "A for loop performs the cross validation"
      ]
    },
    {
      "cell_type": "code",
      "metadata": {
        "id": "uozFyj0JetM5"
      },
      "source": [
        "for(j in 1:k){\n",
        "    best.fit=regsubsets(Salary~.,data=Hitters[folds!=j,],nvmax=19)\n",
        "    for (i in 1:19){\n",
        "        pred=predict(best.fit,Hitters[folds==j,],id=i)\n",
        "        cv.errors[j,i]=mean((Hitters$Salary[folds==j]-pred)^2)\n",
        "    }\n",
        "}"
      ],
      "execution_count": 12,
      "outputs": []
    },
    {
      "cell_type": "code",
      "metadata": {
        "id": "OXVIM6g7etM6",
        "colab": {
          "base_uri": "https://localhost:8080/",
          "height": 121
        },
        "outputId": "c7cc4c36-4fc8-4d1f-b808-e4a3b7fe7aec"
      },
      "source": [
        "mean.cv.errors=apply(cv.errors,2,mean) #average over columns of matrix\n",
        "mean.cv.errors"
      ],
      "execution_count": 13,
      "outputs": [
        {
          "output_type": "display_data",
          "data": {
            "text/html": [
              "<style>\n",
              ".dl-inline {width: auto; margin:0; padding: 0}\n",
              ".dl-inline>dt, .dl-inline>dd {float: none; width: auto; display: inline-block}\n",
              ".dl-inline>dt::after {content: \":\\0020\"; padding-right: .5ex}\n",
              ".dl-inline>dt:not(:first-of-type) {padding-left: .5ex}\n",
              "</style><dl class=dl-inline><dt>1</dt><dd>149821.091405766</dd><dt>2</dt><dd>130922.0379764</dd><dt>3</dt><dd>139126.99031373</dd><dt>4</dt><dd>131028.824879075</dd><dt>5</dt><dd>131050.227792617</dd><dt>6</dt><dd>119538.639321733</dd><dt>7</dt><dd>124286.069572618</dd><dt>8</dt><dd>113580.024720024</dd><dt>9</dt><dd>115556.482968124</dd><dt>10</dt><dd>112216.694692405</dd><dt>11</dt><dd>113251.206611335</dd><dt>12</dt><dd>115755.928654414</dd><dt>13</dt><dd>117820.765179339</dd><dt>14</dt><dd>119481.192743936</dd><dt>15</dt><dd>120121.611555325</dd><dt>16</dt><dd>120074.319791001</dd><dt>17</dt><dd>120084.806046921</dd><dt>18</dt><dd>120085.752471046</dd><dt>19</dt><dd>120403.519222888</dd></dl>\n"
            ],
            "text/markdown": "1\n:   149821.0914057662\n:   130922.03797643\n:   139126.990313734\n:   131028.8248790755\n:   131050.2277926176\n:   119538.6393217337\n:   124286.0695726188\n:   113580.0247200249\n:   115556.48296812410\n:   112216.69469240511\n:   113251.20661133512\n:   115755.92865441413\n:   117820.76517933914\n:   119481.19274393615\n:   120121.61155532516\n:   120074.31979100117\n:   120084.80604692118\n:   120085.75247104619\n:   120403.519222888\n\n",
            "text/latex": "\\begin{description*}\n\\item[1] 149821.091405766\n\\item[2] 130922.0379764\n\\item[3] 139126.99031373\n\\item[4] 131028.824879075\n\\item[5] 131050.227792617\n\\item[6] 119538.639321733\n\\item[7] 124286.069572618\n\\item[8] 113580.024720024\n\\item[9] 115556.482968124\n\\item[10] 112216.694692405\n\\item[11] 113251.206611335\n\\item[12] 115755.928654414\n\\item[13] 117820.765179339\n\\item[14] 119481.192743936\n\\item[15] 120121.611555325\n\\item[16] 120074.319791001\n\\item[17] 120084.806046921\n\\item[18] 120085.752471046\n\\item[19] 120403.519222888\n\\end{description*}\n",
            "text/plain": [
              "       1        2        3        4        5        6        7        8 \n",
              "149821.1 130922.0 139127.0 131028.8 131050.2 119538.6 124286.1 113580.0 \n",
              "       9       10       11       12       13       14       15       16 \n",
              "115556.5 112216.7 113251.2 115755.9 117820.8 119481.2 120121.6 120074.3 \n",
              "      17       18       19 \n",
              "120084.8 120085.8 120403.5 "
            ]
          },
          "metadata": {}
        }
      ]
    },
    {
      "cell_type": "code",
      "metadata": {
        "id": "zRdnuwCgetM7",
        "colab": {
          "base_uri": "https://localhost:8080/",
          "height": 34
        },
        "outputId": "dd7643f6-c8a0-4019-c054-fb0e53916406"
      },
      "source": [
        "which.min(mean.cv.errors)"
      ],
      "execution_count": 14,
      "outputs": [
        {
          "output_type": "display_data",
          "data": {
            "text/html": [
              "<strong>10:</strong> 10"
            ],
            "text/markdown": "**10:** 10",
            "text/latex": "\\textbf{10:} 10",
            "text/plain": [
              "10 \n",
              "10 "
            ]
          },
          "metadata": {}
        }
      ]
    },
    {
      "cell_type": "markdown",
      "metadata": {
        "id": "oNv05SZ4etM9"
      },
      "source": [
        "Again, we estimate on the full dataset (with best subset) to obtain the 11 variable model"
      ]
    },
    {
      "cell_type": "code",
      "metadata": {
        "id": "PRnoc5q4etM9",
        "colab": {
          "base_uri": "https://localhost:8080/",
          "height": 86
        },
        "outputId": "b2fc4aa5-8f33-4df4-b32e-bf6499e65954"
      },
      "source": [
        "regfit.full=regsubsets(Salary~.,data=Hitters,nvmax=19) #run on FULL\n",
        "coef(regfit.full,which.min(mean.cv.errors))"
      ],
      "execution_count": 16,
      "outputs": [
        {
          "output_type": "display_data",
          "data": {
            "text/html": [
              "<style>\n",
              ".dl-inline {width: auto; margin:0; padding: 0}\n",
              ".dl-inline>dt, .dl-inline>dd {float: none; width: auto; display: inline-block}\n",
              ".dl-inline>dt::after {content: \":\\0020\"; padding-right: .5ex}\n",
              ".dl-inline>dt:not(:first-of-type) {padding-left: .5ex}\n",
              "</style><dl class=dl-inline><dt>(Intercept)</dt><dd>162.535442040545</dd><dt>AtBat</dt><dd>-2.16865005340437</dd><dt>Hits</dt><dd>6.91801749476659</dd><dt>Walks</dt><dd>5.7732246470264</dd><dt>CAtBat</dt><dd>-0.130079783913646</dd><dt>CRuns</dt><dd>1.40824900877044</dd><dt>CRBI</dt><dd>0.774312153250204</dd><dt>CWalks</dt><dd>-0.830826351501743</dd><dt>DivisionW</dt><dd>-112.380057493543</dd><dt>PutOuts</dt><dd>0.297372596603942</dd><dt>Assists</dt><dd>0.283168028635278</dd></dl>\n"
            ],
            "text/markdown": "(Intercept)\n:   162.535442040545AtBat\n:   -2.16865005340437Hits\n:   6.91801749476659Walks\n:   5.7732246470264CAtBat\n:   -0.130079783913646CRuns\n:   1.40824900877044CRBI\n:   0.774312153250204CWalks\n:   -0.830826351501743DivisionW\n:   -112.380057493543PutOuts\n:   0.297372596603942Assists\n:   0.283168028635278\n\n",
            "text/latex": "\\begin{description*}\n\\item[(Intercept)] 162.535442040545\n\\item[AtBat] -2.16865005340437\n\\item[Hits] 6.91801749476659\n\\item[Walks] 5.7732246470264\n\\item[CAtBat] -0.130079783913646\n\\item[CRuns] 1.40824900877044\n\\item[CRBI] 0.774312153250204\n\\item[CWalks] -0.830826351501743\n\\item[DivisionW] -112.380057493543\n\\item[PutOuts] 0.297372596603942\n\\item[Assists] 0.283168028635278\n\\end{description*}\n",
            "text/plain": [
              " (Intercept)        AtBat         Hits        Walks       CAtBat        CRuns \n",
              " 162.5354420   -2.1686501    6.9180175    5.7732246   -0.1300798    1.4082490 \n",
              "        CRBI       CWalks    DivisionW      PutOuts      Assists \n",
              "   0.7743122   -0.8308264 -112.3800575    0.2973726    0.2831680 "
            ]
          },
          "metadata": {}
        }
      ]
    },
    {
      "cell_type": "markdown",
      "metadata": {
        "id": "DSIW64JbetM-"
      },
      "source": [
        "## Ridge Regression and LASSO\n",
        "\n",
        "We can use the glmnet() function to implement these methods.\n",
        "\n",
        "But it has different syntax than previous methods..."
      ]
    },
    {
      "cell_type": "code",
      "metadata": {
        "id": "59PL7NFietM-"
      },
      "source": [
        "x=model.matrix(Salary~.,Hitters)[,-1] #this creates a matrix of predictors, and converts all the categorical variables to dummy variables\n",
        "# the [,-1] indexing removes the intercept from the matrix. We do this because it will be added back automatically in later methods\n",
        "y=Hitters$Salary #create the response variable"
      ],
      "execution_count": null,
      "outputs": []
    },
    {
      "cell_type": "markdown",
      "metadata": {
        "id": "Qbmgnlh6etM_"
      },
      "source": [
        "### Ridge Regression"
      ]
    },
    {
      "cell_type": "code",
      "metadata": {
        "id": "QnrUoi-uetM_"
      },
      "source": [
        "library(glmnet)\n",
        "\n",
        "grid=10^seq(10,-2,length=100) #create grid values for lambda from 10^10 to 10^-2\n",
        "ridge.mod=glmnet(x,y,alpha=0,lambda=grid) #implements ridge regression when alpha=0"
      ],
      "execution_count": null,
      "outputs": []
    },
    {
      "cell_type": "markdown",
      "metadata": {
        "id": "MEZYmhPoetNB"
      },
      "source": [
        "For each $\\lambda$, there is a vector of ridge regression coefficients"
      ]
    },
    {
      "cell_type": "code",
      "metadata": {
        "id": "LV1DBcdMetNB",
        "outputId": "73dde583-4a19-4c1f-fae2-490632ace369"
      },
      "source": [
        "\n",
        "dim(coef(ridge.mod))"
      ],
      "execution_count": null,
      "outputs": [
        {
          "output_type": "display_data",
          "data": {
            "text/html": [
              "<ol class=list-inline>\n",
              "\t<li>20</li>\n",
              "\t<li>100</li>\n",
              "</ol>\n"
            ],
            "text/latex": "\\begin{enumerate*}\n\\item 20\n\\item 100\n\\end{enumerate*}\n",
            "text/markdown": "1. 20\n2. 100\n\n\n",
            "text/plain": [
              "[1]  20 100"
            ]
          },
          "metadata": {
            "tags": []
          }
        }
      ]
    },
    {
      "cell_type": "markdown",
      "metadata": {
        "id": "rxmr_RojetNC"
      },
      "source": [
        "When $\\lambda=11,498$"
      ]
    },
    {
      "cell_type": "code",
      "metadata": {
        "id": "FLlYdJlDetND",
        "outputId": "0d205178-b42f-403e-bbbd-86302664998b"
      },
      "source": [
        "ridge.mod$lambda[50]"
      ],
      "execution_count": null,
      "outputs": [
        {
          "output_type": "display_data",
          "data": {
            "text/html": [
              "11497.5699539774"
            ],
            "text/latex": "11497.5699539774",
            "text/markdown": "11497.5699539774",
            "text/plain": [
              "[1] 11497.57"
            ]
          },
          "metadata": {
            "tags": []
          }
        }
      ]
    },
    {
      "cell_type": "markdown",
      "metadata": {
        "id": "4C1hS7PvetNE"
      },
      "source": [
        "the coefficents, along with the $l_2$ norm are:"
      ]
    },
    {
      "cell_type": "code",
      "metadata": {
        "id": "8ERDb5V0etNE",
        "outputId": "5f8e00a6-6358-49e8-cc4c-ed9b2e74ed7e"
      },
      "source": [
        "coef(ridge.mod)[,50]"
      ],
      "execution_count": null,
      "outputs": [
        {
          "output_type": "display_data",
          "data": {
            "text/html": [
              "<dl class=dl-horizontal>\n",
              "\t<dt>(Intercept)</dt>\n",
              "\t\t<dd>407.356050200416</dd>\n",
              "\t<dt>AtBat</dt>\n",
              "\t\t<dd>0.0369571817501359</dd>\n",
              "\t<dt>Hits</dt>\n",
              "\t\t<dd>0.138180343807892</dd>\n",
              "\t<dt>HmRun</dt>\n",
              "\t\t<dd>0.524629975886911</dd>\n",
              "\t<dt>Runs</dt>\n",
              "\t\t<dd>0.230701522621179</dd>\n",
              "\t<dt>RBI</dt>\n",
              "\t\t<dd>0.239841458504058</dd>\n",
              "\t<dt>Walks</dt>\n",
              "\t\t<dd>0.289618741049884</dd>\n",
              "\t<dt>Years</dt>\n",
              "\t\t<dd>1.10770292908555</dd>\n",
              "\t<dt>CAtBat</dt>\n",
              "\t\t<dd>0.00313181522151328</dd>\n",
              "\t<dt>CHits</dt>\n",
              "\t\t<dd>0.0116536373557531</dd>\n",
              "\t<dt>CHmRun</dt>\n",
              "\t\t<dd>0.0875456697555949</dd>\n",
              "\t<dt>CRuns</dt>\n",
              "\t\t<dd>0.0233798823693758</dd>\n",
              "\t<dt>CRBI</dt>\n",
              "\t\t<dd>0.0241383203685686</dd>\n",
              "\t<dt>CWalks</dt>\n",
              "\t\t<dd>0.0250154205993732</dd>\n",
              "\t<dt>LeagueN</dt>\n",
              "\t\t<dd>0.0850281135625444</dd>\n",
              "\t<dt>DivisionW</dt>\n",
              "\t\t<dd>-6.21544097273146</dd>\n",
              "\t<dt>PutOuts</dt>\n",
              "\t\t<dd>0.0164825767604547</dd>\n",
              "\t<dt>Assists</dt>\n",
              "\t\t<dd>0.00261298804528183</dd>\n",
              "\t<dt>Errors</dt>\n",
              "\t\t<dd>-0.0205026903654579</dd>\n",
              "\t<dt>NewLeagueN</dt>\n",
              "\t\t<dd>0.301433531372699</dd>\n",
              "</dl>\n"
            ],
            "text/latex": "\\begin{description*}\n\\item[(Intercept)] 407.356050200416\n\\item[AtBat] 0.0369571817501359\n\\item[Hits] 0.138180343807892\n\\item[HmRun] 0.524629975886911\n\\item[Runs] 0.230701522621179\n\\item[RBI] 0.239841458504058\n\\item[Walks] 0.289618741049884\n\\item[Years] 1.10770292908555\n\\item[CAtBat] 0.00313181522151328\n\\item[CHits] 0.0116536373557531\n\\item[CHmRun] 0.0875456697555949\n\\item[CRuns] 0.0233798823693758\n\\item[CRBI] 0.0241383203685686\n\\item[CWalks] 0.0250154205993732\n\\item[LeagueN] 0.0850281135625444\n\\item[DivisionW] -6.21544097273146\n\\item[PutOuts] 0.0164825767604547\n\\item[Assists] 0.00261298804528183\n\\item[Errors] -0.0205026903654579\n\\item[NewLeagueN] 0.301433531372699\n\\end{description*}\n",
            "text/markdown": "(Intercept)\n:   407.356050200416AtBat\n:   0.0369571817501359Hits\n:   0.138180343807892HmRun\n:   0.524629975886911Runs\n:   0.230701522621179RBI\n:   0.239841458504058Walks\n:   0.289618741049884Years\n:   1.10770292908555CAtBat\n:   0.00313181522151328CHits\n:   0.0116536373557531CHmRun\n:   0.0875456697555949CRuns\n:   0.0233798823693758CRBI\n:   0.0241383203685686CWalks\n:   0.0250154205993732LeagueN\n:   0.0850281135625444DivisionW\n:   -6.21544097273146PutOuts\n:   0.0164825767604547Assists\n:   0.00261298804528183Errors\n:   -0.0205026903654579NewLeagueN\n:   0.301433531372699\n\n",
            "text/plain": [
              "  (Intercept)         AtBat          Hits         HmRun          Runs \n",
              "407.356050200   0.036957182   0.138180344   0.524629976   0.230701523 \n",
              "          RBI         Walks         Years        CAtBat         CHits \n",
              "  0.239841459   0.289618741   1.107702929   0.003131815   0.011653637 \n",
              "       CHmRun         CRuns          CRBI        CWalks       LeagueN \n",
              "  0.087545670   0.023379882   0.024138320   0.025015421   0.085028114 \n",
              "    DivisionW       PutOuts       Assists        Errors    NewLeagueN \n",
              " -6.215440973   0.016482577   0.002612988  -0.020502690   0.301433531 "
            ]
          },
          "metadata": {
            "tags": []
          }
        }
      ]
    },
    {
      "cell_type": "markdown",
      "metadata": {
        "id": "8ks1v8GjetNF"
      },
      "source": [
        "The $l_2$-norm is"
      ]
    },
    {
      "cell_type": "code",
      "metadata": {
        "id": "wzTqAEIOetNG",
        "outputId": "cb3ad9c8-9aee-4129-9886-c28d928181dc"
      },
      "source": [
        "sqrt(sum(coef(ridge.mod)[-1,50]^2))"
      ],
      "execution_count": null,
      "outputs": [
        {
          "output_type": "display_data",
          "data": {
            "text/html": [
              "6.36061242142791"
            ],
            "text/latex": "6.36061242142791",
            "text/markdown": "6.36061242142791",
            "text/plain": [
              "[1] 6.360612"
            ]
          },
          "metadata": {
            "tags": []
          }
        }
      ]
    },
    {
      "cell_type": "markdown",
      "metadata": {
        "id": "Tu1wCD6IetNH"
      },
      "source": [
        "In contrast, we can look at a smaller $\\lambda$ (i.e. a looser constraint). The $l_2$-norm will be bigger"
      ]
    },
    {
      "cell_type": "code",
      "metadata": {
        "id": "bpt9AwEXetNH",
        "outputId": "5d85daee-edc7-4054-953a-2fb46db67cb1"
      },
      "source": [
        "ridge.mod$lambda[60]"
      ],
      "execution_count": null,
      "outputs": [
        {
          "output_type": "display_data",
          "data": {
            "text/html": [
              "705.480231071865"
            ],
            "text/latex": "705.480231071865",
            "text/markdown": "705.480231071865",
            "text/plain": [
              "[1] 705.4802"
            ]
          },
          "metadata": {
            "tags": []
          }
        }
      ]
    },
    {
      "cell_type": "code",
      "metadata": {
        "id": "ccloeLC5etNI",
        "outputId": "e31faf5e-3e42-4bd2-ace6-459d3f5e24c4"
      },
      "source": [
        "coef(ridge.mod)[,60]"
      ],
      "execution_count": null,
      "outputs": [
        {
          "output_type": "display_data",
          "data": {
            "text/html": [
              "<dl class=dl-horizontal>\n",
              "\t<dt>(Intercept)</dt>\n",
              "\t\t<dd>54.3251995018372</dd>\n",
              "\t<dt>AtBat</dt>\n",
              "\t\t<dd>0.112111145878249</dd>\n",
              "\t<dt>Hits</dt>\n",
              "\t\t<dd>0.656224085323628</dd>\n",
              "\t<dt>HmRun</dt>\n",
              "\t\t<dd>1.17980909638777</dd>\n",
              "\t<dt>Runs</dt>\n",
              "\t\t<dd>0.937697128927054</dd>\n",
              "\t<dt>RBI</dt>\n",
              "\t\t<dd>0.847185458771521</dd>\n",
              "\t<dt>Walks</dt>\n",
              "\t\t<dd>1.31987948048781</dd>\n",
              "\t<dt>Years</dt>\n",
              "\t\t<dd>2.59640424574253</dd>\n",
              "\t<dt>CAtBat</dt>\n",
              "\t\t<dd>0.0108341254432856</dd>\n",
              "\t<dt>CHits</dt>\n",
              "\t\t<dd>0.0467455700054452</dd>\n",
              "\t<dt>CHmRun</dt>\n",
              "\t\t<dd>0.337773183143353</dd>\n",
              "\t<dt>CRuns</dt>\n",
              "\t\t<dd>0.0935552830000676</dd>\n",
              "\t<dt>CRBI</dt>\n",
              "\t\t<dd>0.0978040232271687</dd>\n",
              "\t<dt>CWalks</dt>\n",
              "\t\t<dd>0.0718961166304866</dd>\n",
              "\t<dt>LeagueN</dt>\n",
              "\t\t<dd>13.6837019095343</dd>\n",
              "\t<dt>DivisionW</dt>\n",
              "\t\t<dd>-54.658777504592</dd>\n",
              "\t<dt>PutOuts</dt>\n",
              "\t\t<dd>0.118522894134745</dd>\n",
              "\t<dt>Assists</dt>\n",
              "\t\t<dd>0.01606037317599</dd>\n",
              "\t<dt>Errors</dt>\n",
              "\t\t<dd>-0.703586547290985</dd>\n",
              "\t<dt>NewLeagueN</dt>\n",
              "\t\t<dd>8.61181213448926</dd>\n",
              "</dl>\n"
            ],
            "text/latex": "\\begin{description*}\n\\item[(Intercept)] 54.3251995018372\n\\item[AtBat] 0.112111145878249\n\\item[Hits] 0.656224085323628\n\\item[HmRun] 1.17980909638777\n\\item[Runs] 0.937697128927054\n\\item[RBI] 0.847185458771521\n\\item[Walks] 1.31987948048781\n\\item[Years] 2.59640424574253\n\\item[CAtBat] 0.0108341254432856\n\\item[CHits] 0.0467455700054452\n\\item[CHmRun] 0.337773183143353\n\\item[CRuns] 0.0935552830000676\n\\item[CRBI] 0.0978040232271687\n\\item[CWalks] 0.0718961166304866\n\\item[LeagueN] 13.6837019095343\n\\item[DivisionW] -54.658777504592\n\\item[PutOuts] 0.118522894134745\n\\item[Assists] 0.01606037317599\n\\item[Errors] -0.703586547290985\n\\item[NewLeagueN] 8.61181213448926\n\\end{description*}\n",
            "text/markdown": "(Intercept)\n:   54.3251995018372AtBat\n:   0.112111145878249Hits\n:   0.656224085323628HmRun\n:   1.17980909638777Runs\n:   0.937697128927054RBI\n:   0.847185458771521Walks\n:   1.31987948048781Years\n:   2.59640424574253CAtBat\n:   0.0108341254432856CHits\n:   0.0467455700054452CHmRun\n:   0.337773183143353CRuns\n:   0.0935552830000676CRBI\n:   0.0978040232271687CWalks\n:   0.0718961166304866LeagueN\n:   13.6837019095343DivisionW\n:   -54.658777504592PutOuts\n:   0.118522894134745Assists\n:   0.01606037317599Errors\n:   -0.703586547290985NewLeagueN\n:   8.61181213448926\n\n",
            "text/plain": [
              " (Intercept)        AtBat         Hits        HmRun         Runs          RBI \n",
              " 54.32519950   0.11211115   0.65622409   1.17980910   0.93769713   0.84718546 \n",
              "       Walks        Years       CAtBat        CHits       CHmRun        CRuns \n",
              "  1.31987948   2.59640425   0.01083413   0.04674557   0.33777318   0.09355528 \n",
              "        CRBI       CWalks      LeagueN    DivisionW      PutOuts      Assists \n",
              "  0.09780402   0.07189612  13.68370191 -54.65877750   0.11852289   0.01606037 \n",
              "      Errors   NewLeagueN \n",
              " -0.70358655   8.61181213 "
            ]
          },
          "metadata": {
            "tags": []
          }
        }
      ]
    },
    {
      "cell_type": "code",
      "metadata": {
        "id": "J-jpcKQqetNK",
        "outputId": "26e6bdf3-14cf-4a85-aaf8-88aa459212a7"
      },
      "source": [
        "sqrt(sum(coef(ridge.mod)[-1,60]^2))"
      ],
      "execution_count": null,
      "outputs": [
        {
          "output_type": "display_data",
          "data": {
            "text/html": [
              "57.110014262533"
            ],
            "text/latex": "57.110014262533",
            "text/markdown": "57.110014262533",
            "text/plain": [
              "[1] 57.11001"
            ]
          },
          "metadata": {
            "tags": []
          }
        }
      ]
    },
    {
      "cell_type": "code",
      "metadata": {
        "id": "_9TPmbJcetNL",
        "outputId": "c9f2153c-4559-445a-dd53-4334838f53f8"
      },
      "source": [
        "predict(ridge.mod,s=100,type=\"coefficients\")[1:20,] # predict at another value of lambda, say lambda=100, given current estimates"
      ],
      "execution_count": null,
      "outputs": [
        {
          "output_type": "display_data",
          "data": {
            "text/html": [
              "<dl class=dl-horizontal>\n",
              "\t<dt>(Intercept)</dt>\n",
              "\t\t<dd>21.2474897901088</dd>\n",
              "\t<dt>AtBat</dt>\n",
              "\t\t<dd>-0.114352612701245</dd>\n",
              "\t<dt>Hits</dt>\n",
              "\t\t<dd>1.38885675654051</dd>\n",
              "\t<dt>HmRun</dt>\n",
              "\t\t<dd>-0.709717725238576</dd>\n",
              "\t<dt>Runs</dt>\n",
              "\t\t<dd>1.16353940192038</dd>\n",
              "\t<dt>RBI</dt>\n",
              "\t\t<dd>0.845576031341509</dd>\n",
              "\t<dt>Walks</dt>\n",
              "\t\t<dd>2.18667380699383</dd>\n",
              "\t<dt>Years</dt>\n",
              "\t\t<dd>-2.85605098127993</dd>\n",
              "\t<dt>CAtBat</dt>\n",
              "\t\t<dd>0.00939876826769272</dd>\n",
              "\t<dt>CHits</dt>\n",
              "\t\t<dd>0.0820560766683569</dd>\n",
              "\t<dt>CHmRun</dt>\n",
              "\t\t<dd>0.538546774831831</dd>\n",
              "\t<dt>CRuns</dt>\n",
              "\t\t<dd>0.165577950029524</dd>\n",
              "\t<dt>CRBI</dt>\n",
              "\t\t<dd>0.175447163639631</dd>\n",
              "\t<dt>CWalks</dt>\n",
              "\t\t<dd>-0.0418252195341039</dd>\n",
              "\t<dt>LeagueN</dt>\n",
              "\t\t<dd>36.765419872577</dd>\n",
              "\t<dt>DivisionW</dt>\n",
              "\t\t<dd>-108.657806096126</dd>\n",
              "\t<dt>PutOuts</dt>\n",
              "\t\t<dd>0.227530749284506</dd>\n",
              "\t<dt>Assists</dt>\n",
              "\t\t<dd>0.0768908092398964</dd>\n",
              "\t<dt>Errors</dt>\n",
              "\t\t<dd>-2.63058557592756</dd>\n",
              "\t<dt>NewLeagueN</dt>\n",
              "\t\t<dd>0.00679607433665175</dd>\n",
              "</dl>\n"
            ],
            "text/latex": "\\begin{description*}\n\\item[(Intercept)] 21.2474897901088\n\\item[AtBat] -0.114352612701245\n\\item[Hits] 1.38885675654051\n\\item[HmRun] -0.709717725238576\n\\item[Runs] 1.16353940192038\n\\item[RBI] 0.845576031341509\n\\item[Walks] 2.18667380699383\n\\item[Years] -2.85605098127993\n\\item[CAtBat] 0.00939876826769272\n\\item[CHits] 0.0820560766683569\n\\item[CHmRun] 0.538546774831831\n\\item[CRuns] 0.165577950029524\n\\item[CRBI] 0.175447163639631\n\\item[CWalks] -0.0418252195341039\n\\item[LeagueN] 36.765419872577\n\\item[DivisionW] -108.657806096126\n\\item[PutOuts] 0.227530749284506\n\\item[Assists] 0.0768908092398964\n\\item[Errors] -2.63058557592756\n\\item[NewLeagueN] 0.00679607433665175\n\\end{description*}\n",
            "text/markdown": "(Intercept)\n:   21.2474897901088AtBat\n:   -0.114352612701245Hits\n:   1.38885675654051HmRun\n:   -0.709717725238576Runs\n:   1.16353940192038RBI\n:   0.845576031341509Walks\n:   2.18667380699383Years\n:   -2.85605098127993CAtBat\n:   0.00939876826769272CHits\n:   0.0820560766683569CHmRun\n:   0.538546774831831CRuns\n:   0.165577950029524CRBI\n:   0.175447163639631CWalks\n:   -0.0418252195341039LeagueN\n:   36.765419872577DivisionW\n:   -108.657806096126PutOuts\n:   0.227530749284506Assists\n:   0.0768908092398964Errors\n:   -2.63058557592756NewLeagueN\n:   0.00679607433665175\n\n",
            "text/plain": [
              "  (Intercept)         AtBat          Hits         HmRun          Runs \n",
              " 2.124749e+01 -1.143526e-01  1.388857e+00 -7.097177e-01  1.163539e+00 \n",
              "          RBI         Walks         Years        CAtBat         CHits \n",
              " 8.455760e-01  2.186674e+00 -2.856051e+00  9.398768e-03  8.205608e-02 \n",
              "       CHmRun         CRuns          CRBI        CWalks       LeagueN \n",
              " 5.385468e-01  1.655780e-01  1.754472e-01 -4.182522e-02  3.676542e+01 \n",
              "    DivisionW       PutOuts       Assists        Errors    NewLeagueN \n",
              "-1.086578e+02  2.275307e-01  7.689081e-02 -2.630586e+00  6.796074e-03 "
            ]
          },
          "metadata": {
            "tags": []
          }
        }
      ]
    },
    {
      "cell_type": "markdown",
      "metadata": {
        "id": "EGo-H56detNM"
      },
      "source": [
        "### Estimate Test Error for Ridge and LASSO\n",
        "\n",
        "First, we construct the training set"
      ]
    },
    {
      "cell_type": "code",
      "metadata": {
        "id": "QmDrxcNuetNM"
      },
      "source": [
        "set.seed(1)\n",
        "train=sample(1:nrow(x),nrow(x)/2) #generate a random index of half of the data, to use as training set\n",
        "test=(-train) #index for test set\n",
        "y.test=y[test] #form test set"
      ],
      "execution_count": null,
      "outputs": []
    },
    {
      "cell_type": "markdown",
      "metadata": {
        "id": "9F8QNFmNetNN"
      },
      "source": [
        "Then estimate Ridge Regression and calculcate $MSE_{test}$. We first examine an arbitrary model that uses $\\lambda=4$"
      ]
    },
    {
      "cell_type": "code",
      "metadata": {
        "id": "4S5QgTTfetNO",
        "outputId": "474b7e9b-e231-4668-90ae-2e116f9aefd1"
      },
      "source": [
        "ridge.mod=glmnet(x[train,],y[train],alpha=0,lambda=grid,thresh=1e-12) #estimate ridge regression on training data\n",
        "ridge.pred=predict(ridge.mod,s=4,newx=x[test,]) #generate predicted values on test data using lambda=4 (note this use the predict funciton we wrote above)\n",
        "mean((ridge.pred-y.test)^2) #calculate the MSE on the test set"
      ],
      "execution_count": null,
      "outputs": [
        {
          "output_type": "display_data",
          "data": {
            "text/html": [
              "101036.832669597"
            ],
            "text/latex": "101036.832669597",
            "text/markdown": "101036.832669597",
            "text/plain": [
              "[1] 101036.8"
            ]
          },
          "metadata": {
            "tags": []
          }
        }
      ]
    },
    {
      "cell_type": "markdown",
      "metadata": {
        "id": "AR5-RnBAetNP"
      },
      "source": [
        "We can compare this to just using the mean of the training data to predict the test data (i.e. a model with just an intercept)"
      ]
    },
    {
      "cell_type": "code",
      "metadata": {
        "id": "txhKRRz_etNP",
        "outputId": "b3d57b2f-a155-4b84-a221-f304981120fd"
      },
      "source": [
        "mean((mean(y[train])-y.test)^2)"
      ],
      "execution_count": null,
      "outputs": [
        {
          "output_type": "display_data",
          "data": {
            "text/html": [
              "193253.113067991"
            ],
            "text/latex": "193253.113067991",
            "text/markdown": "193253.113067991",
            "text/plain": [
              "[1] 193253.1"
            ]
          },
          "metadata": {
            "tags": []
          }
        }
      ]
    },
    {
      "cell_type": "markdown",
      "metadata": {
        "id": "UTEceUxoetNQ"
      },
      "source": [
        "Or similarly, a model with a very strict penalty (very large $\\lambda$). This model is equivalent (it forces all other preditors to be near zero)."
      ]
    },
    {
      "cell_type": "code",
      "metadata": {
        "id": "IGKKWC0OetNQ",
        "outputId": "64a2b786-553b-4867-f8af-29a551ae6e93"
      },
      "source": [
        "ridge.pred=predict(ridge.mod,s=1e10,newx=x[test,])\n",
        "mean((ridge.pred-y.test)^2)"
      ],
      "execution_count": null,
      "outputs": [
        {
          "output_type": "display_data",
          "data": {
            "text/html": [
              "193253.05679545"
            ],
            "text/latex": "193253.05679545",
            "text/markdown": "193253.05679545",
            "text/plain": [
              "[1] 193253.1"
            ]
          },
          "metadata": {
            "tags": []
          }
        }
      ]
    },
    {
      "cell_type": "markdown",
      "metadata": {
        "id": "sZWGiQd-etNR"
      },
      "source": [
        "But why use $\\lambda=4$? It is just arbitrary. Instead we will use cross-validation to select $\\lambda$"
      ]
    },
    {
      "cell_type": "code",
      "metadata": {
        "id": "irw0RvlQetNR",
        "outputId": "bd1bdd98-07c7-4a0c-a8fa-075c33c3bcfd"
      },
      "source": [
        "set.seed(1) # the choice of folds is random, so we want to set the seed to get reproduible results\n",
        "cv.out=cv.glmnet(x[train,],y[train],alpha=0) #performs cross-validation, default is 10-fold\n",
        "plot(cv.out)\n",
        "bestlam=cv.out$lambda.min #find lambda with lowest MSE (cross-validation)\n",
        "bestlam"
      ],
      "execution_count": null,
      "outputs": [
        {
          "output_type": "display_data",
          "data": {
            "text/html": [
              "211.741586157249"
            ],
            "text/latex": "211.741586157249",
            "text/markdown": "211.741586157249",
            "text/plain": [
              "[1] 211.7416"
            ]
          },
          "metadata": {
            "tags": []
          }
        },
        {
          "output_type": "display_data",
          "data": {
            "image/png": "[encoded data removed]",
            "text/plain": [
              "plot without title"
            ]
          },
          "metadata": {
            "tags": []
          }
        }
      ]
    },
    {
      "cell_type": "markdown",
      "metadata": {
        "id": "6b57sGizetNT"
      },
      "source": [
        "What is the MSE associate with this $\\lambda$?"
      ]
    },
    {
      "cell_type": "code",
      "metadata": {
        "id": "ObGLCA7OetNT",
        "outputId": "91c371fb-5891-4355-e6f3-fd5a66722116"
      },
      "source": [
        "ridge.pred=predict(ridge.mod,s=bestlam,newx=x[test,])\n",
        "mean((ridge.pred-y.test)^2)"
      ],
      "execution_count": null,
      "outputs": [
        {
          "output_type": "display_data",
          "data": {
            "text/html": [
              "96015.5127234043"
            ],
            "text/latex": "96015.5127234043",
            "text/markdown": "96015.5127234043",
            "text/plain": [
              "[1] 96015.51"
            ]
          },
          "metadata": {
            "tags": []
          }
        }
      ]
    },
    {
      "cell_type": "markdown",
      "metadata": {
        "id": "KNw6Lg29etNU"
      },
      "source": [
        "The coefficients:"
      ]
    },
    {
      "cell_type": "code",
      "metadata": {
        "id": "-ezeRHN8etNU",
        "outputId": "789ce59d-bde9-48a2-b406-4edfcdd302a9"
      },
      "source": [
        "out=glmnet(x,y,alpha=0)\n",
        "predict(out,type=\"coefficients\",s=bestlam)[1:20,]"
      ],
      "execution_count": null,
      "outputs": [
        {
          "output_type": "display_data",
          "data": {
            "text/html": [
              "<dl class=dl-horizontal>\n",
              "\t<dt>(Intercept)</dt>\n",
              "\t\t<dd>9.88487157238253</dd>\n",
              "\t<dt>AtBat</dt>\n",
              "\t\t<dd>0.0314399131844729</dd>\n",
              "\t<dt>Hits</dt>\n",
              "\t\t<dd>1.00882874818155</dd>\n",
              "\t<dt>HmRun</dt>\n",
              "\t\t<dd>0.139276243456893</dd>\n",
              "\t<dt>Runs</dt>\n",
              "\t\t<dd>1.11320780926719</dd>\n",
              "\t<dt>RBI</dt>\n",
              "\t\t<dd>0.873189900798326</dd>\n",
              "\t<dt>Walks</dt>\n",
              "\t\t<dd>1.80410228912028</dd>\n",
              "\t<dt>Years</dt>\n",
              "\t\t<dd>0.130743832752472</dd>\n",
              "\t<dt>CAtBat</dt>\n",
              "\t\t<dd>0.0111397797842288</dd>\n",
              "\t<dt>CHits</dt>\n",
              "\t\t<dd>0.0648984330322593</dd>\n",
              "\t<dt>CHmRun</dt>\n",
              "\t\t<dd>0.451585461331905</dd>\n",
              "\t<dt>CRuns</dt>\n",
              "\t\t<dd>0.129000490214095</dd>\n",
              "\t<dt>CRBI</dt>\n",
              "\t\t<dd>0.137377116070628</dd>\n",
              "\t<dt>CWalks</dt>\n",
              "\t\t<dd>0.029085716494166</dd>\n",
              "\t<dt>LeagueN</dt>\n",
              "\t\t<dd>27.182275269699</dd>\n",
              "\t<dt>DivisionW</dt>\n",
              "\t\t<dd>-91.6341128175448</dd>\n",
              "\t<dt>PutOuts</dt>\n",
              "\t\t<dd>0.191492519536986</dd>\n",
              "\t<dt>Assists</dt>\n",
              "\t\t<dd>0.0425453621371751</dd>\n",
              "\t<dt>Errors</dt>\n",
              "\t\t<dd>-1.81244469566049</dd>\n",
              "\t<dt>NewLeagueN</dt>\n",
              "\t\t<dd>7.21208394173383</dd>\n",
              "</dl>\n"
            ],
            "text/latex": "\\begin{description*}\n\\item[(Intercept)] 9.88487157238253\n\\item[AtBat] 0.0314399131844729\n\\item[Hits] 1.00882874818155\n\\item[HmRun] 0.139276243456893\n\\item[Runs] 1.11320780926719\n\\item[RBI] 0.873189900798326\n\\item[Walks] 1.80410228912028\n\\item[Years] 0.130743832752472\n\\item[CAtBat] 0.0111397797842288\n\\item[CHits] 0.0648984330322593\n\\item[CHmRun] 0.451585461331905\n\\item[CRuns] 0.129000490214095\n\\item[CRBI] 0.137377116070628\n\\item[CWalks] 0.029085716494166\n\\item[LeagueN] 27.182275269699\n\\item[DivisionW] -91.6341128175448\n\\item[PutOuts] 0.191492519536986\n\\item[Assists] 0.0425453621371751\n\\item[Errors] -1.81244469566049\n\\item[NewLeagueN] 7.21208394173383\n\\end{description*}\n",
            "text/markdown": "(Intercept)\n:   9.88487157238253AtBat\n:   0.0314399131844729Hits\n:   1.00882874818155HmRun\n:   0.139276243456893Runs\n:   1.11320780926719RBI\n:   0.873189900798326Walks\n:   1.80410228912028Years\n:   0.130743832752472CAtBat\n:   0.0111397797842288CHits\n:   0.0648984330322593CHmRun\n:   0.451585461331905CRuns\n:   0.129000490214095CRBI\n:   0.137377116070628CWalks\n:   0.029085716494166LeagueN\n:   27.182275269699DivisionW\n:   -91.6341128175448PutOuts\n:   0.191492519536986Assists\n:   0.0425453621371751Errors\n:   -1.81244469566049NewLeagueN\n:   7.21208394173383\n\n",
            "text/plain": [
              " (Intercept)        AtBat         Hits        HmRun         Runs          RBI \n",
              "  9.88487157   0.03143991   1.00882875   0.13927624   1.11320781   0.87318990 \n",
              "       Walks        Years       CAtBat        CHits       CHmRun        CRuns \n",
              "  1.80410229   0.13074383   0.01113978   0.06489843   0.45158546   0.12900049 \n",
              "        CRBI       CWalks      LeagueN    DivisionW      PutOuts      Assists \n",
              "  0.13737712   0.02908572  27.18227527 -91.63411282   0.19149252   0.04254536 \n",
              "      Errors   NewLeagueN \n",
              " -1.81244470   7.21208394 "
            ]
          },
          "metadata": {
            "tags": []
          }
        }
      ]
    },
    {
      "cell_type": "markdown",
      "metadata": {
        "id": "GudiywxPetNW"
      },
      "source": [
        "Note that none of the coefficeints are zero! Ridge regression does not perform variable selection."
      ]
    },
    {
      "cell_type": "markdown",
      "metadata": {
        "id": "0jELYf38etNW"
      },
      "source": [
        "### LASSO"
      ]
    },
    {
      "cell_type": "code",
      "metadata": {
        "id": "PsTm2CfMetNW",
        "outputId": "28082ca5-034f-496d-95fb-40860f5f26ae"
      },
      "source": [
        "lasso.mod=glmnet(x[train,],y[train],alpha=1,lambda=grid)\n",
        "plot(lasso.mod)"
      ],
      "execution_count": null,
      "outputs": [
        {
          "output_type": "display_data",
          "data": {
            "image/png": "[encoded data removed]",
            "text/plain": [
              "plot without title"
            ]
          },
          "metadata": {
            "tags": []
          }
        }
      ]
    },
    {
      "cell_type": "code",
      "metadata": {
        "id": "WCJn3IrtetNX",
        "outputId": "bc41eef7-d756-464e-f56c-695454c360b2"
      },
      "source": [
        "set.seed(1)\n",
        "cv.out=cv.glmnet(x[train,],y[train],alpha=1)\n",
        "plot(cv.out)\n",
        "bestlam=cv.out$lambda.min\n",
        "lasso.pred=predict(lasso.mod,s=bestlam,newx=x[test,])\n",
        "mean((lasso.pred-y.test)^2)"
      ],
      "execution_count": null,
      "outputs": [
        {
          "output_type": "display_data",
          "data": {
            "text/html": [
              "100743.446221539"
            ],
            "text/latex": "100743.446221539",
            "text/markdown": "100743.446221539",
            "text/plain": [
              "[1] 100743.4"
            ]
          },
          "metadata": {
            "tags": []
          }
        },
        {
          "output_type": "display_data",
          "data": {
            "image/png": "[encoded data removed]",
            "text/plain": [
              "plot without title"
            ]
          },
          "metadata": {
            "tags": []
          }
        }
      ]
    },
    {
      "cell_type": "markdown",
      "metadata": {
        "id": "zXrxezqNetNY"
      },
      "source": [
        "This is substantially smaller than the null model, and close to the test error from ridge regression "
      ]
    },
    {
      "cell_type": "code",
      "metadata": {
        "id": "OKvSA1CmetNY",
        "outputId": "eae654a0-9abc-437b-a6f2-6fefc4d0b20a"
      },
      "source": [
        "out=glmnet(x,y,alpha=1,lambda=grid)\n",
        "lasso.coef=predict(out,type=\"coefficients\",s=bestlam)[1:20,]\n",
        "lasso.coef"
      ],
      "execution_count": null,
      "outputs": [
        {
          "output_type": "display_data",
          "data": {
            "text/html": [
              "<dl class=dl-horizontal>\n",
              "\t<dt>(Intercept)</dt>\n",
              "\t\t<dd>18.5394843700404</dd>\n",
              "\t<dt>AtBat</dt>\n",
              "\t\t<dd>0</dd>\n",
              "\t<dt>Hits</dt>\n",
              "\t\t<dd>1.87353897868797</dd>\n",
              "\t<dt>HmRun</dt>\n",
              "\t\t<dd>0</dd>\n",
              "\t<dt>Runs</dt>\n",
              "\t\t<dd>0</dd>\n",
              "\t<dt>RBI</dt>\n",
              "\t\t<dd>0</dd>\n",
              "\t<dt>Walks</dt>\n",
              "\t\t<dd>2.21784439442808</dd>\n",
              "\t<dt>Years</dt>\n",
              "\t\t<dd>0</dd>\n",
              "\t<dt>CAtBat</dt>\n",
              "\t\t<dd>0</dd>\n",
              "\t<dt>CHits</dt>\n",
              "\t\t<dd>0</dd>\n",
              "\t<dt>CHmRun</dt>\n",
              "\t\t<dd>0</dd>\n",
              "\t<dt>CRuns</dt>\n",
              "\t\t<dd>0.207125172948793</dd>\n",
              "\t<dt>CRBI</dt>\n",
              "\t\t<dd>0.413013208899728</dd>\n",
              "\t<dt>CWalks</dt>\n",
              "\t\t<dd>0</dd>\n",
              "\t<dt>LeagueN</dt>\n",
              "\t\t<dd>3.26666772880497</dd>\n",
              "\t<dt>DivisionW</dt>\n",
              "\t\t<dd>-103.484545814138</dd>\n",
              "\t<dt>PutOuts</dt>\n",
              "\t\t<dd>0.220428413476128</dd>\n",
              "\t<dt>Assists</dt>\n",
              "\t\t<dd>0</dd>\n",
              "\t<dt>Errors</dt>\n",
              "\t\t<dd>0</dd>\n",
              "\t<dt>NewLeagueN</dt>\n",
              "\t\t<dd>0</dd>\n",
              "</dl>\n"
            ],
            "text/latex": "\\begin{description*}\n\\item[(Intercept)] 18.5394843700404\n\\item[AtBat] 0\n\\item[Hits] 1.87353897868797\n\\item[HmRun] 0\n\\item[Runs] 0\n\\item[RBI] 0\n\\item[Walks] 2.21784439442808\n\\item[Years] 0\n\\item[CAtBat] 0\n\\item[CHits] 0\n\\item[CHmRun] 0\n\\item[CRuns] 0.207125172948793\n\\item[CRBI] 0.413013208899728\n\\item[CWalks] 0\n\\item[LeagueN] 3.26666772880497\n\\item[DivisionW] -103.484545814138\n\\item[PutOuts] 0.220428413476128\n\\item[Assists] 0\n\\item[Errors] 0\n\\item[NewLeagueN] 0\n\\end{description*}\n",
            "text/markdown": "(Intercept)\n:   18.5394843700404AtBat\n:   0Hits\n:   1.87353897868797HmRun\n:   0Runs\n:   0RBI\n:   0Walks\n:   2.21784439442808Years\n:   0CAtBat\n:   0CHits\n:   0CHmRun\n:   0CRuns\n:   0.207125172948793CRBI\n:   0.413013208899728CWalks\n:   0LeagueN\n:   3.26666772880497DivisionW\n:   -103.484545814138PutOuts\n:   0.220428413476128Assists\n:   0Errors\n:   0NewLeagueN\n:   0\n\n",
            "text/plain": [
              " (Intercept)        AtBat         Hits        HmRun         Runs          RBI \n",
              "  18.5394844    0.0000000    1.8735390    0.0000000    0.0000000    0.0000000 \n",
              "       Walks        Years       CAtBat        CHits       CHmRun        CRuns \n",
              "   2.2178444    0.0000000    0.0000000    0.0000000    0.0000000    0.2071252 \n",
              "        CRBI       CWalks      LeagueN    DivisionW      PutOuts      Assists \n",
              "   0.4130132    0.0000000    3.2666677 -103.4845458    0.2204284    0.0000000 \n",
              "      Errors   NewLeagueN \n",
              "   0.0000000    0.0000000 "
            ]
          },
          "metadata": {
            "tags": []
          }
        }
      ]
    },
    {
      "cell_type": "markdown",
      "metadata": {
        "id": "NZNg_7zbetNZ"
      },
      "source": [
        "12 of 19 coefficents now have an estimate of zero.\n",
        "The LASSO is *sparse* compared to ridge regression, and only contains seven variables."
      ]
    }
  ]
}