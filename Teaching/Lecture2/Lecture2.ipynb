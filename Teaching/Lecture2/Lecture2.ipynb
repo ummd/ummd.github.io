{
  "nbformat": 4,
  "nbformat_minor": 0,
  "metadata": {
    "kernelspec": {
      "display_name": "R",
      "language": "R",
      "name": "ir"
    },
    "language_info": {
      "codemirror_mode": "r",
      "file_extension": ".r",
      "mimetype": "text/x-r-source",
      "name": "R",
      "pygments_lexer": "r",
      "version": "3.5.0"
    },
    "colab": {
      "name": "Lecture2.ipynb",
      "provenance": []
    }
  },
  "cells": [
    {
      "cell_type": "markdown",
      "metadata": {
        "id": "NbSobJ5sONjV"
      },
      "source": [
        "# Lecture 2\n",
        "\n",
        "## The MSE of an estimate (e.g. the case of the sample mean)\n",
        "\n",
        "This example will demonstrate the formula for the Expected Mean Squared Error of a model on a test sample.\n",
        "\n",
        "$$EMSE = E[y_0 - \\hat f(x_0)]^2 = \\text{Var}(\\hat f(x_0) + [\\text{Bias}(\\hat f(x_0))]^2 +\\text{Var}(\\epsilon)$$\n",
        "\n",
        "The Expected $MSE_{test}$ describes the prediction properties of a model if we could fit it to a very large number of independent samples. We could calculate MSE for each sample, and then average it performance across samples.\n",
        "\n",
        "We will consider a simple task: predicting a draw from the standard normal distribution (i.e. $\\mu$=0, $\\sigma^2$=1).\n",
        "\n",
        "So our model is:\n",
        "\n",
        "$$y_i = \\mu+ \\epsilon_i, \\quad \\epsilon_i\\sim\\mathcal{N}(0,\\sigma^2)$$\n",
        "\n",
        "To do this, we will want to estimate the population mean $\\mu$ with the sample mean. Our estimate is therefore\n",
        "\n",
        "$$\\hat{\\mu} = \\frac{1}{n} \\sum_{i=1}^n y_i $$\n",
        "\n",
        "The Expected MSE is therefore:\n",
        "\n",
        "$$E[y_0 - \\hat \\mu]^2 = \\text{Var}(\\hat \\mu) + [\\text{Bias}(\\hat \\mu)]^2 +\\text{Var}(\\epsilon)$$\n",
        "\n",
        "For explanatory purposes, we will only draw $S<\\infty$ samples of $n<\\infty$ observations. Though this isn't ideal, we can't simulate infinite datasets, so it's the best we can do with a computer!\n",
        "\n",
        "You can change $S$ and $n$ to examine their properties."
      ]
    },
    {
      "cell_type": "code",
      "metadata": {
        "id": "oBISPzY7ONjW"
      },
      "source": [
        "S <- 10000 #number of samples\n",
        "n <- 100 #number of observations per sample\n",
        "\n",
        "set.seed(1) # set the random number seed for conistent results\n",
        "\n",
        "y <- replicate(S,rnorm(n,mean=0,sd=1)) #draw S samples from the standard normal distribution, each of size n. Each sample is a column of y.\n",
        "samplemeans <- colMeans(y) #take the sample means of each column (sample)."
      ],
      "execution_count": 24,
      "outputs": []
    },
    {
      "cell_type": "markdown",
      "metadata": {
        "id": "wVOE-3L6ONjb"
      },
      "source": [
        "Notice that each sample mean is different. This is due to the randomness in each of the training samples. We can see this in a histogram."
      ]
    },
    {
      "cell_type": "code",
      "metadata": {
        "id": "3BH5PBHRONjc",
        "colab": {
          "base_uri": "https://localhost:8080/",
          "height": 457
        },
        "outputId": "2177448e-0e2c-40cb-aba7-27b7bcf04f7a"
      },
      "source": [
        "hist(samplemeans)"
      ],
      "execution_count": 25,
      "outputs": [
        {
          "output_type": "display_data",
          "data": {
            "text/plain": [
              "Plot with title “Histogram of samplemeans”"
            ],
            "image/png": "[encoded data removed]"
          },
          "metadata": {
            "image/png": {
              "width": 420,
              "height": 420
            }
          }
        }
      ]
    },
    {
      "cell_type": "markdown",
      "source": [
        "### Calculating $MSE_{test}$\n",
        "\n",
        "Now that we have an estiamte of the sample mean, we can use it to predict a new observation, $y_0$, from the same standard normal distribution.\n",
        "\n",
        "To calculate our expected MSE, we want to average this MSE across a large number of samples of our test observation."
      ],
      "metadata": {
        "id": "EgX7HQilFckN"
      }
    },
    {
      "cell_type": "code",
      "source": [
        "y0 <- rnorm(S) #take a many test samples to assess prediction."
      ],
      "metadata": {
        "id": "PYio-QpfFbNq"
      },
      "execution_count": 26,
      "outputs": []
    },
    {
      "cell_type": "markdown",
      "source": [
        "and calculate the average $MSE_{test}$"
      ],
      "metadata": {
        "id": "bsYkNxKMGKNY"
      }
    },
    {
      "cell_type": "code",
      "source": [
        "mean((y0-samplemeans)^2)"
      ],
      "metadata": {
        "id": "igmmd_Q9GJXc",
        "outputId": "29178fe5-1bed-4402-c10a-d0e4fd6ecda3",
        "colab": {
          "base_uri": "https://localhost:8080/",
          "height": 54
        }
      },
      "execution_count": 27,
      "outputs": [
        {
          "output_type": "display_data",
          "data": {
            "text/html": [
              "1.00841909886945"
            ],
            "text/markdown": "1.00841909886945",
            "text/latex": "1.00841909886945",
            "text/plain": [
              "[1] 1.008419"
            ]
          },
          "metadata": {}
        }
      ]
    },
    {
      "cell_type": "markdown",
      "source": [
        "As the number of samples $S$ become large, this will verify the Expected Mean Squared Error equation.\n",
        "\n",
        "\\begin{align}\n",
        "EMSE_{test} = E[y_0 - \\hat \\mu]^2 &= \\text{Var}(\\hat \\mu) + [\\text{Bias}(\\hat \\mu)]^2+\\text{Var}(\\epsilon)\n",
        "\\end{align}\n",
        "Let's do that now..."
      ],
      "metadata": {
        "id": "nfauvIJ1HRCr"
      }
    },
    {
      "cell_type": "markdown",
      "metadata": {
        "id": "iJURSh4gONjf"
      },
      "source": [
        "### The sample mean is unbiased\n",
        "The average sample mean is very close to the true mean of 0."
      ]
    },
    {
      "cell_type": "code",
      "metadata": {
        "id": "YvCwb-CXONjg",
        "colab": {
          "base_uri": "https://localhost:8080/",
          "height": 34
        },
        "outputId": "ad121b17-6783-4cd8-f9b4-6a929c7f7368"
      },
      "source": [
        "mean(samplemeans)"
      ],
      "execution_count": null,
      "outputs": [
        {
          "output_type": "display_data",
          "data": {
            "text/plain": [
              "[1] 4.690776e-05"
            ],
            "text/latex": "4.6907759533364e-05",
            "text/markdown": "4.6907759533364e-05",
            "text/html": [
              "4.6907759533364e-05"
            ]
          },
          "metadata": {
            "tags": []
          }
        }
      ]
    },
    {
      "cell_type": "markdown",
      "metadata": {
        "id": "ZZyNSiC_ONji"
      },
      "source": [
        "If we had infinite observations per sample (try say, $n=1000000$), it would be even closer."
      ]
    },
    {
      "cell_type": "markdown",
      "metadata": {
        "id": "ndv4kS0XONjj"
      },
      "source": [
        "You might recall from your stats course that\n",
        "\n",
        "\\begin{align} E[\\hat{\\mu}]&=E\\left[\\frac{1}{n} \\sum_{i=1}^n y_i \\right]\\\\ &= \\frac{1}{n} \\sum_{i=1}^n E\\left[y_i\\right]\\\\  &= \\frac{1}{n} \\sum_{i=1}^n E\\left[\\mu + \\epsilon_i\\right]\\\\\n",
        "&= \\frac{1}{n} \\sum_{i=1}^n \\left(E\\left[\\mu\\right]  + E\\left[\\epsilon_i\\right]\\right) \\\\\n",
        "&= \\frac{1}{n} \\sum_{i=1}^n \\left(\\mu  + 0 \\right)\\\\\n",
        "&= \\frac{1}{n} n \\mu  \\\\&=\\mu,\\end{align}\n",
        "since $E[\\epsilon_i]=0$.\n",
        "\n",
        "This is the definition of an *unbiased estimate*. For any parameter $\\beta$, its estimate $\\hat\\beta$ is unbiased if: $$E[\\hat\\beta]=\\beta$$\n",
        "\n",
        "So $\\text{Bias}[\\hat \\mu]=0$. This simplifies the equation for $EMSE_{test}=\\text{Var}(\\hat \\mu) +\\text{Var}(\\epsilon)$"
      ]
    },
    {
      "cell_type": "markdown",
      "metadata": {
        "id": "6zZjW77nONjj"
      },
      "source": [
        "### Variance of sample mean\n",
        "\n",
        "There is a formula for the sample variance of all of our sample means (recall your intro stats course).\n",
        "\n",
        "The sample variance will approach $\\text{Var}(\\hat\\mu)=\\frac{\\sigma^2}{n}$ as the number of samples $S$ gets large.\n",
        "\n",
        "For $\\sigma=1$ and a sample of size n=100, $\\text{Var}(\\hat\\mu)=\\frac{1^2}{n}=0.01$"
      ]
    },
    {
      "cell_type": "code",
      "metadata": {
        "id": "dDy7seijONjj",
        "colab": {
          "base_uri": "https://localhost:8080/",
          "height": 34
        },
        "outputId": "9be569b2-76e6-497c-bc05-774c0ade7d84"
      },
      "source": [
        "1/n"
      ],
      "execution_count": null,
      "outputs": [
        {
          "output_type": "display_data",
          "data": {
            "text/plain": [
              "[1] 0.01"
            ],
            "text/latex": "0.01",
            "text/markdown": "0.01",
            "text/html": [
              "0.01"
            ]
          },
          "metadata": {
            "tags": []
          }
        }
      ]
    },
    {
      "cell_type": "code",
      "metadata": {
        "id": "RZT5l0AAONjl",
        "colab": {
          "base_uri": "https://localhost:8080/",
          "height": 34
        },
        "outputId": "d2f7b727-3ba2-4fed-b4b3-70df4fad0f3a"
      },
      "source": [
        "var(samplemeans)"
      ],
      "execution_count": null,
      "outputs": [
        {
          "output_type": "display_data",
          "data": {
            "text/plain": [
              "[1] 0.009928185"
            ],
            "text/latex": "0.00992818539230375",
            "text/markdown": "0.00992818539230375",
            "text/html": [
              "0.00992818539230375"
            ]
          },
          "metadata": {
            "tags": []
          }
        }
      ]
    },
    {
      "cell_type": "markdown",
      "metadata": {
        "id": "NvMYrcG9ONjq"
      },
      "source": [
        "As the number of samples $S$ become large, this will verify the Expected Mean Squared Error equation.\n",
        "\n",
        "\\begin{align}\n",
        "EMSE_{test} = E[y_0 - \\hat \\mu]^2 &= \\text{Var}(\\hat \\mu) +\\text{Var}(\\epsilon)\\\\\n",
        "&=\\frac{\\sigma^2}{n} + \\sigma^2\\\\\n",
        "&=\\frac{1}{n} + 1.\n",
        "\\end{align}"
      ]
    },
    {
      "cell_type": "code",
      "metadata": {
        "id": "t6GRZzOPONjr",
        "colab": {
          "base_uri": "https://localhost:8080/",
          "height": 34
        },
        "outputId": "5feaa330-c36e-4ee0-8385-211f55aaf66d"
      },
      "source": [
        "1/n + 1"
      ],
      "execution_count": null,
      "outputs": [
        {
          "output_type": "display_data",
          "data": {
            "text/plain": [
              "[1] 1.01"
            ],
            "text/latex": "1.01",
            "text/markdown": "1.01",
            "text/html": [
              "1.01"
            ]
          },
          "metadata": {
            "tags": []
          }
        }
      ]
    },
    {
      "cell_type": "markdown",
      "metadata": {
        "id": "9l3BVSqpONjs"
      },
      "source": [
        "\n",
        "However, because we can't simulate infinite samples (like the equation requires) the calculated average $MSE_{test}$ will fluctuate around $EMSE_{test}$. Sometimes, it might even be a tad bit smaller than $\\text{Var}(\\epsilon)=1$ when $n$ is large. Try this for yourself!"
      ]
    }
  ]
}