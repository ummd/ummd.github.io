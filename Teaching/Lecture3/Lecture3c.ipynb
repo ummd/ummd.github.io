{
  "cells": [
    {
      "cell_type": "markdown",
      "metadata": {
        "id": "YKsRBmpqAmuS"
      },
      "source": [
        "# Lecture 3c\n",
        "\n",
        "## Test Statistics\n",
        "\n",
        "This example will demonstrate the statistical properties of the test statistic\n",
        "\n",
        "$$t = \\frac{\\hat\\beta - \\beta_{\\text{null}}}{\\text{SE}(\\hat\\beta)}$$\n"
      ]
    },
    {
      "cell_type": "markdown",
      "metadata": {
        "id": "4v2KyxOPAmuT"
      },
      "source": [
        "## The Statistical Properties of test statistic under the NULL hypothesis\n",
        "\n",
        "This example will demonstrate the distribution of the test statistic under the null hypothesis $\\beta_0=0$, $\\beta_1=0$\n",
        "\n",
        "**i.e. what would the estimates look like if the null were true?**\n"
      ]
    },
    {
      "cell_type": "code",
      "execution_count": null,
      "metadata": {
        "id": "JNaH9ov7AmuU"
      },
      "outputs": [],
      "source": [
        "set.seed(1)\n",
        "\n",
        "S <- 1000 #number of samples\n",
        "n <- 100 #number of observations per sample\n",
        "\n",
        "b0 <- 0\n",
        "b1 <- 0\n",
        "\n",
        "e <- replicate(S,rnorm(n)) #draw S samples\n",
        "\n",
        "x <- 1:n\n",
        "\n",
        "y <- b0 + b1*x + e\n",
        "\n",
        "bh=matrix(,2,S) #initialize matrix to store estimates of beta\n",
        "seh=matrix(,2,S) #initialize matrix to store estimates of beta\n",
        "\n",
        "for (s in 1:S){\n",
        "    lm.fit=lm(y[,s]~x) # estimate the linear model on the sample s.\n",
        "    bh[1:2,s] <- coef(lm.fit)   #store the estimates\n",
        "    seh[1:2,s] <- sqrt(diag(vcov(lm.fit)))   #store the standard errors\n",
        "}\n",
        "\n",
        "t0=bh[1,]/seh[1,]\n",
        "t1=bh[2,]/seh[2,]"
      ]
    },
    {
      "cell_type": "markdown",
      "metadata": {
        "id": "A-0mphC5AmuV"
      },
      "source": [
        "Notice that each test statistic is different. This is due to the randomness in each of the training samples. We can see this in histograms for $t_0$ and $t_1$."
      ]
    },
    {
      "cell_type": "code",
      "execution_count": null,
      "metadata": {
        "id": "U_SERVmAAmuV",
        "outputId": "689dba99-1bcb-4d64-f964-ea602fa458da"
      },
      "outputs": [
        {
          "data": {
            "image/png": "[encoded data removed]",
            "text/plain": [
              "Plot with title “Histogram of t0”"
            ]
          },
          "metadata": {},
          "output_type": "display_data"
        }
      ],
      "source": [
        "hist(t0)"
      ]
    },
    {
      "cell_type": "code",
      "execution_count": null,
      "metadata": {
        "id": "7eKSpFaCAmuW",
        "outputId": "b388cd30-3688-4666-91cd-1826c7cc381f"
      },
      "outputs": [
        {
          "data": {
            "image/png": "[encoded data removed]",
            "text/plain": [
              "Plot with title “Histogram of t1”"
            ]
          },
          "metadata": {},
          "output_type": "display_data"
        }
      ],
      "source": [
        "hist(t1)"
      ]
    },
    {
      "cell_type": "markdown",
      "metadata": {
        "id": "uUfqH40nAmuX"
      },
      "source": [
        "Notice that there is some probability that the test-statisic, by chance, is out in the tail of this distribution!\n",
        "\n",
        "For example, in roughly 5% of the sample, the test statistic is larger than 1.96. As the number of samples in our simulation goes to infinity, this number will approach 0.05 (try it by changing S above!)."
      ]
    },
    {
      "cell_type": "code",
      "execution_count": null,
      "metadata": {
        "id": "8yBGEjL1AmuX",
        "outputId": "da42adfc-e572-48e4-958c-bccff14dae57"
      },
      "outputs": [
        {
          "data": {
            "text/html": [
              "0.055"
            ],
            "text/latex": [
              "0.055"
            ],
            "text/markdown": [
              "0.055"
            ],
            "text/plain": [
              "[1] 0.055"
            ]
          },
          "metadata": {},
          "output_type": "display_data"
        }
      ],
      "source": [
        "mean(abs(t1)>1.96)"
      ]
    },
    {
      "cell_type": "markdown",
      "metadata": {
        "id": "9ZtYFLCwAmuY"
      },
      "source": [
        "This is a demonstartion of how a 0.05 level hypothesis test will *incorrectly* reject a true null hypothesis 0.05 of the time. This is called a Type I Error."
      ]
    },
    {
      "cell_type": "markdown",
      "metadata": {
        "id": "Ul9xIrz-AmuY"
      },
      "source": [
        "## The Statistical Properties of the test statistic under the ALTERNATIVE hypothesis\n",
        "\n",
        "This example will demonstrate the distribution of the test statistic under an alternative hypothesis $\\beta_0=0$, $\\beta_1=0.15$\n",
        "\n",
        "**i.e., what would the test statistics look like if the alternative were true?**"
      ]
    },
    {
      "cell_type": "code",
      "execution_count": null,
      "metadata": {
        "id": "hllGunPcAmuY"
      },
      "outputs": [],
      "source": [
        "set.seed(1)\n",
        "S <- 1000 #number of samples\n",
        "n <- 100 #number of observations per sample\n",
        "\n",
        "b0 <- 0\n",
        "b1 <- .015 #the alternative is true, b1 is not 0\n",
        "\n",
        "e <- replicate(S,rnorm(n)) #draw S samples\n",
        "\n",
        "x <- 1:n\n",
        "\n",
        "y <- b0 + b1*x + e\n",
        "\n",
        "t0_alt=matrix(,1,S) #initialize matrix to store tstat for beta_1\n",
        "t1_alt=matrix(,1,S) #initialize matrix to store tstat for beta_2\n",
        "\n",
        "for (s in 1:S){\n",
        "    lm.fit=lm(y[,s]~x) # estimate the linear model on the sample s.\n",
        "    t0_alt[,s] <- summary(lm.fit)$coefficients[1,3]   #store the tstat for beta_0\n",
        "    t1_alt[,s] <- summary(lm.fit)$coefficients[2,3]   #store the tstats for beta_1\n",
        "}\n",
        "\n"
      ]
    },
    {
      "cell_type": "code",
      "execution_count": null,
      "metadata": {
        "id": "D7zG-HlGAmuZ",
        "outputId": "4afcc2c9-739f-4447-bcb3-bdc210bb7afe"
      },
      "outputs": [
        {
          "data": {
            "text/plain": [
              "\n",
              "Call:\n",
              "lm(formula = y[, s] ~ x)\n",
              "\n",
              "Residuals:\n",
              "    Min      1Q  Median      3Q     Max \n",
              "-3.2229 -0.8001  0.1769  0.8318  2.3073 \n",
              "\n",
              "Coefficients:\n",
              "            Estimate Std. Error t value Pr(>|t|)    \n",
              "(Intercept) 0.020570   0.238411   0.086 0.931420    \n",
              "x           0.014995   0.004099   3.659 0.000411 ***\n",
              "---\n",
              "Signif. codes:  0 ‘***’ 0.001 ‘**’ 0.01 ‘*’ 0.05 ‘.’ 0.1 ‘ ’ 1\n",
              "\n",
              "Residual standard error: 1.183 on 98 degrees of freedom\n",
              "Multiple R-squared:  0.1202,\tAdjusted R-squared:  0.1112 \n",
              "F-statistic: 13.38 on 1 and 98 DF,  p-value: 0.0004106\n"
            ]
          },
          "metadata": {},
          "output_type": "display_data"
        }
      ],
      "source": [
        "summary(lm.fit) #report the linear fit of the last sample"
      ]
    },
    {
      "cell_type": "markdown",
      "metadata": {
        "id": "ZI5_MMSbAmuZ"
      },
      "source": [
        "Notice that the linear fit does a good job of estimating the coefficients.\n",
        "\n",
        "We can now plot the test statistics from each of the samples:"
      ]
    },
    {
      "cell_type": "code",
      "execution_count": null,
      "metadata": {
        "id": "bxT4nJNwAmuZ",
        "outputId": "4e68d403-8d02-4363-c0da-2a01890ae749"
      },
      "outputs": [
        {
          "data": {
            "image/png": "[encoded data removed]",
            "text/plain": [
              "Plot with title “Histogram of t1_alt”"
            ]
          },
          "metadata": {},
          "output_type": "display_data"
        }
      ],
      "source": [
        "hist(t1_alt)"
      ]
    },
    {
      "cell_type": "markdown",
      "metadata": {
        "id": "XALm-H5-AmuZ"
      },
      "source": [
        "Notice how this distribution is shifted far to the right (compared to the distribution under the null)?\n",
        "\n",
        "**When the alternative is true**, you should expect the test statistic from any given sample to lie above 1.96.\n",
        "\n",
        "To verify this, we can calculate the p-values (for the null hypothesis $\\beta_1=0$) for each sample:"
      ]
    },
    {
      "cell_type": "code",
      "execution_count": null,
      "metadata": {
        "id": "7h1dAItLAmuZ",
        "outputId": "5db89390-6ff1-4a79-b658-848690e5a540"
      },
      "outputs": [
        {
          "data": {
            "text/html": [
              "<table>\n",
              "<tbody>\n",
              "\t<tr><td>1.027337e-05</td><td>7.160618e-06</td><td>2.996065e-05</td><td>0.0005280386</td><td>0.0001172577</td><td>1.648131e-06</td><td>0.002272782 </td><td>0.0002449847</td><td>3.966145e-05</td><td>0.001058714 </td><td>⋯           </td><td>0.0007348698</td><td>0.001633262 </td><td>0.000502266 </td><td>1.798428e-05</td><td>0.001888997 </td><td>9.836081e-05</td><td>1.304959e-06</td><td>7.26084e-09 </td><td>0.00200108  </td><td>0.0004106434</td></tr>\n",
              "</tbody>\n",
              "</table>\n"
            ],
            "text/latex": [
              "\\begin{tabular}{llllllllllllllllllllllllllllllllllllllllllllllllllllllllllllllllllllllllllllllllllllllllllllllllllllllllllllllllllllllllllllllllllllllllllllllllllllllllllllllllllllllllllllllllllllllllllllllllllllllllllllllllllllllllllllllllllllllllllllllllllllllllllllllllllllllllllllllllllllllllllllllllllllllllllllllllllllllllllllllllllllllllllllllllllllllllllllllllllllllllllllllllllllllllllllllllllllllllllllllllllllllllllllllllllllllllllllllllllllllllllllllllllllllllllllllllllllllllllllllllllllllllllllllllllllllllllllllllllllllllllllllllllllllllllllllllllllllllllllllllllllllllllllllllllllllllllllllllllllllllllllllllllllllllllllllllllllllllllllllllllllllllllllllllllllllllllllllllllllllllllllllllllllllllllllllllllllllllllllllllllllllllllllllllllllllllllllllllllllllllllllllllllllllllllllllllllllllllllllllllllllllllllllllllllllllllllllllllllllllllllllllllllllllllllllllllllllllllllllllllllllllllllllllllllllllllllllllllllllllllllllllllllllllllllllllllllllllllllllllllllllllllllllllllllllllllllllllllllllllll}\n",
              "\t 1.027337e-05 & 7.160618e-06 & 2.996065e-05 & 0.0005280386 & 0.0001172577 & 1.648131e-06 & 0.002272782  & 0.0002449847 & 3.966145e-05 & 0.001058714  & ⋯            & 0.0007348698 & 0.001633262  & 0.000502266  & 1.798428e-05 & 0.001888997  & 9.836081e-05 & 1.304959e-06 & 7.26084e-09  & 0.00200108   & 0.0004106434\\\\\n",
              "\\end{tabular}\n"
            ],
            "text/markdown": [
              "\n",
              "| 1.027337e-05 | 7.160618e-06 | 2.996065e-05 | 0.0005280386 | 0.0001172577 | 1.648131e-06 | 0.002272782  | 0.0002449847 | 3.966145e-05 | 0.001058714  | ⋯            | 0.0007348698 | 0.001633262  | 0.000502266  | 1.798428e-05 | 0.001888997  | 9.836081e-05 | 1.304959e-06 | 7.26084e-09  | 0.00200108   | 0.0004106434 | \n",
              "\n",
              "\n"
            ],
            "text/plain": [
              "     [,1]         [,2]         [,3]         [,4]         [,5]        \n",
              "[1,] 1.027337e-05 7.160618e-06 2.996065e-05 0.0005280386 0.0001172577\n",
              "     [,6]         [,7]        [,8]         [,9]         [,10]       [,11]\n",
              "[1,] 1.648131e-06 0.002272782 0.0002449847 3.966145e-05 0.001058714 ⋯    \n",
              "     [,12]        [,13]       [,14]       [,15]        [,16]       [,17]       \n",
              "[1,] 0.0007348698 0.001633262 0.000502266 1.798428e-05 0.001888997 9.836081e-05\n",
              "     [,18]        [,19]       [,20]      [,21]       \n",
              "[1,] 1.304959e-06 7.26084e-09 0.00200108 0.0004106434"
            ]
          },
          "metadata": {},
          "output_type": "display_data"
        }
      ],
      "source": [
        "pvals <-2*(1-pt(abs(t1_alt),98)) #calculate the pvalues for the test statisics under the null hypothesis, when the alternative is true\n",
        "pvals"
      ]
    },
    {
      "cell_type": "markdown",
      "metadata": {
        "id": "9KGjygk3Amua"
      },
      "source": [
        "Almost all of them reject"
      ]
    },
    {
      "cell_type": "code",
      "execution_count": null,
      "metadata": {
        "id": "EO60SBYbAmua",
        "outputId": "a173bf95-f4ee-47cd-859a-2b991d8b6b16"
      },
      "outputs": [
        {
          "data": {
            "text/html": [
              "<table>\n",
              "<tbody>\n",
              "\t<tr><td>TRUE</td><td>TRUE</td><td>TRUE</td><td>TRUE</td><td>TRUE</td><td>TRUE</td><td>TRUE</td><td>TRUE</td><td>TRUE</td><td>TRUE</td><td>⋯   </td><td>TRUE</td><td>TRUE</td><td>TRUE</td><td>TRUE</td><td>TRUE</td><td>TRUE</td><td>TRUE</td><td>TRUE</td><td>TRUE</td><td>TRUE</td></tr>\n",
              "</tbody>\n",
              "</table>\n"
            ],
            "text/latex": [
              "\\begin{tabular}{llllllllllllllllllllllllllllllllllllllllllllllllllllllllllllllllllllllllllllllllllllllllllllllllllllllllllllllllllllllllllllllllllllllllllllllllllllllllllllllllllllllllllllllllllllllllllllllllllllllllllllllllllllllllllllllllllllllllllllllllllllllllllllllllllllllllllllllllllllllllllllllllllllllllllllllllllllllllllllllllllllllllllllllllllllllllllllllllllllllllllllllllllllllllllllllllllllllllllllllllllllllllllllllllllllllllllllllllllllllllllllllllllllllllllllllllllllllllllllllllllllllllllllllllllllllllllllllllllllllllllllllllllllllllllllllllllllllllllllllllllllllllllllllllllllllllllllllllllllllllllllllllllllllllllllllllllllllllllllllllllllllllllllllllllllllllllllllllllllllllllllllllllllllllllllllllllllllllllllllllllllllllllllllllllllllllllllllllllllllllllllllllllllllllllllllllllllllllllllllllllllllllllllllllllllllllllllllllllllllllllllllllllllllllllllllllllllllllllllllllllllllllllllllllllllllllllllllllllllllllllllllllllllllllllllllllllllllllllllllllllllllllllllllllllllllllllllllllllllllll}\n",
              "\t TRUE & TRUE & TRUE & TRUE & TRUE & TRUE & TRUE & TRUE & TRUE & TRUE & ⋯    & TRUE & TRUE & TRUE & TRUE & TRUE & TRUE & TRUE & TRUE & TRUE & TRUE\\\\\n",
              "\\end{tabular}\n"
            ],
            "text/markdown": [
              "\n",
              "| TRUE | TRUE | TRUE | TRUE | TRUE | TRUE | TRUE | TRUE | TRUE | TRUE | ⋯    | TRUE | TRUE | TRUE | TRUE | TRUE | TRUE | TRUE | TRUE | TRUE | TRUE | \n",
              "\n",
              "\n"
            ],
            "text/plain": [
              "     [,1] [,2] [,3] [,4] [,5] [,6] [,7] [,8] [,9] [,10] [,11] [,12] [,13] [,14]\n",
              "[1,] TRUE TRUE TRUE TRUE TRUE TRUE TRUE TRUE TRUE TRUE  ⋯     TRUE  TRUE  TRUE \n",
              "     [,15] [,16] [,17] [,18] [,19] [,20] [,21]\n",
              "[1,] TRUE  TRUE  TRUE  TRUE  TRUE  TRUE  TRUE "
            ]
          },
          "metadata": {},
          "output_type": "display_data"
        }
      ],
      "source": [
        "pvals<0.05"
      ]
    },
    {
      "cell_type": "code",
      "execution_count": null,
      "metadata": {
        "id": "n_h-BPz5Amua",
        "outputId": "5c4b97a2-3765-48d9-9f8e-494f28114b65"
      },
      "outputs": [
        {
          "data": {
            "text/html": [
              "992"
            ],
            "text/latex": [
              "992"
            ],
            "text/markdown": [
              "992"
            ],
            "text/plain": [
              "[1] 992"
            ]
          },
          "metadata": {},
          "output_type": "display_data"
        }
      ],
      "source": [
        "sum(pvals<0.05) #how many reject, out of S samples"
      ]
    },
    {
      "cell_type": "markdown",
      "metadata": {
        "id": "Gr0-ZsyhAmua"
      },
      "source": [
        "In the 8 samples in which the test doesn't reject the null hypothesis, this is a \"false negative\" or a Type II Error. The null hypotheis was False, but we failed to reject it becaue of noise in the sample."
      ]
    }
  ],
  "metadata": {
    "kernelspec": {
      "display_name": "R",
      "language": "R",
      "name": "ir"
    },
    "language_info": {
      "codemirror_mode": "r",
      "file_extension": ".r",
      "mimetype": "text/x-r-source",
      "name": "R",
      "pygments_lexer": "r",
      "version": "3.5.0"
    },
    "colab": {
      "provenance": []
    }
  },
  "nbformat": 4,
  "nbformat_minor": 0
}