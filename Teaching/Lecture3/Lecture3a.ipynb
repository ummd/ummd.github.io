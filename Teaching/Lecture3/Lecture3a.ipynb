{
  "nbformat": 4,
  "nbformat_minor": 0,
  "metadata": {
    "kernelspec": {
      "display_name": "R",
      "language": "R",
      "name": "ir"
    },
    "language_info": {
      "codemirror_mode": "r",
      "file_extension": ".r",
      "mimetype": "text/x-r-source",
      "name": "R",
      "pygments_lexer": "r",
      "version": "3.5.0"
    },
    "colab": {
      "name": "Lecture3a.ipynb",
      "provenance": []
    }
  },
  "cells": [
    {
      "cell_type": "markdown",
      "metadata": {
        "id": "QbALSp65sjeP"
      },
      "source": [
        "# Lecture 3a\n",
        "\n",
        "## Variance of Least Squares Estimation\n",
        "\n",
        "This example will demonstrate the variance of the least squares estimator\n",
        "\n",
        "<!-- \n",
        "\n",
        "Read more: https://html.com/tags/comment-tag/#ixzz5Lox9uP4Q $$E[y_0 - \\hat f(x_0)]^2 = \\text{Var}(\\hat f(x_0) + [\\text{Bias}(\\hat f(x_0))]^2 +\\text{Var}(\\epsilon)$$\n",
        "\n",
        "-->\n",
        "\n",
        "$$Y=\\beta_0 + \\beta_1 X + \\epsilon$$\n",
        "\n",
        "We start out by simulating a single dataset and then estimating the linear model.\n"
      ]
    },
    {
      "cell_type": "code",
      "metadata": {
        "id": "uuq2-T43sjeR",
        "outputId": "84514e8e-7c82-4893-fa00-5bd7606f3c08",
        "colab": {
          "base_uri": "https://localhost:8080/",
          "height": 323
        }
      },
      "source": [
        "set.seed(1) #set random seed so that the simulation is reproducible\n",
        "\n",
        "n <- 100 #number of observations per sample\n",
        "\n",
        "b0 <- 2\n",
        "b1 <- 3\n",
        "\n",
        "x <- 1:n # specify the predictors\n",
        "\n",
        "\n",
        "e <- rnorm(n) #draw S samples of errors\n",
        "y <-b0 + b1*x + e #generate the samples\n",
        "\n",
        "lm.fit=lm(y~x) #fit the linear model\n",
        "summary(lm.fit) #display"
      ],
      "execution_count": 1,
      "outputs": [
        {
          "output_type": "display_data",
          "data": {
            "text/plain": [
              "\n",
              "Call:\n",
              "lm(formula = y ~ x)\n",
              "\n",
              "Residuals:\n",
              "     Min       1Q   Median       3Q      Max \n",
              "-2.34005 -0.60584  0.01551  0.58514  2.29747 \n",
              "\n",
              "Coefficients:\n",
              "            Estimate Std. Error t value Pr(>|t|)    \n",
              "(Intercept) 2.131666   0.181897   11.72   <2e-16 ***\n",
              "x           2.999549   0.003127  959.21   <2e-16 ***\n",
              "---\n",
              "Signif. codes:  0 ‘***’ 0.001 ‘**’ 0.01 ‘*’ 0.05 ‘.’ 0.1 ‘ ’ 1\n",
              "\n",
              "Residual standard error: 0.9027 on 98 degrees of freedom\n",
              "Multiple R-squared:  0.9999,\tAdjusted R-squared:  0.9999 \n",
              "F-statistic: 9.201e+05 on 1 and 98 DF,  p-value: < 2.2e-16\n"
            ]
          },
          "metadata": {}
        }
      ]
    },
    {
      "cell_type": "markdown",
      "metadata": {
        "id": "X6cENZN6t923"
      },
      "source": [
        "Notice that the lm() function return an estimate of the standard error for each coefficient. How should we think about this variance? Where does this number come from?"
      ]
    },
    {
      "cell_type": "code",
      "source": [
        "std.errors <- coef(summary(lm.fit))[, \"Std. Error\"] \n",
        "std.errors"
      ],
      "metadata": {
        "id": "9Kt-6v-vRXFw",
        "outputId": "01d37e06-4cc2-415a-dad7-c41596ca2119",
        "colab": {
          "base_uri": "https://localhost:8080/",
          "height": 34
        }
      },
      "execution_count": 7,
      "outputs": [
        {
          "output_type": "display_data",
          "data": {
            "text/html": [
              "<style>\n",
              ".dl-inline {width: auto; margin:0; padding: 0}\n",
              ".dl-inline>dt, .dl-inline>dd {float: none; width: auto; display: inline-block}\n",
              ".dl-inline>dt::after {content: \":\\0020\"; padding-right: .5ex}\n",
              ".dl-inline>dt:not(:first-of-type) {padding-left: .5ex}\n",
              "</style><dl class=dl-inline><dt>(Intercept)</dt><dd>0.181897459904039</dd><dt>x</dt><dd>0.0031271127768848</dd></dl>\n"
            ],
            "text/markdown": "(Intercept)\n:   0.181897459904039x\n:   0.0031271127768848\n\n",
            "text/latex": "\\begin{description*}\n\\item[(Intercept)] 0.181897459904039\n\\item[x] 0.0031271127768848\n\\end{description*}\n",
            "text/plain": [
              "(Intercept)           x \n",
              "0.181897460 0.003127113 "
            ]
          },
          "metadata": {}
        }
      ]
    },
    {
      "cell_type": "markdown",
      "metadata": {
        "id": "ctT1oCnLsjea"
      },
      "source": [
        "## The Statistical Properties of the Least Squares Estimates \n",
        "\n",
        "To demonstrate the variance of the least squares estimator, we will estimate the linear model on *many* different simulated samples. We can then observe how these estimates vary over samples.\n",
        "\n"
      ]
    },
    {
      "cell_type": "code",
      "metadata": {
        "id": "na1HOj4psjeb"
      },
      "source": [
        "set.seed(1)\n",
        "S <- 100 #number of samples\n",
        "n <- 100 #number of observations per sample\n",
        "\n",
        "b0 <- 2\n",
        "b1 <- 3\n",
        "\n",
        "e <- replicate(S,rnorm(n)) #draw S samples\n",
        "\n",
        "x <- 1:n\n",
        "\n",
        "y <- b0 + b1*x + e\n",
        "\n",
        "bh=matrix(,2,S) #initialize matrix to store estimates of beta\n",
        "\n",
        "for (s in 1:S){\n",
        "    lm.fit.sims=lm(y[,s]~x) # estimate the linear model on the sample s.\n",
        "    bh[1:2,s] <- coef(lm.fit.sims)   #store the estimates                       \n",
        "}\n",
        "\n",
        "bh0=bh[1,]\n",
        "bh1=bh[2,]"
      ],
      "execution_count": null,
      "outputs": []
    },
    {
      "cell_type": "markdown",
      "metadata": {
        "id": "Jf-92Hjbsjeg"
      },
      "source": [
        "Notice that each estimate is different. This is due to the randomness in each of the training samples. We can see this variability by plotting histograms for $\\hat \\beta_0$ amd $\\hat \\beta_1$."
      ]
    },
    {
      "cell_type": "code",
      "metadata": {
        "id": "7Q-J8SOqsjeh",
        "outputId": "3168f1d9-330b-4d06-fb62-70e353b75830",
        "colab": {
          "base_uri": "https://localhost:8080/",
          "height": 437
        }
      },
      "source": [
        "hist(bh0)"
      ],
      "execution_count": null,
      "outputs": [
        {
          "output_type": "display_data",
          "data": {
            "image/png": "[encoded data removed]",
            "text/plain": [
              "Plot with title “Histogram of bh0”"
            ]
          },
          "metadata": {
            "tags": [],
            "image/png": {
              "width": 420,
              "height": 420
            }
          }
        }
      ]
    },
    {
      "cell_type": "code",
      "metadata": {
        "id": "YwVl4U7Psjel",
        "outputId": "2c27047a-0602-41fb-b8b2-b92a0c00f0c4",
        "colab": {
          "base_uri": "https://localhost:8080/",
          "height": 437
        }
      },
      "source": [
        "hist(bh1)"
      ],
      "execution_count": null,
      "outputs": [
        {
          "output_type": "display_data",
          "data": {
            "image/png": "[encoded data removed]",
            "text/plain": [
              "Plot with title “Histogram of bh1”"
            ]
          },
          "metadata": {
            "tags": [],
            "image/png": {
              "width": 420,
              "height": 420
            }
          }
        }
      ]
    },
    {
      "cell_type": "markdown",
      "metadata": {
        "id": "6ELf_vOssjeo"
      },
      "source": [
        "### Least Squares is unbiased\n",
        "The average sample mean is very close to the true mean of 0. "
      ]
    },
    {
      "cell_type": "code",
      "metadata": {
        "id": "lVFYYYr8sjep",
        "outputId": "1e292e9c-a7d3-44be-ef44-31efdbf34c95"
      },
      "source": [
        "mean(bh0)\n",
        "mean(bh1)"
      ],
      "execution_count": null,
      "outputs": [
        {
          "output_type": "display_data",
          "data": {
            "text/html": [
              "1.99653376327693"
            ],
            "text/latex": "1.99653376327693",
            "text/markdown": "1.99653376327693",
            "text/plain": [
              "[1] 1.996534"
            ]
          },
          "metadata": {
            "tags": []
          }
        },
        {
          "output_type": "display_data",
          "data": {
            "text/html": [
              "2.99993919202498"
            ],
            "text/latex": "2.99993919202498",
            "text/markdown": "2.99993919202498",
            "text/plain": [
              "[1] 2.999939"
            ]
          },
          "metadata": {
            "tags": []
          }
        }
      ]
    },
    {
      "cell_type": "markdown",
      "metadata": {
        "id": "G-fOrDTssjes"
      },
      "source": [
        "If we had infinite observations per sample (try say, $n=1000000$), it would be even closer."
      ]
    },
    {
      "cell_type": "markdown",
      "metadata": {
        "id": "Eb1CQ--dsjes"
      },
      "source": [
        "### Variance of Least Squares\n",
        "\n",
        "We can calculate the sample variance of the estimates."
      ]
    },
    {
      "cell_type": "code",
      "metadata": {
        "id": "HCmoUne6sjet",
        "outputId": "969135c3-a20b-4ab1-faf6-bd5969d0a390"
      },
      "source": [
        "var(bh0)\n",
        "var(bh1)"
      ],
      "execution_count": null,
      "outputs": [
        {
          "output_type": "display_data",
          "data": {
            "text/html": [
              "0.0276430758118602"
            ],
            "text/latex": "0.0276430758118602",
            "text/markdown": "0.0276430758118602",
            "text/plain": [
              "[1] 0.02764308"
            ]
          },
          "metadata": {
            "tags": []
          }
        },
        {
          "output_type": "display_data",
          "data": {
            "text/html": [
              "7.62723887508534e-06"
            ],
            "text/latex": "7.62723887508534e-06",
            "text/markdown": "7.62723887508534e-06",
            "text/plain": [
              "[1] 7.627239e-06"
            ]
          },
          "metadata": {
            "tags": []
          }
        }
      ]
    },
    {
      "cell_type": "markdown",
      "metadata": {
        "id": "IPfdk3Tjsjev"
      },
      "source": [
        "and their standard deviation"
      ]
    },
    {
      "cell_type": "code",
      "metadata": {
        "id": "0tvFr5l5sjev",
        "outputId": "944baeae-3c09-42cb-def1-2d554eb473e4"
      },
      "source": [
        "sd(bh0)\n",
        "sd(bh1)"
      ],
      "execution_count": null,
      "outputs": [
        {
          "output_type": "display_data",
          "data": {
            "text/html": [
              "0.166262069672731"
            ],
            "text/latex": "0.166262069672731",
            "text/markdown": "0.166262069672731",
            "text/plain": [
              "[1] 0.1662621"
            ]
          },
          "metadata": {
            "tags": []
          }
        },
        {
          "output_type": "display_data",
          "data": {
            "text/html": [
              "0.00276174562099505"
            ],
            "text/latex": "0.00276174562099505",
            "text/markdown": "0.00276174562099505",
            "text/plain": [
              "[1] 0.002761746"
            ]
          },
          "metadata": {
            "tags": []
          }
        }
      ]
    },
    {
      "cell_type": "markdown",
      "metadata": {
        "id": "EVJYEGk9sjey"
      },
      "source": [
        "These are calculated by taking the variance of estimates from **many** samples. This is the variance of the least squares estimates."
      ]
    },
    {
      "cell_type": "code",
      "source": [
        "std.errors"
      ],
      "metadata": {
        "id": "dhueZwmBSTAs",
        "outputId": "2e5a0b32-50c0-4625-aea0-5ee99bfb6ce7",
        "colab": {
          "base_uri": "https://localhost:8080/",
          "height": 34
        }
      },
      "execution_count": 8,
      "outputs": [
        {
          "output_type": "display_data",
          "data": {
            "text/html": [
              "<style>\n",
              ".dl-inline {width: auto; margin:0; padding: 0}\n",
              ".dl-inline>dt, .dl-inline>dd {float: none; width: auto; display: inline-block}\n",
              ".dl-inline>dt::after {content: \":\\0020\"; padding-right: .5ex}\n",
              ".dl-inline>dt:not(:first-of-type) {padding-left: .5ex}\n",
              "</style><dl class=dl-inline><dt>(Intercept)</dt><dd>0.181897459904039</dd><dt>x</dt><dd>0.0031271127768848</dd></dl>\n"
            ],
            "text/markdown": "(Intercept)\n:   0.181897459904039x\n:   0.0031271127768848\n\n",
            "text/latex": "\\begin{description*}\n\\item[(Intercept)] 0.181897459904039\n\\item[x] 0.0031271127768848\n\\end{description*}\n",
            "text/plain": [
              "(Intercept)           x \n",
              "0.181897460 0.003127113 "
            ]
          },
          "metadata": {}
        }
      ]
    },
    {
      "cell_type": "markdown",
      "metadata": {
        "id": "JAGxc4TUsjey"
      },
      "source": [
        "Go back to the first regression table above **for just a single sample**. Notice that there is a reported standard error (just beside the estimates), and these numbers are quite close to the variances calculated above?\n",
        "\n",
        "These were calculated using just a single dataset given a well-known formula for estimating the standard error.\n",
        "\n",
        "$$SE(\\hat\\beta)=\\hat\\sigma^2(\\mathbf{X}^\\top\\mathbf{X})^{-1}$$\n",
        "\n",
        "So it is possible to learn about the variance of an estimate from just a single dataset. \n",
        "\n",
        "We will see examples like this again when we study the bootstrap and cross-validation, where we won't even need a formula!\n"
      ]
    }
  ]
}