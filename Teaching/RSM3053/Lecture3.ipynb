{
  "nbformat": 4,
  "nbformat_minor": 0,
  "metadata": {
    "colab": {
      "provenance": [],
      "authorship_tag": "ABX9TyPIYS7MSTsl0iyL/vkp5tBX",
      "include_colab_link": true
    },
    "kernelspec": {
      "name": "ir",
      "display_name": "R"
    },
    "language_info": {
      "name": "R"
    }
  },
  "cells": [
    {
      "cell_type": "markdown",
      "metadata": {
        "id": "view-in-github",
        "colab_type": "text"
      },
      "source": [
        "<a href=\"https://colab.research.google.com/github/ummd/ummd.github.io/blob/master/Teaching/RSM3053/Lecture3.ipynb\" target=\"_parent\"><img src=\"https://colab.research.google.com/assets/colab-badge.svg\" alt=\"Open In Colab\"/></a>"
      ]
    },
    {
      "cell_type": "markdown",
      "source": [
        "### Declare Design\n",
        "\n",
        "https://declaredesign.org/r/declaredesign/reference/declare_model.html"
      ],
      "metadata": {
        "id": "5qFRxfqsb3XM"
      }
    },
    {
      "cell_type": "code",
      "source": [
        "install.packages(c(\"DeclareDesign\", \"rdss\",\"tidyverse\"))"
      ],
      "metadata": {
        "id": "wspnpq22gbgF",
        "outputId": "46315a84-dc6d-4a17-e81c-51a38441a4c1",
        "colab": {
          "base_uri": "https://localhost:8080/"
        }
      },
      "execution_count": 21,
      "outputs": [
        {
          "output_type": "stream",
          "name": "stderr",
          "text": [
            "Installing packages into ‘/usr/local/lib/R/site-library’\n",
            "(as ‘lib’ is unspecified)\n",
            "\n"
          ]
        }
      ]
    },
    {
      "cell_type": "code",
      "source": [
        "library(DeclareDesign)\n",
        "library(tidyverse)\n",
        "library(rdss)"
      ],
      "metadata": {
        "id": "OA-Vkf-Wh53z"
      },
      "execution_count": 22,
      "outputs": []
    },
    {
      "cell_type": "code",
      "source": [
        "library(fabricatr)\n",
        "\n",
        "voters <- fabricate(\n",
        "  N = 1000,\n",
        "  group_id = rep(1:10, 100),\n",
        "  ideology = draw_normal_icc(mean = 0, N = N, clusters = group_id, ICC = 0.7),\n",
        "  ideological_label = draw_ordered(\n",
        "    x = ideology,\n",
        "    break_labels = c(\n",
        "      \"Very Conservative\", \"Conservative\",\n",
        "      \"Liberal\", \"Very Liberal\"\n",
        "    )\n",
        "  ),\n",
        "  income = exp(rlnorm(n = N, meanlog = 2.4 - (ideology * 0.1), sdlog = 0.12)),\n",
        "  Q1_immigration = draw_likert(x = ideology, min = -5, max = 5, bins = 7),\n",
        "  Q2_defence = draw_likert(x = ideology + 0.5, min = -5, max = 5, bins = 7),\n",
        "  treatment = draw_binary(0.5, N = N),\n",
        "  proposition_vote = draw_binary(latent = ideology + 1.2 * treatment, link = \"probit\")\n",
        ")\n",
        "head(voters)"
      ],
      "metadata": {
        "colab": {
          "base_uri": "https://localhost:8080/",
          "height": 309
        },
        "id": "WiETvelpEyi4",
        "outputId": "2798a8b6-4711-41cb-9094-f16c013746e1"
      },
      "execution_count": 4,
      "outputs": [
        {
          "output_type": "display_data",
          "data": {
            "text/html": [
              "<table class=\"dataframe\">\n",
              "<caption>A data.frame: 6 × 9</caption>\n",
              "<thead>\n",
              "\t<tr><th></th><th scope=col>ID</th><th scope=col>group_id</th><th scope=col>ideology</th><th scope=col>ideological_label</th><th scope=col>income</th><th scope=col>Q1_immigration</th><th scope=col>Q2_defence</th><th scope=col>treatment</th><th scope=col>proposition_vote</th></tr>\n",
              "\t<tr><th></th><th scope=col>&lt;chr&gt;</th><th scope=col>&lt;int&gt;</th><th scope=col>&lt;dbl&gt;</th><th scope=col>&lt;ord&gt;</th><th scope=col>&lt;dbl&gt;</th><th scope=col>&lt;dbl&gt;</th><th scope=col>&lt;dbl&gt;</th><th scope=col>&lt;int&gt;</th><th scope=col>&lt;int&gt;</th></tr>\n",
              "</thead>\n",
              "<tbody>\n",
              "\t<tr><th scope=row>1</th><td>0001</td><td>1</td><td>-0.70913941</td><td>Conservative     </td><td> 409490.70</td><td>4</td><td>4</td><td>0</td><td>1</td></tr>\n",
              "\t<tr><th scope=row>2</th><td>0002</td><td>2</td><td>-1.83323680</td><td>Very Conservative</td><td>6257040.09</td><td>3</td><td>3</td><td>0</td><td>0</td></tr>\n",
              "\t<tr><th scope=row>3</th><td>0003</td><td>3</td><td>-0.63370985</td><td>Conservative     </td><td> 146666.93</td><td>4</td><td>4</td><td>1</td><td>1</td></tr>\n",
              "\t<tr><th scope=row>4</th><td>0004</td><td>4</td><td>-0.01852347</td><td>Conservative     </td><td>  98381.87</td><td>4</td><td>4</td><td>0</td><td>1</td></tr>\n",
              "\t<tr><th scope=row>5</th><td>0005</td><td>5</td><td>-2.28851664</td><td>Very Conservative</td><td> 349627.29</td><td>2</td><td>3</td><td>1</td><td>1</td></tr>\n",
              "\t<tr><th scope=row>6</th><td>0006</td><td>6</td><td>-1.99415930</td><td>Very Conservative</td><td>5447826.86</td><td>3</td><td>3</td><td>0</td><td>0</td></tr>\n",
              "</tbody>\n",
              "</table>\n"
            ],
            "text/markdown": "\nA data.frame: 6 × 9\n\n| <!--/--> | ID &lt;chr&gt; | group_id &lt;int&gt; | ideology &lt;dbl&gt; | ideological_label &lt;ord&gt; | income &lt;dbl&gt; | Q1_immigration &lt;dbl&gt; | Q2_defence &lt;dbl&gt; | treatment &lt;int&gt; | proposition_vote &lt;int&gt; |\n|---|---|---|---|---|---|---|---|---|---|\n| 1 | 0001 | 1 | -0.70913941 | Conservative      |  409490.70 | 4 | 4 | 0 | 1 |\n| 2 | 0002 | 2 | -1.83323680 | Very Conservative | 6257040.09 | 3 | 3 | 0 | 0 |\n| 3 | 0003 | 3 | -0.63370985 | Conservative      |  146666.93 | 4 | 4 | 1 | 1 |\n| 4 | 0004 | 4 | -0.01852347 | Conservative      |   98381.87 | 4 | 4 | 0 | 1 |\n| 5 | 0005 | 5 | -2.28851664 | Very Conservative |  349627.29 | 2 | 3 | 1 | 1 |\n| 6 | 0006 | 6 | -1.99415930 | Very Conservative | 5447826.86 | 3 | 3 | 0 | 0 |\n\n",
            "text/latex": "A data.frame: 6 × 9\n\\begin{tabular}{r|lllllllll}\n  & ID & group\\_id & ideology & ideological\\_label & income & Q1\\_immigration & Q2\\_defence & treatment & proposition\\_vote\\\\\n  & <chr> & <int> & <dbl> & <ord> & <dbl> & <dbl> & <dbl> & <int> & <int>\\\\\n\\hline\n\t1 & 0001 & 1 & -0.70913941 & Conservative      &  409490.70 & 4 & 4 & 0 & 1\\\\\n\t2 & 0002 & 2 & -1.83323680 & Very Conservative & 6257040.09 & 3 & 3 & 0 & 0\\\\\n\t3 & 0003 & 3 & -0.63370985 & Conservative      &  146666.93 & 4 & 4 & 1 & 1\\\\\n\t4 & 0004 & 4 & -0.01852347 & Conservative      &   98381.87 & 4 & 4 & 0 & 1\\\\\n\t5 & 0005 & 5 & -2.28851664 & Very Conservative &  349627.29 & 2 & 3 & 1 & 1\\\\\n\t6 & 0006 & 6 & -1.99415930 & Very Conservative & 5447826.86 & 3 & 3 & 0 & 0\\\\\n\\end{tabular}\n",
            "text/plain": [
              "  ID   group_id ideology    ideological_label income     Q1_immigration\n",
              "1 0001 1        -0.70913941 Conservative       409490.70 4             \n",
              "2 0002 2        -1.83323680 Very Conservative 6257040.09 3             \n",
              "3 0003 3        -0.63370985 Conservative       146666.93 4             \n",
              "4 0004 4        -0.01852347 Conservative        98381.87 4             \n",
              "5 0005 5        -2.28851664 Very Conservative  349627.29 2             \n",
              "6 0006 6        -1.99415930 Very Conservative 5447826.86 3             \n",
              "  Q2_defence treatment proposition_vote\n",
              "1 4          0         1               \n",
              "2 3          0         0               \n",
              "3 4          1         1               \n",
              "4 4          0         1               \n",
              "5 3          1         1               \n",
              "6 3          0         0               "
            ]
          },
          "metadata": {}
        }
      ]
    },
    {
      "cell_type": "code",
      "source": [
        "panel <- fabricate(\n",
        "  subjects = add_level(N = 150, subj_fe = runif(N, 1, 10)),\n",
        "  trials = add_level(N = 25, trial_shock = runif(N, 1, 10), nest = FALSE),\n",
        "  observations = cross_levels(\n",
        "    by = join_using(trials,subjects),\n",
        "    outcome_it = subj_fe + trial_shock + rnorm(N, 0, 2)\n",
        "  )\n",
        ")\n",
        "panel"
      ],
      "metadata": {
        "id": "CKjo9mOCI8TW",
        "outputId": "452f0dc0-fdd1-425a-96d7-b6078546e75b",
        "colab": {
          "base_uri": "https://localhost:8080/",
          "height": 1000
        }
      },
      "execution_count": 6,
      "outputs": [
        {
          "output_type": "display_data",
          "data": {
            "text/html": [
              "<table class=\"dataframe\">\n",
              "<caption>A data.frame: 3750 × 6</caption>\n",
              "<thead>\n",
              "\t<tr><th></th><th scope=col>trials</th><th scope=col>trial_shock</th><th scope=col>subjects</th><th scope=col>subj_fe</th><th scope=col>observations</th><th scope=col>outcome_it</th></tr>\n",
              "\t<tr><th></th><th scope=col>&lt;chr&gt;</th><th scope=col>&lt;dbl&gt;</th><th scope=col>&lt;chr&gt;</th><th scope=col>&lt;dbl&gt;</th><th scope=col>&lt;chr&gt;</th><th scope=col>&lt;dbl&gt;</th></tr>\n",
              "</thead>\n",
              "<tbody>\n",
              "\t<tr><th scope=row>1</th><td>01</td><td>3.127768</td><td>001</td><td>9.660236</td><td>0001</td><td>10.852263</td></tr>\n",
              "\t<tr><th scope=row>2</th><td>02</td><td>9.438743</td><td>001</td><td>9.660236</td><td>0002</td><td>17.421653</td></tr>\n",
              "\t<tr><th scope=row>3</th><td>03</td><td>4.707965</td><td>001</td><td>9.660236</td><td>0003</td><td>13.001441</td></tr>\n",
              "\t<tr><th scope=row>4</th><td>04</td><td>2.057275</td><td>001</td><td>9.660236</td><td>0004</td><td>10.045282</td></tr>\n",
              "\t<tr><th scope=row>5</th><td>05</td><td>6.144931</td><td>001</td><td>9.660236</td><td>0005</td><td>15.216688</td></tr>\n",
              "\t<tr><th scope=row>6</th><td>06</td><td>7.716477</td><td>001</td><td>9.660236</td><td>0006</td><td>22.981935</td></tr>\n",
              "\t<tr><th scope=row>7</th><td>07</td><td>1.707974</td><td>001</td><td>9.660236</td><td>0007</td><td>10.545843</td></tr>\n",
              "\t<tr><th scope=row>8</th><td>08</td><td>2.343269</td><td>001</td><td>9.660236</td><td>0008</td><td>13.061551</td></tr>\n",
              "\t<tr><th scope=row>9</th><td>09</td><td>2.357123</td><td>001</td><td>9.660236</td><td>0009</td><td>12.053241</td></tr>\n",
              "\t<tr><th scope=row>10</th><td>10</td><td>4.972551</td><td>001</td><td>9.660236</td><td>0010</td><td>13.016297</td></tr>\n",
              "\t<tr><th scope=row>11</th><td>11</td><td>4.488113</td><td>001</td><td>9.660236</td><td>0011</td><td>12.505043</td></tr>\n",
              "\t<tr><th scope=row>12</th><td>12</td><td>4.612465</td><td>001</td><td>9.660236</td><td>0012</td><td>13.254456</td></tr>\n",
              "\t<tr><th scope=row>13</th><td>13</td><td>6.979926</td><td>001</td><td>9.660236</td><td>0013</td><td>16.106287</td></tr>\n",
              "\t<tr><th scope=row>14</th><td>14</td><td>2.983395</td><td>001</td><td>9.660236</td><td>0014</td><td>11.985460</td></tr>\n",
              "\t<tr><th scope=row>15</th><td>15</td><td>6.531514</td><td>001</td><td>9.660236</td><td>0015</td><td>14.260719</td></tr>\n",
              "\t<tr><th scope=row>16</th><td>16</td><td>5.498345</td><td>001</td><td>9.660236</td><td>0016</td><td>13.687081</td></tr>\n",
              "\t<tr><th scope=row>17</th><td>17</td><td>6.621931</td><td>001</td><td>9.660236</td><td>0017</td><td>14.301225</td></tr>\n",
              "\t<tr><th scope=row>18</th><td>18</td><td>2.071753</td><td>001</td><td>9.660236</td><td>0018</td><td>14.151690</td></tr>\n",
              "\t<tr><th scope=row>19</th><td>19</td><td>9.273145</td><td>001</td><td>9.660236</td><td>0019</td><td>21.697519</td></tr>\n",
              "\t<tr><th scope=row>20</th><td>20</td><td>9.374726</td><td>001</td><td>9.660236</td><td>0020</td><td>17.429656</td></tr>\n",
              "\t<tr><th scope=row>21</th><td>21</td><td>8.580951</td><td>001</td><td>9.660236</td><td>0021</td><td>15.803484</td></tr>\n",
              "\t<tr><th scope=row>22</th><td>22</td><td>8.102544</td><td>001</td><td>9.660236</td><td>0022</td><td>15.569408</td></tr>\n",
              "\t<tr><th scope=row>23</th><td>23</td><td>8.571061</td><td>001</td><td>9.660236</td><td>0023</td><td>16.871980</td></tr>\n",
              "\t<tr><th scope=row>24</th><td>24</td><td>4.495232</td><td>001</td><td>9.660236</td><td>0024</td><td>12.103931</td></tr>\n",
              "\t<tr><th scope=row>25</th><td>25</td><td>5.861246</td><td>001</td><td>9.660236</td><td>0025</td><td>15.883413</td></tr>\n",
              "\t<tr><th scope=row>26</th><td>01</td><td>3.127768</td><td>002</td><td>4.914959</td><td>0026</td><td> 5.131345</td></tr>\n",
              "\t<tr><th scope=row>27</th><td>02</td><td>9.438743</td><td>002</td><td>4.914959</td><td>0027</td><td>12.118484</td></tr>\n",
              "\t<tr><th scope=row>28</th><td>03</td><td>4.707965</td><td>002</td><td>4.914959</td><td>0028</td><td> 6.555430</td></tr>\n",
              "\t<tr><th scope=row>29</th><td>04</td><td>2.057275</td><td>002</td><td>4.914959</td><td>0029</td><td> 6.311903</td></tr>\n",
              "\t<tr><th scope=row>30</th><td>05</td><td>6.144931</td><td>002</td><td>4.914959</td><td>0030</td><td>14.288745</td></tr>\n",
              "\t<tr><th scope=row>⋮</th><td>⋮</td><td>⋮</td><td>⋮</td><td>⋮</td><td>⋮</td><td>⋮</td></tr>\n",
              "\t<tr><th scope=row>3721</th><td>21</td><td>8.580951</td><td>149</td><td>3.025642</td><td>3721</td><td> 9.256637</td></tr>\n",
              "\t<tr><th scope=row>3722</th><td>22</td><td>8.102544</td><td>149</td><td>3.025642</td><td>3722</td><td>12.171412</td></tr>\n",
              "\t<tr><th scope=row>3723</th><td>23</td><td>8.571061</td><td>149</td><td>3.025642</td><td>3723</td><td>10.180482</td></tr>\n",
              "\t<tr><th scope=row>3724</th><td>24</td><td>4.495232</td><td>149</td><td>3.025642</td><td>3724</td><td> 9.147802</td></tr>\n",
              "\t<tr><th scope=row>3725</th><td>25</td><td>5.861246</td><td>149</td><td>3.025642</td><td>3725</td><td> 8.718773</td></tr>\n",
              "\t<tr><th scope=row>3726</th><td>01</td><td>3.127768</td><td>150</td><td>8.542031</td><td>3726</td><td>10.745849</td></tr>\n",
              "\t<tr><th scope=row>3727</th><td>02</td><td>9.438743</td><td>150</td><td>8.542031</td><td>3727</td><td>22.018384</td></tr>\n",
              "\t<tr><th scope=row>3728</th><td>03</td><td>4.707965</td><td>150</td><td>8.542031</td><td>3728</td><td>14.114724</td></tr>\n",
              "\t<tr><th scope=row>3729</th><td>04</td><td>2.057275</td><td>150</td><td>8.542031</td><td>3729</td><td> 9.346634</td></tr>\n",
              "\t<tr><th scope=row>3730</th><td>05</td><td>6.144931</td><td>150</td><td>8.542031</td><td>3730</td><td>18.237891</td></tr>\n",
              "\t<tr><th scope=row>3731</th><td>06</td><td>7.716477</td><td>150</td><td>8.542031</td><td>3731</td><td>15.681439</td></tr>\n",
              "\t<tr><th scope=row>3732</th><td>07</td><td>1.707974</td><td>150</td><td>8.542031</td><td>3732</td><td> 8.316750</td></tr>\n",
              "\t<tr><th scope=row>3733</th><td>08</td><td>2.343269</td><td>150</td><td>8.542031</td><td>3733</td><td>13.783385</td></tr>\n",
              "\t<tr><th scope=row>3734</th><td>09</td><td>2.357123</td><td>150</td><td>8.542031</td><td>3734</td><td>13.116354</td></tr>\n",
              "\t<tr><th scope=row>3735</th><td>10</td><td>4.972551</td><td>150</td><td>8.542031</td><td>3735</td><td>11.699255</td></tr>\n",
              "\t<tr><th scope=row>3736</th><td>11</td><td>4.488113</td><td>150</td><td>8.542031</td><td>3736</td><td>10.181323</td></tr>\n",
              "\t<tr><th scope=row>3737</th><td>12</td><td>4.612465</td><td>150</td><td>8.542031</td><td>3737</td><td>12.954928</td></tr>\n",
              "\t<tr><th scope=row>3738</th><td>13</td><td>6.979926</td><td>150</td><td>8.542031</td><td>3738</td><td>16.460061</td></tr>\n",
              "\t<tr><th scope=row>3739</th><td>14</td><td>2.983395</td><td>150</td><td>8.542031</td><td>3739</td><td>13.614377</td></tr>\n",
              "\t<tr><th scope=row>3740</th><td>15</td><td>6.531514</td><td>150</td><td>8.542031</td><td>3740</td><td>16.607617</td></tr>\n",
              "\t<tr><th scope=row>3741</th><td>16</td><td>5.498345</td><td>150</td><td>8.542031</td><td>3741</td><td>15.099324</td></tr>\n",
              "\t<tr><th scope=row>3742</th><td>17</td><td>6.621931</td><td>150</td><td>8.542031</td><td>3742</td><td>16.380623</td></tr>\n",
              "\t<tr><th scope=row>3743</th><td>18</td><td>2.071753</td><td>150</td><td>8.542031</td><td>3743</td><td> 8.600177</td></tr>\n",
              "\t<tr><th scope=row>3744</th><td>19</td><td>9.273145</td><td>150</td><td>8.542031</td><td>3744</td><td>21.353623</td></tr>\n",
              "\t<tr><th scope=row>3745</th><td>20</td><td>9.374726</td><td>150</td><td>8.542031</td><td>3745</td><td>17.240727</td></tr>\n",
              "\t<tr><th scope=row>3746</th><td>21</td><td>8.580951</td><td>150</td><td>8.542031</td><td>3746</td><td>18.879810</td></tr>\n",
              "\t<tr><th scope=row>3747</th><td>22</td><td>8.102544</td><td>150</td><td>8.542031</td><td>3747</td><td>19.417994</td></tr>\n",
              "\t<tr><th scope=row>3748</th><td>23</td><td>8.571061</td><td>150</td><td>8.542031</td><td>3748</td><td>12.740656</td></tr>\n",
              "\t<tr><th scope=row>3749</th><td>24</td><td>4.495232</td><td>150</td><td>8.542031</td><td>3749</td><td>11.714266</td></tr>\n",
              "\t<tr><th scope=row>3750</th><td>25</td><td>5.861246</td><td>150</td><td>8.542031</td><td>3750</td><td>11.640125</td></tr>\n",
              "</tbody>\n",
              "</table>\n"
            ],
            "text/markdown": "\nA data.frame: 3750 × 6\n\n| <!--/--> | trials &lt;chr&gt; | trial_shock &lt;dbl&gt; | subjects &lt;chr&gt; | subj_fe &lt;dbl&gt; | observations &lt;chr&gt; | outcome_it &lt;dbl&gt; |\n|---|---|---|---|---|---|---|\n| 1 | 01 | 3.127768 | 001 | 9.660236 | 0001 | 10.852263 |\n| 2 | 02 | 9.438743 | 001 | 9.660236 | 0002 | 17.421653 |\n| 3 | 03 | 4.707965 | 001 | 9.660236 | 0003 | 13.001441 |\n| 4 | 04 | 2.057275 | 001 | 9.660236 | 0004 | 10.045282 |\n| 5 | 05 | 6.144931 | 001 | 9.660236 | 0005 | 15.216688 |\n| 6 | 06 | 7.716477 | 001 | 9.660236 | 0006 | 22.981935 |\n| 7 | 07 | 1.707974 | 001 | 9.660236 | 0007 | 10.545843 |\n| 8 | 08 | 2.343269 | 001 | 9.660236 | 0008 | 13.061551 |\n| 9 | 09 | 2.357123 | 001 | 9.660236 | 0009 | 12.053241 |\n| 10 | 10 | 4.972551 | 001 | 9.660236 | 0010 | 13.016297 |\n| 11 | 11 | 4.488113 | 001 | 9.660236 | 0011 | 12.505043 |\n| 12 | 12 | 4.612465 | 001 | 9.660236 | 0012 | 13.254456 |\n| 13 | 13 | 6.979926 | 001 | 9.660236 | 0013 | 16.106287 |\n| 14 | 14 | 2.983395 | 001 | 9.660236 | 0014 | 11.985460 |\n| 15 | 15 | 6.531514 | 001 | 9.660236 | 0015 | 14.260719 |\n| 16 | 16 | 5.498345 | 001 | 9.660236 | 0016 | 13.687081 |\n| 17 | 17 | 6.621931 | 001 | 9.660236 | 0017 | 14.301225 |\n| 18 | 18 | 2.071753 | 001 | 9.660236 | 0018 | 14.151690 |\n| 19 | 19 | 9.273145 | 001 | 9.660236 | 0019 | 21.697519 |\n| 20 | 20 | 9.374726 | 001 | 9.660236 | 0020 | 17.429656 |\n| 21 | 21 | 8.580951 | 001 | 9.660236 | 0021 | 15.803484 |\n| 22 | 22 | 8.102544 | 001 | 9.660236 | 0022 | 15.569408 |\n| 23 | 23 | 8.571061 | 001 | 9.660236 | 0023 | 16.871980 |\n| 24 | 24 | 4.495232 | 001 | 9.660236 | 0024 | 12.103931 |\n| 25 | 25 | 5.861246 | 001 | 9.660236 | 0025 | 15.883413 |\n| 26 | 01 | 3.127768 | 002 | 4.914959 | 0026 |  5.131345 |\n| 27 | 02 | 9.438743 | 002 | 4.914959 | 0027 | 12.118484 |\n| 28 | 03 | 4.707965 | 002 | 4.914959 | 0028 |  6.555430 |\n| 29 | 04 | 2.057275 | 002 | 4.914959 | 0029 |  6.311903 |\n| 30 | 05 | 6.144931 | 002 | 4.914959 | 0030 | 14.288745 |\n| ⋮ | ⋮ | ⋮ | ⋮ | ⋮ | ⋮ | ⋮ |\n| 3721 | 21 | 8.580951 | 149 | 3.025642 | 3721 |  9.256637 |\n| 3722 | 22 | 8.102544 | 149 | 3.025642 | 3722 | 12.171412 |\n| 3723 | 23 | 8.571061 | 149 | 3.025642 | 3723 | 10.180482 |\n| 3724 | 24 | 4.495232 | 149 | 3.025642 | 3724 |  9.147802 |\n| 3725 | 25 | 5.861246 | 149 | 3.025642 | 3725 |  8.718773 |\n| 3726 | 01 | 3.127768 | 150 | 8.542031 | 3726 | 10.745849 |\n| 3727 | 02 | 9.438743 | 150 | 8.542031 | 3727 | 22.018384 |\n| 3728 | 03 | 4.707965 | 150 | 8.542031 | 3728 | 14.114724 |\n| 3729 | 04 | 2.057275 | 150 | 8.542031 | 3729 |  9.346634 |\n| 3730 | 05 | 6.144931 | 150 | 8.542031 | 3730 | 18.237891 |\n| 3731 | 06 | 7.716477 | 150 | 8.542031 | 3731 | 15.681439 |\n| 3732 | 07 | 1.707974 | 150 | 8.542031 | 3732 |  8.316750 |\n| 3733 | 08 | 2.343269 | 150 | 8.542031 | 3733 | 13.783385 |\n| 3734 | 09 | 2.357123 | 150 | 8.542031 | 3734 | 13.116354 |\n| 3735 | 10 | 4.972551 | 150 | 8.542031 | 3735 | 11.699255 |\n| 3736 | 11 | 4.488113 | 150 | 8.542031 | 3736 | 10.181323 |\n| 3737 | 12 | 4.612465 | 150 | 8.542031 | 3737 | 12.954928 |\n| 3738 | 13 | 6.979926 | 150 | 8.542031 | 3738 | 16.460061 |\n| 3739 | 14 | 2.983395 | 150 | 8.542031 | 3739 | 13.614377 |\n| 3740 | 15 | 6.531514 | 150 | 8.542031 | 3740 | 16.607617 |\n| 3741 | 16 | 5.498345 | 150 | 8.542031 | 3741 | 15.099324 |\n| 3742 | 17 | 6.621931 | 150 | 8.542031 | 3742 | 16.380623 |\n| 3743 | 18 | 2.071753 | 150 | 8.542031 | 3743 |  8.600177 |\n| 3744 | 19 | 9.273145 | 150 | 8.542031 | 3744 | 21.353623 |\n| 3745 | 20 | 9.374726 | 150 | 8.542031 | 3745 | 17.240727 |\n| 3746 | 21 | 8.580951 | 150 | 8.542031 | 3746 | 18.879810 |\n| 3747 | 22 | 8.102544 | 150 | 8.542031 | 3747 | 19.417994 |\n| 3748 | 23 | 8.571061 | 150 | 8.542031 | 3748 | 12.740656 |\n| 3749 | 24 | 4.495232 | 150 | 8.542031 | 3749 | 11.714266 |\n| 3750 | 25 | 5.861246 | 150 | 8.542031 | 3750 | 11.640125 |\n\n",
            "text/latex": "A data.frame: 3750 × 6\n\\begin{tabular}{r|llllll}\n  & trials & trial\\_shock & subjects & subj\\_fe & observations & outcome\\_it\\\\\n  & <chr> & <dbl> & <chr> & <dbl> & <chr> & <dbl>\\\\\n\\hline\n\t1 & 01 & 3.127768 & 001 & 9.660236 & 0001 & 10.852263\\\\\n\t2 & 02 & 9.438743 & 001 & 9.660236 & 0002 & 17.421653\\\\\n\t3 & 03 & 4.707965 & 001 & 9.660236 & 0003 & 13.001441\\\\\n\t4 & 04 & 2.057275 & 001 & 9.660236 & 0004 & 10.045282\\\\\n\t5 & 05 & 6.144931 & 001 & 9.660236 & 0005 & 15.216688\\\\\n\t6 & 06 & 7.716477 & 001 & 9.660236 & 0006 & 22.981935\\\\\n\t7 & 07 & 1.707974 & 001 & 9.660236 & 0007 & 10.545843\\\\\n\t8 & 08 & 2.343269 & 001 & 9.660236 & 0008 & 13.061551\\\\\n\t9 & 09 & 2.357123 & 001 & 9.660236 & 0009 & 12.053241\\\\\n\t10 & 10 & 4.972551 & 001 & 9.660236 & 0010 & 13.016297\\\\\n\t11 & 11 & 4.488113 & 001 & 9.660236 & 0011 & 12.505043\\\\\n\t12 & 12 & 4.612465 & 001 & 9.660236 & 0012 & 13.254456\\\\\n\t13 & 13 & 6.979926 & 001 & 9.660236 & 0013 & 16.106287\\\\\n\t14 & 14 & 2.983395 & 001 & 9.660236 & 0014 & 11.985460\\\\\n\t15 & 15 & 6.531514 & 001 & 9.660236 & 0015 & 14.260719\\\\\n\t16 & 16 & 5.498345 & 001 & 9.660236 & 0016 & 13.687081\\\\\n\t17 & 17 & 6.621931 & 001 & 9.660236 & 0017 & 14.301225\\\\\n\t18 & 18 & 2.071753 & 001 & 9.660236 & 0018 & 14.151690\\\\\n\t19 & 19 & 9.273145 & 001 & 9.660236 & 0019 & 21.697519\\\\\n\t20 & 20 & 9.374726 & 001 & 9.660236 & 0020 & 17.429656\\\\\n\t21 & 21 & 8.580951 & 001 & 9.660236 & 0021 & 15.803484\\\\\n\t22 & 22 & 8.102544 & 001 & 9.660236 & 0022 & 15.569408\\\\\n\t23 & 23 & 8.571061 & 001 & 9.660236 & 0023 & 16.871980\\\\\n\t24 & 24 & 4.495232 & 001 & 9.660236 & 0024 & 12.103931\\\\\n\t25 & 25 & 5.861246 & 001 & 9.660236 & 0025 & 15.883413\\\\\n\t26 & 01 & 3.127768 & 002 & 4.914959 & 0026 &  5.131345\\\\\n\t27 & 02 & 9.438743 & 002 & 4.914959 & 0027 & 12.118484\\\\\n\t28 & 03 & 4.707965 & 002 & 4.914959 & 0028 &  6.555430\\\\\n\t29 & 04 & 2.057275 & 002 & 4.914959 & 0029 &  6.311903\\\\\n\t30 & 05 & 6.144931 & 002 & 4.914959 & 0030 & 14.288745\\\\\n\t⋮ & ⋮ & ⋮ & ⋮ & ⋮ & ⋮ & ⋮\\\\\n\t3721 & 21 & 8.580951 & 149 & 3.025642 & 3721 &  9.256637\\\\\n\t3722 & 22 & 8.102544 & 149 & 3.025642 & 3722 & 12.171412\\\\\n\t3723 & 23 & 8.571061 & 149 & 3.025642 & 3723 & 10.180482\\\\\n\t3724 & 24 & 4.495232 & 149 & 3.025642 & 3724 &  9.147802\\\\\n\t3725 & 25 & 5.861246 & 149 & 3.025642 & 3725 &  8.718773\\\\\n\t3726 & 01 & 3.127768 & 150 & 8.542031 & 3726 & 10.745849\\\\\n\t3727 & 02 & 9.438743 & 150 & 8.542031 & 3727 & 22.018384\\\\\n\t3728 & 03 & 4.707965 & 150 & 8.542031 & 3728 & 14.114724\\\\\n\t3729 & 04 & 2.057275 & 150 & 8.542031 & 3729 &  9.346634\\\\\n\t3730 & 05 & 6.144931 & 150 & 8.542031 & 3730 & 18.237891\\\\\n\t3731 & 06 & 7.716477 & 150 & 8.542031 & 3731 & 15.681439\\\\\n\t3732 & 07 & 1.707974 & 150 & 8.542031 & 3732 &  8.316750\\\\\n\t3733 & 08 & 2.343269 & 150 & 8.542031 & 3733 & 13.783385\\\\\n\t3734 & 09 & 2.357123 & 150 & 8.542031 & 3734 & 13.116354\\\\\n\t3735 & 10 & 4.972551 & 150 & 8.542031 & 3735 & 11.699255\\\\\n\t3736 & 11 & 4.488113 & 150 & 8.542031 & 3736 & 10.181323\\\\\n\t3737 & 12 & 4.612465 & 150 & 8.542031 & 3737 & 12.954928\\\\\n\t3738 & 13 & 6.979926 & 150 & 8.542031 & 3738 & 16.460061\\\\\n\t3739 & 14 & 2.983395 & 150 & 8.542031 & 3739 & 13.614377\\\\\n\t3740 & 15 & 6.531514 & 150 & 8.542031 & 3740 & 16.607617\\\\\n\t3741 & 16 & 5.498345 & 150 & 8.542031 & 3741 & 15.099324\\\\\n\t3742 & 17 & 6.621931 & 150 & 8.542031 & 3742 & 16.380623\\\\\n\t3743 & 18 & 2.071753 & 150 & 8.542031 & 3743 &  8.600177\\\\\n\t3744 & 19 & 9.273145 & 150 & 8.542031 & 3744 & 21.353623\\\\\n\t3745 & 20 & 9.374726 & 150 & 8.542031 & 3745 & 17.240727\\\\\n\t3746 & 21 & 8.580951 & 150 & 8.542031 & 3746 & 18.879810\\\\\n\t3747 & 22 & 8.102544 & 150 & 8.542031 & 3747 & 19.417994\\\\\n\t3748 & 23 & 8.571061 & 150 & 8.542031 & 3748 & 12.740656\\\\\n\t3749 & 24 & 4.495232 & 150 & 8.542031 & 3749 & 11.714266\\\\\n\t3750 & 25 & 5.861246 & 150 & 8.542031 & 3750 & 11.640125\\\\\n\\end{tabular}\n",
            "text/plain": [
              "     trials trial_shock subjects subj_fe  observations outcome_it\n",
              "1    01     3.127768    001      9.660236 0001         10.852263 \n",
              "2    02     9.438743    001      9.660236 0002         17.421653 \n",
              "3    03     4.707965    001      9.660236 0003         13.001441 \n",
              "4    04     2.057275    001      9.660236 0004         10.045282 \n",
              "5    05     6.144931    001      9.660236 0005         15.216688 \n",
              "6    06     7.716477    001      9.660236 0006         22.981935 \n",
              "7    07     1.707974    001      9.660236 0007         10.545843 \n",
              "8    08     2.343269    001      9.660236 0008         13.061551 \n",
              "9    09     2.357123    001      9.660236 0009         12.053241 \n",
              "10   10     4.972551    001      9.660236 0010         13.016297 \n",
              "11   11     4.488113    001      9.660236 0011         12.505043 \n",
              "12   12     4.612465    001      9.660236 0012         13.254456 \n",
              "13   13     6.979926    001      9.660236 0013         16.106287 \n",
              "14   14     2.983395    001      9.660236 0014         11.985460 \n",
              "15   15     6.531514    001      9.660236 0015         14.260719 \n",
              "16   16     5.498345    001      9.660236 0016         13.687081 \n",
              "17   17     6.621931    001      9.660236 0017         14.301225 \n",
              "18   18     2.071753    001      9.660236 0018         14.151690 \n",
              "19   19     9.273145    001      9.660236 0019         21.697519 \n",
              "20   20     9.374726    001      9.660236 0020         17.429656 \n",
              "21   21     8.580951    001      9.660236 0021         15.803484 \n",
              "22   22     8.102544    001      9.660236 0022         15.569408 \n",
              "23   23     8.571061    001      9.660236 0023         16.871980 \n",
              "24   24     4.495232    001      9.660236 0024         12.103931 \n",
              "25   25     5.861246    001      9.660236 0025         15.883413 \n",
              "26   01     3.127768    002      4.914959 0026          5.131345 \n",
              "27   02     9.438743    002      4.914959 0027         12.118484 \n",
              "28   03     4.707965    002      4.914959 0028          6.555430 \n",
              "29   04     2.057275    002      4.914959 0029          6.311903 \n",
              "30   05     6.144931    002      4.914959 0030         14.288745 \n",
              "⋮    ⋮      ⋮           ⋮        ⋮        ⋮            ⋮         \n",
              "3721 21     8.580951    149      3.025642 3721          9.256637 \n",
              "3722 22     8.102544    149      3.025642 3722         12.171412 \n",
              "3723 23     8.571061    149      3.025642 3723         10.180482 \n",
              "3724 24     4.495232    149      3.025642 3724          9.147802 \n",
              "3725 25     5.861246    149      3.025642 3725          8.718773 \n",
              "3726 01     3.127768    150      8.542031 3726         10.745849 \n",
              "3727 02     9.438743    150      8.542031 3727         22.018384 \n",
              "3728 03     4.707965    150      8.542031 3728         14.114724 \n",
              "3729 04     2.057275    150      8.542031 3729          9.346634 \n",
              "3730 05     6.144931    150      8.542031 3730         18.237891 \n",
              "3731 06     7.716477    150      8.542031 3731         15.681439 \n",
              "3732 07     1.707974    150      8.542031 3732          8.316750 \n",
              "3733 08     2.343269    150      8.542031 3733         13.783385 \n",
              "3734 09     2.357123    150      8.542031 3734         13.116354 \n",
              "3735 10     4.972551    150      8.542031 3735         11.699255 \n",
              "3736 11     4.488113    150      8.542031 3736         10.181323 \n",
              "3737 12     4.612465    150      8.542031 3737         12.954928 \n",
              "3738 13     6.979926    150      8.542031 3738         16.460061 \n",
              "3739 14     2.983395    150      8.542031 3739         13.614377 \n",
              "3740 15     6.531514    150      8.542031 3740         16.607617 \n",
              "3741 16     5.498345    150      8.542031 3741         15.099324 \n",
              "3742 17     6.621931    150      8.542031 3742         16.380623 \n",
              "3743 18     2.071753    150      8.542031 3743          8.600177 \n",
              "3744 19     9.273145    150      8.542031 3744         21.353623 \n",
              "3745 20     9.374726    150      8.542031 3745         17.240727 \n",
              "3746 21     8.580951    150      8.542031 3746         18.879810 \n",
              "3747 22     8.102544    150      8.542031 3747         19.417994 \n",
              "3748 23     8.571061    150      8.542031 3748         12.740656 \n",
              "3749 24     4.495232    150      8.542031 3749         11.714266 \n",
              "3750 25     5.861246    150      8.542031 3750         11.640125 "
            ]
          },
          "metadata": {}
        }
      ]
    },
    {
      "cell_type": "code",
      "source": [
        "panel <- fabricate(\n",
        "  subjects = add_level(N = 150, subj_fe = runif(N, 1, 10)),\n",
        "  trials = add_level(N = 25, trial_shock = runif(N, 1, 10), nest = FALSE),\n",
        "  observations = cross_levels(\n",
        "    by = join_using(trials,subjects),\n",
        "    outcome_it = draw_likert(x = subj_fe + trial_shock + rnorm(N, 0, 2), min = 0, max = 20, bins = 7)\n",
        "  )\n",
        ")\n",
        "panel"
      ],
      "metadata": {
        "id": "0DbunUBxGQ3z",
        "outputId": "07f4cdd2-d966-4698-d892-313ba41e13e3",
        "colab": {
          "base_uri": "https://localhost:8080/",
          "height": 1000
        }
      },
      "execution_count": 7,
      "outputs": [
        {
          "output_type": "display_data",
          "data": {
            "text/html": [
              "<table class=\"dataframe\">\n",
              "<caption>A data.frame: 3750 × 6</caption>\n",
              "<thead>\n",
              "\t<tr><th></th><th scope=col>trials</th><th scope=col>trial_shock</th><th scope=col>subjects</th><th scope=col>subj_fe</th><th scope=col>observations</th><th scope=col>outcome_it</th></tr>\n",
              "\t<tr><th></th><th scope=col>&lt;chr&gt;</th><th scope=col>&lt;dbl&gt;</th><th scope=col>&lt;chr&gt;</th><th scope=col>&lt;dbl&gt;</th><th scope=col>&lt;chr&gt;</th><th scope=col>&lt;dbl&gt;</th></tr>\n",
              "</thead>\n",
              "<tbody>\n",
              "\t<tr><th scope=row>1</th><td>01</td><td>9.748399</td><td>001</td><td>2.622026</td><td>0001</td><td>4</td></tr>\n",
              "\t<tr><th scope=row>2</th><td>02</td><td>7.510097</td><td>001</td><td>2.622026</td><td>0002</td><td>4</td></tr>\n",
              "\t<tr><th scope=row>3</th><td>03</td><td>9.695834</td><td>001</td><td>2.622026</td><td>0003</td><td>5</td></tr>\n",
              "\t<tr><th scope=row>4</th><td>04</td><td>9.361869</td><td>001</td><td>2.622026</td><td>0004</td><td>4</td></tr>\n",
              "\t<tr><th scope=row>5</th><td>05</td><td>3.430633</td><td>001</td><td>2.622026</td><td>0005</td><td>3</td></tr>\n",
              "\t<tr><th scope=row>6</th><td>06</td><td>7.633564</td><td>001</td><td>2.622026</td><td>0006</td><td>5</td></tr>\n",
              "\t<tr><th scope=row>7</th><td>07</td><td>1.800256</td><td>001</td><td>2.622026</td><td>0007</td><td>1</td></tr>\n",
              "\t<tr><th scope=row>8</th><td>08</td><td>2.385074</td><td>001</td><td>2.622026</td><td>0008</td><td>2</td></tr>\n",
              "\t<tr><th scope=row>9</th><td>09</td><td>2.563063</td><td>001</td><td>2.622026</td><td>0009</td><td>3</td></tr>\n",
              "\t<tr><th scope=row>10</th><td>10</td><td>5.086657</td><td>001</td><td>2.622026</td><td>0010</td><td>3</td></tr>\n",
              "\t<tr><th scope=row>11</th><td>11</td><td>5.759865</td><td>001</td><td>2.622026</td><td>0011</td><td>3</td></tr>\n",
              "\t<tr><th scope=row>12</th><td>12</td><td>1.840302</td><td>001</td><td>2.622026</td><td>0012</td><td>3</td></tr>\n",
              "\t<tr><th scope=row>13</th><td>13</td><td>7.399686</td><td>001</td><td>2.622026</td><td>0013</td><td>4</td></tr>\n",
              "\t<tr><th scope=row>14</th><td>14</td><td>1.759562</td><td>001</td><td>2.622026</td><td>0014</td><td>1</td></tr>\n",
              "\t<tr><th scope=row>15</th><td>15</td><td>3.402594</td><td>001</td><td>2.622026</td><td>0015</td><td>3</td></tr>\n",
              "\t<tr><th scope=row>16</th><td>16</td><td>4.768794</td><td>001</td><td>2.622026</td><td>0016</td><td>3</td></tr>\n",
              "\t<tr><th scope=row>17</th><td>17</td><td>8.388298</td><td>001</td><td>2.622026</td><td>0017</td><td>5</td></tr>\n",
              "\t<tr><th scope=row>18</th><td>18</td><td>4.722635</td><td>001</td><td>2.622026</td><td>0018</td><td>4</td></tr>\n",
              "\t<tr><th scope=row>19</th><td>19</td><td>9.869374</td><td>001</td><td>2.622026</td><td>0019</td><td>5</td></tr>\n",
              "\t<tr><th scope=row>20</th><td>20</td><td>2.481122</td><td>001</td><td>2.622026</td><td>0020</td><td>3</td></tr>\n",
              "\t<tr><th scope=row>21</th><td>21</td><td>7.838985</td><td>001</td><td>2.622026</td><td>0021</td><td>4</td></tr>\n",
              "\t<tr><th scope=row>22</th><td>22</td><td>9.825352</td><td>001</td><td>2.622026</td><td>0022</td><td>5</td></tr>\n",
              "\t<tr><th scope=row>23</th><td>23</td><td>5.406997</td><td>001</td><td>2.622026</td><td>0023</td><td>4</td></tr>\n",
              "\t<tr><th scope=row>24</th><td>24</td><td>9.464886</td><td>001</td><td>2.622026</td><td>0024</td><td>3</td></tr>\n",
              "\t<tr><th scope=row>25</th><td>25</td><td>1.159749</td><td>001</td><td>2.622026</td><td>0025</td><td>2</td></tr>\n",
              "\t<tr><th scope=row>26</th><td>01</td><td>9.748399</td><td>002</td><td>2.974537</td><td>0026</td><td>5</td></tr>\n",
              "\t<tr><th scope=row>27</th><td>02</td><td>7.510097</td><td>002</td><td>2.974537</td><td>0027</td><td>4</td></tr>\n",
              "\t<tr><th scope=row>28</th><td>03</td><td>9.695834</td><td>002</td><td>2.974537</td><td>0028</td><td>5</td></tr>\n",
              "\t<tr><th scope=row>29</th><td>04</td><td>9.361869</td><td>002</td><td>2.974537</td><td>0029</td><td>5</td></tr>\n",
              "\t<tr><th scope=row>30</th><td>05</td><td>3.430633</td><td>002</td><td>2.974537</td><td>0030</td><td>3</td></tr>\n",
              "\t<tr><th scope=row>⋮</th><td>⋮</td><td>⋮</td><td>⋮</td><td>⋮</td><td>⋮</td><td>⋮</td></tr>\n",
              "\t<tr><th scope=row>3721</th><td>21</td><td>7.838985</td><td>149</td><td>8.148367</td><td>3721</td><td> 7</td></tr>\n",
              "\t<tr><th scope=row>3722</th><td>22</td><td>9.825352</td><td>149</td><td>8.148367</td><td>3722</td><td>NA</td></tr>\n",
              "\t<tr><th scope=row>3723</th><td>23</td><td>5.406997</td><td>149</td><td>8.148367</td><td>3723</td><td> 5</td></tr>\n",
              "\t<tr><th scope=row>3724</th><td>24</td><td>9.464886</td><td>149</td><td>8.148367</td><td>3724</td><td> 6</td></tr>\n",
              "\t<tr><th scope=row>3725</th><td>25</td><td>1.159749</td><td>149</td><td>8.148367</td><td>3725</td><td> 5</td></tr>\n",
              "\t<tr><th scope=row>3726</th><td>01</td><td>9.748399</td><td>150</td><td>2.984746</td><td>3726</td><td> 5</td></tr>\n",
              "\t<tr><th scope=row>3727</th><td>02</td><td>7.510097</td><td>150</td><td>2.984746</td><td>3727</td><td> 3</td></tr>\n",
              "\t<tr><th scope=row>3728</th><td>03</td><td>9.695834</td><td>150</td><td>2.984746</td><td>3728</td><td> 5</td></tr>\n",
              "\t<tr><th scope=row>3729</th><td>04</td><td>9.361869</td><td>150</td><td>2.984746</td><td>3729</td><td> 4</td></tr>\n",
              "\t<tr><th scope=row>3730</th><td>05</td><td>3.430633</td><td>150</td><td>2.984746</td><td>3730</td><td> 3</td></tr>\n",
              "\t<tr><th scope=row>3731</th><td>06</td><td>7.633564</td><td>150</td><td>2.984746</td><td>3731</td><td> 5</td></tr>\n",
              "\t<tr><th scope=row>3732</th><td>07</td><td>1.800256</td><td>150</td><td>2.984746</td><td>3732</td><td> 2</td></tr>\n",
              "\t<tr><th scope=row>3733</th><td>08</td><td>2.385074</td><td>150</td><td>2.984746</td><td>3733</td><td> 4</td></tr>\n",
              "\t<tr><th scope=row>3734</th><td>09</td><td>2.563063</td><td>150</td><td>2.984746</td><td>3734</td><td> 2</td></tr>\n",
              "\t<tr><th scope=row>3735</th><td>10</td><td>5.086657</td><td>150</td><td>2.984746</td><td>3735</td><td> 3</td></tr>\n",
              "\t<tr><th scope=row>3736</th><td>11</td><td>5.759865</td><td>150</td><td>2.984746</td><td>3736</td><td> 3</td></tr>\n",
              "\t<tr><th scope=row>3737</th><td>12</td><td>1.840302</td><td>150</td><td>2.984746</td><td>3737</td><td> 2</td></tr>\n",
              "\t<tr><th scope=row>3738</th><td>13</td><td>7.399686</td><td>150</td><td>2.984746</td><td>3738</td><td> 4</td></tr>\n",
              "\t<tr><th scope=row>3739</th><td>14</td><td>1.759562</td><td>150</td><td>2.984746</td><td>3739</td><td> 3</td></tr>\n",
              "\t<tr><th scope=row>3740</th><td>15</td><td>3.402594</td><td>150</td><td>2.984746</td><td>3740</td><td> 2</td></tr>\n",
              "\t<tr><th scope=row>3741</th><td>16</td><td>4.768794</td><td>150</td><td>2.984746</td><td>3741</td><td> 3</td></tr>\n",
              "\t<tr><th scope=row>3742</th><td>17</td><td>8.388298</td><td>150</td><td>2.984746</td><td>3742</td><td> 5</td></tr>\n",
              "\t<tr><th scope=row>3743</th><td>18</td><td>4.722635</td><td>150</td><td>2.984746</td><td>3743</td><td> 1</td></tr>\n",
              "\t<tr><th scope=row>3744</th><td>19</td><td>9.869374</td><td>150</td><td>2.984746</td><td>3744</td><td> 5</td></tr>\n",
              "\t<tr><th scope=row>3745</th><td>20</td><td>2.481122</td><td>150</td><td>2.984746</td><td>3745</td><td> 2</td></tr>\n",
              "\t<tr><th scope=row>3746</th><td>21</td><td>7.838985</td><td>150</td><td>2.984746</td><td>3746</td><td> 4</td></tr>\n",
              "\t<tr><th scope=row>3747</th><td>22</td><td>9.825352</td><td>150</td><td>2.984746</td><td>3747</td><td> 6</td></tr>\n",
              "\t<tr><th scope=row>3748</th><td>23</td><td>5.406997</td><td>150</td><td>2.984746</td><td>3748</td><td> 4</td></tr>\n",
              "\t<tr><th scope=row>3749</th><td>24</td><td>9.464886</td><td>150</td><td>2.984746</td><td>3749</td><td> 5</td></tr>\n",
              "\t<tr><th scope=row>3750</th><td>25</td><td>1.159749</td><td>150</td><td>2.984746</td><td>3750</td><td> 3</td></tr>\n",
              "</tbody>\n",
              "</table>\n"
            ],
            "text/markdown": "\nA data.frame: 3750 × 6\n\n| <!--/--> | trials &lt;chr&gt; | trial_shock &lt;dbl&gt; | subjects &lt;chr&gt; | subj_fe &lt;dbl&gt; | observations &lt;chr&gt; | outcome_it &lt;dbl&gt; |\n|---|---|---|---|---|---|---|\n| 1 | 01 | 9.748399 | 001 | 2.622026 | 0001 | 4 |\n| 2 | 02 | 7.510097 | 001 | 2.622026 | 0002 | 4 |\n| 3 | 03 | 9.695834 | 001 | 2.622026 | 0003 | 5 |\n| 4 | 04 | 9.361869 | 001 | 2.622026 | 0004 | 4 |\n| 5 | 05 | 3.430633 | 001 | 2.622026 | 0005 | 3 |\n| 6 | 06 | 7.633564 | 001 | 2.622026 | 0006 | 5 |\n| 7 | 07 | 1.800256 | 001 | 2.622026 | 0007 | 1 |\n| 8 | 08 | 2.385074 | 001 | 2.622026 | 0008 | 2 |\n| 9 | 09 | 2.563063 | 001 | 2.622026 | 0009 | 3 |\n| 10 | 10 | 5.086657 | 001 | 2.622026 | 0010 | 3 |\n| 11 | 11 | 5.759865 | 001 | 2.622026 | 0011 | 3 |\n| 12 | 12 | 1.840302 | 001 | 2.622026 | 0012 | 3 |\n| 13 | 13 | 7.399686 | 001 | 2.622026 | 0013 | 4 |\n| 14 | 14 | 1.759562 | 001 | 2.622026 | 0014 | 1 |\n| 15 | 15 | 3.402594 | 001 | 2.622026 | 0015 | 3 |\n| 16 | 16 | 4.768794 | 001 | 2.622026 | 0016 | 3 |\n| 17 | 17 | 8.388298 | 001 | 2.622026 | 0017 | 5 |\n| 18 | 18 | 4.722635 | 001 | 2.622026 | 0018 | 4 |\n| 19 | 19 | 9.869374 | 001 | 2.622026 | 0019 | 5 |\n| 20 | 20 | 2.481122 | 001 | 2.622026 | 0020 | 3 |\n| 21 | 21 | 7.838985 | 001 | 2.622026 | 0021 | 4 |\n| 22 | 22 | 9.825352 | 001 | 2.622026 | 0022 | 5 |\n| 23 | 23 | 5.406997 | 001 | 2.622026 | 0023 | 4 |\n| 24 | 24 | 9.464886 | 001 | 2.622026 | 0024 | 3 |\n| 25 | 25 | 1.159749 | 001 | 2.622026 | 0025 | 2 |\n| 26 | 01 | 9.748399 | 002 | 2.974537 | 0026 | 5 |\n| 27 | 02 | 7.510097 | 002 | 2.974537 | 0027 | 4 |\n| 28 | 03 | 9.695834 | 002 | 2.974537 | 0028 | 5 |\n| 29 | 04 | 9.361869 | 002 | 2.974537 | 0029 | 5 |\n| 30 | 05 | 3.430633 | 002 | 2.974537 | 0030 | 3 |\n| ⋮ | ⋮ | ⋮ | ⋮ | ⋮ | ⋮ | ⋮ |\n| 3721 | 21 | 7.838985 | 149 | 8.148367 | 3721 |  7 |\n| 3722 | 22 | 9.825352 | 149 | 8.148367 | 3722 | NA |\n| 3723 | 23 | 5.406997 | 149 | 8.148367 | 3723 |  5 |\n| 3724 | 24 | 9.464886 | 149 | 8.148367 | 3724 |  6 |\n| 3725 | 25 | 1.159749 | 149 | 8.148367 | 3725 |  5 |\n| 3726 | 01 | 9.748399 | 150 | 2.984746 | 3726 |  5 |\n| 3727 | 02 | 7.510097 | 150 | 2.984746 | 3727 |  3 |\n| 3728 | 03 | 9.695834 | 150 | 2.984746 | 3728 |  5 |\n| 3729 | 04 | 9.361869 | 150 | 2.984746 | 3729 |  4 |\n| 3730 | 05 | 3.430633 | 150 | 2.984746 | 3730 |  3 |\n| 3731 | 06 | 7.633564 | 150 | 2.984746 | 3731 |  5 |\n| 3732 | 07 | 1.800256 | 150 | 2.984746 | 3732 |  2 |\n| 3733 | 08 | 2.385074 | 150 | 2.984746 | 3733 |  4 |\n| 3734 | 09 | 2.563063 | 150 | 2.984746 | 3734 |  2 |\n| 3735 | 10 | 5.086657 | 150 | 2.984746 | 3735 |  3 |\n| 3736 | 11 | 5.759865 | 150 | 2.984746 | 3736 |  3 |\n| 3737 | 12 | 1.840302 | 150 | 2.984746 | 3737 |  2 |\n| 3738 | 13 | 7.399686 | 150 | 2.984746 | 3738 |  4 |\n| 3739 | 14 | 1.759562 | 150 | 2.984746 | 3739 |  3 |\n| 3740 | 15 | 3.402594 | 150 | 2.984746 | 3740 |  2 |\n| 3741 | 16 | 4.768794 | 150 | 2.984746 | 3741 |  3 |\n| 3742 | 17 | 8.388298 | 150 | 2.984746 | 3742 |  5 |\n| 3743 | 18 | 4.722635 | 150 | 2.984746 | 3743 |  1 |\n| 3744 | 19 | 9.869374 | 150 | 2.984746 | 3744 |  5 |\n| 3745 | 20 | 2.481122 | 150 | 2.984746 | 3745 |  2 |\n| 3746 | 21 | 7.838985 | 150 | 2.984746 | 3746 |  4 |\n| 3747 | 22 | 9.825352 | 150 | 2.984746 | 3747 |  6 |\n| 3748 | 23 | 5.406997 | 150 | 2.984746 | 3748 |  4 |\n| 3749 | 24 | 9.464886 | 150 | 2.984746 | 3749 |  5 |\n| 3750 | 25 | 1.159749 | 150 | 2.984746 | 3750 |  3 |\n\n",
            "text/latex": "A data.frame: 3750 × 6\n\\begin{tabular}{r|llllll}\n  & trials & trial\\_shock & subjects & subj\\_fe & observations & outcome\\_it\\\\\n  & <chr> & <dbl> & <chr> & <dbl> & <chr> & <dbl>\\\\\n\\hline\n\t1 & 01 & 9.748399 & 001 & 2.622026 & 0001 & 4\\\\\n\t2 & 02 & 7.510097 & 001 & 2.622026 & 0002 & 4\\\\\n\t3 & 03 & 9.695834 & 001 & 2.622026 & 0003 & 5\\\\\n\t4 & 04 & 9.361869 & 001 & 2.622026 & 0004 & 4\\\\\n\t5 & 05 & 3.430633 & 001 & 2.622026 & 0005 & 3\\\\\n\t6 & 06 & 7.633564 & 001 & 2.622026 & 0006 & 5\\\\\n\t7 & 07 & 1.800256 & 001 & 2.622026 & 0007 & 1\\\\\n\t8 & 08 & 2.385074 & 001 & 2.622026 & 0008 & 2\\\\\n\t9 & 09 & 2.563063 & 001 & 2.622026 & 0009 & 3\\\\\n\t10 & 10 & 5.086657 & 001 & 2.622026 & 0010 & 3\\\\\n\t11 & 11 & 5.759865 & 001 & 2.622026 & 0011 & 3\\\\\n\t12 & 12 & 1.840302 & 001 & 2.622026 & 0012 & 3\\\\\n\t13 & 13 & 7.399686 & 001 & 2.622026 & 0013 & 4\\\\\n\t14 & 14 & 1.759562 & 001 & 2.622026 & 0014 & 1\\\\\n\t15 & 15 & 3.402594 & 001 & 2.622026 & 0015 & 3\\\\\n\t16 & 16 & 4.768794 & 001 & 2.622026 & 0016 & 3\\\\\n\t17 & 17 & 8.388298 & 001 & 2.622026 & 0017 & 5\\\\\n\t18 & 18 & 4.722635 & 001 & 2.622026 & 0018 & 4\\\\\n\t19 & 19 & 9.869374 & 001 & 2.622026 & 0019 & 5\\\\\n\t20 & 20 & 2.481122 & 001 & 2.622026 & 0020 & 3\\\\\n\t21 & 21 & 7.838985 & 001 & 2.622026 & 0021 & 4\\\\\n\t22 & 22 & 9.825352 & 001 & 2.622026 & 0022 & 5\\\\\n\t23 & 23 & 5.406997 & 001 & 2.622026 & 0023 & 4\\\\\n\t24 & 24 & 9.464886 & 001 & 2.622026 & 0024 & 3\\\\\n\t25 & 25 & 1.159749 & 001 & 2.622026 & 0025 & 2\\\\\n\t26 & 01 & 9.748399 & 002 & 2.974537 & 0026 & 5\\\\\n\t27 & 02 & 7.510097 & 002 & 2.974537 & 0027 & 4\\\\\n\t28 & 03 & 9.695834 & 002 & 2.974537 & 0028 & 5\\\\\n\t29 & 04 & 9.361869 & 002 & 2.974537 & 0029 & 5\\\\\n\t30 & 05 & 3.430633 & 002 & 2.974537 & 0030 & 3\\\\\n\t⋮ & ⋮ & ⋮ & ⋮ & ⋮ & ⋮ & ⋮\\\\\n\t3721 & 21 & 7.838985 & 149 & 8.148367 & 3721 &  7\\\\\n\t3722 & 22 & 9.825352 & 149 & 8.148367 & 3722 & NA\\\\\n\t3723 & 23 & 5.406997 & 149 & 8.148367 & 3723 &  5\\\\\n\t3724 & 24 & 9.464886 & 149 & 8.148367 & 3724 &  6\\\\\n\t3725 & 25 & 1.159749 & 149 & 8.148367 & 3725 &  5\\\\\n\t3726 & 01 & 9.748399 & 150 & 2.984746 & 3726 &  5\\\\\n\t3727 & 02 & 7.510097 & 150 & 2.984746 & 3727 &  3\\\\\n\t3728 & 03 & 9.695834 & 150 & 2.984746 & 3728 &  5\\\\\n\t3729 & 04 & 9.361869 & 150 & 2.984746 & 3729 &  4\\\\\n\t3730 & 05 & 3.430633 & 150 & 2.984746 & 3730 &  3\\\\\n\t3731 & 06 & 7.633564 & 150 & 2.984746 & 3731 &  5\\\\\n\t3732 & 07 & 1.800256 & 150 & 2.984746 & 3732 &  2\\\\\n\t3733 & 08 & 2.385074 & 150 & 2.984746 & 3733 &  4\\\\\n\t3734 & 09 & 2.563063 & 150 & 2.984746 & 3734 &  2\\\\\n\t3735 & 10 & 5.086657 & 150 & 2.984746 & 3735 &  3\\\\\n\t3736 & 11 & 5.759865 & 150 & 2.984746 & 3736 &  3\\\\\n\t3737 & 12 & 1.840302 & 150 & 2.984746 & 3737 &  2\\\\\n\t3738 & 13 & 7.399686 & 150 & 2.984746 & 3738 &  4\\\\\n\t3739 & 14 & 1.759562 & 150 & 2.984746 & 3739 &  3\\\\\n\t3740 & 15 & 3.402594 & 150 & 2.984746 & 3740 &  2\\\\\n\t3741 & 16 & 4.768794 & 150 & 2.984746 & 3741 &  3\\\\\n\t3742 & 17 & 8.388298 & 150 & 2.984746 & 3742 &  5\\\\\n\t3743 & 18 & 4.722635 & 150 & 2.984746 & 3743 &  1\\\\\n\t3744 & 19 & 9.869374 & 150 & 2.984746 & 3744 &  5\\\\\n\t3745 & 20 & 2.481122 & 150 & 2.984746 & 3745 &  2\\\\\n\t3746 & 21 & 7.838985 & 150 & 2.984746 & 3746 &  4\\\\\n\t3747 & 22 & 9.825352 & 150 & 2.984746 & 3747 &  6\\\\\n\t3748 & 23 & 5.406997 & 150 & 2.984746 & 3748 &  4\\\\\n\t3749 & 24 & 9.464886 & 150 & 2.984746 & 3749 &  5\\\\\n\t3750 & 25 & 1.159749 & 150 & 2.984746 & 3750 &  3\\\\\n\\end{tabular}\n",
            "text/plain": [
              "     trials trial_shock subjects subj_fe  observations outcome_it\n",
              "1    01     9.748399    001      2.622026 0001         4         \n",
              "2    02     7.510097    001      2.622026 0002         4         \n",
              "3    03     9.695834    001      2.622026 0003         5         \n",
              "4    04     9.361869    001      2.622026 0004         4         \n",
              "5    05     3.430633    001      2.622026 0005         3         \n",
              "6    06     7.633564    001      2.622026 0006         5         \n",
              "7    07     1.800256    001      2.622026 0007         1         \n",
              "8    08     2.385074    001      2.622026 0008         2         \n",
              "9    09     2.563063    001      2.622026 0009         3         \n",
              "10   10     5.086657    001      2.622026 0010         3         \n",
              "11   11     5.759865    001      2.622026 0011         3         \n",
              "12   12     1.840302    001      2.622026 0012         3         \n",
              "13   13     7.399686    001      2.622026 0013         4         \n",
              "14   14     1.759562    001      2.622026 0014         1         \n",
              "15   15     3.402594    001      2.622026 0015         3         \n",
              "16   16     4.768794    001      2.622026 0016         3         \n",
              "17   17     8.388298    001      2.622026 0017         5         \n",
              "18   18     4.722635    001      2.622026 0018         4         \n",
              "19   19     9.869374    001      2.622026 0019         5         \n",
              "20   20     2.481122    001      2.622026 0020         3         \n",
              "21   21     7.838985    001      2.622026 0021         4         \n",
              "22   22     9.825352    001      2.622026 0022         5         \n",
              "23   23     5.406997    001      2.622026 0023         4         \n",
              "24   24     9.464886    001      2.622026 0024         3         \n",
              "25   25     1.159749    001      2.622026 0025         2         \n",
              "26   01     9.748399    002      2.974537 0026         5         \n",
              "27   02     7.510097    002      2.974537 0027         4         \n",
              "28   03     9.695834    002      2.974537 0028         5         \n",
              "29   04     9.361869    002      2.974537 0029         5         \n",
              "30   05     3.430633    002      2.974537 0030         3         \n",
              "⋮    ⋮      ⋮           ⋮        ⋮        ⋮            ⋮         \n",
              "3721 21     7.838985    149      8.148367 3721          7        \n",
              "3722 22     9.825352    149      8.148367 3722         NA        \n",
              "3723 23     5.406997    149      8.148367 3723          5        \n",
              "3724 24     9.464886    149      8.148367 3724          6        \n",
              "3725 25     1.159749    149      8.148367 3725          5        \n",
              "3726 01     9.748399    150      2.984746 3726          5        \n",
              "3727 02     7.510097    150      2.984746 3727          3        \n",
              "3728 03     9.695834    150      2.984746 3728          5        \n",
              "3729 04     9.361869    150      2.984746 3729          4        \n",
              "3730 05     3.430633    150      2.984746 3730          3        \n",
              "3731 06     7.633564    150      2.984746 3731          5        \n",
              "3732 07     1.800256    150      2.984746 3732          2        \n",
              "3733 08     2.385074    150      2.984746 3733          4        \n",
              "3734 09     2.563063    150      2.984746 3734          2        \n",
              "3735 10     5.086657    150      2.984746 3735          3        \n",
              "3736 11     5.759865    150      2.984746 3736          3        \n",
              "3737 12     1.840302    150      2.984746 3737          2        \n",
              "3738 13     7.399686    150      2.984746 3738          4        \n",
              "3739 14     1.759562    150      2.984746 3739          3        \n",
              "3740 15     3.402594    150      2.984746 3740          2        \n",
              "3741 16     4.768794    150      2.984746 3741          3        \n",
              "3742 17     8.388298    150      2.984746 3742          5        \n",
              "3743 18     4.722635    150      2.984746 3743          1        \n",
              "3744 19     9.869374    150      2.984746 3744          5        \n",
              "3745 20     2.481122    150      2.984746 3745          2        \n",
              "3746 21     7.838985    150      2.984746 3746          4        \n",
              "3747 22     9.825352    150      2.984746 3747          6        \n",
              "3748 23     5.406997    150      2.984746 3748          4        \n",
              "3749 24     9.464886    150      2.984746 3749          5        \n",
              "3750 25     1.159749    150      2.984746 3750          3        "
            ]
          },
          "metadata": {}
        }
      ]
    },
    {
      "cell_type": "code",
      "source": [
        "library(DeclareDesign)\n",
        "\n",
        "design <-\n",
        "  declare_model(\n",
        "    N = 100,\n",
        "    potential_outcomes(Y ~ rbinom(N, size = 1, prob = 0.5 + 0.2 * Z))\n",
        "  ) +\n",
        "  declare_inquiry(ATE = 0.2) +\n",
        "  declare_assignment(Z = complete_ra(N, m = 50)) +\n",
        "  declare_measurement(Y = reveal_outcomes(Y ~ Z)) +\n",
        "  declare_estimator(Y ~ Z, .method = lm_robust, inquiry = \"ATE\")\n",
        "\n",
        "diagnosands <-\n",
        "  declare_diagnosands(bias = mean(estimate - estimand),\n",
        "                      power = mean(p.value <= 0.05))\n",
        "\n",
        "diagnosis <- diagnose_design(design, diagnosands = diagnosands)\n",
        "diagnosis"
      ],
      "metadata": {
        "colab": {
          "base_uri": "https://localhost:8080/",
          "height": 232
        },
        "id": "q-TqASydMG9l",
        "outputId": "e8541fc1-cec0-4776-809c-1b4f7c0706e4"
      },
      "execution_count": 8,
      "outputs": [
        {
          "output_type": "stream",
          "name": "stderr",
          "text": [
            "Loading required package: randomizr\n",
            "\n",
            "Loading required package: estimatr\n",
            "\n"
          ]
        },
        {
          "output_type": "display_data",
          "data": {
            "text/plain": [
              "\n",
              "Research design diagnosis based on 500 simulations. Diagnosis completed in 8 secs. Diagnosand estimates with bootstrapped standard errors in parentheses (100 replicates).\n",
              "\n",
              " Design Inquiry Estimator Outcome Term N Sims   Bias  Power\n",
              " design     ATE estimator       Y    Z    500   0.00   0.57\n",
              "                                              (0.00) (0.02)"
            ]
          },
          "metadata": {}
        }
      ]
    },
    {
      "cell_type": "code",
      "source": [
        "designs <- redesign(design, N = c(100, 200, 300, 500))\n",
        "diagnose_design(designs)"
      ],
      "metadata": {
        "colab": {
          "base_uri": "https://localhost:8080/",
          "height": 427
        },
        "id": "HOnQ65WXOyB6",
        "outputId": "0c4ff729-79a1-487f-9f93-57dd05534dde"
      },
      "execution_count": 9,
      "outputs": [
        {
          "output_type": "display_data",
          "data": {
            "text/plain": [
              "\n",
              "Research design diagnosis based on 500 simulations. Diagnosis completed in 29 secs. Diagnosand estimates with bootstrapped standard errors in parentheses (100 replicates).\n",
              "\n",
              "   Design   N Inquiry Estimator Outcome Term N Sims Mean Estimand Mean Estimate\n",
              " design_1 100     ATE estimator       Y    Z    500          0.20          0.21\n",
              "                                                           (0.00)        (0.00)\n",
              " design_2 200     ATE estimator       Y    Z    500          0.20          0.20\n",
              "                                                           (0.00)        (0.00)\n",
              " design_3 300     ATE estimator       Y    Z    500          0.20          0.20\n",
              "                                                           (0.00)        (0.00)\n",
              " design_4 500     ATE estimator       Y    Z    500          0.20          0.20\n",
              "                                                           (0.00)        (0.00)\n",
              "   Bias SD Estimate   RMSE  Power Coverage\n",
              "   0.01        0.09   0.09   0.58     0.96\n",
              " (0.00)      (0.00) (0.00) (0.02)   (0.01)\n",
              "  -0.00        0.10   0.10   0.54     0.94\n",
              " (0.00)      (0.00) (0.00) (0.02)   (0.01)\n",
              "  -0.00        0.10   0.10   0.53     0.95\n",
              " (0.00)      (0.00) (0.00) (0.02)   (0.01)\n",
              "  -0.00        0.10   0.10   0.53     0.93\n",
              " (0.00)      (0.00) (0.00) (0.02)   (0.01)"
            ]
          },
          "metadata": {}
        }
      ]
    },
    {
      "cell_type": "code",
      "source": [
        "library(DeclareDesign)\n",
        "\n",
        "design <-\n",
        "  declare_model(\n",
        "    N = 100,\n",
        "    potential_outcomes(Y ~ draw_likert(x = Z + 10 + rnorm(N, 0, 2), min = 0, max = 20, bins = 7))\n",
        "  ) +\n",
        "  declare_inquiry(ATE = 1) +\n",
        "  declare_assignment(Z = complete_ra(N, m = 50)) +\n",
        "  declare_measurement(Y = reveal_outcomes(Y ~ Z)) +\n",
        "  declare_estimator(Y ~ Z, .method = lm_robust, inquiry = \"ATE\")\n",
        "\n",
        "diagnosands <-\n",
        "  declare_diagnosands(bias = mean(estimate - estimand),\n",
        "                      power = mean(p.value <= 0.05))\n",
        "\n",
        "diagnosis <- diagnose_design(design, diagnosands = diagnosands)\n",
        "diagnosis"
      ],
      "metadata": {
        "colab": {
          "base_uri": "https://localhost:8080/",
          "height": 161
        },
        "id": "ty1fGpi-Rxhg",
        "outputId": "a53a64d5-d921-4fd9-a286-f9bbf92d6302"
      },
      "execution_count": null,
      "outputs": [
        {
          "output_type": "display_data",
          "data": {
            "text/plain": [
              "\n",
              "Research design diagnosis based on 500 simulations. Diagnosis completed in 7 secs. Diagnosand estimates with bootstrapped standard errors in parentheses (100 replicates).\n",
              "\n",
              " Design Inquiry Estimator Outcome Term N Sims   Bias  Power\n",
              " design     ATE estimator       Y    Z    500  -0.65   0.61\n",
              "                                              (0.01) (0.02)"
            ]
          },
          "metadata": {}
        }
      ]
    },
    {
      "cell_type": "markdown",
      "source": [
        "## Re-Designing\n",
        "https://book.declaredesign.org/declaration-diagnosis-redesign/redesigning.html\n",
        "\n",
        "We start with a minimal design declaration: we draw samples of size  and measure a single binary outcome , then conduct a test against the null hypothesis that the true proportion of successes is equal to 0.5."
      ],
      "metadata": {
        "id": "K3Be8mN3gjCV"
      }
    },
    {
      "cell_type": "code",
      "source": [
        "\n",
        "N <- 100\n",
        "\n",
        "declaration_11.1 <-\n",
        "  declare_model(N = N) +\n",
        "  declare_measurement(Y = rbinom(n = N, size = 1, prob = 0.55)) +\n",
        "  declare_test(handler =\n",
        "                 label_estimator(function(data) {\n",
        "                   test <- prop.test(x = table(data$Y), p = 0.5)\n",
        "                   tidy(test)\n",
        "                 }))\n"
      ],
      "metadata": {
        "id": "Fu6azjp1hOfW"
      },
      "execution_count": 19,
      "outputs": []
    },
    {
      "cell_type": "code",
      "source": [
        "diagnosis_11.1 <-\n",
        "  declaration_11.1 |>\n",
        "  redesign(N = seq(100, 1000, 100)) |>\n",
        "  diagnose_designs()\n",
        "\n"
      ],
      "metadata": {
        "id": "RkzUB6FnhRit"
      },
      "execution_count": 23,
      "outputs": []
    },
    {
      "cell_type": "code",
      "source": [
        "diagnosis_11.1"
      ],
      "metadata": {
        "id": "iTsk87Q8iTTo",
        "outputId": "2d7b49e8-55c9-4188-b38e-3852688dbdac",
        "colab": {
          "base_uri": "https://localhost:8080/",
          "height": 852
        }
      },
      "execution_count": 24,
      "outputs": [
        {
          "output_type": "display_data",
          "data": {
            "text/plain": [
              "\n",
              "Research design diagnosis based on 500 simulations. Diagnosis completed in 1 mins. Diagnosand estimates with bootstrapped standard errors in parentheses (100 replicates).\n",
              "\n",
              "    Design    N Estimator N Sims Mean Estimand Mean Estimate Bias SD Estimate\n",
              "  design_1  100      test    500            NA          0.45   NA        0.05\n",
              "                                            NA        (0.00)   NA      (0.00)\n",
              "  design_2  200      test    500            NA          0.45   NA        0.04\n",
              "                                            NA        (0.00)   NA      (0.00)\n",
              "  design_3  300      test    500            NA          0.45   NA        0.03\n",
              "                                            NA        (0.00)   NA      (0.00)\n",
              "  design_4  400      test    500            NA          0.45   NA        0.03\n",
              "                                            NA        (0.00)   NA      (0.00)\n",
              "  design_5  500      test    500            NA          0.45   NA        0.02\n",
              "                                            NA        (0.00)   NA      (0.00)\n",
              "  design_6  600      test    500            NA          0.45   NA        0.02\n",
              "                                            NA        (0.00)   NA      (0.00)\n",
              "  design_7  700      test    500            NA          0.45   NA        0.02\n",
              "                                            NA        (0.00)   NA      (0.00)\n",
              "  design_8  800      test    500            NA          0.45   NA        0.02\n",
              "                                            NA        (0.00)   NA      (0.00)\n",
              "  design_9  900      test    500            NA          0.45   NA        0.02\n",
              "                                            NA        (0.00)   NA      (0.00)\n",
              " design_10 1000      test    500            NA          0.45   NA        0.01\n",
              "                                            NA        (0.00)   NA      (0.00)\n",
              " RMSE  Power Coverage\n",
              "   NA   0.13       NA\n",
              "   NA (0.01)       NA\n",
              "   NA   0.25       NA\n",
              "   NA (0.02)       NA\n",
              "   NA   0.42       NA\n",
              "   NA (0.02)       NA\n",
              "   NA   0.44       NA\n",
              "   NA (0.02)       NA\n",
              "   NA   0.59       NA\n",
              "   NA (0.02)       NA\n",
              "   NA   0.70       NA\n",
              "   NA (0.02)       NA\n",
              "   NA   0.74       NA\n",
              "   NA (0.02)       NA\n",
              "   NA   0.79       NA\n",
              "   NA (0.02)       NA\n",
              "   NA   0.85       NA\n",
              "   NA (0.01)       NA\n",
              "   NA   0.90       NA\n",
              "   NA (0.01)       NA"
            ]
          },
          "metadata": {}
        }
      ]
    }
  ]
}