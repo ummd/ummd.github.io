{
  "nbformat": 4,
  "nbformat_minor": 0,
  "metadata": {
    "colab": {
      "provenance": [],
      "authorship_tag": "ABX9TyPqFvSFM/raaeApGzYnzyyX",
      "include_colab_link": true
    },
    "kernelspec": {
      "name": "ir",
      "display_name": "R"
    },
    "language_info": {
      "name": "R"
    }
  },
  "cells": [
    {
      "cell_type": "markdown",
      "metadata": {
        "id": "view-in-github",
        "colab_type": "text"
      },
      "source": [
        "<a href=\"https://colab.research.google.com/github/ummd/ummd.github.io/blob/master/Teaching/RSM3053/L4.ipynb\" target=\"_parent\"><img src=\"https://colab.research.google.com/assets/colab-badge.svg\" alt=\"Open In Colab\"/></a>"
      ]
    },
    {
      "cell_type": "markdown",
      "source": [
        "# Estimate a Logit by Maximum Likelihood\n",
        "\n",
        "Start by defining the Logit function\n",
        "$$p(x) = \\frac{e^{\\beta_0 + \\beta_1 x}}{1+e^{\\beta_0 + \\beta_1 x}} = \\frac{1}{1+e^{-(\\beta_0 + \\beta_1 x)}}$$\n"
      ],
      "metadata": {
        "id": "HdDW1ZBy5zis"
      }
    },
    {
      "cell_type": "code",
      "execution_count": 55,
      "metadata": {
        "id": "JD9jvgNd5a8i"
      },
      "outputs": [],
      "source": [
        "logit <- function(par,x){\n",
        "  p <- 1/(1+exp(-par[1]-par[2]*x))\n",
        "}"
      ]
    },
    {
      "cell_type": "code",
      "source": [
        "#simulate data\n",
        "n <-200\n",
        "set.seed(1)\n",
        "x <- runif(n,-2,2)\n",
        "par <- c(0,1)\n",
        "p <- logit(par,x)\n",
        "y <- rbinom(n,1,p)\n",
        "\n",
        "data <- data.frame(y,x)\n",
        "\n"
      ],
      "metadata": {
        "id": "NwZU-O515rBH"
      },
      "execution_count": 56,
      "outputs": []
    },
    {
      "cell_type": "code",
      "source": [
        "#define ll\n",
        "nll_logit <- function(par,data){\n",
        "  y <- data$y\n",
        "  x <- data$x\n",
        "  p <- logit(par,x)\n",
        "  nLL <- -sum((y*log(p) + (1-y)*log(1-p)))\n",
        "  return(nLL)\n",
        "}\n"
      ],
      "metadata": {
        "id": "5k27jMYz5r2S"
      },
      "execution_count": 57,
      "outputs": []
    },
    {
      "cell_type": "code",
      "source": [
        "#what is LL at initial point?\n",
        "par0 <- c(0,0)\n",
        "-nll_logit(par0,data)\n",
        "\n",
        "#what is LL at true value?\n",
        "-nll_logit(par,data)"
      ],
      "metadata": {
        "id": "q_9sKcqy5rod",
        "outputId": "687ab66e-5639-49f2-ab20-32b16f6bf59f",
        "colab": {
          "base_uri": "https://localhost:8080/",
          "height": 72
        }
      },
      "execution_count": 58,
      "outputs": [
        {
          "output_type": "display_data",
          "data": {
            "text/html": [
              "-138.629436111989"
            ],
            "text/markdown": "-138.629436111989",
            "text/latex": "-138.629436111989",
            "text/plain": [
              "[1] -138.6294"
            ]
          },
          "metadata": {}
        },
        {
          "output_type": "display_data",
          "data": {
            "text/html": [
              "-106.516870019898"
            ],
            "text/markdown": "-106.516870019898",
            "text/latex": "-106.516870019898",
            "text/plain": [
              "[1] -106.5169"
            ]
          },
          "metadata": {}
        }
      ]
    },
    {
      "cell_type": "code",
      "source": [
        "#what are the parameter values that maximize LL? (i.e. minimize nLL)\n",
        "out <- optim(par0,nll_logit,method=\"BFGS\",control=list(maxit=2000,reltol=1e-4), data=data)\n",
        "out"
      ],
      "metadata": {
        "id": "ZUa0-Mre7lJY",
        "outputId": "d61eb503-bdf2-4d06-f1d2-48f75e822c0d",
        "colab": {
          "base_uri": "https://localhost:8080/",
          "height": 237
        }
      },
      "execution_count": 59,
      "outputs": [
        {
          "output_type": "display_data",
          "data": {
            "text/html": [
              "<dl>\n",
              "\t<dt>$par</dt>\n",
              "\t\t<dd><style>\n",
              ".list-inline {list-style: none; margin:0; padding: 0}\n",
              ".list-inline>li {display: inline-block}\n",
              ".list-inline>li:not(:last-child)::after {content: \"\\00b7\"; padding: 0 .5ex}\n",
              "</style>\n",
              "<ol class=list-inline><li>-0.157771737550309</li><li>1.30551113568094</li></ol>\n",
              "</dd>\n",
              "\t<dt>$value</dt>\n",
              "\t\t<dd>104.791093088533</dd>\n",
              "\t<dt>$counts</dt>\n",
              "\t\t<dd><style>\n",
              ".dl-inline {width: auto; margin:0; padding: 0}\n",
              ".dl-inline>dt, .dl-inline>dd {float: none; width: auto; display: inline-block}\n",
              ".dl-inline>dt::after {content: \":\\0020\"; padding-right: .5ex}\n",
              ".dl-inline>dt:not(:first-of-type) {padding-left: .5ex}\n",
              "</style><dl class=dl-inline><dt>function</dt><dd>13</dd><dt>gradient</dt><dd>6</dd></dl>\n",
              "</dd>\n",
              "\t<dt>$convergence</dt>\n",
              "\t\t<dd>0</dd>\n",
              "\t<dt>$message</dt>\n",
              "\t\t<dd>NULL</dd>\n",
              "</dl>\n"
            ],
            "text/markdown": "$par\n:   1. -0.157771737550309\n2. 1.30551113568094\n\n\n\n$value\n:   104.791093088533\n$counts\n:   function\n:   13gradient\n:   6\n\n\n$convergence\n:   0\n$message\n:   NULL\n\n\n",
            "text/latex": "\\begin{description}\n\\item[\\$par] \\begin{enumerate*}\n\\item -0.157771737550309\n\\item 1.30551113568094\n\\end{enumerate*}\n\n\\item[\\$value] 104.791093088533\n\\item[\\$counts] \\begin{description*}\n\\item[function] 13\n\\item[gradient] 6\n\\end{description*}\n\n\\item[\\$convergence] 0\n\\item[\\$message] NULL\n\\end{description}\n",
            "text/plain": [
              "$par\n",
              "[1] -0.1577717  1.3055111\n",
              "\n",
              "$value\n",
              "[1] 104.7911\n",
              "\n",
              "$counts\n",
              "function gradient \n",
              "      13        6 \n",
              "\n",
              "$convergence\n",
              "[1] 0\n",
              "\n",
              "$message\n",
              "NULL\n"
            ]
          },
          "metadata": {}
        }
      ]
    },
    {
      "cell_type": "code",
      "source": [
        "#define ll\n",
        "nll_logit_sim <- function(par,data,S){\n",
        "  y <- data$y\n",
        "  x <- data$x\n",
        "\n",
        "  set.seed(1)\n",
        "  y.s<- replicate(S,rbinom(n,1,logit(par,x)))\n",
        "\n",
        "  p.s <- rowMeans(y.s)\n",
        "  nLL <- -sum((y*log(p.s) + (1-y)*log(1-p.s)))\n",
        "\n",
        "  return(nLL)\n",
        "}"
      ],
      "metadata": {
        "id": "CnwxKJ3uAqYn"
      },
      "execution_count": 60,
      "outputs": []
    },
    {
      "cell_type": "code",
      "source": [
        "S <- 10000\n",
        "out <- optim(par0,nll_logit_sim,method=\"BFGS\",control=list(maxit=2000,reltol=1e-4), data=data, S=S)\n",
        "out"
      ],
      "metadata": {
        "id": "_mYtXbylFwkN",
        "outputId": "99fd0363-59d7-47e4-d5f6-0e77120e5293",
        "colab": {
          "base_uri": "https://localhost:8080/",
          "height": 237
        }
      },
      "execution_count": 62,
      "outputs": [
        {
          "output_type": "display_data",
          "data": {
            "text/html": [
              "<dl>\n",
              "\t<dt>$par</dt>\n",
              "\t\t<dd><style>\n",
              ".list-inline {list-style: none; margin:0; padding: 0}\n",
              ".list-inline>li {display: inline-block}\n",
              ".list-inline>li:not(:last-child)::after {content: \"\\00b7\"; padding: 0 .5ex}\n",
              "</style>\n",
              "<ol class=list-inline><li>-0.154879040752114</li><li>1.24635713252147</li></ol>\n",
              "</dd>\n",
              "\t<dt>$value</dt>\n",
              "\t\t<dd>104.738374913634</dd>\n",
              "\t<dt>$counts</dt>\n",
              "\t\t<dd><style>\n",
              ".dl-inline {width: auto; margin:0; padding: 0}\n",
              ".dl-inline>dt, .dl-inline>dd {float: none; width: auto; display: inline-block}\n",
              ".dl-inline>dt::after {content: \":\\0020\"; padding-right: .5ex}\n",
              ".dl-inline>dt:not(:first-of-type) {padding-left: .5ex}\n",
              "</style><dl class=dl-inline><dt>function</dt><dd>31</dd><dt>gradient</dt><dd>7</dd></dl>\n",
              "</dd>\n",
              "\t<dt>$convergence</dt>\n",
              "\t\t<dd>0</dd>\n",
              "\t<dt>$message</dt>\n",
              "\t\t<dd>NULL</dd>\n",
              "</dl>\n"
            ],
            "text/markdown": "$par\n:   1. -0.154879040752114\n2. 1.24635713252147\n\n\n\n$value\n:   104.738374913634\n$counts\n:   function\n:   31gradient\n:   7\n\n\n$convergence\n:   0\n$message\n:   NULL\n\n\n",
            "text/latex": "\\begin{description}\n\\item[\\$par] \\begin{enumerate*}\n\\item -0.154879040752114\n\\item 1.24635713252147\n\\end{enumerate*}\n\n\\item[\\$value] 104.738374913634\n\\item[\\$counts] \\begin{description*}\n\\item[function] 31\n\\item[gradient] 7\n\\end{description*}\n\n\\item[\\$convergence] 0\n\\item[\\$message] NULL\n\\end{description}\n",
            "text/plain": [
              "$par\n",
              "[1] -0.154879  1.246357\n",
              "\n",
              "$value\n",
              "[1] 104.7384\n",
              "\n",
              "$counts\n",
              "function gradient \n",
              "      31        7 \n",
              "\n",
              "$convergence\n",
              "[1] 0\n",
              "\n",
              "$message\n",
              "NULL\n"
            ]
          },
          "metadata": {}
        }
      ]
    }
  ]
}