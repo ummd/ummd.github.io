{
  "nbformat": 4,
  "nbformat_minor": 0,
  "metadata": {
    "kernelspec": {
      "display_name": "R",
      "language": "R",
      "name": "ir"
    },
    "language_info": {
      "codemirror_mode": "r",
      "file_extension": ".r",
      "mimetype": "text/x-r-source",
      "name": "R",
      "pygments_lexer": "r",
      "version": "3.5.0"
    },
    "colab": {
      "name": "Lecture5c.ipynb",
      "provenance": [],
      "include_colab_link": true
    }
  },
  "cells": [
    {
      "cell_type": "markdown",
      "metadata": {
        "id": "view-in-github",
        "colab_type": "text"
      },
      "source": [
        "<a href=\"https://colab.research.google.com/github/ummd/ummd.github.io/blob/master/Teaching/Lecture5/Lecture5c.ipynb\" target=\"_parent\"><img src=\"https://colab.research.google.com/assets/colab-badge.svg\" alt=\"Open In Colab\"/></a>"
      ]
    },
    {
      "cell_type": "markdown",
      "metadata": {
        "id": "nTwFe_MtwO06"
      },
      "source": [
        "# Robust Estimator of Covariance Matrix\n",
        "\n",
        "## A dataset without heteroskedasticity"
      ]
    },
    {
      "cell_type": "code",
      "metadata": {
        "id": "5QFPyDfLwX0v",
        "colab": {
          "base_uri": "https://localhost:8080/",
          "height": 418
        },
        "outputId": "8bc7b9c6-8a03-4264-93db-e7bb233a76a2"
      },
      "source": [
        "if (!require(lmtest)) install.packages(\"lmtest\")\n",
        "if (!require(sandwich)) install.packages(\"sandwich\")\n",
        "library(lmtest)\n",
        "library(sandwich)\n"
      ],
      "execution_count": null,
      "outputs": [
        {
          "output_type": "stream",
          "name": "stderr",
          "text": [
            "Loading required package: lmertest\n",
            "\n",
            "Warning message in library(package, lib.loc = lib.loc, character.only = TRUE, logical.return = TRUE, :\n",
            "“there is no package called ‘lmertest’”\n",
            "Installing package into ‘/usr/local/lib/R/site-library’\n",
            "(as ‘lib’ is unspecified)\n",
            "\n",
            "Warning message:\n",
            "“package ‘lmertest’ is not available for this version of R\n",
            "\n",
            "A version of this package for your version of R might be available elsewhere,\n",
            "see the ideas at\n",
            "https://cran.r-project.org/doc/manuals/r-patched/R-admin.html#Installing-packages”\n",
            "Warning message:\n",
            "“Perhaps you meant ‘lmerTest’ ?”\n"
          ]
        },
        {
          "output_type": "error",
          "ename": "ERROR",
          "evalue": "ignored",
          "traceback": [
            "Error in library(lmertest): there is no package called ‘lmertest’\nTraceback:\n",
            "1. library(lmertest)"
          ]
        }
      ]
    },
    {
      "cell_type": "code",
      "metadata": {
        "id": "cY2d46OnwO08",
        "colab": {
          "base_uri": "https://localhost:8080/",
          "height": 356
        },
        "outputId": "27c30d1a-bd8a-412d-a5ea-b61eabdf0197"
      },
      "source": [
        "\n",
        "set.seed(1)\n",
        "N<-50\n",
        "# generate linear regression relationship\n",
        "# with Homoskedastic variances\n",
        "b<-.1\n",
        "\n",
        "x <- sin(1:N)\n",
        "y <- 1 + b*x + 5*rnorm(N)\n",
        "## model fit\n",
        "lm.fit <- lm(y ~ x)\n",
        "\n",
        "summary(lm.fit)"
      ],
      "execution_count": null,
      "outputs": [
        {
          "output_type": "display_data",
          "data": {
            "text/plain": [
              "\n",
              "Call:\n",
              "lm(formula = y ~ x)\n",
              "\n",
              "Residuals:\n",
              "     Min       1Q   Median       3Q      Max \n",
              "-11.2556  -2.5615   0.1541   3.0105   7.2307 \n",
              "\n",
              "Coefficients:\n",
              "            Estimate Std. Error t value Pr(>|t|)  \n",
              "(Intercept)   1.5016     0.5931   2.532   0.0147 *\n",
              "x            -0.2225     0.8368  -0.266   0.7914  \n",
              "---\n",
              "Signif. codes:  0 ‘***’ 0.001 ‘**’ 0.01 ‘*’ 0.05 ‘.’ 0.1 ‘ ’ 1\n",
              "\n",
              "Residual standard error: 4.194 on 48 degrees of freedom\n",
              "Multiple R-squared:  0.001471,\tAdjusted R-squared:  -0.01933 \n",
              "F-statistic: 0.07073 on 1 and 48 DF,  p-value: 0.7914\n"
            ]
          },
          "metadata": {}
        }
      ]
    },
    {
      "cell_type": "markdown",
      "metadata": {
        "id": "cyaB-6rzwO1E"
      },
      "source": [
        "## With heteroskdasticity"
      ]
    },
    {
      "cell_type": "code",
      "metadata": {
        "id": "cVj1RxdhwO1G"
      },
      "source": [
        "set.seed(1)\n",
        "\n",
        "y <- 1 + b*x + 5*rnorm(N,mean=0,sd=1+x) #now the sd is a function of x, so it depends on the value of x for each observation"
      ],
      "execution_count": null,
      "outputs": []
    },
    {
      "cell_type": "markdown",
      "metadata": {
        "id": "-THTtO91wO1K"
      },
      "source": [
        "We can fit the linear model, but the standard error will be incorrect because it assumes that the variance of the observations is constant"
      ]
    },
    {
      "cell_type": "code",
      "metadata": {
        "id": "cRzCunP0wO1K",
        "outputId": "1746629d-c0ce-4ee3-b86b-0a4659923f64",
        "colab": {
          "base_uri": "https://localhost:8080/",
          "height": 356
        }
      },
      "source": [
        "\n",
        "lm.fit <- lm(y ~ x)\n",
        "summary(lm.fit)"
      ],
      "execution_count": null,
      "outputs": [
        {
          "output_type": "display_data",
          "data": {
            "text/plain": [
              "\n",
              "Call:\n",
              "lm(formula = y ~ x)\n",
              "\n",
              "Residuals:\n",
              "     Min       1Q   Median       3Q      Max \n",
              "-22.5372  -1.0318  -0.1718   2.8359  10.3111 \n",
              "\n",
              "Coefficients:\n",
              "            Estimate Std. Error t value Pr(>|t|)  \n",
              "(Intercept)   1.3395     0.7375   1.816   0.0756 .\n",
              "x             0.2561     1.0406   0.246   0.8066  \n",
              "---\n",
              "Signif. codes:  0 ‘***’ 0.001 ‘**’ 0.01 ‘*’ 0.05 ‘.’ 0.1 ‘ ’ 1\n",
              "\n",
              "Residual standard error: 5.215 on 48 degrees of freedom\n",
              "Multiple R-squared:  0.00126,\tAdjusted R-squared:  -0.01955 \n",
              "F-statistic: 0.06057 on 1 and 48 DF,  p-value: 0.8066\n"
            ]
          },
          "metadata": {}
        }
      ]
    },
    {
      "cell_type": "markdown",
      "source": [
        "The equation used by lm reports a standard error of:"
      ],
      "metadata": {
        "id": "GFwxDKMxG97P"
      }
    },
    {
      "cell_type": "code",
      "source": [
        "summary(lm.fit)$coef[2,2]"
      ],
      "metadata": {
        "id": "KyxFuYXfHD_A",
        "outputId": "8f22bb42-25ed-44dd-8d17-822d35368c7c",
        "colab": {
          "base_uri": "https://localhost:8080/",
          "height": 55
        }
      },
      "execution_count": null,
      "outputs": [
        {
          "output_type": "display_data",
          "data": {
            "text/html": [
              "1.04057461284142"
            ],
            "text/markdown": "1.04057461284142",
            "text/latex": "1.04057461284142",
            "text/plain": [
              "[1] 1.040575"
            ]
          },
          "metadata": {}
        }
      ]
    },
    {
      "cell_type": "markdown",
      "source": [
        "But if we simulate a large number of samples, the actual variance of the coefficient is bigger"
      ],
      "metadata": {
        "id": "abIjRLRfHY-d"
      }
    },
    {
      "cell_type": "code",
      "source": [
        "S=1000\n",
        "e <- replicate(S,rnorm(N,mean=0,sd=1+x))\n",
        "y <- 1 + b*x + 5*e\n",
        "\n",
        "bh=matrix(,2,S) #initialize matrix to store estimates of beta\n",
        "\n",
        "for (s in 1:S){\n",
        "    lm.fit.sims=lm(y[,s]~x) # estimate the linear model on the sample s.\n",
        "    bh[1:2,s] <- coef(lm.fit.sims)   #store the estimates\n",
        "}\n",
        "\n",
        "bh0=bh[1,]\n",
        "bh1=bh[2,]\n",
        "\n",
        "sd(bh1)"
      ],
      "metadata": {
        "id": "1XtvIl10GciT",
        "outputId": "f6740710-2528-4232-d41c-9b8856630106",
        "colab": {
          "base_uri": "https://localhost:8080/",
          "height": 55
        }
      },
      "execution_count": null,
      "outputs": [
        {
          "output_type": "display_data",
          "data": {
            "text/html": [
              "1.32288791209154"
            ],
            "text/markdown": "1.32288791209154",
            "text/latex": "1.32288791209154",
            "text/plain": [
              "[1] 1.322888"
            ]
          },
          "metadata": {}
        }
      ]
    },
    {
      "cell_type": "markdown",
      "metadata": {
        "id": "qtid16newO1O"
      },
      "source": [
        "### Test with \"robust\" standard errors\n",
        "Using the coeftest() function, we can calculate a \"robust\" standard error. Note that it is larger then the one calcuclated from the (incorrect) linear model which assumes that the variance of each observation is equal."
      ]
    },
    {
      "cell_type": "code",
      "metadata": {
        "id": "UyahiBsJwO1O",
        "outputId": "acd474c5-cfc9-4d11-ea76-8cb0a5c79f05",
        "colab": {
          "base_uri": "https://localhost:8080/",
          "height": 179
        }
      },
      "source": [
        "coeftest(lm.fit, vcov. = vcovHC)"
      ],
      "execution_count": null,
      "outputs": [
        {
          "output_type": "display_data",
          "data": {
            "text/plain": [
              "\n",
              "t test of coefficients:\n",
              "\n",
              "            Estimate Std. Error t value Pr(>|t|)  \n",
              "(Intercept)  1.33954    0.76165  1.7587   0.0850 .\n",
              "x            0.25609    1.27954  0.2001   0.8422  \n",
              "---\n",
              "Signif. codes:  0 ‘***’ 0.001 ‘**’ 0.01 ‘*’ 0.05 ‘.’ 0.1 ‘ ’ 1\n"
            ]
          },
          "metadata": {}
        }
      ]
    },
    {
      "cell_type": "markdown",
      "source": [
        "## Heterogeneity - Clustering\n",
        "\n",
        "The simple linear model has an important assumption, the independence of the observations. This assumption holds in most carefully designed experiments but seldom does in real-life datasets.\n",
        "\n",
        "One of the biggest risks of assuming correlated data as independent is that your linear model will always give you a beautiful p-value due to a large number of “independent” observations.\n",
        "\n",
        "The “correlation” of observations usually comes from some shared features by the data points within the same group. For example, if you are interested in how family income affects children’s exam grades, you need to consider that the students’ grades from the same school or class are more similar to each other than those from different schools or classes."
      ],
      "metadata": {
        "id": "VHSr3vRoPznw"
      }
    },
    {
      "cell_type": "code",
      "source": [
        "set.seed(1)\n",
        "N<-3\n",
        "S<-50\n",
        "\n",
        "# generate linear regression relationship\n",
        "b1 <- 1\n",
        "x <- runif(S*N)\n",
        "\n",
        "b0.s <- rep(rnorm(1),N) # subject-specific effect\n",
        "G <- rep('1',N) # subject label\n",
        "for (s in 2:S){\n",
        "  b0.s <- c(b0.s,rep(rnorm(1),N))\n",
        "  G <- c(G,rep(as.character(s),N))\n",
        "}\n",
        "\n",
        "#the outcome is a combination of the subject-specific effect and the main effect of x\n",
        "y <-  b0.s+ b1*x + 1.6*rnorm(S*N)\n"
      ],
      "metadata": {
        "id": "3PCTJrO_P3Mx"
      },
      "execution_count": null,
      "outputs": []
    },
    {
      "cell_type": "code",
      "source": [
        "## model fit\n",
        "lm.fit <- lm(y ~ x)\n",
        "summary(lm.fit)"
      ],
      "metadata": {
        "colab": {
          "base_uri": "https://localhost:8080/",
          "height": 346
        },
        "id": "exysuP45Tapn",
        "outputId": "94a849d5-d92f-41d9-bb10-1243b9cefcf6"
      },
      "execution_count": null,
      "outputs": [
        {
          "output_type": "display_data",
          "data": {
            "text/plain": [
              "\n",
              "Call:\n",
              "lm(formula = y ~ x)\n",
              "\n",
              "Residuals:\n",
              "    Min      1Q  Median      3Q     Max \n",
              "-5.1865 -1.1535 -0.1014  1.1067  4.5673 \n",
              "\n",
              "Coefficients:\n",
              "            Estimate Std. Error t value Pr(>|t|)  \n",
              "(Intercept)  -0.1055     0.3327  -0.317   0.7517  \n",
              "x             1.2625     0.5751   2.195   0.0297 *\n",
              "---\n",
              "Signif. codes:  0 ‘***’ 0.001 ‘**’ 0.01 ‘*’ 0.05 ‘.’ 0.1 ‘ ’ 1\n",
              "\n",
              "Residual standard error: 1.897 on 148 degrees of freedom\n",
              "Multiple R-squared:  0.03153,\tAdjusted R-squared:  0.02499 \n",
              "F-statistic: 4.819 on 1 and 148 DF,  p-value: 0.02971\n"
            ]
          },
          "metadata": {}
        }
      ]
    },
    {
      "cell_type": "code",
      "source": [
        "coeftest(lm.fit, vcov. = vcovCL, cluster = ~ G)"
      ],
      "metadata": {
        "colab": {
          "base_uri": "https://localhost:8080/",
          "height": 174
        },
        "id": "OI-6lhkrWNy0",
        "outputId": "d00ac4d8-f3cf-4023-9537-fcb8c343fdc9"
      },
      "execution_count": null,
      "outputs": [
        {
          "output_type": "display_data",
          "data": {
            "text/plain": [
              "\n",
              "t test of coefficients:\n",
              "\n",
              "            Estimate Std. Error t value Pr(>|t|)  \n",
              "(Intercept) -0.10546    0.38909 -0.2710  0.78675  \n",
              "x            1.26247    0.66071  1.9108  0.05797 .\n",
              "---\n",
              "Signif. codes:  0 ‘***’ 0.001 ‘**’ 0.01 ‘*’ 0.05 ‘.’ 0.1 ‘ ’ 1\n"
            ]
          },
          "metadata": {}
        }
      ]
    },
    {
      "cell_type": "code",
      "source": [
        "## model fit\n",
        "lm.fit <- lm(y ~ b0.s+x)\n",
        "summary(lm.fit)"
      ],
      "metadata": {
        "colab": {
          "base_uri": "https://localhost:8080/",
          "height": 363
        },
        "id": "-3wZUFd3UNvX",
        "outputId": "d6c44110-c7fe-4602-e72b-ed1c6b3a5931"
      },
      "execution_count": null,
      "outputs": [
        {
          "output_type": "display_data",
          "data": {
            "text/plain": [
              "\n",
              "Call:\n",
              "lm(formula = y ~ SS + x)\n",
              "\n",
              "Residuals:\n",
              "    Min      1Q  Median      3Q     Max \n",
              "-4.4245 -0.9800 -0.1023  1.0515  4.3417 \n",
              "\n",
              "Coefficients:\n",
              "            Estimate Std. Error t value Pr(>|t|)    \n",
              "(Intercept)  -0.0882     0.2903  -0.304   0.7617    \n",
              "SS            1.1782     0.1712   6.883 1.58e-10 ***\n",
              "x             1.0285     0.5030   2.045   0.0427 *  \n",
              "---\n",
              "Signif. codes:  0 ‘***’ 0.001 ‘**’ 0.01 ‘*’ 0.05 ‘.’ 0.1 ‘ ’ 1\n",
              "\n",
              "Residual standard error: 1.655 on 147 degrees of freedom\n",
              "Multiple R-squared:  0.2676,\tAdjusted R-squared:  0.2576 \n",
              "F-statistic: 26.85 on 2 and 147 DF,  p-value: 1.15e-10\n"
            ]
          },
          "metadata": {}
        }
      ]
    },
    {
      "cell_type": "code",
      "source": [
        "lm.fit <- lm(y ~ G+x)\n",
        "summary(lm.fit)"
      ],
      "metadata": {
        "colab": {
          "base_uri": "https://localhost:8080/",
          "height": 1000
        },
        "id": "p1nvl_M3UcWb",
        "outputId": "ec50fcb5-563d-4f0b-de5f-d3bf939475d9"
      },
      "execution_count": null,
      "outputs": [
        {
          "output_type": "display_data",
          "data": {
            "text/plain": [
              "\n",
              "Call:\n",
              "lm(formula = y ~ G + x)\n",
              "\n",
              "Residuals:\n",
              "    Min      1Q  Median      3Q     Max \n",
              "-3.5886 -0.9110 -0.0035  0.8264  4.0538 \n",
              "\n",
              "Coefficients:\n",
              "             Estimate Std. Error t value Pr(>|t|)  \n",
              "(Intercept)  0.620036   1.024621   0.605   0.5465  \n",
              "G10         -1.474428   1.401402  -1.052   0.2953  \n",
              "G11         -0.648356   1.401178  -0.463   0.6446  \n",
              "G12          0.939227   1.402732   0.670   0.5047  \n",
              "G13         -0.003729   1.401866  -0.003   0.9979  \n",
              "G14          0.472414   1.406635   0.336   0.7377  \n",
              "G15         -1.066961   1.406323  -0.759   0.4498  \n",
              "G16          0.376846   1.398971   0.269   0.7882  \n",
              "G17          0.362301   1.407186   0.257   0.7974  \n",
              "G18          2.625140   1.400800   1.874   0.0639 .\n",
              "G19          0.595571   1.407969   0.423   0.6732  \n",
              "G2          -1.554786   1.409910  -1.103   0.2728  \n",
              "G20          0.589675   1.401336   0.421   0.6748  \n",
              "G21          0.237059   1.402466   0.169   0.8661  \n",
              "G22         -2.706449   1.398878  -1.935   0.0559 .\n",
              "G23         -0.917723   1.399107  -0.656   0.5134  \n",
              "G24         -2.266021   1.411202  -1.606   0.1115  \n",
              "G25         -1.611282   1.398912  -1.152   0.2522  \n",
              "G26          0.738702   1.414048   0.522   0.6026  \n",
              "G27         -0.627098   1.414901  -0.443   0.6586  \n",
              "G28         -0.884354   1.399762  -0.632   0.5290  \n",
              "G29         -0.042469   1.402551  -0.030   0.9759  \n",
              "G3          -1.444941   1.417021  -1.020   0.3104  \n",
              "G30         -1.688724   1.407375  -1.200   0.2330  \n",
              "G31          1.130767   1.400128   0.808   0.4212  \n",
              "G32         -0.493210   1.425491  -0.346   0.7301  \n",
              "G33         -0.215924   1.402637  -0.154   0.8780  \n",
              "G34         -0.057215   1.401680  -0.041   0.9675  \n",
              "G35          0.463628   1.407038   0.330   0.7425  \n",
              "G36         -3.658602   1.401507  -2.610   0.0104 *\n",
              "G37         -0.845507   1.427503  -0.592   0.5550  \n",
              "G38          1.073324   1.400530   0.766   0.4453  \n",
              "G39         -0.339171   1.400800  -0.242   0.8092  \n",
              "G4          -1.359292   1.409054  -0.965   0.3371  \n",
              "G40         -0.548951   1.398869  -0.392   0.6956  \n",
              "G41         -2.493794   1.408926  -1.770   0.0798 .\n",
              "G42         -0.402813   1.399375  -0.288   0.7741  \n",
              "G43         -0.845120   1.400067  -0.604   0.5475  \n",
              "G44         -0.417170   1.398886  -0.298   0.7662  \n",
              "G45         -0.508498   1.401598  -0.363   0.7175  \n",
              "G46         -0.967155   1.402780  -0.689   0.4921  \n",
              "G47          2.255483   1.414999   1.594   0.1141  \n",
              "G48         -1.863440   1.399080  -1.332   0.1860  \n",
              "G49         -1.219845   1.399236  -0.872   0.3854  \n",
              "G5          -1.857562   1.405772  -1.321   0.1894  \n",
              "G50          0.332614   1.403312   0.237   0.8131  \n",
              "G6          -2.455935   1.416070  -1.734   0.0860 .\n",
              "G7          -1.984531   1.412344  -1.405   0.1631  \n",
              "G8           1.000838   1.399713   0.715   0.4763  \n",
              "G9          -2.784091   1.404005  -1.983   0.0501 .\n",
              "x            0.980651   0.662429   1.480   0.1419  \n",
              "---\n",
              "Signif. codes:  0 ‘***’ 0.001 ‘**’ 0.01 ‘*’ 0.05 ‘.’ 0.1 ‘ ’ 1\n",
              "\n",
              "Residual standard error: 1.713 on 99 degrees of freedom\n",
              "Multiple R-squared:  0.4716,\tAdjusted R-squared:  0.2047 \n",
              "F-statistic: 1.767 on 50 and 99 DF,  p-value: 0.008249\n"
            ]
          },
          "metadata": {}
        }
      ]
    },
    {
      "cell_type": "markdown",
      "source": [
        "## Random Effects\n",
        "In such cases, using random effects is an efficient way to improve the estimates in the linear models. Generally speaking, if you have some grouping structures in the investigating dataset that are not directly related to your keen question to answer, it’s better to include them as random effects in your linear model."
      ],
      "metadata": {
        "id": "JRkMCYXVbLKe"
      }
    },
    {
      "cell_type": "code",
      "source": [
        "\n",
        "if (!require(lmerTest)) install.packages(\"lmerTest\")\n",
        "if (!require(lme4)) install.packages(\"lme4\")\n",
        "library(lme4)\n",
        "library(lmerTest)"
      ],
      "metadata": {
        "id": "xbffXcegdUaN"
      },
      "execution_count": null,
      "outputs": []
    },
    {
      "cell_type": "code",
      "source": [
        "lm.fit <- lmer(y ~ (1|G)+x)\n",
        "summary(lm.fit)"
      ],
      "metadata": {
        "colab": {
          "base_uri": "https://localhost:8080/",
          "height": 483
        },
        "id": "t9ZFJBaYbPfs",
        "outputId": "345e3d9a-9992-45fe-cc9e-28b34d9ca285"
      },
      "execution_count": null,
      "outputs": [
        {
          "output_type": "display_data",
          "data": {
            "text/plain": [
              "Linear mixed model fit by REML. t-tests use Satterthwaite's method [\n",
              "lmerModLmerTest]\n",
              "Formula: y ~ (1 | G) + x\n",
              "\n",
              "REML criterion at convergence: 612.1\n",
              "\n",
              "Scaled residuals: \n",
              "    Min      1Q  Median      3Q     Max \n",
              "-2.3239 -0.5860 -0.1205  0.5820  2.3715 \n",
              "\n",
              "Random effects:\n",
              " Groups   Name        Variance Std.Dev.\n",
              " G        (Intercept) 0.6773   0.823   \n",
              " Residual             2.9299   1.712   \n",
              "Number of obs: 150, groups:  G, 50\n",
              "\n",
              "Fixed effects:\n",
              "             Estimate Std. Error        df t value Pr(>|t|)  \n",
              "(Intercept)  -0.06233    0.34185 134.76982  -0.182   0.8556  \n",
              "x             1.17822    0.56546 145.68987   2.084   0.0389 *\n",
              "---\n",
              "Signif. codes:  0 ‘***’ 0.001 ‘**’ 0.01 ‘*’ 0.05 ‘.’ 0.1 ‘ ’ 1\n",
              "\n",
              "Correlation of Fixed Effects:\n",
              "  (Intr)\n",
              "x -0.847"
            ]
          },
          "metadata": {}
        }
      ]
    },
    {
      "cell_type": "markdown",
      "source": [
        "### What if the main effect also varies across subject?"
      ],
      "metadata": {
        "id": "n2RurfAZnOb7"
      }
    },
    {
      "cell_type": "code",
      "source": [
        "set.seed(1)\n",
        "N<-4\n",
        "S<-50\n",
        "\n",
        "# generate linear regression relationship\n",
        "x <- runif(S*N)\n",
        "\n",
        "b1.s <- rep(rnorm(1,mean=1,sd=1),N) #the size of main effect is a draw from the normal(1,1)\n",
        "b0.s <- rep(rnorm(1),N) # subject-specific effect\n",
        "G <- rep('1',N) # subject label\n",
        "for (s in 2:S){\n",
        "  b1.s <- c(b1.s,rep(rnorm(1,mean=1,sd=1),N))\n",
        "  b0.s <- c(b0.s,rep(rnorm(1),N))\n",
        "  G <- c(G,rep(as.character(s),N))\n",
        "}\n",
        "\n",
        "#the outcome is a combination of the subject-specific effect and the main effect of x, however the size of the main effect of x varies randomly across subjects\n",
        "y <-  b0.s+ b1.s*x + 1.6*rnorm(S*N)"
      ],
      "metadata": {
        "id": "-t9x4GranUsW"
      },
      "execution_count": null,
      "outputs": []
    },
    {
      "cell_type": "code",
      "source": [
        "lm.fit <- lm(y ~ x)\n",
        "summary(lm.fit)"
      ],
      "metadata": {
        "id": "bcmzANb6onUg",
        "outputId": "4e1466e6-2e3a-40a2-817c-163f5d6876c2",
        "colab": {
          "base_uri": "https://localhost:8080/",
          "height": 312
        }
      },
      "execution_count": null,
      "outputs": [
        {
          "output_type": "display_data",
          "data": {
            "text/plain": [
              "\n",
              "Call:\n",
              "lm(formula = y ~ x)\n",
              "\n",
              "Residuals:\n",
              "    Min      1Q  Median      3Q     Max \n",
              "-5.1171 -1.2115 -0.0724  1.3731  4.9892 \n",
              "\n",
              "Coefficients:\n",
              "            Estimate Std. Error t value Pr(>|t|)\n",
              "(Intercept)   0.1445     0.2923   0.494    0.622\n",
              "x             0.7209     0.5013   1.438    0.152\n",
              "\n",
              "Residual standard error: 1.903 on 198 degrees of freedom\n",
              "Multiple R-squared:  0.01034,\tAdjusted R-squared:  0.005337 \n",
              "F-statistic: 2.068 on 1 and 198 DF,  p-value: 0.152\n"
            ]
          },
          "metadata": {}
        }
      ]
    },
    {
      "cell_type": "code",
      "source": [
        "lm.fit <- lmer(y ~ x+(1+x|G))\n",
        "summary(lm.fit)"
      ],
      "metadata": {
        "id": "tW_9FAUonw8w",
        "outputId": "d791bf1b-43dd-4317-e259-2b838ee225c3",
        "colab": {
          "base_uri": "https://localhost:8080/",
          "height": 500
        }
      },
      "execution_count": null,
      "outputs": [
        {
          "output_type": "display_data",
          "data": {
            "text/plain": [
              "Linear mixed model fit by REML. t-tests use Satterthwaite's method [\n",
              "lmerModLmerTest]\n",
              "Formula: y ~ x + (1 + x | G)\n",
              "\n",
              "REML criterion at convergence: 807.9\n",
              "\n",
              "Scaled residuals: \n",
              "     Min       1Q   Median       3Q      Max \n",
              "-2.45778 -0.65526 -0.02213  0.65941  2.04243 \n",
              "\n",
              "Random effects:\n",
              " Groups   Name        Variance Std.Dev. Corr\n",
              " G        (Intercept) 0.2663   0.516        \n",
              "          x           1.3756   1.173    0.40\n",
              " Residual             2.6609   1.631        \n",
              "Number of obs: 200, groups:  G, 50\n",
              "\n",
              "Fixed effects:\n",
              "            Estimate Std. Error       df t value Pr(>|t|)  \n",
              "(Intercept)  0.05972    0.27476 29.56171   0.217   0.8294  \n",
              "x            0.89821    0.49901 43.85554   1.800   0.0787 .\n",
              "---\n",
              "Signif. codes:  0 ‘***’ 0.001 ‘**’ 0.01 ‘*’ 0.05 ‘.’ 0.1 ‘ ’ 1\n",
              "\n",
              "Correlation of Fixed Effects:\n",
              "  (Intr)\n",
              "x -0.781"
            ]
          },
          "metadata": {}
        }
      ]
    }
  ]
}