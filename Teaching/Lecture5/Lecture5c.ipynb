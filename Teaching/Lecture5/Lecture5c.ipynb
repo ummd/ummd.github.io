{
  "nbformat": 4,
  "nbformat_minor": 0,
  "metadata": {
    "kernelspec": {
      "display_name": "R",
      "language": "R",
      "name": "ir"
    },
    "language_info": {
      "codemirror_mode": "r",
      "file_extension": ".r",
      "mimetype": "text/x-r-source",
      "name": "R",
      "pygments_lexer": "r",
      "version": "3.5.0"
    },
    "colab": {
      "name": "Lecture5c.ipynb",
      "provenance": [],
      "include_colab_link": true
    }
  },
  "cells": [
    {
      "cell_type": "markdown",
      "metadata": {
        "id": "view-in-github",
        "colab_type": "text"
      },
      "source": [
        "<a href=\"https://colab.research.google.com/github/ummd/ummd.github.io/blob/master/Teaching/Lecture5/Lecture5c.ipynb\" target=\"_parent\"><img src=\"https://colab.research.google.com/assets/colab-badge.svg\" alt=\"Open In Colab\"/></a>"
      ]
    },
    {
      "cell_type": "markdown",
      "metadata": {
        "id": "nTwFe_MtwO06"
      },
      "source": [
        "# Robust Estimator of Covariance Matrix\n",
        "\n",
        "## A dataset without heteroskedasticity"
      ]
    },
    {
      "cell_type": "code",
      "metadata": {
        "id": "5QFPyDfLwX0v",
        "colab": {
          "base_uri": "https://localhost:8080/"
        },
        "outputId": "1f70b897-7779-4404-93cf-09344352549d"
      },
      "source": [
        "if (!require(lmtest)) install.packages(\"lmtest\")\n",
        "if (!require(sandwich)) install.packages(\"sandwich\")\n",
        "\n",
        "library(lmtest)\n",
        "library(sandwich)\n"
      ],
      "execution_count": 1,
      "outputs": [
        {
          "output_type": "stream",
          "name": "stderr",
          "text": [
            "Loading required package: lmtest\n",
            "\n",
            "Warning message in library(package, lib.loc = lib.loc, character.only = TRUE, logical.return = TRUE, :\n",
            "“there is no package called ‘lmtest’”\n",
            "Installing package into ‘/usr/local/lib/R/site-library’\n",
            "(as ‘lib’ is unspecified)\n",
            "\n",
            "also installing the dependency ‘zoo’\n",
            "\n",
            "\n",
            "Loading required package: sandwich\n",
            "\n",
            "Warning message in library(package, lib.loc = lib.loc, character.only = TRUE, logical.return = TRUE, :\n",
            "“there is no package called ‘sandwich’”\n",
            "Installing package into ‘/usr/local/lib/R/site-library’\n",
            "(as ‘lib’ is unspecified)\n",
            "\n",
            "Loading required package: zoo\n",
            "\n",
            "\n",
            "Attaching package: ‘zoo’\n",
            "\n",
            "\n",
            "The following objects are masked from ‘package:base’:\n",
            "\n",
            "    as.Date, as.Date.numeric\n",
            "\n",
            "\n"
          ]
        }
      ]
    },
    {
      "cell_type": "code",
      "metadata": {
        "id": "cY2d46OnwO08",
        "colab": {
          "base_uri": "https://localhost:8080/",
          "height": 356
        },
        "outputId": "27c30d1a-bd8a-412d-a5ea-b61eabdf0197"
      },
      "source": [
        "\n",
        "set.seed(1)\n",
        "N<-50\n",
        "# generate linear regression relationship\n",
        "# with Homoskedastic variances\n",
        "b<-.1\n",
        "\n",
        "x <- sin(1:N)\n",
        "y <- 1 + b*x + 5*rnorm(N)\n",
        "## model fit and HC3 covariance\n",
        "lm.fit <- lm(y ~ x)\n",
        "\n",
        "summary(lm.fit)"
      ],
      "execution_count": 2,
      "outputs": [
        {
          "output_type": "display_data",
          "data": {
            "text/plain": [
              "\n",
              "Call:\n",
              "lm(formula = y ~ x)\n",
              "\n",
              "Residuals:\n",
              "     Min       1Q   Median       3Q      Max \n",
              "-11.2556  -2.5615   0.1541   3.0105   7.2307 \n",
              "\n",
              "Coefficients:\n",
              "            Estimate Std. Error t value Pr(>|t|)  \n",
              "(Intercept)   1.5016     0.5931   2.532   0.0147 *\n",
              "x            -0.2225     0.8368  -0.266   0.7914  \n",
              "---\n",
              "Signif. codes:  0 ‘***’ 0.001 ‘**’ 0.01 ‘*’ 0.05 ‘.’ 0.1 ‘ ’ 1\n",
              "\n",
              "Residual standard error: 4.194 on 48 degrees of freedom\n",
              "Multiple R-squared:  0.001471,\tAdjusted R-squared:  -0.01933 \n",
              "F-statistic: 0.07073 on 1 and 48 DF,  p-value: 0.7914\n"
            ]
          },
          "metadata": {}
        }
      ]
    },
    {
      "cell_type": "markdown",
      "metadata": {
        "id": "cyaB-6rzwO1E"
      },
      "source": [
        "### With heteroskdasticity"
      ]
    },
    {
      "cell_type": "code",
      "metadata": {
        "id": "cVj1RxdhwO1G"
      },
      "source": [
        "set.seed(1)\n",
        "\n",
        "y <- 1 + b*x + 5*rnorm(N,mean=0,sd=1+x) #now the sd is a function of x, so it depends on the value of x for each observation"
      ],
      "execution_count": 3,
      "outputs": []
    },
    {
      "cell_type": "markdown",
      "metadata": {
        "id": "-THTtO91wO1K"
      },
      "source": [
        "We can fit the linear model, but the standard error will be incorrect because it assumes that the variance of the observations is constant"
      ]
    },
    {
      "cell_type": "code",
      "metadata": {
        "id": "cRzCunP0wO1K",
        "outputId": "1746629d-c0ce-4ee3-b86b-0a4659923f64",
        "colab": {
          "base_uri": "https://localhost:8080/",
          "height": 356
        }
      },
      "source": [
        "\n",
        "lm.fit <- lm(y ~ x)\n",
        "summary(lm.fit)"
      ],
      "execution_count": 4,
      "outputs": [
        {
          "output_type": "display_data",
          "data": {
            "text/plain": [
              "\n",
              "Call:\n",
              "lm(formula = y ~ x)\n",
              "\n",
              "Residuals:\n",
              "     Min       1Q   Median       3Q      Max \n",
              "-22.5372  -1.0318  -0.1718   2.8359  10.3111 \n",
              "\n",
              "Coefficients:\n",
              "            Estimate Std. Error t value Pr(>|t|)  \n",
              "(Intercept)   1.3395     0.7375   1.816   0.0756 .\n",
              "x             0.2561     1.0406   0.246   0.8066  \n",
              "---\n",
              "Signif. codes:  0 ‘***’ 0.001 ‘**’ 0.01 ‘*’ 0.05 ‘.’ 0.1 ‘ ’ 1\n",
              "\n",
              "Residual standard error: 5.215 on 48 degrees of freedom\n",
              "Multiple R-squared:  0.00126,\tAdjusted R-squared:  -0.01955 \n",
              "F-statistic: 0.06057 on 1 and 48 DF,  p-value: 0.8066\n"
            ]
          },
          "metadata": {}
        }
      ]
    },
    {
      "cell_type": "markdown",
      "source": [
        "The equation used by lm reports a standard error of:"
      ],
      "metadata": {
        "id": "GFwxDKMxG97P"
      }
    },
    {
      "cell_type": "code",
      "source": [
        "summary(lm.fit)$coef[2,2]"
      ],
      "metadata": {
        "id": "KyxFuYXfHD_A",
        "outputId": "8f22bb42-25ed-44dd-8d17-822d35368c7c",
        "colab": {
          "base_uri": "https://localhost:8080/",
          "height": 55
        }
      },
      "execution_count": 12,
      "outputs": [
        {
          "output_type": "display_data",
          "data": {
            "text/html": [
              "1.04057461284142"
            ],
            "text/markdown": "1.04057461284142",
            "text/latex": "1.04057461284142",
            "text/plain": [
              "[1] 1.040575"
            ]
          },
          "metadata": {}
        }
      ]
    },
    {
      "cell_type": "markdown",
      "source": [
        "But if we simulate a large number of samples, the actual variance of the coefficient is bigger"
      ],
      "metadata": {
        "id": "abIjRLRfHY-d"
      }
    },
    {
      "cell_type": "code",
      "source": [
        "S=1000\n",
        "e <- replicate(S,rnorm(N,mean=0,sd=1+x))\n",
        "y <- 1 + b*x + 5*e\n",
        "\n",
        "bh=matrix(,2,S) #initialize matrix to store estimates of beta\n",
        "\n",
        "for (s in 1:S){\n",
        "    lm.fit.sims=lm(y[,s]~x) # estimate the linear model on the sample s.\n",
        "    bh[1:2,s] <- coef(lm.fit.sims)   #store the estimates\n",
        "}\n",
        "\n",
        "bh0=bh[1,]\n",
        "bh1=bh[2,]\n",
        "\n",
        "sd(bh1)"
      ],
      "metadata": {
        "id": "1XtvIl10GciT",
        "outputId": "f6740710-2528-4232-d41c-9b8856630106",
        "colab": {
          "base_uri": "https://localhost:8080/",
          "height": 55
        }
      },
      "execution_count": 9,
      "outputs": [
        {
          "output_type": "display_data",
          "data": {
            "text/html": [
              "1.32288791209154"
            ],
            "text/markdown": "1.32288791209154",
            "text/latex": "1.32288791209154",
            "text/plain": [
              "[1] 1.322888"
            ]
          },
          "metadata": {}
        }
      ]
    },
    {
      "cell_type": "markdown",
      "metadata": {
        "id": "qtid16newO1O"
      },
      "source": [
        "### Test with \"robust\" standard errors\n",
        "Using the coeftest() function, we can calculate a \"robust\" standard error. Note that it is larger then the one calcuclated from the (incorrect) linear model which assumes that the variance of each observation is equal."
      ]
    },
    {
      "cell_type": "code",
      "metadata": {
        "id": "UyahiBsJwO1O",
        "outputId": "acd474c5-cfc9-4d11-ea76-8cb0a5c79f05",
        "colab": {
          "base_uri": "https://localhost:8080/",
          "height": 179
        }
      },
      "source": [
        "coeftest(lm.fit, vcov. = vcovHC)"
      ],
      "execution_count": 13,
      "outputs": [
        {
          "output_type": "display_data",
          "data": {
            "text/plain": [
              "\n",
              "t test of coefficients:\n",
              "\n",
              "            Estimate Std. Error t value Pr(>|t|)  \n",
              "(Intercept)  1.33954    0.76165  1.7587   0.0850 .\n",
              "x            0.25609    1.27954  0.2001   0.8422  \n",
              "---\n",
              "Signif. codes:  0 ‘***’ 0.001 ‘**’ 0.01 ‘*’ 0.05 ‘.’ 0.1 ‘ ’ 1\n"
            ]
          },
          "metadata": {}
        }
      ]
    }
  ]
}