{
  "nbformat": 4,
  "nbformat_minor": 0,
  "metadata": {
    "kernelspec": {
      "display_name": "R",
      "language": "R",
      "name": "ir"
    },
    "language_info": {
      "codemirror_mode": "r",
      "file_extension": ".r",
      "mimetype": "text/x-r-source",
      "name": "R",
      "pygments_lexer": "r",
      "version": "3.5.0"
    },
    "colab": {
      "name": "Lecture5d.ipynb",
      "provenance": [],
      "include_colab_link": true
    }
  },
  "cells": [
    {
      "cell_type": "markdown",
      "metadata": {
        "id": "view-in-github",
        "colab_type": "text"
      },
      "source": [
        "<a href=\"https://colab.research.google.com/github/ummd/ummd.github.io/blob/master/Teaching/Lecture5/Lecture5d.ipynb\" target=\"_parent\"><img src=\"https://colab.research.google.com/assets/colab-badge.svg\" alt=\"Open In Colab\"/></a>"
      ]
    },
    {
      "cell_type": "markdown",
      "metadata": {
        "id": "zhHhl2n6w2cw"
      },
      "source": [
        "# Omitted Variables - Collinearity"
      ]
    },
    {
      "cell_type": "code",
      "metadata": {
        "id": "4D3d9h_Lw2cy"
      },
      "source": [
        "Credit <- read.csv(\"https://ummd.github.io/Teaching/Data/Credit.csv\") #load data\n",
        "attach(Credit) #attach variable names"
      ],
      "execution_count": null,
      "outputs": []
    },
    {
      "cell_type": "code",
      "metadata": {
        "id": "htCaNxSOw2c6",
        "outputId": "2464d975-c4d2-4935-ac60-ac5a30d34704"
      },
      "source": [
        "Credit"
      ],
      "execution_count": null,
      "outputs": [
        {
          "output_type": "display_data",
          "data": {
            "text/html": [
              "<table>\n",
              "<thead><tr><th scope=col>X</th><th scope=col>Income</th><th scope=col>Limit</th><th scope=col>Rating</th><th scope=col>Cards</th><th scope=col>Age</th><th scope=col>Education</th><th scope=col>Gender</th><th scope=col>Student</th><th scope=col>Married</th><th scope=col>Ethnicity</th><th scope=col>Balance</th></tr></thead>\n",
              "<tbody>\n",
              "\t<tr><td> 1              </td><td> 14.891         </td><td> 3606           </td><td>283             </td><td>2               </td><td>34              </td><td>11              </td><td> Male           </td><td>No              </td><td>Yes             </td><td>Caucasian       </td><td> 333            </td></tr>\n",
              "\t<tr><td> 2              </td><td>106.025         </td><td> 6645           </td><td>483             </td><td>3               </td><td>82              </td><td>15              </td><td>Female          </td><td>Yes             </td><td>Yes             </td><td>Asian           </td><td> 903            </td></tr>\n",
              "\t<tr><td> 3              </td><td>104.593         </td><td> 7075           </td><td>514             </td><td>4               </td><td>71              </td><td>11              </td><td> Male           </td><td>No              </td><td>No              </td><td>Asian           </td><td> 580            </td></tr>\n",
              "\t<tr><td> 4              </td><td>148.924         </td><td> 9504           </td><td>681             </td><td>3               </td><td>36              </td><td>11              </td><td>Female          </td><td>No              </td><td>No              </td><td>Asian           </td><td> 964            </td></tr>\n",
              "\t<tr><td> 5              </td><td> 55.882         </td><td> 4897           </td><td>357             </td><td>2               </td><td>68              </td><td>16              </td><td> Male           </td><td>No              </td><td>Yes             </td><td>Caucasian       </td><td> 331            </td></tr>\n",
              "\t<tr><td> 6              </td><td> 80.180         </td><td> 8047           </td><td>569             </td><td>4               </td><td>77              </td><td>10              </td><td> Male           </td><td>No              </td><td>No              </td><td>Caucasian       </td><td>1151            </td></tr>\n",
              "\t<tr><td> 7              </td><td> 20.996         </td><td> 3388           </td><td>259             </td><td>2               </td><td>37              </td><td>12              </td><td>Female          </td><td>No              </td><td>No              </td><td>African American</td><td> 203            </td></tr>\n",
              "\t<tr><td> 8              </td><td> 71.408         </td><td> 7114           </td><td>512             </td><td>2               </td><td>87              </td><td> 9              </td><td> Male           </td><td>No              </td><td>No              </td><td>Asian           </td><td> 872            </td></tr>\n",
              "\t<tr><td> 9              </td><td> 15.125         </td><td> 3300           </td><td>266             </td><td>5               </td><td>66              </td><td>13              </td><td>Female          </td><td>No              </td><td>No              </td><td>Caucasian       </td><td> 279            </td></tr>\n",
              "\t<tr><td>10              </td><td> 71.061         </td><td> 6819           </td><td>491             </td><td>3               </td><td>41              </td><td>19              </td><td>Female          </td><td>Yes             </td><td>Yes             </td><td>African American</td><td>1350            </td></tr>\n",
              "\t<tr><td>11              </td><td> 63.095         </td><td> 8117           </td><td>589             </td><td>4               </td><td>30              </td><td>14              </td><td> Male           </td><td>No              </td><td>Yes             </td><td>Caucasian       </td><td>1407            </td></tr>\n",
              "\t<tr><td>12              </td><td> 15.045         </td><td> 1311           </td><td>138             </td><td>3               </td><td>64              </td><td>16              </td><td> Male           </td><td>No              </td><td>No              </td><td>Caucasian       </td><td>   0            </td></tr>\n",
              "\t<tr><td>13              </td><td> 80.616         </td><td> 5308           </td><td>394             </td><td>1               </td><td>57              </td><td> 7              </td><td>Female          </td><td>No              </td><td>Yes             </td><td>Asian           </td><td> 204            </td></tr>\n",
              "\t<tr><td>14              </td><td> 43.682         </td><td> 6922           </td><td>511             </td><td>1               </td><td>49              </td><td> 9              </td><td> Male           </td><td>No              </td><td>Yes             </td><td>Caucasian       </td><td>1081            </td></tr>\n",
              "\t<tr><td>15              </td><td> 19.144         </td><td> 3291           </td><td>269             </td><td>2               </td><td>75              </td><td>13              </td><td>Female          </td><td>No              </td><td>No              </td><td>African American</td><td> 148            </td></tr>\n",
              "\t<tr><td>16              </td><td> 20.089         </td><td> 2525           </td><td>200             </td><td>3               </td><td>57              </td><td>15              </td><td>Female          </td><td>No              </td><td>Yes             </td><td>African American</td><td>   0            </td></tr>\n",
              "\t<tr><td>17              </td><td> 53.598         </td><td> 3714           </td><td>286             </td><td>3               </td><td>73              </td><td>17              </td><td>Female          </td><td>No              </td><td>Yes             </td><td>African American</td><td>   0            </td></tr>\n",
              "\t<tr><td>18              </td><td> 36.496         </td><td> 4378           </td><td>339             </td><td>3               </td><td>69              </td><td>15              </td><td>Female          </td><td>No              </td><td>Yes             </td><td>Asian           </td><td> 368            </td></tr>\n",
              "\t<tr><td>19              </td><td> 49.570         </td><td> 6384           </td><td>448             </td><td>1               </td><td>28              </td><td> 9              </td><td>Female          </td><td>No              </td><td>Yes             </td><td>Asian           </td><td> 891            </td></tr>\n",
              "\t<tr><td>20              </td><td> 42.079         </td><td> 6626           </td><td>479             </td><td>2               </td><td>44              </td><td> 9              </td><td> Male           </td><td>No              </td><td>No              </td><td>Asian           </td><td>1048            </td></tr>\n",
              "\t<tr><td>21              </td><td> 17.700         </td><td> 2860           </td><td>235             </td><td>4               </td><td>63              </td><td>16              </td><td>Female          </td><td>No              </td><td>No              </td><td>Asian           </td><td>  89            </td></tr>\n",
              "\t<tr><td>22              </td><td> 37.348         </td><td> 6378           </td><td>458             </td><td>1               </td><td>72              </td><td>17              </td><td>Female          </td><td>No              </td><td>No              </td><td>Caucasian       </td><td> 968            </td></tr>\n",
              "\t<tr><td>23              </td><td> 20.103         </td><td> 2631           </td><td>213             </td><td>3               </td><td>61              </td><td>10              </td><td> Male           </td><td>No              </td><td>Yes             </td><td>African American</td><td>   0            </td></tr>\n",
              "\t<tr><td>24              </td><td> 64.027         </td><td> 5179           </td><td>398             </td><td>5               </td><td>48              </td><td> 8              </td><td> Male           </td><td>No              </td><td>Yes             </td><td>African American</td><td> 411            </td></tr>\n",
              "\t<tr><td>25              </td><td> 10.742         </td><td> 1757           </td><td>156             </td><td>3               </td><td>57              </td><td>15              </td><td>Female          </td><td>No              </td><td>No              </td><td>Caucasian       </td><td>   0            </td></tr>\n",
              "\t<tr><td>26              </td><td> 14.090         </td><td> 4323           </td><td>326             </td><td>5               </td><td>25              </td><td>16              </td><td>Female          </td><td>No              </td><td>Yes             </td><td>African American</td><td> 671            </td></tr>\n",
              "\t<tr><td>27              </td><td> 42.471         </td><td> 3625           </td><td>289             </td><td>6               </td><td>44              </td><td>12              </td><td>Female          </td><td>Yes             </td><td>No              </td><td>Caucasian       </td><td> 654            </td></tr>\n",
              "\t<tr><td>28              </td><td> 32.793         </td><td> 4534           </td><td>333             </td><td>2               </td><td>44              </td><td>16              </td><td> Male           </td><td>No              </td><td>No              </td><td>African American</td><td> 467            </td></tr>\n",
              "\t<tr><td>29              </td><td>186.634         </td><td>13414           </td><td>949             </td><td>2               </td><td>41              </td><td>14              </td><td>Female          </td><td>No              </td><td>Yes             </td><td>African American</td><td>1809            </td></tr>\n",
              "\t<tr><td>30              </td><td> 26.813         </td><td> 5611           </td><td>411             </td><td>4               </td><td>55              </td><td>16              </td><td>Female          </td><td>No              </td><td>No              </td><td>Caucasian       </td><td> 915            </td></tr>\n",
              "\t<tr><td>⋮</td><td>⋮</td><td>⋮</td><td>⋮</td><td>⋮</td><td>⋮</td><td>⋮</td><td>⋮</td><td>⋮</td><td>⋮</td><td>⋮</td><td>⋮</td></tr>\n",
              "\t<tr><td>371             </td><td> 35.610         </td><td> 6135           </td><td>466             </td><td>4               </td><td>40              </td><td>12              </td><td> Male           </td><td>No              </td><td>No              </td><td>Caucasian       </td><td> 992            </td></tr>\n",
              "\t<tr><td>372             </td><td> 39.116         </td><td> 2150           </td><td>173             </td><td>4               </td><td>75              </td><td>15              </td><td> Male           </td><td>No              </td><td>No              </td><td>Caucasian       </td><td>   0            </td></tr>\n",
              "\t<tr><td>373             </td><td> 19.782         </td><td> 3782           </td><td>293             </td><td>2               </td><td>46              </td><td>16              </td><td>Female          </td><td>Yes             </td><td>No              </td><td>Caucasian       </td><td> 840            </td></tr>\n",
              "\t<tr><td>374             </td><td> 55.412         </td><td> 5354           </td><td>383             </td><td>2               </td><td>37              </td><td>16              </td><td>Female          </td><td>Yes             </td><td>Yes             </td><td>Caucasian       </td><td>1003            </td></tr>\n",
              "\t<tr><td>375             </td><td> 29.400         </td><td> 4840           </td><td>368             </td><td>3               </td><td>76              </td><td>18              </td><td>Female          </td><td>No              </td><td>Yes             </td><td>Caucasian       </td><td> 588            </td></tr>\n",
              "\t<tr><td>376             </td><td> 20.974         </td><td> 5673           </td><td>413             </td><td>5               </td><td>44              </td><td>16              </td><td>Female          </td><td>No              </td><td>Yes             </td><td>Caucasian       </td><td>1000            </td></tr>\n",
              "\t<tr><td>377             </td><td> 87.625         </td><td> 7167           </td><td>515             </td><td>2               </td><td>46              </td><td>10              </td><td>Female          </td><td>No              </td><td>No              </td><td>African American</td><td> 767            </td></tr>\n",
              "\t<tr><td>378             </td><td> 28.144         </td><td> 1567           </td><td>142             </td><td>3               </td><td>51              </td><td>10              </td><td> Male           </td><td>No              </td><td>Yes             </td><td>Caucasian       </td><td>   0            </td></tr>\n",
              "\t<tr><td>379             </td><td> 19.349         </td><td> 4941           </td><td>366             </td><td>1               </td><td>33              </td><td>19              </td><td> Male           </td><td>No              </td><td>Yes             </td><td>Caucasian       </td><td> 717            </td></tr>\n",
              "\t<tr><td>380             </td><td> 53.308         </td><td> 2860           </td><td>214             </td><td>1               </td><td>84              </td><td>10              </td><td> Male           </td><td>No              </td><td>Yes             </td><td>Caucasian       </td><td>   0            </td></tr>\n",
              "\t<tr><td>381             </td><td>115.123         </td><td> 7760           </td><td>538             </td><td>3               </td><td>83              </td><td>14              </td><td>Female          </td><td>No              </td><td>No              </td><td>African American</td><td> 661            </td></tr>\n",
              "\t<tr><td>382             </td><td>101.788         </td><td> 8029           </td><td>574             </td><td>2               </td><td>84              </td><td>11              </td><td> Male           </td><td>No              </td><td>Yes             </td><td>Caucasian       </td><td> 849            </td></tr>\n",
              "\t<tr><td>383             </td><td> 24.824         </td><td> 5495           </td><td>409             </td><td>1               </td><td>33              </td><td> 9              </td><td> Male           </td><td>Yes             </td><td>No              </td><td>Caucasian       </td><td>1352            </td></tr>\n",
              "\t<tr><td>384             </td><td> 14.292         </td><td> 3274           </td><td>282             </td><td>9               </td><td>64              </td><td> 9              </td><td> Male           </td><td>No              </td><td>Yes             </td><td>Caucasian       </td><td> 382            </td></tr>\n",
              "\t<tr><td>385             </td><td> 20.088         </td><td> 1870           </td><td>180             </td><td>3               </td><td>76              </td><td>16              </td><td> Male           </td><td>No              </td><td>No              </td><td>African American</td><td>   0            </td></tr>\n",
              "\t<tr><td>386             </td><td> 26.400         </td><td> 5640           </td><td>398             </td><td>3               </td><td>58              </td><td>15              </td><td>Female          </td><td>No              </td><td>No              </td><td>Asian           </td><td> 905            </td></tr>\n",
              "\t<tr><td>387             </td><td> 19.253         </td><td> 3683           </td><td>287             </td><td>4               </td><td>57              </td><td>10              </td><td> Male           </td><td>No              </td><td>No              </td><td>African American</td><td> 371            </td></tr>\n",
              "\t<tr><td>388             </td><td> 16.529         </td><td> 1357           </td><td>126             </td><td>3               </td><td>62              </td><td> 9              </td><td> Male           </td><td>No              </td><td>No              </td><td>Asian           </td><td>   0            </td></tr>\n",
              "\t<tr><td>389             </td><td> 37.878         </td><td> 6827           </td><td>482             </td><td>2               </td><td>80              </td><td>13              </td><td>Female          </td><td>No              </td><td>No              </td><td>Caucasian       </td><td>1129            </td></tr>\n",
              "\t<tr><td>390             </td><td> 83.948         </td><td> 7100           </td><td>503             </td><td>2               </td><td>44              </td><td>18              </td><td> Male           </td><td>No              </td><td>No              </td><td>Caucasian       </td><td> 806            </td></tr>\n",
              "\t<tr><td>391             </td><td>135.118         </td><td>10578           </td><td>747             </td><td>3               </td><td>81              </td><td>15              </td><td>Female          </td><td>No              </td><td>Yes             </td><td>Asian           </td><td>1393            </td></tr>\n",
              "\t<tr><td>392             </td><td> 73.327         </td><td> 6555           </td><td>472             </td><td>2               </td><td>43              </td><td>15              </td><td>Female          </td><td>No              </td><td>No              </td><td>Caucasian       </td><td> 721            </td></tr>\n",
              "\t<tr><td>393             </td><td> 25.974         </td><td> 2308           </td><td>196             </td><td>2               </td><td>24              </td><td>10              </td><td> Male           </td><td>No              </td><td>No              </td><td>Asian           </td><td>   0            </td></tr>\n",
              "\t<tr><td>394             </td><td> 17.316         </td><td> 1335           </td><td>138             </td><td>2               </td><td>65              </td><td>13              </td><td> Male           </td><td>No              </td><td>No              </td><td>African American</td><td>   0            </td></tr>\n",
              "\t<tr><td>395             </td><td> 49.794         </td><td> 5758           </td><td>410             </td><td>4               </td><td>40              </td><td> 8              </td><td> Male           </td><td>No              </td><td>No              </td><td>Caucasian       </td><td> 734            </td></tr>\n",
              "\t<tr><td>396             </td><td> 12.096         </td><td> 4100           </td><td>307             </td><td>3               </td><td>32              </td><td>13              </td><td> Male           </td><td>No              </td><td>Yes             </td><td>Caucasian       </td><td> 560            </td></tr>\n",
              "\t<tr><td>397             </td><td> 13.364         </td><td> 3838           </td><td>296             </td><td>5               </td><td>65              </td><td>17              </td><td> Male           </td><td>No              </td><td>No              </td><td>African American</td><td> 480            </td></tr>\n",
              "\t<tr><td>398             </td><td> 57.872         </td><td> 4171           </td><td>321             </td><td>5               </td><td>67              </td><td>12              </td><td>Female          </td><td>No              </td><td>Yes             </td><td>Caucasian       </td><td> 138            </td></tr>\n",
              "\t<tr><td>399             </td><td> 37.728         </td><td> 2525           </td><td>192             </td><td>1               </td><td>44              </td><td>13              </td><td> Male           </td><td>No              </td><td>Yes             </td><td>Caucasian       </td><td>   0            </td></tr>\n",
              "\t<tr><td>400             </td><td> 18.701         </td><td> 5524           </td><td>415             </td><td>5               </td><td>64              </td><td> 7              </td><td>Female          </td><td>No              </td><td>No              </td><td>Asian           </td><td> 966            </td></tr>\n",
              "</tbody>\n",
              "</table>\n"
            ],
            "text/latex": "\\begin{tabular}{r|llllllllllll}\n X & Income & Limit & Rating & Cards & Age & Education & Gender & Student & Married & Ethnicity & Balance\\\\\n\\hline\n\t  1               &  14.891          &  3606            & 283              & 2                & 34               & 11               &  Male            & No               & Yes              & Caucasian        &  333            \\\\\n\t  2               & 106.025          &  6645            & 483              & 3                & 82               & 15               & Female           & Yes              & Yes              & Asian            &  903            \\\\\n\t  3               & 104.593          &  7075            & 514              & 4                & 71               & 11               &  Male            & No               & No               & Asian            &  580            \\\\\n\t  4               & 148.924          &  9504            & 681              & 3                & 36               & 11               & Female           & No               & No               & Asian            &  964            \\\\\n\t  5               &  55.882          &  4897            & 357              & 2                & 68               & 16               &  Male            & No               & Yes              & Caucasian        &  331            \\\\\n\t  6               &  80.180          &  8047            & 569              & 4                & 77               & 10               &  Male            & No               & No               & Caucasian        & 1151            \\\\\n\t  7               &  20.996          &  3388            & 259              & 2                & 37               & 12               & Female           & No               & No               & African American &  203            \\\\\n\t  8               &  71.408          &  7114            & 512              & 2                & 87               &  9               &  Male            & No               & No               & Asian            &  872            \\\\\n\t  9               &  15.125          &  3300            & 266              & 5                & 66               & 13               & Female           & No               & No               & Caucasian        &  279            \\\\\n\t 10               &  71.061          &  6819            & 491              & 3                & 41               & 19               & Female           & Yes              & Yes              & African American & 1350            \\\\\n\t 11               &  63.095          &  8117            & 589              & 4                & 30               & 14               &  Male            & No               & Yes              & Caucasian        & 1407            \\\\\n\t 12               &  15.045          &  1311            & 138              & 3                & 64               & 16               &  Male            & No               & No               & Caucasian        &    0            \\\\\n\t 13               &  80.616          &  5308            & 394              & 1                & 57               &  7               & Female           & No               & Yes              & Asian            &  204            \\\\\n\t 14               &  43.682          &  6922            & 511              & 1                & 49               &  9               &  Male            & No               & Yes              & Caucasian        & 1081            \\\\\n\t 15               &  19.144          &  3291            & 269              & 2                & 75               & 13               & Female           & No               & No               & African American &  148            \\\\\n\t 16               &  20.089          &  2525            & 200              & 3                & 57               & 15               & Female           & No               & Yes              & African American &    0            \\\\\n\t 17               &  53.598          &  3714            & 286              & 3                & 73               & 17               & Female           & No               & Yes              & African American &    0            \\\\\n\t 18               &  36.496          &  4378            & 339              & 3                & 69               & 15               & Female           & No               & Yes              & Asian            &  368            \\\\\n\t 19               &  49.570          &  6384            & 448              & 1                & 28               &  9               & Female           & No               & Yes              & Asian            &  891            \\\\\n\t 20               &  42.079          &  6626            & 479              & 2                & 44               &  9               &  Male            & No               & No               & Asian            & 1048            \\\\\n\t 21               &  17.700          &  2860            & 235              & 4                & 63               & 16               & Female           & No               & No               & Asian            &   89            \\\\\n\t 22               &  37.348          &  6378            & 458              & 1                & 72               & 17               & Female           & No               & No               & Caucasian        &  968            \\\\\n\t 23               &  20.103          &  2631            & 213              & 3                & 61               & 10               &  Male            & No               & Yes              & African American &    0            \\\\\n\t 24               &  64.027          &  5179            & 398              & 5                & 48               &  8               &  Male            & No               & Yes              & African American &  411            \\\\\n\t 25               &  10.742          &  1757            & 156              & 3                & 57               & 15               & Female           & No               & No               & Caucasian        &    0            \\\\\n\t 26               &  14.090          &  4323            & 326              & 5                & 25               & 16               & Female           & No               & Yes              & African American &  671            \\\\\n\t 27               &  42.471          &  3625            & 289              & 6                & 44               & 12               & Female           & Yes              & No               & Caucasian        &  654            \\\\\n\t 28               &  32.793          &  4534            & 333              & 2                & 44               & 16               &  Male            & No               & No               & African American &  467            \\\\\n\t 29               & 186.634          & 13414            & 949              & 2                & 41               & 14               & Female           & No               & Yes              & African American & 1809            \\\\\n\t 30               &  26.813          &  5611            & 411              & 4                & 55               & 16               & Female           & No               & No               & Caucasian        &  915            \\\\\n\t ⋮ & ⋮ & ⋮ & ⋮ & ⋮ & ⋮ & ⋮ & ⋮ & ⋮ & ⋮ & ⋮ & ⋮\\\\\n\t 371              &  35.610          &  6135            & 466              & 4                & 40               & 12               &  Male            & No               & No               & Caucasian        &  992            \\\\\n\t 372              &  39.116          &  2150            & 173              & 4                & 75               & 15               &  Male            & No               & No               & Caucasian        &    0            \\\\\n\t 373              &  19.782          &  3782            & 293              & 2                & 46               & 16               & Female           & Yes              & No               & Caucasian        &  840            \\\\\n\t 374              &  55.412          &  5354            & 383              & 2                & 37               & 16               & Female           & Yes              & Yes              & Caucasian        & 1003            \\\\\n\t 375              &  29.400          &  4840            & 368              & 3                & 76               & 18               & Female           & No               & Yes              & Caucasian        &  588            \\\\\n\t 376              &  20.974          &  5673            & 413              & 5                & 44               & 16               & Female           & No               & Yes              & Caucasian        & 1000            \\\\\n\t 377              &  87.625          &  7167            & 515              & 2                & 46               & 10               & Female           & No               & No               & African American &  767            \\\\\n\t 378              &  28.144          &  1567            & 142              & 3                & 51               & 10               &  Male            & No               & Yes              & Caucasian        &    0            \\\\\n\t 379              &  19.349          &  4941            & 366              & 1                & 33               & 19               &  Male            & No               & Yes              & Caucasian        &  717            \\\\\n\t 380              &  53.308          &  2860            & 214              & 1                & 84               & 10               &  Male            & No               & Yes              & Caucasian        &    0            \\\\\n\t 381              & 115.123          &  7760            & 538              & 3                & 83               & 14               & Female           & No               & No               & African American &  661            \\\\\n\t 382              & 101.788          &  8029            & 574              & 2                & 84               & 11               &  Male            & No               & Yes              & Caucasian        &  849            \\\\\n\t 383              &  24.824          &  5495            & 409              & 1                & 33               &  9               &  Male            & Yes              & No               & Caucasian        & 1352            \\\\\n\t 384              &  14.292          &  3274            & 282              & 9                & 64               &  9               &  Male            & No               & Yes              & Caucasian        &  382            \\\\\n\t 385              &  20.088          &  1870            & 180              & 3                & 76               & 16               &  Male            & No               & No               & African American &    0            \\\\\n\t 386              &  26.400          &  5640            & 398              & 3                & 58               & 15               & Female           & No               & No               & Asian            &  905            \\\\\n\t 387              &  19.253          &  3683            & 287              & 4                & 57               & 10               &  Male            & No               & No               & African American &  371            \\\\\n\t 388              &  16.529          &  1357            & 126              & 3                & 62               &  9               &  Male            & No               & No               & Asian            &    0            \\\\\n\t 389              &  37.878          &  6827            & 482              & 2                & 80               & 13               & Female           & No               & No               & Caucasian        & 1129            \\\\\n\t 390              &  83.948          &  7100            & 503              & 2                & 44               & 18               &  Male            & No               & No               & Caucasian        &  806            \\\\\n\t 391              & 135.118          & 10578            & 747              & 3                & 81               & 15               & Female           & No               & Yes              & Asian            & 1393            \\\\\n\t 392              &  73.327          &  6555            & 472              & 2                & 43               & 15               & Female           & No               & No               & Caucasian        &  721            \\\\\n\t 393              &  25.974          &  2308            & 196              & 2                & 24               & 10               &  Male            & No               & No               & Asian            &    0            \\\\\n\t 394              &  17.316          &  1335            & 138              & 2                & 65               & 13               &  Male            & No               & No               & African American &    0            \\\\\n\t 395              &  49.794          &  5758            & 410              & 4                & 40               &  8               &  Male            & No               & No               & Caucasian        &  734            \\\\\n\t 396              &  12.096          &  4100            & 307              & 3                & 32               & 13               &  Male            & No               & Yes              & Caucasian        &  560            \\\\\n\t 397              &  13.364          &  3838            & 296              & 5                & 65               & 17               &  Male            & No               & No               & African American &  480            \\\\\n\t 398              &  57.872          &  4171            & 321              & 5                & 67               & 12               & Female           & No               & Yes              & Caucasian        &  138            \\\\\n\t 399              &  37.728          &  2525            & 192              & 1                & 44               & 13               &  Male            & No               & Yes              & Caucasian        &    0            \\\\\n\t 400              &  18.701          &  5524            & 415              & 5                & 64               &  7               & Female           & No               & No               & Asian            &  966            \\\\\n\\end{tabular}\n",
            "text/markdown": "\nX | Income | Limit | Rating | Cards | Age | Education | Gender | Student | Married | Ethnicity | Balance | \n|---|---|---|---|---|---|---|---|---|---|---|---|---|---|---|---|---|---|---|---|---|---|---|---|---|---|---|---|---|---|---|---|---|---|---|---|---|---|---|---|---|---|---|---|---|---|---|---|---|---|---|---|---|---|---|---|---|---|---|---|---|\n|  1               |  14.891          |  3606            | 283              | 2                | 34               | 11               |  Male            | No               | Yes              | Caucasian        |  333             | \n|  2               | 106.025          |  6645            | 483              | 3                | 82               | 15               | Female           | Yes              | Yes              | Asian            |  903             | \n|  3               | 104.593          |  7075            | 514              | 4                | 71               | 11               |  Male            | No               | No               | Asian            |  580             | \n|  4               | 148.924          |  9504            | 681              | 3                | 36               | 11               | Female           | No               | No               | Asian            |  964             | \n|  5               |  55.882          |  4897            | 357              | 2                | 68               | 16               |  Male            | No               | Yes              | Caucasian        |  331             | \n|  6               |  80.180          |  8047            | 569              | 4                | 77               | 10               |  Male            | No               | No               | Caucasian        | 1151             | \n|  7               |  20.996          |  3388            | 259              | 2                | 37               | 12               | Female           | No               | No               | African American |  203             | \n|  8               |  71.408          |  7114            | 512              | 2                | 87               |  9               |  Male            | No               | No               | Asian            |  872             | \n|  9               |  15.125          |  3300            | 266              | 5                | 66               | 13               | Female           | No               | No               | Caucasian        |  279             | \n| 10               |  71.061          |  6819            | 491              | 3                | 41               | 19               | Female           | Yes              | Yes              | African American | 1350             | \n| 11               |  63.095          |  8117            | 589              | 4                | 30               | 14               |  Male            | No               | Yes              | Caucasian        | 1407             | \n| 12               |  15.045          |  1311            | 138              | 3                | 64               | 16               |  Male            | No               | No               | Caucasian        |    0             | \n| 13               |  80.616          |  5308            | 394              | 1                | 57               |  7               | Female           | No               | Yes              | Asian            |  204             | \n| 14               |  43.682          |  6922            | 511              | 1                | 49               |  9               |  Male            | No               | Yes              | Caucasian        | 1081             | \n| 15               |  19.144          |  3291            | 269              | 2                | 75               | 13               | Female           | No               | No               | African American |  148             | \n| 16               |  20.089          |  2525            | 200              | 3                | 57               | 15               | Female           | No               | Yes              | African American |    0             | \n| 17               |  53.598          |  3714            | 286              | 3                | 73               | 17               | Female           | No               | Yes              | African American |    0             | \n| 18               |  36.496          |  4378            | 339              | 3                | 69               | 15               | Female           | No               | Yes              | Asian            |  368             | \n| 19               |  49.570          |  6384            | 448              | 1                | 28               |  9               | Female           | No               | Yes              | Asian            |  891             | \n| 20               |  42.079          |  6626            | 479              | 2                | 44               |  9               |  Male            | No               | No               | Asian            | 1048             | \n| 21               |  17.700          |  2860            | 235              | 4                | 63               | 16               | Female           | No               | No               | Asian            |   89             | \n| 22               |  37.348          |  6378            | 458              | 1                | 72               | 17               | Female           | No               | No               | Caucasian        |  968             | \n| 23               |  20.103          |  2631            | 213              | 3                | 61               | 10               |  Male            | No               | Yes              | African American |    0             | \n| 24               |  64.027          |  5179            | 398              | 5                | 48               |  8               |  Male            | No               | Yes              | African American |  411             | \n| 25               |  10.742          |  1757            | 156              | 3                | 57               | 15               | Female           | No               | No               | Caucasian        |    0             | \n| 26               |  14.090          |  4323            | 326              | 5                | 25               | 16               | Female           | No               | Yes              | African American |  671             | \n| 27               |  42.471          |  3625            | 289              | 6                | 44               | 12               | Female           | Yes              | No               | Caucasian        |  654             | \n| 28               |  32.793          |  4534            | 333              | 2                | 44               | 16               |  Male            | No               | No               | African American |  467             | \n| 29               | 186.634          | 13414            | 949              | 2                | 41               | 14               | Female           | No               | Yes              | African American | 1809             | \n| 30               |  26.813          |  5611            | 411              | 4                | 55               | 16               | Female           | No               | No               | Caucasian        |  915             | \n| ⋮ | ⋮ | ⋮ | ⋮ | ⋮ | ⋮ | ⋮ | ⋮ | ⋮ | ⋮ | ⋮ | ⋮ | \n| 371              |  35.610          |  6135            | 466              | 4                | 40               | 12               |  Male            | No               | No               | Caucasian        |  992             | \n| 372              |  39.116          |  2150            | 173              | 4                | 75               | 15               |  Male            | No               | No               | Caucasian        |    0             | \n| 373              |  19.782          |  3782            | 293              | 2                | 46               | 16               | Female           | Yes              | No               | Caucasian        |  840             | \n| 374              |  55.412          |  5354            | 383              | 2                | 37               | 16               | Female           | Yes              | Yes              | Caucasian        | 1003             | \n| 375              |  29.400          |  4840            | 368              | 3                | 76               | 18               | Female           | No               | Yes              | Caucasian        |  588             | \n| 376              |  20.974          |  5673            | 413              | 5                | 44               | 16               | Female           | No               | Yes              | Caucasian        | 1000             | \n| 377              |  87.625          |  7167            | 515              | 2                | 46               | 10               | Female           | No               | No               | African American |  767             | \n| 378              |  28.144          |  1567            | 142              | 3                | 51               | 10               |  Male            | No               | Yes              | Caucasian        |    0             | \n| 379              |  19.349          |  4941            | 366              | 1                | 33               | 19               |  Male            | No               | Yes              | Caucasian        |  717             | \n| 380              |  53.308          |  2860            | 214              | 1                | 84               | 10               |  Male            | No               | Yes              | Caucasian        |    0             | \n| 381              | 115.123          |  7760            | 538              | 3                | 83               | 14               | Female           | No               | No               | African American |  661             | \n| 382              | 101.788          |  8029            | 574              | 2                | 84               | 11               |  Male            | No               | Yes              | Caucasian        |  849             | \n| 383              |  24.824          |  5495            | 409              | 1                | 33               |  9               |  Male            | Yes              | No               | Caucasian        | 1352             | \n| 384              |  14.292          |  3274            | 282              | 9                | 64               |  9               |  Male            | No               | Yes              | Caucasian        |  382             | \n| 385              |  20.088          |  1870            | 180              | 3                | 76               | 16               |  Male            | No               | No               | African American |    0             | \n| 386              |  26.400          |  5640            | 398              | 3                | 58               | 15               | Female           | No               | No               | Asian            |  905             | \n| 387              |  19.253          |  3683            | 287              | 4                | 57               | 10               |  Male            | No               | No               | African American |  371             | \n| 388              |  16.529          |  1357            | 126              | 3                | 62               |  9               |  Male            | No               | No               | Asian            |    0             | \n| 389              |  37.878          |  6827            | 482              | 2                | 80               | 13               | Female           | No               | No               | Caucasian        | 1129             | \n| 390              |  83.948          |  7100            | 503              | 2                | 44               | 18               |  Male            | No               | No               | Caucasian        |  806             | \n| 391              | 135.118          | 10578            | 747              | 3                | 81               | 15               | Female           | No               | Yes              | Asian            | 1393             | \n| 392              |  73.327          |  6555            | 472              | 2                | 43               | 15               | Female           | No               | No               | Caucasian        |  721             | \n| 393              |  25.974          |  2308            | 196              | 2                | 24               | 10               |  Male            | No               | No               | Asian            |    0             | \n| 394              |  17.316          |  1335            | 138              | 2                | 65               | 13               |  Male            | No               | No               | African American |    0             | \n| 395              |  49.794          |  5758            | 410              | 4                | 40               |  8               |  Male            | No               | No               | Caucasian        |  734             | \n| 396              |  12.096          |  4100            | 307              | 3                | 32               | 13               |  Male            | No               | Yes              | Caucasian        |  560             | \n| 397              |  13.364          |  3838            | 296              | 5                | 65               | 17               |  Male            | No               | No               | African American |  480             | \n| 398              |  57.872          |  4171            | 321              | 5                | 67               | 12               | Female           | No               | Yes              | Caucasian        |  138             | \n| 399              |  37.728          |  2525            | 192              | 1                | 44               | 13               |  Male            | No               | Yes              | Caucasian        |    0             | \n| 400              |  18.701          |  5524            | 415              | 5                | 64               |  7               | Female           | No               | No               | Asian            |  966             | \n\n\n",
            "text/plain": [
              "    X   Income  Limit Rating Cards Age Education Gender Student Married\n",
              "1    1   14.891  3606 283    2     34  11         Male  No      Yes    \n",
              "2    2  106.025  6645 483    3     82  15        Female Yes     Yes    \n",
              "3    3  104.593  7075 514    4     71  11         Male  No      No     \n",
              "4    4  148.924  9504 681    3     36  11        Female No      No     \n",
              "5    5   55.882  4897 357    2     68  16         Male  No      Yes    \n",
              "6    6   80.180  8047 569    4     77  10         Male  No      No     \n",
              "7    7   20.996  3388 259    2     37  12        Female No      No     \n",
              "8    8   71.408  7114 512    2     87   9         Male  No      No     \n",
              "9    9   15.125  3300 266    5     66  13        Female No      No     \n",
              "10  10   71.061  6819 491    3     41  19        Female Yes     Yes    \n",
              "11  11   63.095  8117 589    4     30  14         Male  No      Yes    \n",
              "12  12   15.045  1311 138    3     64  16         Male  No      No     \n",
              "13  13   80.616  5308 394    1     57   7        Female No      Yes    \n",
              "14  14   43.682  6922 511    1     49   9         Male  No      Yes    \n",
              "15  15   19.144  3291 269    2     75  13        Female No      No     \n",
              "16  16   20.089  2525 200    3     57  15        Female No      Yes    \n",
              "17  17   53.598  3714 286    3     73  17        Female No      Yes    \n",
              "18  18   36.496  4378 339    3     69  15        Female No      Yes    \n",
              "19  19   49.570  6384 448    1     28   9        Female No      Yes    \n",
              "20  20   42.079  6626 479    2     44   9         Male  No      No     \n",
              "21  21   17.700  2860 235    4     63  16        Female No      No     \n",
              "22  22   37.348  6378 458    1     72  17        Female No      No     \n",
              "23  23   20.103  2631 213    3     61  10         Male  No      Yes    \n",
              "24  24   64.027  5179 398    5     48   8         Male  No      Yes    \n",
              "25  25   10.742  1757 156    3     57  15        Female No      No     \n",
              "26  26   14.090  4323 326    5     25  16        Female No      Yes    \n",
              "27  27   42.471  3625 289    6     44  12        Female Yes     No     \n",
              "28  28   32.793  4534 333    2     44  16         Male  No      No     \n",
              "29  29  186.634 13414 949    2     41  14        Female No      Yes    \n",
              "30  30   26.813  5611 411    4     55  16        Female No      No     \n",
              "⋮   ⋮   ⋮       ⋮     ⋮      ⋮     ⋮   ⋮         ⋮      ⋮       ⋮      \n",
              "371 371  35.610  6135 466    4     40  12         Male  No      No     \n",
              "372 372  39.116  2150 173    4     75  15         Male  No      No     \n",
              "373 373  19.782  3782 293    2     46  16        Female Yes     No     \n",
              "374 374  55.412  5354 383    2     37  16        Female Yes     Yes    \n",
              "375 375  29.400  4840 368    3     76  18        Female No      Yes    \n",
              "376 376  20.974  5673 413    5     44  16        Female No      Yes    \n",
              "377 377  87.625  7167 515    2     46  10        Female No      No     \n",
              "378 378  28.144  1567 142    3     51  10         Male  No      Yes    \n",
              "379 379  19.349  4941 366    1     33  19         Male  No      Yes    \n",
              "380 380  53.308  2860 214    1     84  10         Male  No      Yes    \n",
              "381 381 115.123  7760 538    3     83  14        Female No      No     \n",
              "382 382 101.788  8029 574    2     84  11         Male  No      Yes    \n",
              "383 383  24.824  5495 409    1     33   9         Male  Yes     No     \n",
              "384 384  14.292  3274 282    9     64   9         Male  No      Yes    \n",
              "385 385  20.088  1870 180    3     76  16         Male  No      No     \n",
              "386 386  26.400  5640 398    3     58  15        Female No      No     \n",
              "387 387  19.253  3683 287    4     57  10         Male  No      No     \n",
              "388 388  16.529  1357 126    3     62   9         Male  No      No     \n",
              "389 389  37.878  6827 482    2     80  13        Female No      No     \n",
              "390 390  83.948  7100 503    2     44  18         Male  No      No     \n",
              "391 391 135.118 10578 747    3     81  15        Female No      Yes    \n",
              "392 392  73.327  6555 472    2     43  15        Female No      No     \n",
              "393 393  25.974  2308 196    2     24  10         Male  No      No     \n",
              "394 394  17.316  1335 138    2     65  13         Male  No      No     \n",
              "395 395  49.794  5758 410    4     40   8         Male  No      No     \n",
              "396 396  12.096  4100 307    3     32  13         Male  No      Yes    \n",
              "397 397  13.364  3838 296    5     65  17         Male  No      No     \n",
              "398 398  57.872  4171 321    5     67  12        Female No      Yes    \n",
              "399 399  37.728  2525 192    1     44  13         Male  No      Yes    \n",
              "400 400  18.701  5524 415    5     64   7        Female No      No     \n",
              "    Ethnicity        Balance\n",
              "1   Caucasian         333   \n",
              "2   Asian             903   \n",
              "3   Asian             580   \n",
              "4   Asian             964   \n",
              "5   Caucasian         331   \n",
              "6   Caucasian        1151   \n",
              "7   African American  203   \n",
              "8   Asian             872   \n",
              "9   Caucasian         279   \n",
              "10  African American 1350   \n",
              "11  Caucasian        1407   \n",
              "12  Caucasian           0   \n",
              "13  Asian             204   \n",
              "14  Caucasian        1081   \n",
              "15  African American  148   \n",
              "16  African American    0   \n",
              "17  African American    0   \n",
              "18  Asian             368   \n",
              "19  Asian             891   \n",
              "20  Asian            1048   \n",
              "21  Asian              89   \n",
              "22  Caucasian         968   \n",
              "23  African American    0   \n",
              "24  African American  411   \n",
              "25  Caucasian           0   \n",
              "26  African American  671   \n",
              "27  Caucasian         654   \n",
              "28  African American  467   \n",
              "29  African American 1809   \n",
              "30  Caucasian         915   \n",
              "⋮   ⋮                ⋮      \n",
              "371 Caucasian         992   \n",
              "372 Caucasian           0   \n",
              "373 Caucasian         840   \n",
              "374 Caucasian        1003   \n",
              "375 Caucasian         588   \n",
              "376 Caucasian        1000   \n",
              "377 African American  767   \n",
              "378 Caucasian           0   \n",
              "379 Caucasian         717   \n",
              "380 Caucasian           0   \n",
              "381 African American  661   \n",
              "382 Caucasian         849   \n",
              "383 Caucasian        1352   \n",
              "384 Caucasian         382   \n",
              "385 African American    0   \n",
              "386 Asian             905   \n",
              "387 African American  371   \n",
              "388 Asian               0   \n",
              "389 Caucasian        1129   \n",
              "390 Caucasian         806   \n",
              "391 Asian            1393   \n",
              "392 Caucasian         721   \n",
              "393 Asian               0   \n",
              "394 African American    0   \n",
              "395 Caucasian         734   \n",
              "396 Caucasian         560   \n",
              "397 African American  480   \n",
              "398 Caucasian         138   \n",
              "399 Caucasian           0   \n",
              "400 Asian             966   "
            ]
          },
          "metadata": {
            "tags": []
          }
        }
      ]
    },
    {
      "cell_type": "markdown",
      "metadata": {
        "id": "uMqIYvBQw2dA"
      },
      "source": [
        "### Check Correlations"
      ]
    },
    {
      "cell_type": "code",
      "metadata": {
        "id": "JpqPuVJEw2dB",
        "colab": {
          "base_uri": "https://localhost:8080/",
          "height": 120
        },
        "outputId": "e5d28ea3-e222-4f60-e96a-f89ffb7ceee5"
      },
      "source": [
        "D<-cbind(Age,Rating,Limit)\n",
        "cor(D,D)"
      ],
      "execution_count": null,
      "outputs": [
        {
          "output_type": "display_data",
          "data": {
            "text/plain": [
              "       Age       Rating    Limit    \n",
              "Age    1.0000000 0.1031650 0.1008879\n",
              "Rating 0.1031650 1.0000000 0.9968797\n",
              "Limit  0.1008879 0.9968797 1.0000000"
            ],
            "text/latex": "A matrix: 3 × 3 of type dbl\n\\begin{tabular}{r|lll}\n  & Age & Rating & Limit\\\\\n\\hline\n\tAge & 1.0000000 & 0.1031650 & 0.1008879\\\\\n\tRating & 0.1031650 & 1.0000000 & 0.9968797\\\\\n\tLimit & 0.1008879 & 0.9968797 & 1.0000000\\\\\n\\end{tabular}\n",
            "text/markdown": "\nA matrix: 3 × 3 of type dbl\n\n| <!--/--> | Age | Rating | Limit |\n|---|---|---|---|\n| Age | 1.0000000 | 0.1031650 | 0.1008879 |\n| Rating | 0.1031650 | 1.0000000 | 0.9968797 |\n| Limit | 0.1008879 | 0.9968797 | 1.0000000 |\n\n",
            "text/html": [
              "<table>\n",
              "<caption>A matrix: 3 × 3 of type dbl</caption>\n",
              "<thead>\n",
              "\t<tr><th></th><th scope=col>Age</th><th scope=col>Rating</th><th scope=col>Limit</th></tr>\n",
              "</thead>\n",
              "<tbody>\n",
              "\t<tr><th scope=row>Age</th><td>1.0000000</td><td>0.1031650</td><td>0.1008879</td></tr>\n",
              "\t<tr><th scope=row>Rating</th><td>0.1031650</td><td>1.0000000</td><td>0.9968797</td></tr>\n",
              "\t<tr><th scope=row>Limit</th><td>0.1008879</td><td>0.9968797</td><td>1.0000000</td></tr>\n",
              "</tbody>\n",
              "</table>\n"
            ]
          },
          "metadata": {
            "tags": []
          }
        }
      ]
    },
    {
      "cell_type": "markdown",
      "metadata": {
        "id": "eqO0a7viw2dF"
      },
      "source": [
        "### Run Linear Model"
      ]
    },
    {
      "cell_type": "code",
      "metadata": {
        "id": "Ly5g8O4Uw2dG",
        "outputId": "09c6e35d-0c0e-4e19-9285-3aa505f79270"
      },
      "source": [
        "lm.fit <- lm(Balance ~ Age + Limit + Rating)\n",
        "summary(lm.fit)"
      ],
      "execution_count": null,
      "outputs": [
        {
          "output_type": "display_data",
          "data": {
            "text/plain": [
              "\n",
              "Call:\n",
              "lm(formula = Balance ~ Age + Limit + Rating)\n",
              "\n",
              "Residuals:\n",
              "    Min      1Q  Median      3Q     Max \n",
              "-729.67 -135.82   -8.58  127.29  827.65 \n",
              "\n",
              "Coefficients:\n",
              "              Estimate Std. Error t value Pr(>|t|)    \n",
              "(Intercept) -259.51752   55.88219  -4.644 4.66e-06 ***\n",
              "Age           -2.34575    0.66861  -3.508 0.000503 ***\n",
              "Limit          0.01901    0.06296   0.302 0.762830    \n",
              "Rating         2.31046    0.93953   2.459 0.014352 *  \n",
              "---\n",
              "Signif. codes:  0 ‘***’ 0.001 ‘**’ 0.01 ‘*’ 0.05 ‘.’ 0.1 ‘ ’ 1\n",
              "\n",
              "Residual standard error: 229.1 on 396 degrees of freedom\n",
              "Multiple R-squared:  0.7536,\tAdjusted R-squared:  0.7517 \n",
              "F-statistic: 403.7 on 3 and 396 DF,  p-value: < 2.2e-16\n"
            ]
          },
          "metadata": {
            "tags": []
          }
        }
      ]
    },
    {
      "cell_type": "markdown",
      "metadata": {
        "id": "l5FCLkbWw2dK"
      },
      "source": [
        "When all three predictors are included, only Age and Rating are significant. This means that the extra information provided by Limit variable, beyond Age and Limit, does not help explain Balance.\n",
        "\n",
        "Said another way, the vector \"Balance\" does not occupy the dimension added by Limit, once Limit is orthogonalized."
      ]
    },
    {
      "cell_type": "markdown",
      "metadata": {
        "id": "iutwjJLXw2dL"
      },
      "source": [
        "### If you leave out Rating, both Age and Limit are significant predictors"
      ]
    },
    {
      "cell_type": "code",
      "metadata": {
        "id": "JIKdfhmaw2dL",
        "outputId": "8f618f14-3bd6-4644-fa98-c4aa0a6e59f6"
      },
      "source": [
        "lm.fit <- lm(Balance ~ Age + Limit)\n",
        "summary(lm.fit)"
      ],
      "execution_count": null,
      "outputs": [
        {
          "output_type": "display_data",
          "data": {
            "text/plain": [
              "\n",
              "Call:\n",
              "lm(formula = Balance ~ Age + Limit)\n",
              "\n",
              "Residuals:\n",
              "    Min      1Q  Median      3Q     Max \n",
              "-696.84 -150.78  -13.01  126.68  755.56 \n",
              "\n",
              "Coefficients:\n",
              "              Estimate Std. Error t value Pr(>|t|)    \n",
              "(Intercept) -1.734e+02  4.383e+01  -3.957 9.01e-05 ***\n",
              "Age         -2.291e+00  6.725e-01  -3.407 0.000723 ***\n",
              "Limit        1.734e-01  5.026e-03  34.496  < 2e-16 ***\n",
              "---\n",
              "Signif. codes:  0 ‘***’ 0.001 ‘**’ 0.01 ‘*’ 0.05 ‘.’ 0.1 ‘ ’ 1\n",
              "\n",
              "Residual standard error: 230.5 on 397 degrees of freedom\n",
              "Multiple R-squared:  0.7498,\tAdjusted R-squared:  0.7486 \n",
              "F-statistic:   595 on 2 and 397 DF,  p-value: < 2.2e-16\n"
            ]
          },
          "metadata": {
            "tags": []
          }
        }
      ]
    },
    {
      "cell_type": "markdown",
      "metadata": {
        "id": "_dhoHrgRw2dO"
      },
      "source": [
        "By leaving out an important correlated predcitor(Rating), you will make incorrect inference on the Limit variable\n",
        "\n",
        "This is the Omitted Variables problem.\n",
        "\n",
        "Notice that the standard error on Limit has gone up a lot when Rating is included, this is because of collinearity."
      ]
    }
  ]
}