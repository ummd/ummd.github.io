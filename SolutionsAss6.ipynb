{
  "nbformat": 4,
  "nbformat_minor": 0,
  "metadata": {
    "kernelspec": {
      "display_name": "R",
      "language": "R",
      "name": "ir"
    },
    "language_info": {
      "codemirror_mode": "r",
      "file_extension": ".r",
      "mimetype": "text/x-r-source",
      "name": "R",
      "pygments_lexer": "r",
      "version": "3.5.0"
    },
    "colab": {
      "name": "SolutionsAss6.ipynb",
      "provenance": [],
      "include_colab_link": true
    }
  },
  "cells": [
    {
      "cell_type": "markdown",
      "metadata": {
        "id": "view-in-github",
        "colab_type": "text"
      },
      "source": [
        "<a href=\"https://colab.research.google.com/github/ummd/ummd.github.io/blob/master/SolutionsAss6.ipynb\" target=\"_parent\"><img src=\"https://colab.research.google.com/assets/colab-badge.svg\" alt=\"Open In Colab\"/></a>"
      ]
    },
    {
      "cell_type": "markdown",
      "metadata": {
        "id": "3PRP3DsA0YER"
      },
      "source": [
        "# Assignment 6 Solutions"
      ]
    },
    {
      "cell_type": "markdown",
      "metadata": {
        "id": "doVLVNay0YEb"
      },
      "source": [
        "1) a)"
      ]
    },
    {
      "cell_type": "code",
      "metadata": {
        "id": "qa2CcYg30YEb",
        "outputId": "03686613-f599-4438-d18b-0547856015ef"
      },
      "source": [
        "library(ISLR)\n",
        "attach(Carseats)\n",
        "set.seed(1)\n",
        "\n",
        "train = sample(dim(Carseats)[1], dim(Carseats)[1]/2) #split randomly\n",
        "Carseats.train = Carseats[train, ]\n",
        "Carseats.test = Carseats[-train, ]"
      ],
      "execution_count": null,
      "outputs": [
        {
          "output_type": "stream",
          "text": [
            "The following objects are masked from Carseats (pos = 3):\n",
            "\n",
            "    Advertising, Age, CompPrice, Education, Income, Population, Price,\n",
            "    Sales, ShelveLoc, Urban, US\n",
            "\n",
            "The following objects are masked from Carseats (pos = 4):\n",
            "\n",
            "    Advertising, Age, CompPrice, Education, Income, Population, Price,\n",
            "    Sales, ShelveLoc, Urban, US\n",
            "\n",
            "The following objects are masked from Carseats (pos = 5):\n",
            "\n",
            "    Advertising, Age, CompPrice, Education, Income, Population, Price,\n",
            "    Sales, ShelveLoc, Urban, US\n",
            "\n",
            "The following objects are masked from Carseats (pos = 6):\n",
            "\n",
            "    Advertising, Age, CompPrice, Education, Income, Population, Price,\n",
            "    Sales, ShelveLoc, Urban, US\n",
            "\n",
            "The following objects are masked from Carseats (pos = 7):\n",
            "\n",
            "    Advertising, Age, CompPrice, Education, Income, Population, Price,\n",
            "    Sales, ShelveLoc, Urban, US\n",
            "\n",
            "The following objects are masked from Carseats (pos = 8):\n",
            "\n",
            "    Advertising, Age, CompPrice, Education, Income, Population, Price,\n",
            "    Sales, ShelveLoc, Urban, US\n",
            "\n",
            "The following objects are masked from Carseats (pos = 9):\n",
            "\n",
            "    Advertising, Age, CompPrice, Education, Income, Population, Price,\n",
            "    Sales, ShelveLoc, Urban, US\n",
            "\n",
            "The following objects are masked from Carseats (pos = 10):\n",
            "\n",
            "    Advertising, Age, CompPrice, Education, Income, Population, Price,\n",
            "    Sales, ShelveLoc, Urban, US\n",
            "\n",
            "The following objects are masked from Carseats (pos = 11):\n",
            "\n",
            "    Advertising, Age, CompPrice, Education, Income, Population, Price,\n",
            "    Sales, ShelveLoc, Urban, US\n",
            "\n",
            "The following objects are masked from Carseats (pos = 13):\n",
            "\n",
            "    Advertising, Age, CompPrice, Education, Income, Population, Price,\n",
            "    Sales, ShelveLoc, Urban, US\n",
            "\n"
          ],
          "name": "stderr"
        }
      ]
    },
    {
      "cell_type": "markdown",
      "metadata": {
        "id": "Krj8wodh0YEc"
      },
      "source": [
        "b)"
      ]
    },
    {
      "cell_type": "code",
      "metadata": {
        "id": "SMfSWBAY0YEd",
        "outputId": "55266257-02af-4a03-9b84-28ece9d48444"
      },
      "source": [
        "library(tree)\n",
        "tree.carseats = tree(Sales ~ ., data = Carseats.train)\n",
        "summary(tree.carseats)\n",
        "plot(tree.carseats)\n",
        "text(tree.carseats, pretty = 0)"
      ],
      "execution_count": null,
      "outputs": [
        {
          "output_type": "display_data",
          "data": {
            "text/plain": [
              "\n",
              "Regression tree:\n",
              "tree(formula = Sales ~ ., data = Carseats.train)\n",
              "Variables actually used in tree construction:\n",
              "[1] \"ShelveLoc\"   \"Price\"       \"Age\"         \"Advertising\" \"Income\"     \n",
              "[6] \"CompPrice\"  \n",
              "Number of terminal nodes:  18 \n",
              "Residual mean deviance:  2.36 = 429.5 / 182 \n",
              "Distribution of residuals:\n",
              "   Min. 1st Qu.  Median    Mean 3rd Qu.    Max. \n",
              "-4.2570 -1.0360  0.1024  0.0000  0.9301  3.9130 "
            ]
          },
          "metadata": {
            "tags": []
          }
        },
        {
          "output_type": "display_data",
          "data": {
            "image/png": "[encoded data removed]",
            "text/plain": [
              "plot without title"
            ]
          },
          "metadata": {
            "tags": []
          }
        }
      ]
    },
    {
      "cell_type": "code",
      "metadata": {
        "id": "QtEhnwC_0YEd",
        "outputId": "027319c4-d435-446c-98a5-f2f8d55e9741"
      },
      "source": [
        "pred.carseats = predict(tree.carseats, Carseats.test)\n",
        "mean((Carseats.test$Sales - pred.carseats)^2)"
      ],
      "execution_count": null,
      "outputs": [
        {
          "output_type": "display_data",
          "data": {
            "text/html": [
              "4.14889745049246"
            ],
            "text/latex": "4.14889745049246",
            "text/markdown": "4.14889745049246",
            "text/plain": [
              "[1] 4.148897"
            ]
          },
          "metadata": {
            "tags": []
          }
        }
      ]
    },
    {
      "cell_type": "markdown",
      "metadata": {
        "id": "dtT7yD0o0YEe"
      },
      "source": [
        "c)"
      ]
    },
    {
      "cell_type": "code",
      "metadata": {
        "id": "aXPKwmuL0YEe",
        "outputId": "43965870-cf1a-4bd4-888a-7a1aa040dddb"
      },
      "source": [
        "cv.carseats = cv.tree(tree.carseats, FUN = prune.tree)\n",
        "par(mfrow = c(1, 2))\n",
        "plot(cv.carseats$size, cv.carseats$dev, type = \"b\")\n",
        "plot(cv.carseats$k, cv.carseats$dev, type = \"b\")"
      ],
      "execution_count": null,
      "outputs": [
        {
          "output_type": "display_data",
          "data": {
            "image/png": "[encoded data removed]",
            "text/plain": [
              "plot without title"
            ]
          },
          "metadata": {
            "tags": []
          }
        }
      ]
    },
    {
      "cell_type": "code",
      "metadata": {
        "id": "Eq-9tb7a0YEf",
        "outputId": "6b70acd2-1fc3-4a55-cbd2-28f8a69a806d"
      },
      "source": [
        "# Best size = 9\n",
        "pruned.carseats = prune.tree(tree.carseats, best = 9)\n",
        "par(mfrow = c(1, 1))\n",
        "plot(pruned.carseats)\n",
        "text(pruned.carseats, pretty = 0)"
      ],
      "execution_count": null,
      "outputs": [
        {
          "output_type": "display_data",
          "data": {
            "image/png": "[encoded data removed]",
            "text/plain": [
              "plot without title"
            ]
          },
          "metadata": {
            "tags": []
          }
        }
      ]
    },
    {
      "cell_type": "code",
      "metadata": {
        "id": "G0z6rLs80YEf",
        "outputId": "8839654e-3a88-4675-8384-79148934a1eb"
      },
      "source": [
        "pred.pruned = predict(pruned.carseats, Carseats.test)\n",
        "mean((Carseats.test$Sales - pred.pruned)^2)"
      ],
      "execution_count": null,
      "outputs": [
        {
          "output_type": "display_data",
          "data": {
            "text/html": [
              "4.9931238535705"
            ],
            "text/latex": "4.9931238535705",
            "text/markdown": "4.9931238535705",
            "text/plain": [
              "[1] 4.993124"
            ]
          },
          "metadata": {
            "tags": []
          }
        }
      ]
    },
    {
      "cell_type": "markdown",
      "metadata": {
        "id": "Z3ny_utf0YEg"
      },
      "source": [
        "In this case, pruning the tree has led to a larger MSE."
      ]
    },
    {
      "cell_type": "markdown",
      "metadata": {
        "id": "4XXXWgtu0YEg"
      },
      "source": [
        "d)"
      ]
    },
    {
      "cell_type": "code",
      "metadata": {
        "id": "BcsoLe7k0YEg",
        "outputId": "f7ab7109-2f3d-46a6-ab67-8b18febb8390"
      },
      "source": [
        "library(randomForest)\n",
        "bag.carseats = randomForest(Sales ~ ., data = Carseats.train, mtry = 10, ntree = 500, \n",
        "    importance = T)\n",
        "bag.pred = predict(bag.carseats, Carseats.test)\n",
        "mean((Carseats.test$Sales - bag.pred)^2)"
      ],
      "execution_count": null,
      "outputs": [
        {
          "output_type": "stream",
          "text": [
            "randomForest 4.6-14\n",
            "Type rfNews() to see new features/changes/bug fixes.\n"
          ],
          "name": "stderr"
        },
        {
          "output_type": "display_data",
          "data": {
            "text/html": [
              "2.63391484791385"
            ],
            "text/latex": "2.63391484791385",
            "text/markdown": "2.63391484791385",
            "text/plain": [
              "[1] 2.633915"
            ]
          },
          "metadata": {
            "tags": []
          }
        }
      ]
    },
    {
      "cell_type": "markdown",
      "metadata": {
        "id": "7tWIZno50YEh"
      },
      "source": [
        "Bagging leads to a MSE of 2.633"
      ]
    },
    {
      "cell_type": "code",
      "metadata": {
        "id": "Jz5m1-0e0YEh",
        "outputId": "b15f6fce-6e53-4a5e-8550-d8f0aae327f2"
      },
      "source": [
        "importance(bag.carseats)"
      ],
      "execution_count": null,
      "outputs": [
        {
          "output_type": "display_data",
          "data": {
            "text/html": [
              "<table>\n",
              "<thead><tr><th></th><th scope=col>%IncMSE</th><th scope=col>IncNodePurity</th></tr></thead>\n",
              "<tbody>\n",
              "\t<tr><th scope=row>CompPrice</th><td>16.9874366</td><td>126.852848</td></tr>\n",
              "\t<tr><th scope=row>Income</th><td> 3.8985402</td><td> 78.314126</td></tr>\n",
              "\t<tr><th scope=row>Advertising</th><td>16.5698586</td><td>123.702901</td></tr>\n",
              "\t<tr><th scope=row>Population</th><td> 0.6487058</td><td> 62.328851</td></tr>\n",
              "\t<tr><th scope=row>Price</th><td>55.3976775</td><td>514.654890</td></tr>\n",
              "\t<tr><th scope=row>ShelveLoc</th><td>42.7849818</td><td>319.133777</td></tr>\n",
              "\t<tr><th scope=row>Age</th><td>20.5135255</td><td>185.582077</td></tr>\n",
              "\t<tr><th scope=row>Education</th><td> 3.4615211</td><td> 42.253410</td></tr>\n",
              "\t<tr><th scope=row>Urban</th><td>-2.5125087</td><td>  8.700009</td></tr>\n",
              "\t<tr><th scope=row>US</th><td> 7.3586645</td><td> 18.180651</td></tr>\n",
              "</tbody>\n",
              "</table>\n"
            ],
            "text/latex": "\\begin{tabular}{r|ll}\n  & \\%IncMSE & IncNodePurity\\\\\n\\hline\n\tCompPrice & 16.9874366 & 126.852848\\\\\n\tIncome &  3.8985402 &  78.314126\\\\\n\tAdvertising & 16.5698586 & 123.702901\\\\\n\tPopulation &  0.6487058 &  62.328851\\\\\n\tPrice & 55.3976775 & 514.654890\\\\\n\tShelveLoc & 42.7849818 & 319.133777\\\\\n\tAge & 20.5135255 & 185.582077\\\\\n\tEducation &  3.4615211 &  42.253410\\\\\n\tUrban & -2.5125087 &   8.700009\\\\\n\tUS &  7.3586645 &  18.180651\\\\\n\\end{tabular}\n",
            "text/markdown": "\n| <!--/--> | %IncMSE | IncNodePurity |\n|---|---|---|\n| CompPrice | 16.9874366 | 126.852848 |\n| Income |  3.8985402 |  78.314126 |\n| Advertising | 16.5698586 | 123.702901 |\n| Population |  0.6487058 |  62.328851 |\n| Price | 55.3976775 | 514.654890 |\n| ShelveLoc | 42.7849818 | 319.133777 |\n| Age | 20.5135255 | 185.582077 |\n| Education |  3.4615211 |  42.253410 |\n| Urban | -2.5125087 |   8.700009 |\n| US |  7.3586645 |  18.180651 |\n\n",
            "text/plain": [
              "            %IncMSE    IncNodePurity\n",
              "CompPrice   16.9874366 126.852848   \n",
              "Income       3.8985402  78.314126   \n",
              "Advertising 16.5698586 123.702901   \n",
              "Population   0.6487058  62.328851   \n",
              "Price       55.3976775 514.654890   \n",
              "ShelveLoc   42.7849818 319.133777   \n",
              "Age         20.5135255 185.582077   \n",
              "Education    3.4615211  42.253410   \n",
              "Urban       -2.5125087   8.700009   \n",
              "US           7.3586645  18.180651   "
            ]
          },
          "metadata": {
            "tags": []
          }
        }
      ]
    },
    {
      "cell_type": "markdown",
      "metadata": {
        "id": "AoSfzTyg0YEh"
      },
      "source": [
        "The most important predictors are Price, ShelveLocation and Age.\n",
        "\n",
        "e)"
      ]
    },
    {
      "cell_type": "code",
      "metadata": {
        "id": "nywah5Jn0YEi",
        "outputId": "be81f51f-49ac-4464-9369-6105c4a88ccf"
      },
      "source": [
        "rf.carseats = randomForest(Sales ~ ., data = Carseats.train, mtry = 7, ntree = 1000, \n",
        "    importance = T)\n",
        "rf.pred = predict(rf.carseats, Carseats.test)\n",
        "mean((Carseats.test$Sales - rf.pred)^2)"
      ],
      "execution_count": null,
      "outputs": [
        {
          "output_type": "display_data",
          "data": {
            "text/html": [
              "2.64173655469412"
            ],
            "text/latex": "2.64173655469412",
            "text/markdown": "2.64173655469412",
            "text/plain": [
              "[1] 2.641737"
            ]
          },
          "metadata": {
            "tags": []
          }
        }
      ]
    },
    {
      "cell_type": "markdown",
      "metadata": {
        "id": "Wl5CMmrR0YEj"
      },
      "source": [
        "MSE is roughly the same as Bagging. It goes up as fewer predictors are considered"
      ]
    },
    {
      "cell_type": "markdown",
      "metadata": {
        "id": "AxQwtg3b0YEj"
      },
      "source": [
        "importance(rf.carseats)"
      ]
    },
    {
      "cell_type": "code",
      "metadata": {
        "id": "4oHTc0JM0YEk"
      },
      "source": [
        "The most important predictors are still Price, ShelveLocation and Age."
      ],
      "execution_count": null,
      "outputs": []
    },
    {
      "cell_type": "markdown",
      "metadata": {
        "id": "aAALk0jd0YEk"
      },
      "source": [
        "## Question 2\n",
        "a)"
      ]
    },
    {
      "cell_type": "code",
      "metadata": {
        "id": "NN0y7mzf0YEk"
      },
      "source": [
        "library(ISLR)\n",
        "set.seed(9004)\n",
        "train = sample(dim(OJ)[1], 800)\n",
        "OJ.train = OJ[train, ]\n",
        "OJ.test = OJ[-train, ]"
      ],
      "execution_count": null,
      "outputs": []
    },
    {
      "cell_type": "markdown",
      "metadata": {
        "id": "utxzABS10YEl"
      },
      "source": [
        "b)"
      ]
    },
    {
      "cell_type": "code",
      "metadata": {
        "id": "OGT9Tzz00YEl",
        "outputId": "fed03541-0bb0-4c9c-88b1-450329e27ea4"
      },
      "source": [
        "library(e1071)\n",
        "svm.linear = svm(Purchase ~ ., kernel = \"linear\", data = OJ.train, cost = 0.01)\n",
        "summary(svm.linear)"
      ],
      "execution_count": null,
      "outputs": [
        {
          "output_type": "display_data",
          "data": {
            "text/plain": [
              "\n",
              "Call:\n",
              "svm(formula = Purchase ~ ., data = OJ.train, kernel = \"linear\", cost = 0.01)\n",
              "\n",
              "\n",
              "Parameters:\n",
              "   SVM-Type:  C-classification \n",
              " SVM-Kernel:  linear \n",
              "       cost:  0.01 \n",
              "      gamma:  0.05555556 \n",
              "\n",
              "Number of Support Vectors:  432\n",
              "\n",
              " ( 217 215 )\n",
              "\n",
              "\n",
              "Number of Classes:  2 \n",
              "\n",
              "Levels: \n",
              " CH MM\n",
              "\n",
              "\n"
            ]
          },
          "metadata": {
            "tags": []
          }
        }
      ]
    },
    {
      "cell_type": "markdown",
      "metadata": {
        "id": "3kpIKqJc0YEm"
      },
      "source": [
        "The classifier creates 432 support vectors out of 800 training points. Out of these, 217 belong to level 𝙲𝙷 and 215 belong to level 𝙼𝙼\n",
        "\n",
        "c)"
      ]
    },
    {
      "cell_type": "code",
      "metadata": {
        "id": "A0FDKn2v0YEm",
        "outputId": "452161e2-6404-4bbf-937d-c73df9c0a4b6"
      },
      "source": [
        "train.pred = predict(svm.linear, OJ.train)\n",
        "table(OJ.train$Purchase, train.pred)\n",
        "\n",
        "test.pred = predict(svm.linear, OJ.test)\n",
        "table(OJ.test$Purchase, test.pred)"
      ],
      "execution_count": null,
      "outputs": [
        {
          "output_type": "display_data",
          "data": {
            "text/plain": [
              "    train.pred\n",
              "      CH  MM\n",
              "  CH 439  53\n",
              "  MM  82 226"
            ]
          },
          "metadata": {
            "tags": []
          }
        },
        {
          "output_type": "display_data",
          "data": {
            "text/plain": [
              "    test.pred\n",
              "      CH  MM\n",
              "  CH 142  19\n",
              "  MM  29  80"
            ]
          },
          "metadata": {
            "tags": []
          }
        }
      ]
    },
    {
      "cell_type": "code",
      "metadata": {
        "id": "BNCMAxrv0YEn",
        "outputId": "05ba3385-b7ed-447f-d1c5-31d9e4950e57"
      },
      "source": [
        "(82 + 53)/(439 + 53 + 82 + 226)\n",
        "(19 + 29)/(142 + 19 + 29 + 80)"
      ],
      "execution_count": null,
      "outputs": [
        {
          "output_type": "display_data",
          "data": {
            "text/html": [
              "0.16875"
            ],
            "text/latex": "0.16875",
            "text/markdown": "0.16875",
            "text/plain": [
              "[1] 0.16875"
            ]
          },
          "metadata": {
            "tags": []
          }
        },
        {
          "output_type": "display_data",
          "data": {
            "text/html": [
              "0.177777777777778"
            ],
            "text/latex": "0.177777777777778",
            "text/markdown": "0.177777777777778",
            "text/plain": [
              "[1] 0.1777778"
            ]
          },
          "metadata": {
            "tags": []
          }
        }
      ]
    },
    {
      "cell_type": "markdown",
      "metadata": {
        "id": "0SUnnUyc0YEn"
      },
      "source": [
        "Training error rate is 16.9% and test error rate is 17.8%\n",
        "\n",
        "d)"
      ]
    },
    {
      "cell_type": "code",
      "metadata": {
        "id": "eo90VWIo0YEn",
        "outputId": "c6a74be3-1f34-46b8-f54a-a3f673b64fce"
      },
      "source": [
        "set.seed(1)\n",
        "tune.out = tune(svm, Purchase ~ ., data = OJ.train, kernel = \"linear\", ranges = list(cost = 10^seq(-2, \n",
        "    1, by = 0.25)))\n",
        "summary(tune.out)"
      ],
      "execution_count": null,
      "outputs": [
        {
          "output_type": "display_data",
          "data": {
            "text/plain": [
              "\n",
              "Parameter tuning of ‘svm’:\n",
              "\n",
              "- sampling method: 10-fold cross validation \n",
              "\n",
              "- best parameters:\n",
              "      cost\n",
              " 0.5623413\n",
              "\n",
              "- best performance: 0.1625 \n",
              "\n",
              "- Detailed performance results:\n",
              "          cost   error dispersion\n",
              "1   0.01000000 0.16875 0.02779513\n",
              "2   0.01778279 0.17000 0.02713137\n",
              "3   0.03162278 0.16625 0.02433134\n",
              "4   0.05623413 0.16750 0.02648375\n",
              "5   0.10000000 0.16750 0.02958040\n",
              "6   0.17782794 0.16625 0.03230175\n",
              "7   0.31622777 0.16875 0.03240906\n",
              "8   0.56234133 0.16250 0.03173239\n",
              "9   1.00000000 0.16250 0.03173239\n",
              "10  1.77827941 0.16375 0.03087272\n",
              "11  3.16227766 0.16875 0.03131937\n",
              "12  5.62341325 0.17125 0.02766993\n",
              "13 10.00000000 0.17125 0.02829041\n"
            ]
          },
          "metadata": {
            "tags": []
          }
        }
      ]
    },
    {
      "cell_type": "markdown",
      "metadata": {
        "id": "0B5uKkjo0YEo"
      },
      "source": [
        "Validation error is minimized with a cost around betwee 0.56234 and 1. We will choose 0.56234.\n",
        "\n",
        "e)"
      ]
    },
    {
      "cell_type": "code",
      "metadata": {
        "id": "orIErZsv0YEo",
        "outputId": "2de713ea-e587-4e72-bb49-a14b6fbae390"
      },
      "source": [
        "svm.linear = svm(Purchase ~ ., kernel = \"linear\", data = OJ.train, cost = tune.out$best.parameters$cost)\n",
        "train.pred = predict(svm.linear, OJ.train)\n",
        "table(OJ.train$Purchase, train.pred)\n",
        "\n",
        "test.pred = predict(svm.linear, OJ.test)\n",
        "table(OJ.test$Purchase, test.pred)"
      ],
      "execution_count": null,
      "outputs": [
        {
          "output_type": "display_data",
          "data": {
            "text/plain": [
              "    train.pred\n",
              "      CH  MM\n",
              "  CH 437  55\n",
              "  MM  71 237"
            ]
          },
          "metadata": {
            "tags": []
          }
        },
        {
          "output_type": "display_data",
          "data": {
            "text/plain": [
              "    test.pred\n",
              "      CH  MM\n",
              "  CH 141  20\n",
              "  MM  29  80"
            ]
          },
          "metadata": {
            "tags": []
          }
        }
      ]
    },
    {
      "cell_type": "code",
      "metadata": {
        "id": "O6QOi9Ym0YEo",
        "outputId": "cd7a37ef-ce1f-4e22-e0af-bd2655a09841"
      },
      "source": [
        "(55 + 71)/(437 + 55 + 71 + 237)\n",
        "(29 + 20)/(141 + 20 + 29 + 80)"
      ],
      "execution_count": null,
      "outputs": [
        {
          "output_type": "display_data",
          "data": {
            "text/html": [
              "0.1575"
            ],
            "text/latex": "0.1575",
            "text/markdown": "0.1575",
            "text/plain": [
              "[1] 0.1575"
            ]
          },
          "metadata": {
            "tags": []
          }
        },
        {
          "output_type": "display_data",
          "data": {
            "text/html": [
              "0.181481481481481"
            ],
            "text/latex": "0.181481481481481",
            "text/markdown": "0.181481481481481",
            "text/plain": [
              "[1] 0.1814815"
            ]
          },
          "metadata": {
            "tags": []
          }
        }
      ]
    },
    {
      "cell_type": "markdown",
      "metadata": {
        "id": "8lHJiTa70YEp"
      },
      "source": [
        "The training error decreases to 16%, and the test error increases a bit to 18.1 by using cost 0.56243.\n",
        "\n",
        "f)"
      ]
    },
    {
      "cell_type": "code",
      "metadata": {
        "id": "fbVlvpz70YEp",
        "outputId": "5038848b-2cc6-4655-ac1b-a2f983ea7b50"
      },
      "source": [
        "set.seed(410)\n",
        "svm.radial = svm(Purchase ~ ., data = OJ.train, kernel = \"radial\")\n",
        "summary(svm.radial)"
      ],
      "execution_count": null,
      "outputs": [
        {
          "output_type": "display_data",
          "data": {
            "text/plain": [
              "\n",
              "Call:\n",
              "svm(formula = Purchase ~ ., data = OJ.train, kernel = \"radial\")\n",
              "\n",
              "\n",
              "Parameters:\n",
              "   SVM-Type:  C-classification \n",
              " SVM-Kernel:  radial \n",
              "       cost:  1 \n",
              "      gamma:  0.05555556 \n",
              "\n",
              "Number of Support Vectors:  367\n",
              "\n",
              " ( 184 183 )\n",
              "\n",
              "\n",
              "Number of Classes:  2 \n",
              "\n",
              "Levels: \n",
              " CH MM\n",
              "\n",
              "\n"
            ]
          },
          "metadata": {
            "tags": []
          }
        }
      ]
    },
    {
      "cell_type": "code",
      "metadata": {
        "id": "6Dk014Uc0YEr",
        "outputId": "89df8b13-1b01-42d1-a9b8-0cdbeb64f6f4"
      },
      "source": [
        "train.pred = predict(svm.radial, OJ.train)\n",
        "table(OJ.train$Purchase, train.pred)\n",
        "\n",
        "test.pred = predict(svm.radial, OJ.test)\n",
        "table(OJ.test$Purchase, test.pred)"
      ],
      "execution_count": null,
      "outputs": [
        {
          "output_type": "display_data",
          "data": {
            "text/plain": [
              "    train.pred\n",
              "      CH  MM\n",
              "  CH 452  40\n",
              "  MM  78 230"
            ]
          },
          "metadata": {
            "tags": []
          }
        },
        {
          "output_type": "display_data",
          "data": {
            "text/plain": [
              "    test.pred\n",
              "      CH  MM\n",
              "  CH 146  15\n",
              "  MM  27  82"
            ]
          },
          "metadata": {
            "tags": []
          }
        }
      ]
    },
    {
      "cell_type": "code",
      "metadata": {
        "id": "eJaWkGtz0YEs",
        "outputId": "a580ed11-6efb-45d4-a597-4f3255c410ba"
      },
      "source": [
        "(40 + 78)/(452 + 40 + 78 + 230)\n",
        "\n",
        "(27 + 15)/(146 + 15 + 27 + 82)"
      ],
      "execution_count": null,
      "outputs": [
        {
          "output_type": "display_data",
          "data": {
            "text/html": [
              "0.1475"
            ],
            "text/latex": "0.1475",
            "text/markdown": "0.1475",
            "text/plain": [
              "[1] 0.1475"
            ]
          },
          "metadata": {
            "tags": []
          }
        },
        {
          "output_type": "display_data",
          "data": {
            "text/html": [
              "0.155555555555556"
            ],
            "text/latex": "0.155555555555556",
            "text/markdown": "0.155555555555556",
            "text/plain": [
              "[1] 0.1555556"
            ]
          },
          "metadata": {
            "tags": []
          }
        }
      ]
    },
    {
      "cell_type": "markdown",
      "metadata": {
        "id": "V0DPek4B0YEt"
      },
      "source": [
        "The radial kernel with default gamma creates 367 support vectors, out of which, 184 belong to level 𝙲𝙷 and 183 belong to level 𝙼𝙼. The training error rate is 14.75% and test error rate is now 15.5%, which is an improvement over the linear classifier."
      ]
    },
    {
      "cell_type": "code",
      "metadata": {
        "id": "h0C3N90c0YEt",
        "outputId": "e1f910e0-1ca2-416d-a742-f0575737de4f"
      },
      "source": [
        "set.seed(1)\n",
        "tune.out = tune(svm, Purchase ~ ., data = OJ.train, kernel = \"radial\", ranges = list(cost = 10^seq(-2, \n",
        "    1, by = 0.25)))\n",
        "summary(tune.out)"
      ],
      "execution_count": null,
      "outputs": [
        {
          "output_type": "display_data",
          "data": {
            "text/plain": [
              "\n",
              "Parameter tuning of ‘svm’:\n",
              "\n",
              "- sampling method: 10-fold cross validation \n",
              "\n",
              "- best parameters:\n",
              "      cost\n",
              " 0.5623413\n",
              "\n",
              "- best performance: 0.17 \n",
              "\n",
              "- Detailed performance results:\n",
              "          cost   error dispersion\n",
              "1   0.01000000 0.38500 0.04887626\n",
              "2   0.01778279 0.38500 0.04887626\n",
              "3   0.03162278 0.37375 0.06022239\n",
              "4   0.05623413 0.21125 0.04226652\n",
              "5   0.10000000 0.18125 0.02960973\n",
              "6   0.17782794 0.18000 0.03545341\n",
              "7   0.31622777 0.17750 0.02874698\n",
              "8   0.56234133 0.17000 0.02513851\n",
              "9   1.00000000 0.17000 0.02371708\n",
              "10  1.77827941 0.17000 0.03129164\n",
              "11  3.16227766 0.17500 0.03584302\n",
              "12  5.62341325 0.17750 0.03476109\n",
              "13 10.00000000 0.18000 0.04005205\n"
            ]
          },
          "metadata": {
            "tags": []
          }
        }
      ]
    },
    {
      "cell_type": "code",
      "metadata": {
        "id": "3jooCgRj0YEt",
        "outputId": "003bcf8e-2fcd-477a-e2f0-b0101f94a2c6"
      },
      "source": [
        "svm.radial = svm(Purchase ~ ., data = OJ.train, kernel = \"radial\", cost = tune.out$best.parameters$cost)\n",
        "train.pred = predict(svm.radial, OJ.train)\n",
        "table(OJ.train$Purchase, train.pred)\n",
        "\n",
        "test.pred = predict(svm.radial, OJ.test)\n",
        "table(OJ.test$Purchase, test.pred)"
      ],
      "execution_count": null,
      "outputs": [
        {
          "output_type": "display_data",
          "data": {
            "text/plain": [
              "    train.pred\n",
              "      CH  MM\n",
              "  CH 452  40\n",
              "  MM  77 231"
            ]
          },
          "metadata": {
            "tags": []
          }
        },
        {
          "output_type": "display_data",
          "data": {
            "text/plain": [
              "    test.pred\n",
              "      CH  MM\n",
              "  CH 146  15\n",
              "  MM  28  81"
            ]
          },
          "metadata": {
            "tags": []
          }
        }
      ]
    },
    {
      "cell_type": "code",
      "metadata": {
        "id": "sj60MvYi0YEu",
        "outputId": "eafde935-a605-4112-b15b-d3b454fa3975"
      },
      "source": [
        "(77 + 40)/(452 + 40 + 77 + 231)\n",
        "(28 + 15)/(146 + 15 + 28 + 81)"
      ],
      "execution_count": null,
      "outputs": [
        {
          "output_type": "display_data",
          "data": {
            "text/html": [
              "0.14625"
            ],
            "text/latex": "0.14625",
            "text/markdown": "0.14625",
            "text/plain": [
              "[1] 0.14625"
            ]
          },
          "metadata": {
            "tags": []
          }
        },
        {
          "output_type": "display_data",
          "data": {
            "text/html": [
              "0.159259259259259"
            ],
            "text/latex": "0.159259259259259",
            "text/markdown": "0.159259259259259",
            "text/plain": [
              "[1] 0.1592593"
            ]
          },
          "metadata": {
            "tags": []
          }
        }
      ]
    },
    {
      "cell_type": "markdown",
      "metadata": {
        "id": "3_VUcmBX0YEu"
      },
      "source": [
        "Tuning slightly decreases training error to 14.6% and slightly increases test error to 16% which is still better than linear kernel.\n",
        "\n",
        "f)"
      ]
    },
    {
      "cell_type": "code",
      "metadata": {
        "id": "Iy7S_aVm0YEv",
        "outputId": "826ffaea-ad30-4b95-d156-89280fa35c9d"
      },
      "source": [
        "set.seed(1)\n",
        "svm.poly = svm(Purchase ~ ., data = OJ.train, kernel = \"poly\", degree = 2)\n",
        "summary(svm.poly)\n",
        "\n",
        "train.pred = predict(svm.poly, OJ.train)\n",
        "table(OJ.train$Purchase, train.pred)\n",
        "\n",
        "test.pred = predict(svm.poly, OJ.test)\n",
        "table(OJ.test$Purchase, test.pred)"
      ],
      "execution_count": null,
      "outputs": [
        {
          "output_type": "display_data",
          "data": {
            "text/plain": [
              "\n",
              "Call:\n",
              "svm(formula = Purchase ~ ., data = OJ.train, kernel = \"poly\", degree = 2)\n",
              "\n",
              "\n",
              "Parameters:\n",
              "   SVM-Type:  C-classification \n",
              " SVM-Kernel:  polynomial \n",
              "       cost:  1 \n",
              "     degree:  2 \n",
              "      gamma:  0.05555556 \n",
              "     coef.0:  0 \n",
              "\n",
              "Number of Support Vectors:  452\n",
              "\n",
              " ( 232 220 )\n",
              "\n",
              "\n",
              "Number of Classes:  2 \n",
              "\n",
              "Levels: \n",
              " CH MM\n",
              "\n",
              "\n"
            ]
          },
          "metadata": {
            "tags": []
          }
        },
        {
          "output_type": "display_data",
          "data": {
            "text/plain": [
              "    train.pred\n",
              "      CH  MM\n",
              "  CH 460  32\n",
              "  MM 105 203"
            ]
          },
          "metadata": {
            "tags": []
          }
        },
        {
          "output_type": "display_data",
          "data": {
            "text/plain": [
              "    test.pred\n",
              "      CH  MM\n",
              "  CH 149  12\n",
              "  MM  37  72"
            ]
          },
          "metadata": {
            "tags": []
          }
        }
      ]
    },
    {
      "cell_type": "code",
      "metadata": {
        "id": "D_s1sgIS0YEv",
        "outputId": "6ec74fbd-9e41-44ff-f711-83b37a0d7918"
      },
      "source": [
        "(32 + 105)/(460 + 32 + 105 + 203)\n",
        "(12 + 37)/(149 + 12 + 37 + 72)"
      ],
      "execution_count": null,
      "outputs": [
        {
          "output_type": "display_data",
          "data": {
            "text/html": [
              "0.17125"
            ],
            "text/latex": "0.17125",
            "text/markdown": "0.17125",
            "text/plain": [
              "[1] 0.17125"
            ]
          },
          "metadata": {
            "tags": []
          }
        },
        {
          "output_type": "display_data",
          "data": {
            "text/html": [
              "0.181481481481481"
            ],
            "text/latex": "0.181481481481481",
            "text/markdown": "0.181481481481481",
            "text/plain": [
              "[1] 0.1814815"
            ]
          },
          "metadata": {
            "tags": []
          }
        }
      ]
    },
    {
      "cell_type": "markdown",
      "metadata": {
        "id": "YPUjrnX00YEw"
      },
      "source": [
        "Training error for polynomial kernal with degree 2 is 17.1%. Test error is 18.1"
      ]
    },
    {
      "cell_type": "code",
      "metadata": {
        "id": "mzUUiJGb0YEx",
        "outputId": "b6c4770f-cf47-49c4-a0c9-484c0425314e"
      },
      "source": [
        "set.seed(1)\n",
        "tune.out = tune(svm, Purchase ~ ., data = OJ.train, kernel = \"poly\", degree = 2, \n",
        "    ranges = list(cost = 10^seq(-2, 1, by = 0.25)))\n",
        "summary(tune.out)"
      ],
      "execution_count": null,
      "outputs": [
        {
          "output_type": "display_data",
          "data": {
            "text/plain": [
              "\n",
              "Parameter tuning of ‘svm’:\n",
              "\n",
              "- sampling method: 10-fold cross validation \n",
              "\n",
              "- best parameters:\n",
              "     cost\n",
              " 3.162278\n",
              "\n",
              "- best performance: 0.18 \n",
              "\n",
              "- Detailed performance results:\n",
              "          cost   error dispersion\n",
              "1   0.01000000 0.38500 0.04887626\n",
              "2   0.01778279 0.36625 0.04411554\n",
              "3   0.03162278 0.35875 0.03537988\n",
              "4   0.05623413 0.34875 0.04803428\n",
              "5   0.10000000 0.31750 0.04758034\n",
              "6   0.17782794 0.25750 0.04937104\n",
              "7   0.31622777 0.21000 0.03622844\n",
              "8   0.56234133 0.20750 0.03593976\n",
              "9   1.00000000 0.20000 0.02946278\n",
              "10  1.77827941 0.19500 0.02898755\n",
              "11  3.16227766 0.18000 0.03291403\n",
              "12  5.62341325 0.18250 0.03073181\n",
              "13 10.00000000 0.18625 0.03087272\n"
            ]
          },
          "metadata": {
            "tags": []
          }
        }
      ]
    },
    {
      "cell_type": "code",
      "metadata": {
        "id": "afT8OiP00YEx",
        "outputId": "da87ef5a-df3e-495c-ee9e-ea2455fb11bd"
      },
      "source": [
        "svm.poly = svm(Purchase ~ ., data = OJ.train, kernel = \"poly\", degree = 2, cost = tune.out$best.parameters$cost)\n",
        "train.pred = predict(svm.poly, OJ.train)\n",
        "table(OJ.train$Purchase, train.pred)\n",
        "\n",
        "test.pred = predict(svm.poly, OJ.test)\n",
        "table(OJ.test$Purchase, test.pred)"
      ],
      "execution_count": null,
      "outputs": [
        {
          "output_type": "display_data",
          "data": {
            "text/plain": [
              "    train.pred\n",
              "      CH  MM\n",
              "  CH 458  34\n",
              "  MM  93 215"
            ]
          },
          "metadata": {
            "tags": []
          }
        },
        {
          "output_type": "display_data",
          "data": {
            "text/plain": [
              "    test.pred\n",
              "      CH  MM\n",
              "  CH 147  14\n",
              "  MM  32  77"
            ]
          },
          "metadata": {
            "tags": []
          }
        }
      ]
    },
    {
      "cell_type": "code",
      "metadata": {
        "id": "JCm1MxFX0YEx",
        "outputId": "8170b45f-2dfb-464d-91ae-adac26c43fe2"
      },
      "source": [
        "(34 + 93)/(458 + 34 + 93 + 215)\n",
        "(14 + 32)/(147 + 14 + 32 + 77)"
      ],
      "execution_count": null,
      "outputs": [
        {
          "output_type": "display_data",
          "data": {
            "text/html": [
              "0.15875"
            ],
            "text/latex": "0.15875",
            "text/markdown": "0.15875",
            "text/plain": [
              "[1] 0.15875"
            ]
          },
          "metadata": {
            "tags": []
          }
        },
        {
          "output_type": "display_data",
          "data": {
            "text/html": [
              "0.17037037037037"
            ],
            "text/latex": "0.17037037037037",
            "text/markdown": "0.17037037037037",
            "text/plain": [
              "[1] 0.1703704"
            ]
          },
          "metadata": {
            "tags": []
          }
        }
      ]
    },
    {
      "cell_type": "markdown",
      "metadata": {
        "id": "zFqrA4iG0YEx"
      },
      "source": [
        "Training error rate is 15.9% and test error rate is 17%\n",
        "\n",
        "g) The radial kernal appears to perform better because it has the lowest test error rate of the three methods."
      ]
    }
  ]
}