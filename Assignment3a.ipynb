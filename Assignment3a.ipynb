{
  "nbformat": 4,
  "nbformat_minor": 0,
  "metadata": {
    "kernelspec": {
      "display_name": "R",
      "language": "R",
      "name": "ir"
    },
    "language_info": {
      "codemirror_mode": "r",
      "file_extension": ".r",
      "mimetype": "text/x-r-source",
      "name": "R",
      "pygments_lexer": "r",
      "version": "3.5.0"
    },
    "colab": {
      "name": "Assignment3a.ipynb",
      "provenance": [],
      "include_colab_link": true
    }
  },
  "cells": [
    {
      "cell_type": "markdown",
      "metadata": {
        "id": "view-in-github",
        "colab_type": "text"
      },
      "source": [
        "<a href=\"https://colab.research.google.com/github/ummd/ummd.github.io/blob/master/Assignment3a.ipynb\" target=\"_parent\"><img src=\"https://colab.research.google.com/assets/colab-badge.svg\" alt=\"Open In Colab\"/></a>"
      ]
    },
    {
      "cell_type": "markdown",
      "metadata": {
        "id": "suUBASWZMS5-"
      },
      "source": [
        "# Assignment 3\n",
        "\n",
        "## Question 14 from ISLR Ch 3.7\n",
        "\n",
        "### a) **[3marks]**\n",
        "\n",
        "$$Y=\\beta_0+\\beta_1 X_1 + \\beta_2 X_2 + \\epsilon$$\n",
        "\n",
        "where the true values of the coefficients are:  $$\\beta_0=2, \\quad \\beta_1=2,\\quad \\beta_2=0.3$$"
      ]
    },
    {
      "cell_type": "code",
      "metadata": {
        "id": "VIp8VobYMS5_"
      },
      "source": [
        "set.seed(1)\n",
        "x1 = runif(100)\n",
        "x2 = 0.5 * x1 + rnorm(100)/10\n",
        "y = 2 + 2*x1 + 0.3*x2 + rnorm(100)"
      ],
      "execution_count": null,
      "outputs": []
    },
    {
      "cell_type": "markdown",
      "metadata": {
        "id": "CZJDdNigMS6E"
      },
      "source": [
        "### b) **[2 marks]** , 1 each for correlation coeff and plot"
      ]
    },
    {
      "cell_type": "code",
      "metadata": {
        "id": "IsNxGj5tMS6F",
        "outputId": "781da8b9-d601-46fa-c54b-9754e45a3b19"
      },
      "source": [
        "cor(x1, x2)"
      ],
      "execution_count": null,
      "outputs": [
        {
          "output_type": "display_data",
          "data": {
            "text/html": [
              "0.835121242463113"
            ],
            "text/latex": "0.835121242463113",
            "text/markdown": "0.835121242463113",
            "text/plain": [
              "[1] 0.8351212"
            ]
          },
          "metadata": {
            "tags": []
          }
        }
      ]
    },
    {
      "cell_type": "code",
      "metadata": {
        "id": "NS2DkG9bMS6J",
        "outputId": "d972cac3-f96a-424f-d488-8094b1e3458f"
      },
      "source": [
        "plot(x1,x2)"
      ],
      "execution_count": null,
      "outputs": [
        {
          "output_type": "display_data",
          "data": {
            "image/png": "[encoded data removed]",
            "text/plain": [
              "plot without title"
            ]
          },
          "metadata": {
            "tags": []
          }
        }
      ]
    },
    {
      "cell_type": "code",
      "metadata": {
        "id": "caVhB3yyMS6N",
        "outputId": "61418aad-2528-46d6-b252-e5c331c23ba3"
      },
      "source": [
        "lm.fit = lm(y~x1+x2)\n",
        "summary(lm.fit)"
      ],
      "execution_count": null,
      "outputs": [
        {
          "output_type": "display_data",
          "data": {
            "text/plain": [
              "\n",
              "Call:\n",
              "lm(formula = y ~ x1 + x2)\n",
              "\n",
              "Residuals:\n",
              "    Min      1Q  Median      3Q     Max \n",
              "-2.8311 -0.7273 -0.0537  0.6338  2.3359 \n",
              "\n",
              "Coefficients:\n",
              "            Estimate Std. Error t value Pr(>|t|)    \n",
              "(Intercept)   2.1305     0.2319   9.188 7.61e-15 ***\n",
              "x1            1.4396     0.7212   1.996   0.0487 *  \n",
              "x2            1.0097     1.1337   0.891   0.3754    \n",
              "---\n",
              "Signif. codes:  0 ‘***’ 0.001 ‘**’ 0.01 ‘*’ 0.05 ‘.’ 0.1 ‘ ’ 1\n",
              "\n",
              "Residual standard error: 1.056 on 97 degrees of freedom\n",
              "Multiple R-squared:  0.2088,\tAdjusted R-squared:  0.1925 \n",
              "F-statistic:  12.8 on 2 and 97 DF,  p-value: 1.164e-05\n"
            ]
          },
          "metadata": {
            "tags": []
          }
        }
      ]
    },
    {
      "cell_type": "markdown",
      "metadata": {
        "id": "Vn5gO1X4MS6Q"
      },
      "source": [
        "### c) **[3 marks]**\n",
        "\n",
        "$$ \\hat\\beta_0=2.1305, \\quad \\hat\\beta_1=1.4396, \\quad \\hat\\beta_3=1.0097$$\n",
        "\n",
        "The regression coefficients are close to the true coefficients, although with quite high standard errors because the regressors are highly correlated. We can not reject the null hypothesis that each coefficient is equal to its true value (see code below).\n",
        "\n",
        "Since the coefficeints have such large standard errors, we can not confidantly conclude that $X_2$ has an effect on the response from this dataset (the p-value for $\\hat\\beat_1 is 0.3754). And the p-value for X_1 is barely significant (0.0487)\n"
      ]
    },
    {
      "cell_type": "code",
      "metadata": {
        "id": "bHwI1jLPMS6R",
        "outputId": "afc37ad1-2eb7-457a-e99d-78b24923068b"
      },
      "source": [
        "null <- c(2,2,0.3) # defines the null hypothesis that each coefficient is its truw value\n",
        "t <- (lm.fit$coef- null) / summary(lm.fit)$coef[,2] # calculates the test statistics for the null that the coefficient equals its true value\n",
        "2*(1-pt(abs(t),100-3)) # p-values"
      ],
      "execution_count": null,
      "outputs": [
        {
          "output_type": "display_data",
          "data": {
            "text/html": [
              "<dl class=dl-horizontal>\n",
              "\t<dt>(Intercept)</dt>\n",
              "\t\t<dd>0.574879544935283</dd>\n",
              "\t<dt>x1</dt>\n",
              "\t\t<dd>0.438977805403838</dd>\n",
              "\t<dt>x2</dt>\n",
              "\t\t<dd>0.532806040208053</dd>\n",
              "</dl>\n"
            ],
            "text/latex": "\\begin{description*}\n\\item[(Intercept)] 0.574879544935283\n\\item[x1] 0.438977805403838\n\\item[x2] 0.532806040208053\n\\end{description*}\n",
            "text/markdown": "(Intercept)\n:   0.574879544935283x1\n:   0.438977805403838x2\n:   0.532806040208053\n\n",
            "text/plain": [
              "(Intercept)          x1          x2 \n",
              "  0.5748795   0.4389778   0.5328060 "
            ]
          },
          "metadata": {
            "tags": []
          }
        }
      ]
    },
    {
      "cell_type": "code",
      "metadata": {
        "id": "fV_N8FIOMS6U",
        "outputId": "75dd8666-22d0-47a3-a2ca-e2b2f8e1367d"
      },
      "source": [
        "#note that this calculation above calculates the test statistic for all three coefficients ath the same time. This is a shortcut that R allows. Tou could also calculate this:\n",
        "\n",
        "t2 <- (lm.fit$coef[3]- null[3]) / summary(lm.fit)$coef[3,2]\n",
        "2*(1-pt(abs(t2),100-3)) # p-values\n",
        "\n",
        "# and this would calculate each by itself, and get the same answer"
      ],
      "execution_count": null,
      "outputs": [
        {
          "output_type": "display_data",
          "data": {
            "text/html": [
              "<strong>x2:</strong> 0.532806040208053"
            ],
            "text/latex": "\\textbf{x2:} 0.532806040208053",
            "text/markdown": "**x2:** 0.532806040208053",
            "text/plain": [
              "      x2 \n",
              "0.532806 "
            ]
          },
          "metadata": {
            "tags": []
          }
        }
      ]
    },
    {
      "cell_type": "markdown",
      "metadata": {
        "id": "iigxwY0cMS6Y"
      },
      "source": [
        "### d) **3 marks**\n",
        "\n",
        "The estimate is quite close to the true value, and we can reject that it is equal to zero (from the p-value)"
      ]
    },
    {
      "cell_type": "code",
      "metadata": {
        "id": "FkWo3BOCMS6Z",
        "outputId": "93b42db7-0203-4a41-9558-2b154d1a821c"
      },
      "source": [
        "lm.fit = lm(y~x1)\n",
        "summary(lm.fit)"
      ],
      "execution_count": null,
      "outputs": [
        {
          "output_type": "display_data",
          "data": {
            "text/plain": [
              "\n",
              "Call:\n",
              "lm(formula = y ~ x1)\n",
              "\n",
              "Residuals:\n",
              "     Min       1Q   Median       3Q      Max \n",
              "-2.89495 -0.66874 -0.07785  0.59221  2.45560 \n",
              "\n",
              "Coefficients:\n",
              "            Estimate Std. Error t value Pr(>|t|)    \n",
              "(Intercept)   2.1124     0.2307   9.155 8.27e-15 ***\n",
              "x1            1.9759     0.3963   4.986 2.66e-06 ***\n",
              "---\n",
              "Signif. codes:  0 ‘***’ 0.001 ‘**’ 0.01 ‘*’ 0.05 ‘.’ 0.1 ‘ ’ 1\n",
              "\n",
              "Residual standard error: 1.055 on 98 degrees of freedom\n",
              "Multiple R-squared:  0.2024,\tAdjusted R-squared:  0.1942 \n",
              "F-statistic: 24.86 on 1 and 98 DF,  p-value: 2.661e-06\n"
            ]
          },
          "metadata": {
            "tags": []
          }
        }
      ]
    },
    {
      "cell_type": "markdown",
      "metadata": {
        "id": "pHr4YPFWMS6d"
      },
      "source": [
        "### e) **3 marks**\n",
        "\n",
        "The estimate is quite **far** from the true value, though we can reject that it is equal to zero (from the p-value)"
      ]
    },
    {
      "cell_type": "code",
      "metadata": {
        "id": "76zcD0IzMS6d",
        "outputId": "6e3257d8-7775-49d5-fc85-ed6d0f4982e5"
      },
      "source": [
        "lm.fit = lm(y~x2)\n",
        "summary(lm.fit)"
      ],
      "execution_count": null,
      "outputs": [
        {
          "output_type": "display_data",
          "data": {
            "text/plain": [
              "\n",
              "Call:\n",
              "lm(formula = y ~ x2)\n",
              "\n",
              "Residuals:\n",
              "     Min       1Q   Median       3Q      Max \n",
              "-2.62687 -0.75156 -0.03598  0.72383  2.44890 \n",
              "\n",
              "Coefficients:\n",
              "            Estimate Std. Error t value Pr(>|t|)    \n",
              "(Intercept)   2.3899     0.1949   12.26  < 2e-16 ***\n",
              "x2            2.8996     0.6330    4.58 1.37e-05 ***\n",
              "---\n",
              "Signif. codes:  0 ‘***’ 0.001 ‘**’ 0.01 ‘*’ 0.05 ‘.’ 0.1 ‘ ’ 1\n",
              "\n",
              "Residual standard error: 1.072 on 98 degrees of freedom\n",
              "Multiple R-squared:  0.1763,\tAdjusted R-squared:  0.1679 \n",
              "F-statistic: 20.98 on 1 and 98 DF,  p-value: 1.366e-05\n"
            ]
          },
          "metadata": {
            "tags": []
          }
        }
      ]
    },
    {
      "cell_type": "markdown",
      "metadata": {
        "id": "fosAnvLoMS6h"
      },
      "source": [
        "### f) **3 marks**\n",
        "\n",
        "Because $x_1$ and $x_2$ are correlated, the regrssion in c) suffers from collinearity. Since both regressors belong in the model ($\\beta_1=2,\\beta_2=0.3$), if we drop one of the regressors this will bias the estimate of the other. For example, this is why the estimate $\\hat\\beta_2$ from the model with only $X_2$ is far from its true value. \n",
        "\n",
        "In this sense, the results do not contradict each other, however if the analyst were only to run a model from d) and e) they might arrive at incorrect conclusions. In this special case in which one of the predictors was constructed from the other linearly, we can assess the degree of this bias."
      ]
    },
    {
      "cell_type": "markdown",
      "metadata": {
        "id": "fLDMjD5DMS6h"
      },
      "source": [
        "### g) 3 marks\n",
        "\n",
        "In c) and e) it is a high leverage point. Note that it even changes the statistical significance of the predictors. \n",
        "\n",
        "In d) it is an outlier"
      ]
    }
  ]
}